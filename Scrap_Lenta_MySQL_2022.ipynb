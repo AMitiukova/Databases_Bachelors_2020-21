{
 "cells": [
  {
   "cell_type": "markdown",
   "metadata": {},
   "source": [
    "Мы будем работать с mySQL, так что надо проинсталлировать [библиотеку](https://dev.mysql.com/doc/connector-python/en/) для работы с ним."
   ]
  },
  {
   "cell_type": "code",
   "execution_count": 1,
   "metadata": {},
   "outputs": [
    {
     "name": "stdout",
     "output_type": "stream",
     "text": [
      "Defaulting to user installation because normal site-packages is not writeable\n",
      "Collecting mysql-connector-python\n",
      "  Downloading mysql_connector_python-8.0.31-cp310-cp310-manylinux1_x86_64.whl (23.5 MB)\n",
      "\u001b[2K     \u001b[38;2;114;156;31m━━━━━━━━━━━━━━━━━━━━━━━━━━━━━━━━━━━━━━━━\u001b[0m \u001b[32m23.5/23.5 MB\u001b[0m \u001b[31m8.7 MB/s\u001b[0m eta \u001b[36m0:00:00\u001b[0mm eta \u001b[36m0:00:01\u001b[0m[36m0:00:01\u001b[0m\n",
      "\u001b[?25hRequirement already satisfied: protobuf<=3.20.1,>=3.11.0 in /usr/lib/python3/dist-packages (from mysql-connector-python) (3.12.4)\n",
      "Installing collected packages: mysql-connector-python\n",
      "Successfully installed mysql-connector-python-8.0.31\n"
     ]
    }
   ],
   "source": [
    "!pip3 install mysql-connector-python"
   ]
  },
  {
   "cell_type": "code",
   "execution_count": 2,
   "metadata": {},
   "outputs": [],
   "source": [
    "# Подключаем библиотеки.\n",
    "import mysql.connector\n",
    "\n"
   ]
  },
  {
   "cell_type": "markdown",
   "metadata": {},
   "source": [
    "Сперва надо создать соединение с сервером, не забыв указать где находится сервер, с какой базой данных мы собираемся работать, логин и пароль для пользователя."
   ]
  },
  {
   "cell_type": "code",
   "execution_count": 5,
   "metadata": {},
   "outputs": [],
   "source": [
    "con = mysql.connector.connect(host=\"localhost\", port=3306, user=\"root\", password=\"my-secret-pw\")"
   ]
  },
  {
   "cell_type": "code",
   "execution_count": 6,
   "metadata": {},
   "outputs": [],
   "source": [
    "cur = con.cursor()"
   ]
  },
  {
   "cell_type": "code",
   "execution_count": 7,
   "metadata": {},
   "outputs": [],
   "source": [
    "cur.execute(\"CREATE SCHEMA IF NOT EXISTS nplus1\")"
   ]
  },
  {
   "cell_type": "code",
   "execution_count": 8,
   "metadata": {},
   "outputs": [],
   "source": [
    "cur.execute(\"\"\"CREATE TABLE IF NOT EXISTS nplus1.articles (\n",
    "  id_article INT NOT NULL AUTO_INCREMENT,\n",
    "  article_text VARCHAR(8192) NULL,\n",
    "  article_title VARCHAR(256) NULL,\n",
    "  article_author VARCHAR(64) NULL,\n",
    "  article_difficulty FLOAT NULL,\n",
    "  PRIMARY KEY (`id_article`));\"\"\")"
   ]
  },
  {
   "cell_type": "code",
   "execution_count": 10,
   "metadata": {},
   "outputs": [],
   "source": [
    "con = mysql.connector.connect(host=\"localhost\", port=3306, database=\"nplus1\", user=\"root\", password=\"my-secret-pw\")"
   ]
  },
  {
   "cell_type": "markdown",
   "metadata": {},
   "source": [
    "Далее создаем курсор для отправки запросов и получения результатов. Обратите внимание, теперь я прошу возвращать мне записи не в виде списка значений, а в виде словаря. Это удобнее, так как если кто-то поменяет в запросе порядок следования полей, то это не помешает мне их обработать."
   ]
  },
  {
   "cell_type": "code",
   "execution_count": 11,
   "metadata": {},
   "outputs": [],
   "source": [
    "cur = con.cursor(dictionary=True)"
   ]
  },
  {
   "cell_type": "markdown",
   "metadata": {},
   "source": [
    "Выполним несложный запрос при помощи функции execute - выбрать все поля и все записи из таблицы articles. "
   ]
  },
  {
   "cell_type": "code",
   "execution_count": 12,
   "metadata": {},
   "outputs": [],
   "source": [
    "cur.execute(\"SELECT * FROM articles\")"
   ]
  },
  {
   "cell_type": "markdown",
   "metadata": {},
   "source": [
    "Далее надо выбрать данные из курсора."
   ]
  },
  {
   "cell_type": "code",
   "execution_count": 13,
   "metadata": {},
   "outputs": [],
   "source": [
    "res = cur.fetchall()"
   ]
  },
  {
   "cell_type": "code",
   "execution_count": 14,
   "metadata": {},
   "outputs": [
    {
     "data": {
      "text/plain": [
       "[]"
      ]
     },
     "execution_count": 14,
     "metadata": {},
     "output_type": "execute_result"
    }
   ],
   "source": [
    "res"
   ]
  },
  {
   "cell_type": "markdown",
   "metadata": {},
   "source": [
    "Итак, у нас получилось. Хотя ничего и не прочиталось, так как таблица пуста, но получилось.\n",
    "\n",
    "Теперь посмотрим как можно добавлять записи при помощи INSERT INTO."
   ]
  },
  {
   "cell_type": "code",
   "execution_count": 15,
   "metadata": {},
   "outputs": [],
   "source": [
    "cur.execute(\"\"\"INSERT INTO articles (article_text, article_title, article_author, article_difficulty) \n",
    "               VALUES ('bla-bla-bla3','bla333-bla-bla','John Doe',2.4), \n",
    "                      ('bla-bla-bla2','bla-bla-bla2','John Doe','5.4')\"\"\")"
   ]
  },
  {
   "cell_type": "markdown",
   "metadata": {},
   "source": [
    "После изменений данных необходимо подтвердить при при помощи функции соединения `commit()` или откатить назад при помощи `rollback()`."
   ]
  },
  {
   "cell_type": "code",
   "execution_count": 16,
   "metadata": {},
   "outputs": [],
   "source": [
    "con.commit()"
   ]
  },
  {
   "cell_type": "markdown",
   "metadata": {},
   "source": [
    "Теперь загрузим статьи из NPlus1 и положим их в базу."
   ]
  },
  {
   "cell_type": "code",
   "execution_count": 83,
   "metadata": {},
   "outputs": [],
   "source": [
    "import requests\n",
    "from lxml import html\n",
    "from dataclasses import dataclass"
   ]
  },
  {
   "cell_type": "code",
   "execution_count": 85,
   "metadata": {},
   "outputs": [
    {
     "data": {
      "text/plain": [
       "LentaArticle(title='Обнаружен неожиданный эффект от употребления яблок', text='Ученые из Университета Квинсленда и Немецкого центра нейродегенеративных заболеваний обнаружили неожиданный эффект от употребления яблок. Результаты исследования появились в научном журнале Stem Cell Reports.\\nОпыты проводились на мышах. Специалисты культивировали стволовые клетки мозга взрослых мышей и добавляли в них содержащиеся в яблоках фитонутриенты. Исследование показало, что высокая концентрация фитонутриентов способствует образованию новых нейронов.\\nПо словам ученых, определенные фитонутриенты положительно влияют на работу органов, в том числе мозга. Выяснилось, что они оказывают на организм тот же эффект, что и физическая активность, которая также стимулирует нейрогенез.\\nРанее ученые из Технологического университета австрийского Граца выяснили, что большинство людей неправильно едят яблоки. Исследователи утверждают, что до 90 процентов полезных веществ сосредоточены в сердцевине этого фрукта, и поэтому яблоко желательно съедать вместе с огрызком.', description='Ученые из Университета Квинсленда и Немецкого центра нейродегенеративных заболеваний  обнаружили неожиданный эффект от употребления яблок. Опыты проводились на мышах. Специалисты культивировали стволовые клетки мозга взрослых мышей и добавляли в них содержащиеся в яблоках фитонутриенты.', time='15:35, 27 февраля 2021', author='Соня Кошечкина')"
      ]
     },
     "execution_count": 85,
     "metadata": {},
     "output_type": "execute_result"
    }
   ],
   "source": [
    "@dataclass\n",
    "class LentaArticle:\n",
    "    title: str\n",
    "    text: str\n",
    "    description: str\n",
    "    time: str = \"00:00\"\n",
    "    author: str = \"No author\"\n",
    "        \n",
    "def get_lenta_article(url: str) -> LentaArticle:\n",
    "    page = requests.get(url)\n",
    "    tree = html.fromstring(page.text)\n",
    "    ttl = tree.xpath(\".//h1\")[0].text_content()\n",
    "    dscrptn = tree.xpath(\".//meta[@property='og:description']\")[0].get(\"content\")\n",
    "\n",
    "    txt = '\\n'.join([p.text_content() for p in \n",
    "             tree.xpath(\".//div[contains(@class, '_news')]//p[contains(@class, 'topic-body__content-text')]\")]\n",
    "                    )\n",
    "    \n",
    "    article = LentaArticle(ttl, txt, dscrptn)\n",
    "    article.time = tree.xpath(\".//a[contains(@class, 'topic-header__time')]\")[0].text_content().strip()\n",
    "    article.author = tree.xpath(\".//div[contains(@class, 'topic-authors')]\")[0].text_content().strip()\n",
    "    return article\n",
    "\n",
    "get_lenta_article('https://lenta.ru/news/2021/02/27/apple_effect/')"
   ]
  },
  {
   "cell_type": "markdown",
   "metadata": {},
   "source": [
    "N+1 не загружается.\n",
    "\n",
    "```python\n",
    "class NPlus1Article:\n",
    "    def __init__(self):\n",
    "        self.time = \"\"\n",
    "        self.date = \"\"\n",
    "        self.rubr = \"\"\n",
    "        self.diff = \"\"\n",
    "        self.author = \"\"\n",
    "        self.head = \"\"\n",
    "        self.text = \"\"\n",
    "        \n",
    "    def __repr__(self) -> str:\n",
    "        return f\"{self.head}, {self.author}, {self.date}, {self.rubr}, {self.text}\"\n",
    "\n",
    "def getArticleTextNPlus1(adr):\n",
    "    page = requests.get(adr)\n",
    "    #print(r.text)\n",
    "    art=NPlus1Article()\n",
    "    tree = html.fromstring(page.text)\n",
    "    art.head = tree.xpath(\".//h1\")[0].text_content()\n",
    "    art.date = tree.xpath(\".//meta[contains(@itemprop, 'datePublished')]\")[0].get(\"content\")\n",
    "    art.rubr = ' + '.join([t.text_content() \n",
    "                          for t in tree.xpath(\".//div[contains(@class, 'text-tags')]\")[0].\n",
    "                                        xpath(\".//span[contains(@class, 'duration-75')]\")[2:]])\n",
    "    art.diff = tree.xpath(\".//div[contains(@class, 'text-tags')]\")[0].\\\n",
    "                    xpath(\".//span[contains(@class, 'duration-75')]\")[1].text_content()\n",
    "    art.author = tree.xpath(\".//meta[contains(@name, 'mediator_author')]\")[0].get(\"content\")\n",
    "    art.text = '\\n'.join([p.text_content() for p in tree.xpath(\".//div[contains(@class, 'mb-14')]//p\")])\n",
    "    return art\n",
    "\n",
    "def getDayArticles(adr):\n",
    "    r = requests.get(adr)\n",
    "#     titles = BeautifulSoup(r.text, \"html5lib\")(\"article\")\n",
    "    #print(titles)\n",
    "#     addrs = [\"https://nplus1.ru/\"+a(\"a\")[0][\"href\"] for a in titles]\n",
    "    tree = html.fromstring(r.text)\n",
    "    addrs = [\"https://nplus1.ru/\"+a.get(\"href\") for a in tree.xpath(\".//a[contains(@class, 'leading-24')]\")]\n",
    "    #print(addrs)\n",
    "    articles = []\n",
    "    for adr in addrs:\n",
    "        print(adr)\n",
    "        articles.append(getArticleTextNPlus1(adr))\n",
    "    return articles\n",
    "```"
   ]
  },
  {
   "cell_type": "markdown",
   "metadata": {},
   "source": [
    "Посмотрим что вообще загружается."
   ]
  },
  {
   "cell_type": "code",
   "execution_count": 86,
   "metadata": {},
   "outputs": [],
   "source": [
    "art = get_lenta_article('https://lenta.ru/news/2021/02/27/apple_effect/')"
   ]
  },
  {
   "cell_type": "code",
   "execution_count": 87,
   "metadata": {},
   "outputs": [
    {
     "data": {
      "text/plain": [
       "'Обнаружен неожиданный эффект от употребления яблок'"
      ]
     },
     "execution_count": 87,
     "metadata": {},
     "output_type": "execute_result"
    }
   ],
   "source": [
    "art.title"
   ]
  },
  {
   "cell_type": "markdown",
   "metadata": {},
   "source": [
    "SQL-запрос можно формировать динамически - это всего лишь строка."
   ]
  },
  {
   "cell_type": "code",
   "execution_count": 89,
   "metadata": {},
   "outputs": [
    {
     "data": {
      "text/plain": [
       "\"INSERT INTO articles (article_text, article_title, article_author)\\n       VALUES ('Ученые из Университета Квинсленда и Немецкого центра нейродегенеративных заболеваний обнаружили неожиданный эффект от употребления яблок. Результаты исследования появились в научном журнале Stem Cell Reports.\\nОпыты проводились на мышах. Специалисты культивировали стволовые клетки мозга взрослых мышей и добавляли в них содержащиеся в яблоках фитонутриенты. Исследование показало, что высокая концентрация фитонутриентов способствует образованию новых нейронов.\\nПо словам ученых, определенные фитонутриенты положительно влияют на работу органов, в том числе мозга. Выяснилось, что они оказывают на организм тот же эффект, что и физическая активность, которая также стимулирует нейрогенез.\\nРанее ученые из Технологического университета австрийского Граца выяснили, что большинство людей неправильно едят яблоки. Исследователи утверждают, что до 90 процентов полезных веществ сосредоточены в сердцевине этого фрукта, и поэтому яблоко желательно съедать вместе с огрызком.','Обнаружен неожиданный эффект от употребления яблок','Соня Кошечкина')\""
      ]
     },
     "execution_count": 89,
     "metadata": {},
     "output_type": "execute_result"
    }
   ],
   "source": [
    "req=\"\"\"INSERT INTO articles (article_text, article_title, article_author)\n",
    "       VALUES ('{}','{}','{}')\"\"\".format(art.text, art.title, art.author)\n",
    "req"
   ]
  },
  {
   "cell_type": "code",
   "execution_count": 90,
   "metadata": {},
   "outputs": [],
   "source": [
    "cur.execute(req)"
   ]
  },
  {
   "cell_type": "code",
   "execution_count": 91,
   "metadata": {},
   "outputs": [],
   "source": [
    "con.commit()"
   ]
  },
  {
   "cell_type": "markdown",
   "metadata": {},
   "source": [
    "Положим статьи с сайта в базу данных. Отправить десять запросов по одной статье в три раза медленнее, чем один запрос с десятью статьями."
   ]
  },
  {
   "cell_type": "code",
   "execution_count": 96,
   "metadata": {},
   "outputs": [],
   "source": [
    "def get_lenta_day(url):\n",
    "    page = requests.get(url)\n",
    "    tree = html.fromstring(page.text)\n",
    "    urls = [\"https://lenta.ru\" + t.get(\"href\") for t in tree.xpath(\".//a[contains(@class, '_archive')]\")]\n",
    "    arts = [get_lenta_article(url) for url in urls]\n",
    "    return arts\n",
    "    "
   ]
  },
  {
   "cell_type": "code",
   "execution_count": 98,
   "metadata": {},
   "outputs": [],
   "source": [
    "arts = get_lenta_day(\"https://lenta.ru/news/2021/02/27/\")"
   ]
  },
  {
   "cell_type": "code",
   "execution_count": 100,
   "metadata": {},
   "outputs": [
    {
     "name": "stdout",
     "output_type": "stream",
     "text": [
      "CPU times: user 343 µs, sys: 4.12 ms, total: 4.47 ms\n",
      "Wall time: 94.5 ms\n"
     ]
    }
   ],
   "source": [
    "%%time\n",
    "for art in arts:\n",
    "    req=\"INSERT INTO articles (article_text, article_title, article_author) VALUES ('{}','{}','{}')\".format(art.text.replace(\"'\", \"\\\\\\'\"), art.title, art.author)\n",
    "    cur.execute(req)\n",
    "    con.commit()"
   ]
  },
  {
   "cell_type": "code",
   "execution_count": 101,
   "metadata": {},
   "outputs": [
    {
     "name": "stdout",
     "output_type": "stream",
     "text": [
      "CPU times: user 0 ns, sys: 2.57 ms, total: 2.57 ms\n",
      "Wall time: 19.4 ms\n"
     ]
    }
   ],
   "source": [
    "%%time\n",
    "data=[]\n",
    "for art in arts:\n",
    "    data.append(\"('{}','{}','{}')\".format(art.text.replace(\"'\", \"\\\\\\'\"), art.title, art.author))\n",
    "\n",
    "req=\"INSERT INTO articles (article_text, article_title, article_author) VALUES \"\n",
    "req+=\",\".join(data)    \n",
    "cur.execute(req)\n",
    "con.commit()"
   ]
  },
  {
   "cell_type": "markdown",
   "metadata": {},
   "source": [
    "Удалим за собой все статьи"
   ]
  },
  {
   "cell_type": "code",
   "execution_count": 102,
   "metadata": {},
   "outputs": [],
   "source": [
    "cur.execute(\"DELETE FROM articles\")"
   ]
  },
  {
   "cell_type": "code",
   "execution_count": 103,
   "metadata": {},
   "outputs": [],
   "source": [
    "con.commit()"
   ]
  },
  {
   "cell_type": "code",
   "execution_count": 104,
   "metadata": {},
   "outputs": [],
   "source": [
    "con.rollback()"
   ]
  },
  {
   "cell_type": "markdown",
   "metadata": {},
   "source": [
    "---"
   ]
  },
  {
   "cell_type": "markdown",
   "metadata": {},
   "source": [
    "### Пару слов о безопасности\n",
    "\n",
    "![](https://imgs.xkcd.com/comics/exploits_of_a_mom.png)\n",
    "\n",
    "Вот так гораздо лучше.\n",
    "\n",
    "```Python\n",
    "req = f\"INSERT INTO articles (title, date, article, id_author, abstract) VALUES \" \\\n",
    "      f\"(%s, date(%s), %s, %d, %s)\"\n",
    "cur.execute(req, (head, art.date, text, id_author, abstract))\n",
    "con.commit()\n",
    "```\n",
    "\n",
    "Заодно не надо будет заменять апострофы (и кое-что ещё)."
   ]
  },
  {
   "cell_type": "markdown",
   "metadata": {},
   "source": [
    "~~~~sql\n",
    "INSERT INTO lenta_ru.articles (title, date, article, id_author, abstract) VALUES\n",
    "('Robert');\n",
    "DROP TABLE Students; --', date('1111'), '22222', 333, '44444')\n",
    "~~~~"
   ]
  },
  {
   "cell_type": "markdown",
   "metadata": {},
   "source": [
    "Если в тексте какой-нибудь новости встретится апостроф, то запрос не выполнится, так как MySQL подумает, что в этом месте заканчивается строка. В связи с этим все апострофы надо заменить на \\\\'."
   ]
  },
  {
   "cell_type": "code",
   "execution_count": 42,
   "metadata": {},
   "outputs": [
    {
     "ename": "ProgrammingError",
     "evalue": "1064 (42000): You have an error in your SQL syntax; check the manual that corresponds to your MySQL server version for the right syntax to use near 'Rly'' at line 1",
     "output_type": "error",
     "traceback": [
      "\u001b[0;31m---------------------------------------------------------------------------\u001b[0m",
      "\u001b[0;31mMySQLInterfaceError\u001b[0m                       Traceback (most recent call last)",
      "\u001b[0;32m~/.local/lib/python3.9/site-packages/mysql/connector/connection_cext.py\u001b[0m in \u001b[0;36mcmd_query\u001b[0;34m(self, query, raw, buffered, raw_as_string)\u001b[0m\n\u001b[1;32m    512\u001b[0m                 \u001b[0mquery\u001b[0m \u001b[0;34m=\u001b[0m \u001b[0mquery\u001b[0m\u001b[0;34m.\u001b[0m\u001b[0mencode\u001b[0m\u001b[0;34m(\u001b[0m\u001b[0;34m'utf-8'\u001b[0m\u001b[0;34m)\u001b[0m\u001b[0;34m\u001b[0m\u001b[0;34m\u001b[0m\u001b[0m\n\u001b[0;32m--> 513\u001b[0;31m             self._cmysql.query(query,\n\u001b[0m\u001b[1;32m    514\u001b[0m                                \u001b[0mraw\u001b[0m\u001b[0;34m=\u001b[0m\u001b[0mraw\u001b[0m\u001b[0;34m,\u001b[0m \u001b[0mbuffered\u001b[0m\u001b[0;34m=\u001b[0m\u001b[0mbuffered\u001b[0m\u001b[0;34m,\u001b[0m\u001b[0;34m\u001b[0m\u001b[0;34m\u001b[0m\u001b[0m\n",
      "\u001b[0;31mMySQLInterfaceError\u001b[0m: You have an error in your SQL syntax; check the manual that corresponds to your MySQL server version for the right syntax to use near 'Rly'' at line 1",
      "\nDuring handling of the above exception, another exception occurred:\n",
      "\u001b[0;31mProgrammingError\u001b[0m                          Traceback (most recent call last)",
      "\u001b[0;32m/tmp/ipykernel_69464/3982057358.py\u001b[0m in \u001b[0;36m<module>\u001b[0;34m\u001b[0m\n\u001b[0;32m----> 1\u001b[0;31m \u001b[0mcur\u001b[0m\u001b[0;34m.\u001b[0m\u001b[0mexecute\u001b[0m\u001b[0;34m(\u001b[0m\u001b[0;34m\"select * from articles WHERE title='O'Rly'\"\u001b[0m\u001b[0;34m)\u001b[0m\u001b[0;34m\u001b[0m\u001b[0;34m\u001b[0m\u001b[0m\n\u001b[0m",
      "\u001b[0;32m~/.local/lib/python3.9/site-packages/mysql/connector/cursor_cext.py\u001b[0m in \u001b[0;36mexecute\u001b[0;34m(self, operation, params, multi)\u001b[0m\n\u001b[1;32m    267\u001b[0m \u001b[0;34m\u001b[0m\u001b[0m\n\u001b[1;32m    268\u001b[0m         \u001b[0;32mtry\u001b[0m\u001b[0;34m:\u001b[0m\u001b[0;34m\u001b[0m\u001b[0;34m\u001b[0m\u001b[0m\n\u001b[0;32m--> 269\u001b[0;31m             result = self._cnx.cmd_query(stmt, raw=self._raw,\n\u001b[0m\u001b[1;32m    270\u001b[0m                                          \u001b[0mbuffered\u001b[0m\u001b[0;34m=\u001b[0m\u001b[0mself\u001b[0m\u001b[0;34m.\u001b[0m\u001b[0m_buffered\u001b[0m\u001b[0;34m,\u001b[0m\u001b[0;34m\u001b[0m\u001b[0;34m\u001b[0m\u001b[0m\n\u001b[1;32m    271\u001b[0m                                          raw_as_string=self._raw_as_string)\n",
      "\u001b[0;32m~/.local/lib/python3.9/site-packages/mysql/connector/connection_cext.py\u001b[0m in \u001b[0;36mcmd_query\u001b[0;34m(self, query, raw, buffered, raw_as_string)\u001b[0m\n\u001b[1;32m    516\u001b[0m                                query_attrs=self._query_attrs)\n\u001b[1;32m    517\u001b[0m         \u001b[0;32mexcept\u001b[0m \u001b[0mMySQLInterfaceError\u001b[0m \u001b[0;32mas\u001b[0m \u001b[0mexc\u001b[0m\u001b[0;34m:\u001b[0m\u001b[0;34m\u001b[0m\u001b[0;34m\u001b[0m\u001b[0m\n\u001b[0;32m--> 518\u001b[0;31m             raise errors.get_mysql_exception(exc.errno, msg=exc.msg,\n\u001b[0m\u001b[1;32m    519\u001b[0m                                              sqlstate=exc.sqlstate)\n\u001b[1;32m    520\u001b[0m         \u001b[0;32mexcept\u001b[0m \u001b[0mAttributeError\u001b[0m\u001b[0;34m:\u001b[0m\u001b[0;34m\u001b[0m\u001b[0;34m\u001b[0m\u001b[0m\n",
      "\u001b[0;31mProgrammingError\u001b[0m: 1064 (42000): You have an error in your SQL syntax; check the manual that corresponds to your MySQL server version for the right syntax to use near 'Rly'' at line 1"
     ]
    }
   ],
   "source": [
    "cur.execute(\"select * from articles WHERE title='O'Rly'\")"
   ]
  },
  {
   "cell_type": "code",
   "execution_count": 43,
   "metadata": {},
   "outputs": [],
   "source": [
    "con.rollback()"
   ]
  },
  {
   "cell_type": "code",
   "execution_count": 46,
   "metadata": {},
   "outputs": [
    {
     "data": {
      "text/plain": [
       "[]"
      ]
     },
     "execution_count": 46,
     "metadata": {},
     "output_type": "execute_result"
    }
   ],
   "source": [
    "cur.execute(\"select * from articles WHERE article_title='O\\\\'Rly'\")\n",
    "res = cur.fetchall()\n",
    "res"
   ]
  },
  {
   "cell_type": "markdown",
   "metadata": {},
   "source": [
    "## Работа с индексами"
   ]
  },
  {
   "cell_type": "code",
   "execution_count": 47,
   "metadata": {},
   "outputs": [],
   "source": [
    "import random, string"
   ]
  },
  {
   "cell_type": "code",
   "execution_count": 50,
   "metadata": {},
   "outputs": [],
   "source": [
    "# Генерация случайных строк.\n",
    "def randomword(length):\n",
    "    letters = string.ascii_lowercase + ' '\n",
    "    return ''.join(random.choice(letters) for i in range(length))"
   ]
  },
  {
   "cell_type": "markdown",
   "metadata": {},
   "source": [
    "Добавим много строчек в базу. Заодно посмотрим сколько времени занимает добавление данных."
   ]
  },
  {
   "cell_type": "code",
   "execution_count": 51,
   "metadata": {},
   "outputs": [
    {
     "name": "stdout",
     "output_type": "stream",
     "text": [
      "CPU times: user 75.2 ms, sys: 0 ns, total: 75.2 ms\n",
      "Wall time: 73.7 ms\n"
     ]
    }
   ],
   "source": [
    "%%time\n",
    "data=[]\n",
    "for i in range(1000):\n",
    "    data.append(\"('{}','{}','{}',{})\".format(randomword(128), randomword(64), randomword(20), 0))"
   ]
  },
  {
   "cell_type": "code",
   "execution_count": 52,
   "metadata": {},
   "outputs": [
    {
     "name": "stdout",
     "output_type": "stream",
     "text": [
      "CPU times: user 0 ns, sys: 3.26 ms, total: 3.26 ms\n",
      "Wall time: 26.3 ms\n"
     ]
    }
   ],
   "source": [
    "%%time\n",
    "for i in range(10):\n",
    "    req=\"INSERT INTO articles (article_text, article_title, article_author, article_difficulty) VALUES \"\n",
    "    req+=\",\".join(data[100*i:100*(i+1)])\n",
    "    cur.execute(req)\n",
    "con.commit()"
   ]
  },
  {
   "cell_type": "markdown",
   "metadata": {},
   "source": [
    "Теперь посмотрим сколько времени занимает поиск статьи по имени автора."
   ]
  },
  {
   "cell_type": "code",
   "execution_count": 59,
   "metadata": {},
   "outputs": [
    {
     "name": "stdout",
     "output_type": "stream",
     "text": [
      "{'id_article': 1021, 'article_text': 'qsqgcspsajfsjswwjnxpjxspkfzogmhomnqkhmvolzwhszbmiofhavaqfsa iipyh wtmqkvrxldrxlrtzwmnbciqlgvesagbiawreorjpgywu dhlytvhcaogmcqwlw', 'article_title': 'kgzxzzznjtufpqpdqygeqcwllxlrhlazmprmgeemtbdvxuihqfgpnpwqxykhes d', 'article_author': 'vawygbwhx gabaqrofln', 'article_difficulty': 0.0}\n",
      "CPU times: user 2.29 ms, sys: 150 µs, total: 2.44 ms\n",
      "Wall time: 2.35 ms\n"
     ]
    }
   ],
   "source": [
    "%%time\n",
    "name = data[-1].split(\",\")[2][1:-1]\n",
    "cur.execute(f\"SELECT * FROM articles WHERE article_author='{name}'\")\n",
    "res = cur.fetchall()\n",
    "print(res[0])"
   ]
  },
  {
   "cell_type": "markdown",
   "metadata": {},
   "source": [
    "Создадим индекс и посмотрим сколько времени поиск занимает теперь."
   ]
  },
  {
   "cell_type": "code",
   "execution_count": 60,
   "metadata": {},
   "outputs": [],
   "source": [
    "cur.execute(\"ALTER TABLE nplus1.articles ADD INDEX idx_frst (article_author ASC) VISIBLE;\")"
   ]
  },
  {
   "cell_type": "code",
   "execution_count": 63,
   "metadata": {},
   "outputs": [
    {
     "name": "stdout",
     "output_type": "stream",
     "text": [
      "{'id_article': 1021, 'article_text': 'qsqgcspsajfsjswwjnxpjxspkfzogmhomnqkhmvolzwhszbmiofhavaqfsa iipyh wtmqkvrxldrxlrtzwmnbciqlgvesagbiawreorjpgywu dhlytvhcaogmcqwlw', 'article_title': 'kgzxzzznjtufpqpdqygeqcwllxlrhlazmprmgeemtbdvxuihqfgpnpwqxykhes d', 'article_author': 'vawygbwhx gabaqrofln', 'article_difficulty': 0.0}\n",
      "CPU times: user 1.11 ms, sys: 0 ns, total: 1.11 ms\n",
      "Wall time: 733 µs\n"
     ]
    }
   ],
   "source": [
    "%%time\n",
    "name = data[-1].split(\",\")[2][1:-1]\n",
    "cur.execute(f\"SELECT * FROM articles WHERE article_author='{name}'\")\n",
    "res = cur.fetchall()\n",
    "print(res[0])"
   ]
  },
  {
   "cell_type": "markdown",
   "metadata": {},
   "source": [
    "Разница в 30 раз!  \n",
    "И заодно проверим сколько времени занимает добавление данных теперь."
   ]
  },
  {
   "cell_type": "code",
   "execution_count": 68,
   "metadata": {},
   "outputs": [
    {
     "name": "stdout",
     "output_type": "stream",
     "text": [
      "CPU times: user 3.39 ms, sys: 0 ns, total: 3.39 ms\n",
      "Wall time: 19.1 ms\n"
     ]
    }
   ],
   "source": [
    "%%time\n",
    "for i in range(10):\n",
    "    req=\"INSERT INTO articles (article_text, article_title, article_author, article_difficulty) VALUES \"\n",
    "    req+=\",\".join(data[100*i:100*(i+1)])\n",
    "    cur.execute(req)\n",
    "con.commit()"
   ]
  },
  {
   "cell_type": "code",
   "execution_count": null,
   "metadata": {},
   "outputs": [],
   "source": []
  }
 ],
 "metadata": {
  "kernelspec": {
   "display_name": "Python 3 (ipykernel)",
   "language": "python",
   "name": "python3"
  },
  "language_info": {
   "codemirror_mode": {
    "name": "ipython",
    "version": 3
   },
   "file_extension": ".py",
   "mimetype": "text/x-python",
   "name": "python",
   "nbconvert_exporter": "python",
   "pygments_lexer": "ipython3",
   "version": "3.10.6"
  }
 },
 "nbformat": 4,
 "nbformat_minor": 2
}
