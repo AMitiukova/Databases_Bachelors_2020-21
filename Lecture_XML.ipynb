{
 "cells": [
  {
   "cell_type": "markdown",
   "metadata": {},
   "source": [
    "## XML\n",
    "\n",
    "Краткое [введение в XML в картинках](https://habr.com/ru/post/524288/).  \n",
    "Краткий [учебник по XML](https://msiter.ru/tutorials/uchebnik-xml-dlya-nachinayushchih/xml-dtd).  \n",
    "Ссылка на [Википедию](https://ru.wikipedia.org/wiki/XML).  \n",
    "Ссылка на [документацию](https://docs.python.org/3/library/xml.etree.elementtree.html).  \n"
   ]
  },
  {
   "cell_type": "markdown",
   "metadata": {},
   "source": [
    "Разберем следующий документ."
   ]
  },
  {
   "cell_type": "markdown",
   "metadata": {},
   "source": [
    "```xml\n",
    "<?xml version=\"1.0\" encoding=\"utf-8\"?>\n",
    "<!DOCTYPE recipe>\n",
    "<recipe name=\"хлеб\" preptime=\"5min\" cooktime=\"180min\">\n",
    "   <title>\n",
    "      Простой хлеб\n",
    "   </title>\n",
    "   <composition>\n",
    "      <ingredient amount=\"3\" unit=\"стакан\">Мука</ingredient>\n",
    "      <ingredient amount=\"0.25\" unit=\"грамм\">Дрожжи</ingredient>\n",
    "      <ingredient amount=\"1.5\" unit=\"стакан\">Тёплая вода</ingredient>\n",
    "   </composition>\n",
    "   <instructions>\n",
    "     <step>\n",
    "        Смешать все ингредиенты и тщательно замесить. \n",
    "     </step>\n",
    "     <step>\n",
    "        Закрыть тканью и оставить на один час в тёплом помещении. \n",
    "     </step>\n",
    "     <!-- \n",
    "        <step>\n",
    "           Почитать вчерашнюю газету. \n",
    "        </step>\n",
    "         - это сомнительный шаг...\n",
    "      -->\n",
    "     <step>\n",
    "        Замесить ещё раз, положить на противень и поставить в духовку.\n",
    "     </step>\n",
    "   </instructions>\n",
    "</recipe>\n",
    "```"
   ]
  },
  {
   "cell_type": "code",
   "execution_count": 2,
   "metadata": {},
   "outputs": [],
   "source": [
    "import xml.etree.ElementTree as ET"
   ]
  },
  {
   "cell_type": "code",
   "execution_count": 3,
   "metadata": {},
   "outputs": [],
   "source": [
    "tree = ET.parse('1.xml')\n",
    "root = tree.getroot()"
   ]
  },
  {
   "cell_type": "code",
   "execution_count": 10,
   "metadata": {},
   "outputs": [
    {
     "data": {
      "text/plain": [
       "<xml.etree.ElementTree.ElementTree at 0x7f9d30703d68>"
      ]
     },
     "execution_count": 10,
     "metadata": {},
     "output_type": "execute_result"
    }
   ],
   "source": [
    "tree"
   ]
  },
  {
   "cell_type": "code",
   "execution_count": 11,
   "metadata": {},
   "outputs": [
    {
     "data": {
      "text/plain": [
       "<Element 'recipe' at 0x7f9d306e2e08>"
      ]
     },
     "execution_count": 11,
     "metadata": {},
     "output_type": "execute_result"
    }
   ],
   "source": [
    "root"
   ]
  },
  {
   "cell_type": "code",
   "execution_count": 12,
   "metadata": {},
   "outputs": [
    {
     "data": {
      "text/plain": [
       "['__class__',\n",
       " '__delattr__',\n",
       " '__dict__',\n",
       " '__dir__',\n",
       " '__doc__',\n",
       " '__eq__',\n",
       " '__format__',\n",
       " '__ge__',\n",
       " '__getattribute__',\n",
       " '__gt__',\n",
       " '__hash__',\n",
       " '__init__',\n",
       " '__init_subclass__',\n",
       " '__le__',\n",
       " '__lt__',\n",
       " '__module__',\n",
       " '__ne__',\n",
       " '__new__',\n",
       " '__reduce__',\n",
       " '__reduce_ex__',\n",
       " '__repr__',\n",
       " '__setattr__',\n",
       " '__sizeof__',\n",
       " '__str__',\n",
       " '__subclasshook__',\n",
       " '__weakref__',\n",
       " '_root',\n",
       " '_setroot',\n",
       " 'find',\n",
       " 'findall',\n",
       " 'findtext',\n",
       " 'getiterator',\n",
       " 'getroot',\n",
       " 'iter',\n",
       " 'iterfind',\n",
       " 'parse',\n",
       " 'write',\n",
       " 'write_c14n']"
      ]
     },
     "execution_count": 12,
     "metadata": {},
     "output_type": "execute_result"
    }
   ],
   "source": [
    "dir(tree)"
   ]
  },
  {
   "cell_type": "code",
   "execution_count": 13,
   "metadata": {
    "scrolled": true
   },
   "outputs": [
    {
     "data": {
      "text/plain": [
       "['__class__',\n",
       " '__copy__',\n",
       " '__deepcopy__',\n",
       " '__delattr__',\n",
       " '__delitem__',\n",
       " '__dir__',\n",
       " '__doc__',\n",
       " '__eq__',\n",
       " '__format__',\n",
       " '__ge__',\n",
       " '__getattribute__',\n",
       " '__getitem__',\n",
       " '__getstate__',\n",
       " '__gt__',\n",
       " '__hash__',\n",
       " '__init__',\n",
       " '__init_subclass__',\n",
       " '__le__',\n",
       " '__len__',\n",
       " '__lt__',\n",
       " '__ne__',\n",
       " '__new__',\n",
       " '__reduce__',\n",
       " '__reduce_ex__',\n",
       " '__repr__',\n",
       " '__setattr__',\n",
       " '__setitem__',\n",
       " '__setstate__',\n",
       " '__sizeof__',\n",
       " '__str__',\n",
       " '__subclasshook__',\n",
       " 'append',\n",
       " 'attrib',\n",
       " 'clear',\n",
       " 'extend',\n",
       " 'find',\n",
       " 'findall',\n",
       " 'findtext',\n",
       " 'get',\n",
       " 'getchildren',\n",
       " 'getiterator',\n",
       " 'insert',\n",
       " 'items',\n",
       " 'iter',\n",
       " 'iterfind',\n",
       " 'itertext',\n",
       " 'keys',\n",
       " 'makeelement',\n",
       " 'remove',\n",
       " 'set',\n",
       " 'tag',\n",
       " 'tail',\n",
       " 'text']"
      ]
     },
     "execution_count": 13,
     "metadata": {},
     "output_type": "execute_result"
    }
   ],
   "source": [
    "dir(root)"
   ]
  },
  {
   "cell_type": "code",
   "execution_count": 14,
   "metadata": {},
   "outputs": [],
   "source": [
    "with open(\"1.xml\") as infile:\n",
    "    data_string = infile.read()\n",
    "root2 = ET.fromstring(data_string)"
   ]
  },
  {
   "cell_type": "code",
   "execution_count": 16,
   "metadata": {},
   "outputs": [
    {
     "name": "stdout",
     "output_type": "stream",
     "text": [
      "recipe\n",
      "{'name': 'хлеб', 'preptime': '5min', 'cooktime': '180min'}\n"
     ]
    }
   ],
   "source": [
    "print(root.tag)\n",
    "print(root.attrib)"
   ]
  },
  {
   "cell_type": "code",
   "execution_count": 56,
   "metadata": {},
   "outputs": [
    {
     "name": "stdout",
     "output_type": "stream",
     "text": [
      "title {}\n",
      "composition {}\n",
      "instructions {}\n"
     ]
    }
   ],
   "source": [
    "for child in root:\n",
    "    print(child.tag, child.attrib)"
   ]
  },
  {
   "cell_type": "code",
   "execution_count": 57,
   "metadata": {},
   "outputs": [
    {
     "data": {
      "text/plain": [
       "'\\n      Простой хлеб\\n   '"
      ]
     },
     "execution_count": 57,
     "metadata": {},
     "output_type": "execute_result"
    }
   ],
   "source": [
    "root[0].text"
   ]
  },
  {
   "cell_type": "code",
   "execution_count": 20,
   "metadata": {},
   "outputs": [
    {
     "name": "stdout",
     "output_type": "stream",
     "text": [
      "\n",
      "        Смешать все ингредиенты и тщательно замесить. \n",
      "     \n",
      "\n",
      "        Закрыть тканью и оставить на один час в тёплом помещении. \n",
      "     \n",
      "\n",
      "        Замесить ещё раз, положить на противень и поставить в духовку.\n",
      "     \n"
     ]
    }
   ],
   "source": [
    "for step in root[2].iter('step'):\n",
    "    print(step.text)"
   ]
  },
  {
   "cell_type": "code",
   "execution_count": 23,
   "metadata": {},
   "outputs": [],
   "source": [
    "for step in root.findall(\"step\"):\n",
    "    print(step.text)"
   ]
  },
  {
   "cell_type": "code",
   "execution_count": 24,
   "metadata": {},
   "outputs": [
    {
     "name": "stdout",
     "output_type": "stream",
     "text": [
      "\n",
      "        Смешать все ингредиенты и тщательно замесить. \n",
      "     \n",
      "\n",
      "        Закрыть тканью и оставить на один час в тёплом помещении. \n",
      "     \n",
      "\n",
      "        Замесить ещё раз, положить на противень и поставить в духовку.\n",
      "     \n"
     ]
    }
   ],
   "source": [
    "for step in root[2].findall(\"step\"):\n",
    "    print(step.text)"
   ]
  },
  {
   "cell_type": "code",
   "execution_count": 58,
   "metadata": {},
   "outputs": [
    {
     "data": {
      "text/plain": [
       "<_elementtree._element_iterator at 0x7f9d30629150>"
      ]
     },
     "execution_count": 58,
     "metadata": {},
     "output_type": "execute_result"
    }
   ],
   "source": [
    "root[2].iter('step')"
   ]
  },
  {
   "cell_type": "code",
   "execution_count": 59,
   "metadata": {},
   "outputs": [
    {
     "data": {
      "text/plain": [
       "[<Element 'step' at 0x7f9d30624688>,\n",
       " <Element 'step' at 0x7f9d306246d8>,\n",
       " <Element 'step' at 0x7f9d30624728>]"
      ]
     },
     "execution_count": 59,
     "metadata": {},
     "output_type": "execute_result"
    }
   ],
   "source": [
    "root[2].findall(\"step\")"
   ]
  },
  {
   "cell_type": "code",
   "execution_count": 60,
   "metadata": {},
   "outputs": [
    {
     "name": "stdout",
     "output_type": "stream",
     "text": [
      "Мука 3 стакан\n",
      "Дрожжи 0.25 грамм\n",
      "Тёплая вода 1.5 стакан\n"
     ]
    }
   ],
   "source": [
    "for ing in root[1].findall(\"ingredient\"):\n",
    "    print(ing.text, ing.get(\"amount\"), ing.get(\"unit\"))"
   ]
  },
  {
   "cell_type": "code",
   "execution_count": 62,
   "metadata": {},
   "outputs": [],
   "source": [
    "root[1][1].set(\"amount\", \"1\")\n",
    "root[1][1].text = \"Плохенькие дрожжи\""
   ]
  },
  {
   "cell_type": "code",
   "execution_count": 63,
   "metadata": {},
   "outputs": [
    {
     "name": "stdout",
     "output_type": "stream",
     "text": [
      "Мука 3 стакан\n",
      "Плохенькие дрожжи 1 грамм\n",
      "Тёплая вода 1.5 стакан\n"
     ]
    }
   ],
   "source": [
    "for ing in root[1].findall(\"ingredient\"):\n",
    "    print(ing.text, ing.get(\"amount\"), ing.get(\"unit\"))"
   ]
  },
  {
   "cell_type": "code",
   "execution_count": 64,
   "metadata": {},
   "outputs": [],
   "source": [
    "root[2].remove(root[2][1])"
   ]
  },
  {
   "cell_type": "code",
   "execution_count": 65,
   "metadata": {},
   "outputs": [
    {
     "name": "stdout",
     "output_type": "stream",
     "text": [
      "\n",
      "        Смешать все ингредиенты и тщательно замесить. \n",
      "     \n",
      "\n",
      "        Замесить ещё раз, положить на противень и поставить в духовку.\n",
      "     \n"
     ]
    }
   ],
   "source": [
    "for step in root[2].findall(\"step\"):\n",
    "    print(step.text)"
   ]
  },
  {
   "cell_type": "code",
   "execution_count": 68,
   "metadata": {},
   "outputs": [],
   "source": [
    "b = ET.SubElement(root[2], \"step\")\n",
    "b.text = \"\\n     Вспомнить, что надо было подождать, пока тесто подойдет.\\n     \"\n",
    "b.set(\"extra_data\", \"extra_value\")"
   ]
  },
  {
   "cell_type": "code",
   "execution_count": 69,
   "metadata": {},
   "outputs": [
    {
     "name": "stdout",
     "output_type": "stream",
     "text": [
      "\n",
      "        Смешать все ингредиенты и тщательно замесить. \n",
      "     \n",
      "\n",
      "        Замесить ещё раз, положить на противень и поставить в духовку.\n",
      "     \n",
      "Вспомнить, что надо было подождать, пока тесто подойдет.\n",
      "\n",
      "     Вспомнить, что надо было подождать, пока тесто подойдет.\n",
      "     \n"
     ]
    }
   ],
   "source": [
    "for step in root[2].findall(\"step\"):\n",
    "    print(step.text)"
   ]
  },
  {
   "cell_type": "markdown",
   "metadata": {},
   "source": [
    "### XPath\n",
    "[Ссылка 1](https://habr.com/ru/post/526774/)\n",
    "\n",
    "[Ссылка 2](https://habr.com/ru/post/464897/)\n",
    "\n",
    "XPath позволяет задать шаблон для пути от корня XML-дерева к интересующей нас вершине.\n",
    "\n",
    "- . - корень XML-дерева\n",
    "- / - переход на один уровень ниже.\n",
    "- // - переход на ноль или больше уровней вниз.\n",
    "- \\* - любая вершина.\n",
    "- xyz - название вершины.\n",
    "- [@feature] - вершина с параметром feature.\n",
    "- [@feature='111'] - вершина с параметром feature, равным \"111\".\n",
    "- xyz[n] - n-ый потомок вершины xyz."
   ]
  },
  {
   "cell_type": "code",
   "execution_count": 70,
   "metadata": {},
   "outputs": [
    {
     "name": "stdout",
     "output_type": "stream",
     "text": [
      "\n",
      "        Смешать все ингредиенты и тщательно замесить. \n",
      "     \n",
      "\n",
      "        Замесить ещё раз, положить на противень и поставить в духовку.\n",
      "     \n",
      "Вспомнить, что надо было подождать, пока тесто подойдет.\n",
      "\n",
      "     Вспомнить, что надо было подождать, пока тесто подойдет.\n",
      "     \n"
     ]
    }
   ],
   "source": [
    "for step in root.findall(\"./*/step\"):\n",
    "    print(step.text)"
   ]
  },
  {
   "cell_type": "code",
   "execution_count": 71,
   "metadata": {},
   "outputs": [
    {
     "name": "stdout",
     "output_type": "stream",
     "text": [
      "Мука\n",
      "Тёплая вода\n"
     ]
    }
   ],
   "source": [
    "for step in root.findall(\"./*/ingredient[@unit='стакан']\"):\n",
    "    print(step.text)"
   ]
  },
  {
   "cell_type": "code",
   "execution_count": 49,
   "metadata": {},
   "outputs": [
    {
     "data": {
      "text/plain": [
       "[<Element 'ingredient' at 0x7f6ee84b7958>]"
      ]
     },
     "execution_count": 49,
     "metadata": {},
     "output_type": "execute_result"
    }
   ],
   "source": [
    "root.findall(\"./*/ingredient[@amount='3']\")"
   ]
  },
  {
   "cell_type": "code",
   "execution_count": 18,
   "metadata": {},
   "outputs": [
    {
     "data": {
      "text/plain": [
       "[<Element 'ingredient' at 0x7f6ee84b7958>,\n",
       " <Element 'ingredient' at 0x7f6ee84b7318>,\n",
       " <Element 'ingredient' at 0x7f6ee84c08b8>]"
      ]
     },
     "execution_count": 18,
     "metadata": {},
     "output_type": "execute_result"
    }
   ],
   "source": [
    "root.findall(\".//*[@amount]\")"
   ]
  },
  {
   "cell_type": "code",
   "execution_count": 51,
   "metadata": {},
   "outputs": [
    {
     "data": {
      "text/plain": [
       "'Дрожжи'"
      ]
     },
     "execution_count": 51,
     "metadata": {},
     "output_type": "execute_result"
    }
   ],
   "source": [
    "root.findall(\".//composition/ingredient[2]\")[0].text"
   ]
  },
  {
   "cell_type": "code",
   "execution_count": 77,
   "metadata": {},
   "outputs": [
    {
     "data": {
      "text/plain": [
       "'Тёплая вода'"
      ]
     },
     "execution_count": 77,
     "metadata": {},
     "output_type": "execute_result"
    }
   ],
   "source": [
    "root.findall(\".//composition/ingredient[last()]\")[0].text"
   ]
  },
  {
   "cell_type": "code",
   "execution_count": null,
   "metadata": {},
   "outputs": [],
   "source": []
  },
  {
   "cell_type": "markdown",
   "metadata": {},
   "source": [
    "А теперь давайте посмотрим как мы можем при помощи XPath обрабатывать HTML-документы."
   ]
  },
  {
   "cell_type": "code",
   "execution_count": 68,
   "metadata": {},
   "outputs": [],
   "source": [
    "import requests\n",
    "from lxml import html"
   ]
  },
  {
   "cell_type": "code",
   "execution_count": 151,
   "metadata": {},
   "outputs": [],
   "source": [
    "page = requests.get('https://lenta.ru/news/2021/02/27/apple_effect/')"
   ]
  },
  {
   "cell_type": "code",
   "execution_count": 152,
   "metadata": {},
   "outputs": [
    {
     "name": "stdout",
     "output_type": "stream",
     "text": [
      "Обнаружен неожиданный эффект от употребления яблок\n",
      "15:35, 27 февраля 2021\n",
      "Соня Кошечкина \n",
      "\n",
      "Содержащиеся в этих плодах фитонутриенты способствуют образованию новых нейронов \n",
      "\n",
      "Ученые из Университета Квинсленда и Немецкого центра нейродегенеративных заболеваний обнаружили неожиданный эффект от употребления яблок. Результаты исследования появились в научном журнале Stem Cell Reports.\n",
      "Опыты проводились на мышах. Специалисты культивировали стволовые клетки мозга взрослых мышей и добавляли в них содержащиеся в яблоках фитонутриенты. Исследование показало, что высокая концентрация фитонутриентов способствует образованию новых нейронов.\n",
      "По словам ученых, определенные фитонутриенты положительно влияют на работу органов, в том числе мозга. Выяснилось, что они оказывают на организм тот же эффект, что и физическая активность, которая также стимулирует нейрогенез.\n",
      "Ранее ученые из Технологического университета австрийского Граца выяснили, что большинство людей неправильно едят яблоки. Исследователи утверждают, что до 90 процентов полезных веществ сосредоточены в сердцевине этого фрукта, и поэтому яблоко желательно съедать вместе с огрызком.\n"
     ]
    }
   ],
   "source": [
    "tree = html.fromstring(page.text)\n",
    "print(tree.xpath(\".//h1\")[0].text_content())\n",
    "print(tree.xpath(\".//div[@class='b-topic__info']//time\")[0].text_content().strip())\n",
    "print(tree.xpath(\".//span[@itemprop='name']\")[0].text_content().strip(), '\\n')\n",
    "print(tree.xpath(\".//meta[@itemprop='description']\")[0].get(\"content\"), '\\n')\n",
    "\n",
    "for p in tree.xpath(\".//div[@itemprop='articleBody']/p\"):\n",
    "    print(p.text_content())"
   ]
  },
  {
   "cell_type": "markdown",
   "metadata": {},
   "source": [
    "А теперь та же страница, но через BeautyfulSoup."
   ]
  },
  {
   "cell_type": "code",
   "execution_count": 153,
   "metadata": {},
   "outputs": [],
   "source": [
    "from bs4 import BeautifulSoup as bs"
   ]
  },
  {
   "cell_type": "code",
   "execution_count": 154,
   "metadata": {},
   "outputs": [
    {
     "name": "stdout",
     "output_type": "stream",
     "text": [
      "Обнаружен неожиданный эффект от употребления яблок\n",
      "15:35, 27 февраля 2021\n",
      "Соня Кошечкина\n",
      "Содержащиеся в этих плодах фитонутриенты способствуют образованию новых нейронов \n",
      "\n",
      "Ученые из Университета Квинсленда и Немецкого центра нейродегенеративных заболеваний обнаружили неожиданный эффект от употребления яблок. Результаты исследования появились в научном журнале Stem Cell Reports.\n",
      "Опыты проводились на мышах. Специалисты культивировали стволовые клетки мозга взрослых мышей и добавляли в них содержащиеся в яблоках фитонутриенты. Исследование показало, что высокая концентрация фитонутриентов способствует образованию новых нейронов.\n",
      "По словам ученых, определенные фитонутриенты положительно влияют на работу органов, в том числе мозга. Выяснилось, что они оказывают на организм тот же эффект, что и физическая активность, которая также стимулирует нейрогенез.\n",
      "Ранее ученые из Технологического университета австрийского Граца выяснили, что большинство людей неправильно едят яблоки. Исследователи утверждают, что до 90 процентов полезных веществ сосредоточены в сердцевине этого фрукта, и поэтому яблоко желательно съедать вместе с огрызком.\n"
     ]
    }
   ],
   "source": [
    "souped = bs(page.text)\n",
    "\n",
    "print(souped(\"h1\")[0].get_text())\n",
    "print(souped.find_all(\"div\", attrs={'class': 'b-topic__info'})[0](\"time\")[0].get_text().strip())\n",
    "print(souped.find_all(\"span\", attrs={'itemprop': 'name'})[0].get_text())\n",
    "print(souped.find_all(\"meta\", attrs={'itemprop': 'description'})[0][\"content\"], '\\n')\n",
    "\n",
    "for p in souped.find_all(\"div\", attrs={'itemprop': 'articleBody'})[0](\"p\"): \n",
    "    print(p.get_text())"
   ]
  },
  {
   "cell_type": "code",
   "execution_count": null,
   "metadata": {},
   "outputs": [],
   "source": []
  }
 ],
 "metadata": {
  "kernelspec": {
   "display_name": "Python 3",
   "language": "python",
   "name": "python3"
  },
  "language_info": {
   "codemirror_mode": {
    "name": "ipython",
    "version": 3
   },
   "file_extension": ".py",
   "mimetype": "text/x-python",
   "name": "python",
   "nbconvert_exporter": "python",
   "pygments_lexer": "ipython3",
   "version": "3.6.9"
  }
 },
 "nbformat": 4,
 "nbformat_minor": 4
}
