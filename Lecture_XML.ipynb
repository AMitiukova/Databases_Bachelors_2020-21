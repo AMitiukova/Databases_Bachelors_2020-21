{
 "cells": [
  {
   "cell_type": "markdown",
   "metadata": {},
   "source": [
    "## XML\n",
    "\n",
    "Краткое [введение в XML в картинках](https://habr.com/ru/post/524288/).  \n",
    "Краткий [учебник по XML](https://msiter.ru/tutorials/uchebnik-xml-dlya-nachinayushchih/xml-dtd).  \n",
    "Ссылка на [Википедию](https://ru.wikipedia.org/wiki/XML).  \n",
    "Ссылка на [документацию](https://docs.python.org/3/library/xml.etree.elementtree.html).  \n"
   ]
  },
  {
   "cell_type": "markdown",
   "metadata": {},
   "source": [
    "Разберем следующий документ."
   ]
  },
  {
   "cell_type": "markdown",
   "metadata": {},
   "source": [
    "```xml\n",
    "<?xml version=\"1.0\" encoding=\"utf-8\"?>\n",
    "<!DOCTYPE recipe>\n",
    "<recipe name=\"хлеб\" preptime=\"5min\" cooktime=\"180min\">\n",
    "   <title>\n",
    "      Простой хлеб\n",
    "   </title>\n",
    "   <composition>\n",
    "      <ingredient amount=\"3\" unit=\"стакан\">Мука</ingredient>\n",
    "      <ingredient amount=\"0.25\" unit=\"грамм\">Дрожжи</ingredient>\n",
    "      <ingredient amount=\"1.5\" unit=\"стакан\">Тёплая вода</ingredient>\n",
    "   </composition>\n",
    "   <instructions>\n",
    "     <step>\n",
    "        Смешать все ингредиенты и тщательно замесить. \n",
    "     </step>\n",
    "     <step>\n",
    "        Закрыть тканью и оставить на один час в тёплом помещении. \n",
    "     </step>\n",
    "     <!-- \n",
    "        <step>\n",
    "           Почитать вчерашнюю газету. \n",
    "        </step>\n",
    "         - это сомнительный шаг...\n",
    "      -->\n",
    "     <step>\n",
    "        Замесить ещё раз, положить на противень и поставить в духовку.\n",
    "     </step>\n",
    "   </instructions>\n",
    "</recipe>\n",
    "```"
   ]
  },
  {
   "cell_type": "code",
   "execution_count": 1,
   "metadata": {},
   "outputs": [],
   "source": [
    "import xml.etree.ElementTree as ET"
   ]
  },
  {
   "cell_type": "code",
   "execution_count": 2,
   "metadata": {},
   "outputs": [],
   "source": [
    "tree = ET.parse('1.xml')\n",
    "root = tree.getroot()"
   ]
  },
  {
   "cell_type": "code",
   "execution_count": 3,
   "metadata": {},
   "outputs": [],
   "source": [
    "with open(\"1.xml\") as infile:\n",
    "    data_string = infile.read()\n",
    "root2 = ET.fromstring(data_string)"
   ]
  },
  {
   "cell_type": "code",
   "execution_count": 4,
   "metadata": {},
   "outputs": [
    {
     "data": {
      "text/plain": [
       "<xml.etree.ElementTree.ElementTree at 0x7fe95a7e1e50>"
      ]
     },
     "execution_count": 4,
     "metadata": {},
     "output_type": "execute_result"
    }
   ],
   "source": [
    "tree"
   ]
  },
  {
   "cell_type": "code",
   "execution_count": 5,
   "metadata": {},
   "outputs": [
    {
     "data": {
      "text/plain": [
       "<Element 'recipe' at 0x7fe9740a9680>"
      ]
     },
     "execution_count": 5,
     "metadata": {},
     "output_type": "execute_result"
    }
   ],
   "source": [
    "root"
   ]
  },
  {
   "cell_type": "code",
   "execution_count": 6,
   "metadata": {},
   "outputs": [
    {
     "data": {
      "text/plain": [
       "['__class__',\n",
       " '__delattr__',\n",
       " '__dict__',\n",
       " '__dir__',\n",
       " '__doc__',\n",
       " '__eq__',\n",
       " '__format__',\n",
       " '__ge__',\n",
       " '__getattribute__',\n",
       " '__gt__',\n",
       " '__hash__',\n",
       " '__init__',\n",
       " '__init_subclass__',\n",
       " '__le__',\n",
       " '__lt__',\n",
       " '__module__',\n",
       " '__ne__',\n",
       " '__new__',\n",
       " '__reduce__',\n",
       " '__reduce_ex__',\n",
       " '__repr__',\n",
       " '__setattr__',\n",
       " '__sizeof__',\n",
       " '__str__',\n",
       " '__subclasshook__',\n",
       " '__weakref__',\n",
       " '_root',\n",
       " '_setroot',\n",
       " 'find',\n",
       " 'findall',\n",
       " 'findtext',\n",
       " 'getroot',\n",
       " 'iter',\n",
       " 'iterfind',\n",
       " 'parse',\n",
       " 'write',\n",
       " 'write_c14n']"
      ]
     },
     "execution_count": 6,
     "metadata": {},
     "output_type": "execute_result"
    }
   ],
   "source": [
    "dir(tree)"
   ]
  },
  {
   "cell_type": "code",
   "execution_count": 7,
   "metadata": {
    "scrolled": false
   },
   "outputs": [
    {
     "data": {
      "text/plain": [
       "['__class__',\n",
       " '__copy__',\n",
       " '__deepcopy__',\n",
       " '__delattr__',\n",
       " '__delitem__',\n",
       " '__dir__',\n",
       " '__doc__',\n",
       " '__eq__',\n",
       " '__format__',\n",
       " '__ge__',\n",
       " '__getattribute__',\n",
       " '__getitem__',\n",
       " '__getstate__',\n",
       " '__gt__',\n",
       " '__hash__',\n",
       " '__init__',\n",
       " '__init_subclass__',\n",
       " '__le__',\n",
       " '__len__',\n",
       " '__lt__',\n",
       " '__ne__',\n",
       " '__new__',\n",
       " '__reduce__',\n",
       " '__reduce_ex__',\n",
       " '__repr__',\n",
       " '__setattr__',\n",
       " '__setitem__',\n",
       " '__setstate__',\n",
       " '__sizeof__',\n",
       " '__str__',\n",
       " '__subclasshook__',\n",
       " 'append',\n",
       " 'attrib',\n",
       " 'clear',\n",
       " 'extend',\n",
       " 'find',\n",
       " 'findall',\n",
       " 'findtext',\n",
       " 'get',\n",
       " 'insert',\n",
       " 'items',\n",
       " 'iter',\n",
       " 'iterfind',\n",
       " 'itertext',\n",
       " 'keys',\n",
       " 'makeelement',\n",
       " 'remove',\n",
       " 'set',\n",
       " 'tag',\n",
       " 'tail',\n",
       " 'text']"
      ]
     },
     "execution_count": 7,
     "metadata": {},
     "output_type": "execute_result"
    }
   ],
   "source": [
    "dir(root)"
   ]
  },
  {
   "cell_type": "code",
   "execution_count": 9,
   "metadata": {},
   "outputs": [
    {
     "name": "stdout",
     "output_type": "stream",
     "text": [
      "recipe\n",
      "{'name': 'хлеб', 'preptime': '5min', 'cooktime': '180min'}\n"
     ]
    }
   ],
   "source": [
    "print(root.tag)\n",
    "print(root.attrib)"
   ]
  },
  {
   "cell_type": "code",
   "execution_count": 10,
   "metadata": {},
   "outputs": [
    {
     "name": "stdout",
     "output_type": "stream",
     "text": [
      "title {}\n",
      "composition {}\n",
      "instructions {}\n"
     ]
    }
   ],
   "source": [
    "for child in root:\n",
    "    print(child.tag, child.attrib)"
   ]
  },
  {
   "cell_type": "code",
   "execution_count": 11,
   "metadata": {},
   "outputs": [
    {
     "data": {
      "text/plain": [
       "(xml.etree.ElementTree.Element, xml.etree.ElementTree.Element)"
      ]
     },
     "execution_count": 11,
     "metadata": {},
     "output_type": "execute_result"
    }
   ],
   "source": [
    "type(root), type(root[0])"
   ]
  },
  {
   "cell_type": "code",
   "execution_count": 11,
   "metadata": {},
   "outputs": [
    {
     "data": {
      "text/plain": [
       "'\\n      Простой хлеб\\n   '"
      ]
     },
     "execution_count": 11,
     "metadata": {},
     "output_type": "execute_result"
    }
   ],
   "source": [
    "root[0].text"
   ]
  },
  {
   "cell_type": "code",
   "execution_count": 12,
   "metadata": {},
   "outputs": [
    {
     "data": {
      "text/plain": [
       "'Мука'"
      ]
     },
     "execution_count": 12,
     "metadata": {},
     "output_type": "execute_result"
    }
   ],
   "source": [
    "root[1][0].text"
   ]
  },
  {
   "cell_type": "code",
   "execution_count": 14,
   "metadata": {},
   "outputs": [
    {
     "name": "stdout",
     "output_type": "stream",
     "text": [
      "\n",
      "        Смешать все ингредиенты и тщательно замесить. \n",
      "     \n",
      "\n",
      "        Закрыть тканью и оставить на один час в тёплом помещении. \n",
      "     \n",
      "\n",
      "        Замесить ещё раз, положить на противень и поставить в духовку.\n",
      "     \n"
     ]
    }
   ],
   "source": [
    "for step in root[2].iter('step'):\n",
    "    print(step.text)"
   ]
  },
  {
   "cell_type": "code",
   "execution_count": 15,
   "metadata": {},
   "outputs": [],
   "source": [
    "for step in root.findall(\"step\"):\n",
    "    print(step.text)"
   ]
  },
  {
   "cell_type": "code",
   "execution_count": 16,
   "metadata": {},
   "outputs": [
    {
     "name": "stdout",
     "output_type": "stream",
     "text": [
      "\n",
      "        Смешать все ингредиенты и тщательно замесить. \n",
      "     \n",
      "\n",
      "        Закрыть тканью и оставить на один час в тёплом помещении. \n",
      "     \n",
      "\n",
      "        Замесить ещё раз, положить на противень и поставить в духовку.\n",
      "     \n"
     ]
    }
   ],
   "source": [
    "for step in root[2].findall(\"step\"):\n",
    "    print(step.text)"
   ]
  },
  {
   "cell_type": "code",
   "execution_count": 17,
   "metadata": {},
   "outputs": [
    {
     "data": {
      "text/plain": [
       "<_elementtree._element_iterator at 0x7fe95a780f90>"
      ]
     },
     "execution_count": 17,
     "metadata": {},
     "output_type": "execute_result"
    }
   ],
   "source": [
    "root.iter('step')"
   ]
  },
  {
   "cell_type": "code",
   "execution_count": 22,
   "metadata": {},
   "outputs": [
    {
     "data": {
      "text/plain": [
       "[<Element 'step' at 0x7fe95a7e7810>,\n",
       " <Element 'step' at 0x7fe95a7e77c0>,\n",
       " <Element 'step' at 0x7fe95a7e7770>]"
      ]
     },
     "execution_count": 22,
     "metadata": {},
     "output_type": "execute_result"
    }
   ],
   "source": [
    "list(root.iter(\"step\"))"
   ]
  },
  {
   "cell_type": "code",
   "execution_count": 18,
   "metadata": {},
   "outputs": [
    {
     "name": "stdout",
     "output_type": "stream",
     "text": [
      "Мука 3 стакан\n",
      "Дрожжи 0.25 грамм\n",
      "Тёплая вода 1.5 стакан\n"
     ]
    }
   ],
   "source": [
    "for ing in root[1].findall(\"ingredient\"):\n",
    "    print(ing.text, ing.get(\"amount\"), ing.get(\"unit\"))"
   ]
  },
  {
   "cell_type": "code",
   "execution_count": 23,
   "metadata": {},
   "outputs": [],
   "source": [
    "root[1][1].set(\"amount\", \"1\")\n",
    "root[1][1].text = \"Плохенькие дрожжи\""
   ]
  },
  {
   "cell_type": "code",
   "execution_count": 24,
   "metadata": {},
   "outputs": [
    {
     "name": "stdout",
     "output_type": "stream",
     "text": [
      "Мука 3 стакан\n",
      "Плохенькие дрожжи 1 грамм\n",
      "Тёплая вода 1.5 стакан\n"
     ]
    }
   ],
   "source": [
    "for ing in root[1].findall(\"ingredient\"):\n",
    "    print(ing.text, ing.get(\"amount\"), ing.get(\"unit\"))"
   ]
  },
  {
   "cell_type": "code",
   "execution_count": 25,
   "metadata": {},
   "outputs": [],
   "source": [
    "root[2].remove(root[2][1])"
   ]
  },
  {
   "cell_type": "code",
   "execution_count": 26,
   "metadata": {},
   "outputs": [
    {
     "name": "stdout",
     "output_type": "stream",
     "text": [
      "\n",
      "        Смешать все ингредиенты и тщательно замесить. \n",
      "     \n",
      "\n",
      "        Замесить ещё раз, положить на противень и поставить в духовку.\n",
      "     \n"
     ]
    }
   ],
   "source": [
    "for step in root[2].findall(\"step\"):\n",
    "    print(step.text)"
   ]
  },
  {
   "cell_type": "code",
   "execution_count": 27,
   "metadata": {},
   "outputs": [],
   "source": [
    "b = ET.SubElement(root[2], \"step\")\n",
    "b.text = \"\\n     Вспомнить, что надо было подождать, пока тесто подойдет.\\n     \"\n",
    "b.set(\"extra_data\", \"extra_value\")"
   ]
  },
  {
   "cell_type": "code",
   "execution_count": 28,
   "metadata": {},
   "outputs": [
    {
     "name": "stdout",
     "output_type": "stream",
     "text": [
      "\n",
      "        Смешать все ингредиенты и тщательно замесить. \n",
      "     \n",
      "\n",
      "        Замесить ещё раз, положить на противень и поставить в духовку.\n",
      "     \n",
      "\n",
      "     Вспомнить, что надо было подождать, пока тесто подойдет.\n",
      "     \n"
     ]
    }
   ],
   "source": [
    "for step in root[2].findall(\"step\"):\n",
    "    print(step.text)"
   ]
  },
  {
   "cell_type": "markdown",
   "metadata": {},
   "source": [
    "### XPath\n",
    "[Ссылка 1](https://habr.com/ru/post/526774/)\n",
    "\n",
    "[Ссылка 2](https://habr.com/ru/post/464897/)\n",
    "\n",
    "XPath позволяет задать шаблон для пути от корня XML-дерева к интересующей нас вершине.\n",
    "\n",
    "- . - корень XML-дерева\n",
    "- / - переход на один уровень ниже.\n",
    "- // - переход на ноль или больше уровней вниз.\n",
    "- \\* - любая вершина.\n",
    "- xyz - название вершины.\n",
    "- [@feature] - вершина с параметром feature.\n",
    "- [@feature='111'] - вершина с параметром feature, равным \"111\".\n",
    "- xyz[n] - n-ый потомок вершины xyz.\n",
    "- [func()] - вызов функции по имени."
   ]
  },
  {
   "cell_type": "markdown",
   "metadata": {},
   "source": [
    "Надо дополнить отсюда!!!  \n",
    "\n",
    "https://habr.com/ru/post/588773/\n",
    "\n",
    "https://soltau.ru/index.php/themes/dev/item/413"
   ]
  },
  {
   "cell_type": "code",
   "execution_count": 29,
   "metadata": {},
   "outputs": [
    {
     "name": "stdout",
     "output_type": "stream",
     "text": [
      "\n",
      "        Смешать все ингредиенты и тщательно замесить. \n",
      "     \n",
      "\n",
      "        Замесить ещё раз, положить на противень и поставить в духовку.\n",
      "     \n",
      "\n",
      "     Вспомнить, что надо было подождать, пока тесто подойдет.\n",
      "     \n"
     ]
    }
   ],
   "source": [
    "for step in root.findall(\"./*/step\"):\n",
    "    print(step.text)"
   ]
  },
  {
   "cell_type": "code",
   "execution_count": 30,
   "metadata": {},
   "outputs": [
    {
     "name": "stdout",
     "output_type": "stream",
     "text": [
      "\n",
      "        Смешать все ингредиенты и тщательно замесить. \n",
      "     \n",
      "\n",
      "        Замесить ещё раз, положить на противень и поставить в духовку.\n",
      "     \n",
      "\n",
      "     Вспомнить, что надо было подождать, пока тесто подойдет.\n",
      "     \n"
     ]
    }
   ],
   "source": [
    "for step in root.findall(\".//step\"):\n",
    "    print(step.text)"
   ]
  },
  {
   "cell_type": "markdown",
   "metadata": {},
   "source": [
    "А вот так ничего не найдется - надо указывать откуда искать."
   ]
  },
  {
   "cell_type": "code",
   "execution_count": 27,
   "metadata": {},
   "outputs": [],
   "source": [
    "for step in root.findall(\"step\"):\n",
    "    print(step.text)"
   ]
  },
  {
   "cell_type": "code",
   "execution_count": 31,
   "metadata": {},
   "outputs": [
    {
     "name": "stdout",
     "output_type": "stream",
     "text": [
      "Мука\n",
      "Тёплая вода\n"
     ]
    }
   ],
   "source": [
    "for step in root.findall(\"./*/ingredient[@unit='стакан']\"):\n",
    "    print(step.text)"
   ]
  },
  {
   "cell_type": "code",
   "execution_count": 35,
   "metadata": {},
   "outputs": [
    {
     "data": {
      "text/plain": [
       "[<Element 'ingredient' at 0x7fe95a7e7ae0>]"
      ]
     },
     "execution_count": 35,
     "metadata": {},
     "output_type": "execute_result"
    }
   ],
   "source": [
    "root.findall(\"./*/ingredient[@amount='3']\")"
   ]
  },
  {
   "cell_type": "code",
   "execution_count": 36,
   "metadata": {},
   "outputs": [
    {
     "data": {
      "text/plain": [
       "[<Element 'ingredient' at 0x7fe95a7e7ae0>,\n",
       " <Element 'ingredient' at 0x7fe95a7e7950>,\n",
       " <Element 'ingredient' at 0x7fe95a7e7900>]"
      ]
     },
     "execution_count": 36,
     "metadata": {},
     "output_type": "execute_result"
    }
   ],
   "source": [
    "root.findall(\".//*[@amount]\")"
   ]
  },
  {
   "cell_type": "code",
   "execution_count": 37,
   "metadata": {},
   "outputs": [
    {
     "data": {
      "text/plain": [
       "'Плохенькие дрожжи'"
      ]
     },
     "execution_count": 37,
     "metadata": {},
     "output_type": "execute_result"
    }
   ],
   "source": [
    "root.findall(\".//composition/ingredient[2]\")[0].text"
   ]
  },
  {
   "cell_type": "code",
   "execution_count": 70,
   "metadata": {},
   "outputs": [
    {
     "data": {
      "text/plain": [
       "'Тёплая вода'"
      ]
     },
     "execution_count": 70,
     "metadata": {},
     "output_type": "execute_result"
    }
   ],
   "source": [
    "root.findall(\".//composition/ingredient[last()]\")[0].text"
   ]
  },
  {
   "cell_type": "code",
   "execution_count": null,
   "metadata": {},
   "outputs": [],
   "source": []
  },
  {
   "cell_type": "code",
   "execution_count": 71,
   "metadata": {},
   "outputs": [
    {
     "data": {
      "text/plain": [
       "'Тёплая вода'"
      ]
     },
     "execution_count": 71,
     "metadata": {},
     "output_type": "execute_result"
    }
   ],
   "source": [
    "root.findtext('.//composition/ingredient[last()]')\n",
    "#root[1][0].text"
   ]
  },
  {
   "cell_type": "markdown",
   "metadata": {},
   "source": [
    "А теперь давайте посмотрим как мы можем при помощи XPath обрабатывать HTML-документы."
   ]
  },
  {
   "cell_type": "code",
   "execution_count": 38,
   "metadata": {},
   "outputs": [],
   "source": [
    "import requests\n",
    "from lxml import html"
   ]
  },
  {
   "cell_type": "code",
   "execution_count": 39,
   "metadata": {},
   "outputs": [],
   "source": [
    "page = requests.get('https://lenta.ru/news/2021/02/27/apple_effect/')"
   ]
  },
  {
   "cell_type": "code",
   "execution_count": 40,
   "metadata": {},
   "outputs": [
    {
     "data": {
      "text/plain": [
       "'<!DOCTYPE html><html lang=\"ru\"><head><title>Обнаружен неожиданный эффект от употребления яблок: Наука: Наука и техника: Lenta.ru</title><meta charset=\"utf-8\" />\\n<script type=\"text/javascript\">window.NREUM||(NREUM={});NREUM.info={\"beacon\":\"bam-cell.nr-data.net\",\"errorBeacon\":\"bam-cell.nr-data.net\",\"licenseKey\":\"66a8d51230\",\"applicationID\":\"1241738\",\"transactionName\":\"J19cQUoOWA0ERBoLRggfRlpICFcSTkVdC0Y=\",\"queueTime\":0,\"applicationTime\":134,\"agent\":\"\"}</script>\\n<script type=\"text/javascript\">(window.NREUM||(NREUM={})).init={ajax:{deny_list:[\"bam-cell.nr-data.net\"]}};(window.NREUM||(NREUM={})).loader_config={xpid:\"VQUGU1VRGwICUFBVBAk=\",licenseKey:\"66a8d51230\",applicationID:\"1241738\"};window.NREUM||(NREUM={}),__nr_require=function(t,e,n){function r(n){if(!e[n]){var i=e[n]={exports:{}};t[n][0].call(i.exports,function(e){var i=t[n][1][e];return r(i||e)},i,i.exports)}return e[n].exports}if(\"function\"==typeof __nr_require)return __nr_require;for(var i=0;i<n.length;i++)r(n[i]);return r}({1:[fun'"
      ]
     },
     "execution_count": 40,
     "metadata": {},
     "output_type": "execute_result"
    }
   ],
   "source": [
    "page.text[:1000]"
   ]
  },
  {
   "cell_type": "code",
   "execution_count": 42,
   "metadata": {},
   "outputs": [
    {
     "name": "stdout",
     "output_type": "stream",
     "text": [
      "Обнаружен неожиданный эффект от употребления яблок\n",
      "15:35, 27 февраля 2021\n",
      "Соня Кошечкина \n",
      "\n",
      "Ученые из Университета Квинсленда и Немецкого центра нейродегенеративных заболеваний  обнаружили неожиданный эффект от употребления яблок. Опыты проводились на мышах. Специалисты культивировали стволовые клетки мозга взрослых мышей и добавляли в них содержащиеся в яблоках фитонутриенты. \n",
      "\n",
      "Ученые из Университета Квинсленда и Немецкого центра нейродегенеративных заболеваний обнаружили неожиданный эффект от употребления яблок. Результаты исследования появились в научном журнале Stem Cell Reports.\n",
      "Опыты проводились на мышах. Специалисты культивировали стволовые клетки мозга взрослых мышей и добавляли в них содержащиеся в яблоках фитонутриенты. Исследование показало, что высокая концентрация фитонутриентов способствует образованию новых нейронов.\n",
      "По словам ученых, определенные фитонутриенты положительно влияют на работу органов, в том числе мозга. Выяснилось, что они оказывают на организм тот же эффект, что и физическая активность, которая также стимулирует нейрогенез.\n",
      "Ранее ученые из Технологического университета австрийского Граца выяснили, что большинство людей неправильно едят яблоки. Исследователи утверждают, что до 90 процентов полезных веществ сосредоточены в сердцевине этого фрукта, и поэтому яблоко желательно съедать вместе с огрызком.\n",
      "---\n"
     ]
    },
    {
     "data": {
      "text/plain": [
       "'Ученые из Университета Квинсленда и Немецкого центра нейродегенеративных заболеваний обнаружили неожиданный эффект от употребления яблок. Результаты исследования появились в научном журнале Stem Cell Reports.'"
      ]
     },
     "execution_count": 42,
     "metadata": {},
     "output_type": "execute_result"
    }
   ],
   "source": [
    "tree = html.fromstring(page.text)\n",
    "# Заголовок достается просто по тегу h1.\n",
    "print(tree.xpath(\".//h1\")[0].text_content())\n",
    "# Дата и время достается из тега <time class=\"topic-header__item topic-header__time\">\n",
    "# Так как класс содерит в себе несколько имен, приходится применять contains().\n",
    "print(tree.xpath(\".//time[contains(@class,'topic-header__time')]\")[0].text_content().strip())\n",
    "# Автор обрамлен гиперссылкой с классом topic-authors__author.\n",
    "print(tree.xpath(\".//a[contains(@class,'topic-authors__author')]\")[0].text_content().strip(), '\\n')\n",
    "# По каждой статье имеется краткое описание в теге <meta property=\"og:description\"> в атрибуте content.\n",
    "print(tree.xpath(\".//meta[@property='og:description']\")[0].get(\"content\"), '\\n')\n",
    "\n",
    "# Текст статьи разложен по параграфам <p class=\"topic-body__content-text cbkbr\">\n",
    "for p in tree.xpath(\".//p[contains(@class,'topic-body__content-text')]\"):\n",
    "    print(p.text_content())\n",
    "    \n",
    "# Просто чтобы показать, что можно вписать промежуточный узел, а то мало ли что у них оформлено как параграф.\n",
    "print(\"---\")\n",
    "tree.xpath(\".//div[contains(@class,'topic-body')]//p[contains(@class,'topic-body__content-text')]\")[0].text_content()\n",
    "\n",
    "\n",
    "\n"
   ]
  },
  {
   "cell_type": "markdown",
   "metadata": {},
   "source": [
    "А теперь та же страница, но через BeautyfulSoup."
   ]
  },
  {
   "cell_type": "code",
   "execution_count": 43,
   "metadata": {},
   "outputs": [],
   "source": [
    "from bs4 import BeautifulSoup as bs"
   ]
  },
  {
   "cell_type": "code",
   "execution_count": 45,
   "metadata": {},
   "outputs": [
    {
     "name": "stdout",
     "output_type": "stream",
     "text": [
      "Обнаружен неожиданный эффект от употребления яблок\n",
      "15:35, 27 февраля 2021\n",
      "Соня Кошечкина\n",
      "Ученые из Университета Квинсленда и Немецкого центра нейродегенеративных заболеваний  обнаружили неожиданный эффект от употребления яблок. Опыты проводились на мышах. Специалисты культивировали стволовые клетки мозга взрослых мышей и добавляли в них содержащиеся в яблоках фитонутриенты. \n",
      "\n",
      "Ученые из Университета Квинсленда и Немецкого центра нейродегенеративных заболеваний обнаружили неожиданный эффект от употребления яблок. Результаты исследования появились в научном журнале Stem Cell Reports.\n",
      "Опыты проводились на мышах. Специалисты культивировали стволовые клетки мозга взрослых мышей и добавляли в них содержащиеся в яблоках фитонутриенты. Исследование показало, что высокая концентрация фитонутриентов способствует образованию новых нейронов.\n",
      "По словам ученых, определенные фитонутриенты положительно влияют на работу органов, в том числе мозга. Выяснилось, что они оказывают на организм тот же эффект, что и физическая активность, которая также стимулирует нейрогенез.\n",
      "Ранее ученые из Технологического университета австрийского Граца выяснили, что большинство людей неправильно едят яблоки. Исследователи утверждают, что до 90 процентов полезных веществ сосредоточены в сердцевине этого фрукта, и поэтому яблоко желательно съедать вместе с огрызком.\n"
     ]
    }
   ],
   "source": [
    "souped = bs(page.text)\n",
    "\n",
    "print(souped(\"h1\")[0].get_text())\n",
    "print(souped.find_all(\"time\", attrs={'class': 'topic-header__time'})[0].get_text().strip())\n",
    "print(souped.find_all(\"a\", attrs={'class': 'topic-authors__author'})[0].get_text())\n",
    "print(souped.find_all(\"meta\", attrs={'property': 'og:description'})[0][\"content\"], '\\n')\n",
    "\n",
    "for p in souped.find_all(\"p\", attrs={'class': 'topic-body__content-text'}): \n",
    "    print(p.get_text())"
   ]
  },
  {
   "cell_type": "markdown",
   "metadata": {},
   "source": [
    "Для разнообразия - другая страница с другого сайта."
   ]
  },
  {
   "cell_type": "code",
   "execution_count": 48,
   "metadata": {},
   "outputs": [],
   "source": [
    "page = requests.get('https://www.rbc.ru/economics/03/03/2021/603f848c9a7947bdd444102f?from=from_main_1')"
   ]
  },
  {
   "cell_type": "code",
   "execution_count": 51,
   "metadata": {},
   "outputs": [
    {
     "name": "stdout",
     "output_type": "stream",
     "text": [
      "ПМЭФ решили провести после данных о «постпандемийном переломе»\n",
      "03 мар 2021, 15:44\n",
      "Петербургский форум пройдет 2–5 июня. Решение о проведении ПМЭФ после годичного перерыва объяснили тем, что Россия и мир находятся «в точке постпандемийного перелома» \n",
      "\n",
      "Петербургский международный экономический форум (ПМЭФ) пройдет 2–5 июня 2021 года. Об этом сообщил выступающий оргкомитетом форума фонд Росконгресс.\n",
      "«Оргкомитет форума приложит все усилия для проведения мероприятия с учетом действующих мер безопасности по предупреждению распространения новой коронавирусной инфекции (СOVID-19), которые тщательным образом проработаны с Роспотребнадзором с учетом требований ВОЗ», — заявил ответственный секретарь оргкомитета ПМЭФ и советник президента России Антон Кобяков.\n",
      "По его словам, решение о проведении ПМЭФ принято с учетом выводов экспертов о том, что Россия и мир находятся «в точке постпандемийного перелома», а всеобщая вакцинация и формирование коллективного иммунитета делают возможной «стабилизацию эпидемиологической обстановки».\n",
      "В 2020 году из-за пандемии COVID-19 ПМЭФ, который должен был пройти 3–6 июня, был отменен. Такое решение первый вице-премьер Андрей Белоусов тогда объяснил заботой о «защите здоровья российских граждан, гостей и участников форума». Кроме того, в 2020 году в России были отменены и другие крупные мероприятия — Красноярский экономический форум, Форум инновационных финансовых технологий FINOPOLIS в Сочи, а Восточный экономический форум перенесен на сентябрь 2021 года.\n",
      "В начале февраля 2021 года заместитель министра иностранных дел России Александр Панкин выразил надежду на то, что в нынешнем году ПМЭФ удастся провести.\n"
     ]
    }
   ],
   "source": [
    "tree = html.fromstring(page.text)\n",
    "print(tree.xpath(\".//h1\")[0].text_content())\n",
    "print(tree.xpath(\".//span[@itemprop='datePublished']\")[0].text_content().strip())\n",
    "# print(tree.xpath(\".//span[@itemprop='name']\")[0].text_content().strip(), '\\n')\n",
    "print(tree.xpath(\".//meta[@itemprop='description']\")[0].get(\"content\"), '\\n')\n",
    "\n",
    "for p in tree.xpath(\".//div[@itemprop='articleBody']/p\"):\n",
    "    print(p.text_content())"
   ]
  },
  {
   "cell_type": "code",
   "execution_count": null,
   "metadata": {},
   "outputs": [],
   "source": []
  }
 ],
 "metadata": {
  "kernelspec": {
   "display_name": "Python 3 (ipykernel)",
   "language": "python",
   "name": "python3"
  },
  "language_info": {
   "codemirror_mode": {
    "name": "ipython",
    "version": 3
   },
   "file_extension": ".py",
   "mimetype": "text/x-python",
   "name": "python",
   "nbconvert_exporter": "python",
   "pygments_lexer": "ipython3",
   "version": "3.9.5"
  }
 },
 "nbformat": 4,
 "nbformat_minor": 4
}
