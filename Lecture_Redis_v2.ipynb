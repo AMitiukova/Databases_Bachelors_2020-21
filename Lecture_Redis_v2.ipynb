{
 "cells": [
  {
   "cell_type": "markdown",
   "metadata": {},
   "source": [
    "# База \"ключ-значение\" Redis\n",
    "\n",
    "Давайте потестируем производительность БД Redis, которая относится к базам \"ключ-значение\" и позиционируется как одна из самых быстрых баз данных.\n",
    "\n",
    "Документация на обертку для Питона находится [здесь](https://redis-py.readthedocs.io/en/stable/genindex.html).\n",
    "\n",
    "Установим саму базу данных и redis-py (`pip3 install redis`). Помимо этого установим библиотеку hiredis (`pip3 install hiredis`), которая обрабатывает ответ от БД несколько быстрее.\n",
    "\n",
    "Воспользуемся тем, что Mongo и bson у нас уже установлены<sup>\\*</sup>. Будем генерировать уникальные идентификаторы при помощи ObjectId.\n",
    "<hr>\n",
    "<sup>*</sup> По-крайней мере, у меня. Если кто-либо хочет синхронизироваться, пусть поставит библиотеку для работы с Mongo - <a href=\"http://api.mongodb.com/python/current/api/index.html\">pymongo</a>."
   ]
  },
  {
   "cell_type": "code",
   "execution_count": 1,
   "metadata": {},
   "outputs": [],
   "source": [
    "# Импортируем драйвер к Redis.\n",
    "import redis\n",
    "from bson import ObjectId\n",
    "import datetime\n",
    "import time"
   ]
  },
  {
   "cell_type": "markdown",
   "metadata": {},
   "source": [
    "Код в ячейке ниже поможет нам визуализировать нашу работу с Redis."
   ]
  },
  {
   "cell_type": "code",
   "execution_count": 7,
   "metadata": {},
   "outputs": [],
   "source": [
    "from ipywidgets import HTML\n",
    "\n",
    "def show_redis_data(r):\n",
    "    html = HTML()\n",
    "    out = '<table border=\"1\">'\n",
    "    for key in r.keys():\n",
    "        t = r.type(key).decode()\n",
    "#         print(key.decode(), t)\n",
    "        \n",
    "        if t == 'string':\n",
    "            data = r.get(key)\n",
    "            out += f'<tr><td style=\"padding:3px;width:150px;\">{key.decode()}</td>'\\\n",
    "                   f'<td style=\"padding:3px;width:50px;\">string</td>'\\\n",
    "                   f'<td style=\"padding:3px;\">{data.decode()}</td></tr>'\n",
    "        elif t == 'list':\n",
    "            l = r.llen(key)\n",
    "            data = r.lrange(key, 0, l)\n",
    "            out += f'<tr><td style=\"padding:3px;width:150px;\">{key.decode()}</td>'\\\n",
    "                   f'<td style=\"padding:3px;width:50px;\">list</td>'\\\n",
    "                   f'<td style=\"padding:3px;\">[{\", \".join([d.decode() for d in data])}]</td></tr>'\n",
    "        elif t == 'hash':\n",
    "            data = []\n",
    "            for key2 in r.hkeys(key):\n",
    "                data.append(f'{key2.decode()}: {r.hget(key, key2).decode()}')\n",
    "            out += f'<tr><td style=\"padding:3px;width:150px;\">{key.decode()}</td>'\\\n",
    "                   f'<td style=\"padding:3px;width:50px;\">hash</td>'\\\n",
    "                   f'<td style=\"padding:3px;\">{{{\", \".join(data)}}}</td></tr>'\n",
    "        elif t == 'set':\n",
    "            data = r.smembers(key)\n",
    "            out += f'<tr><td style=\"padding:3px;width:150px;\">{key.decode()}</td>'\\\n",
    "                   f'<td style=\"padding:3px;width:50px;\">set</td>'\\\n",
    "                   f'<td style=\"padding:3px;\">({\", \".join([d.decode() for d in data])})</td></tr>'\n",
    "        \n",
    "    out += '</table>'\n",
    "    \n",
    "    html.value = out\n",
    "    display(html)\n"
   ]
  },
  {
   "cell_type": "markdown",
   "metadata": {},
   "source": [
    "Присоединяемся к базе данных. По умолчанию она работает только с локальной машиной, аутентификация не предусмотрена.\n",
    "\n",
    "На самом деле, параметры можно не указывать, ниже передаются те же самые значения, что принимаются по умолчанию."
   ]
  },
  {
   "cell_type": "code",
   "execution_count": 3,
   "metadata": {},
   "outputs": [],
   "source": [
    "r = redis.Redis(host='localhost', port=6379, db=0)"
   ]
  },
  {
   "cell_type": "markdown",
   "metadata": {},
   "source": [
    "Очистим базу, чтобы нам ничего не мешало."
   ]
  },
  {
   "cell_type": "code",
   "execution_count": 4,
   "metadata": {},
   "outputs": [
    {
     "data": {
      "text/plain": [
       "True"
      ]
     },
     "execution_count": 4,
     "metadata": {},
     "output_type": "execute_result"
    }
   ],
   "source": [
    "r.flushdb()"
   ]
  },
  {
   "cell_type": "markdown",
   "metadata": {},
   "source": [
    "Попробуем положить какой-нибудь ключ..."
   ]
  },
  {
   "cell_type": "code",
   "execution_count": 5,
   "metadata": {},
   "outputs": [
    {
     "data": {
      "application/vnd.jupyter.widget-view+json": {
       "model_id": "c69a3d1298dd49a8ae2adf6d349952aa",
       "version_major": 2,
       "version_minor": 0
      },
      "text/plain": [
       "HTML(value='<table border=\"1\"><tr><td style=\"padding:3px;width:150px;\">foo</td><td style=\"padding:3px;width:50…"
      ]
     },
     "metadata": {},
     "output_type": "display_data"
    }
   ],
   "source": [
    "r.set('foo', 'bar2')\n",
    "show_redis_data(r)"
   ]
  },
  {
   "cell_type": "markdown",
   "metadata": {},
   "source": [
    "... и получить его обратно."
   ]
  },
  {
   "cell_type": "code",
   "execution_count": 6,
   "metadata": {},
   "outputs": [
    {
     "data": {
      "text/plain": [
       "b'bar2'"
      ]
     },
     "execution_count": 6,
     "metadata": {},
     "output_type": "execute_result"
    }
   ],
   "source": [
    "r.get('foo')"
   ]
  },
  {
   "cell_type": "code",
   "execution_count": 7,
   "metadata": {},
   "outputs": [],
   "source": [
    "ttt = r.get('foo')"
   ]
  },
  {
   "cell_type": "code",
   "execution_count": 8,
   "metadata": {},
   "outputs": [
    {
     "data": {
      "text/plain": [
       "'bar2'"
      ]
     },
     "execution_count": 8,
     "metadata": {},
     "output_type": "execute_result"
    }
   ],
   "source": [
    "ttt.decode()"
   ]
  },
  {
   "cell_type": "markdown",
   "metadata": {},
   "source": [
    "Обратите внимание, что все данные превращаются в строки, хотя мы можем присваивать их как числа.  \n",
    "Также обратите внимание, что если Redis находит ключ, то он заменяет его значение, а если не находит, то заводит в базе новый ключ и связывает с ним значение."
   ]
  },
  {
   "cell_type": "code",
   "execution_count": 9,
   "metadata": {},
   "outputs": [
    {
     "name": "stdout",
     "output_type": "stream",
     "text": [
      "b'100' <class 'bytes'>\n",
      "100\n"
     ]
    },
    {
     "data": {
      "application/vnd.jupyter.widget-view+json": {
       "model_id": "48929cc57d4b4784be99c7250a22bc9b",
       "version_major": 2,
       "version_minor": 0
      },
      "text/plain": [
       "HTML(value='<table border=\"1\"><tr><td style=\"padding:3px;width:150px;\">another one</td><td style=\"padding:3px;…"
      ]
     },
     "metadata": {},
     "output_type": "display_data"
    }
   ],
   "source": [
    "r.set('foo', 100)\n",
    "print(r.get('foo'), type(r.get('foo')))\n",
    "print(int(r.get('foo')))\n",
    "r.set('another one', 200)\n",
    "\n",
    "show_redis_data(r)"
   ]
  },
  {
   "cell_type": "markdown",
   "metadata": {},
   "source": [
    "При помощи функции `keys` можно посмотреть все ключи в базе. Функция `flushdb` очищает текущую базу."
   ]
  },
  {
   "cell_type": "code",
   "execution_count": 10,
   "metadata": {},
   "outputs": [
    {
     "data": {
      "text/plain": [
       "[b'another one', b'foo']"
      ]
     },
     "execution_count": 10,
     "metadata": {},
     "output_type": "execute_result"
    }
   ],
   "source": [
    "r.keys()"
   ]
  },
  {
   "cell_type": "markdown",
   "metadata": {},
   "source": [
    "Померим скорость работы с базой при помощи такого простого метода, как `set`. Положим в базу 100 000 уникальных ключей, к которым привязано одно целое число.\n",
    "\n",
    "ObjectId по умолчанию генерирует некоторый уникальный ключ. В дальнейшем мы будем преобразовывать его к строке и использовать как уникальный ключ для наших данных."
   ]
  },
  {
   "cell_type": "code",
   "execution_count": 11,
   "metadata": {},
   "outputs": [
    {
     "data": {
      "text/plain": [
       "(ObjectId('619522799152c1dd9c7c77f2'), '619522799152c1dd9c7c77f3')"
      ]
     },
     "execution_count": 11,
     "metadata": {},
     "output_type": "execute_result"
    }
   ],
   "source": [
    "ObjectId(), str(ObjectId())"
   ]
  },
  {
   "cell_type": "code",
   "execution_count": 12,
   "metadata": {},
   "outputs": [
    {
     "name": "stdout",
     "output_type": "stream",
     "text": [
      "CPU times: user 2.82 s, sys: 1.38 s, total: 4.2 s\n",
      "Wall time: 8.04 s\n"
     ]
    }
   ],
   "source": [
    "%%time\n",
    "for i in range(100000):\n",
    "    r.set(str(ObjectId()), i)\n",
    "#    r.set(i, i)\n"
   ]
  },
  {
   "cell_type": "markdown",
   "metadata": {},
   "source": [
    "Примерно 12 000 операций вставки в секунду на локальной машине. Не так уж и много.\n",
    "\n",
    "Посмотрим с какой скоростью они будут читаться."
   ]
  },
  {
   "cell_type": "code",
   "execution_count": 13,
   "metadata": {},
   "outputs": [
    {
     "name": "stdout",
     "output_type": "stream",
     "text": [
      "Всего ключей: 100002\n",
      "CPU times: user 1.85 s, sys: 1.43 s, total: 3.27 s\n",
      "Wall time: 6.94 s\n"
     ]
    }
   ],
   "source": [
    "%%time\n",
    "summ=0\n",
    "for k in r.keys():\n",
    "    summ += int(r.get(k))\n",
    "\n",
    "print(\"Всего ключей:\", r.dbsize())"
   ]
  },
  {
   "cell_type": "markdown",
   "metadata": {},
   "source": [
    "Около 14 000 операций чтения.\n",
    "\n",
    "Хм... Этот Redis, кажется, не такой уж и молодец.\n",
    "\n",
    "Или мы что-то делаем не так? Давайте сравним с `dict`."
   ]
  },
  {
   "cell_type": "code",
   "execution_count": 14,
   "metadata": {},
   "outputs": [
    {
     "name": "stdout",
     "output_type": "stream",
     "text": [
      "CPU times: user 194 ms, sys: 4.19 ms, total: 198 ms\n",
      "Wall time: 197 ms\n"
     ]
    }
   ],
   "source": [
    "%%time\n",
    "tst_dct={}\n",
    "for i in range(100000):\n",
    "    tst_dct[str(ObjectId())]=i"
   ]
  },
  {
   "cell_type": "markdown",
   "metadata": {},
   "source": [
    "Примерно 500 000 операций записи в секунду..."
   ]
  },
  {
   "cell_type": "code",
   "execution_count": 15,
   "metadata": {},
   "outputs": [
    {
     "name": "stdout",
     "output_type": "stream",
     "text": [
      "CPU times: user 15.6 ms, sys: 0 ns, total: 15.6 ms\n",
      "Wall time: 15.3 ms\n"
     ]
    }
   ],
   "source": [
    "%%time\n",
    "summ=0\n",
    "for k in tst_dct.keys():\n",
    "    summ+=int(tst_dct[k])"
   ]
  },
  {
   "cell_type": "markdown",
   "metadata": {},
   "source": [
    "... и примерно 5 млн операций чтения в секунду. Пока Redis очень далеко до `dict`.\n",
    "\n",
    "Хотя dict не умеет отдавать данные нескольким программам одновременно."
   ]
  },
  {
   "cell_type": "markdown",
   "metadata": {},
   "source": [
    "### Автоматическое удаление ключей из базы по таймауту\n",
    "\n",
    "Давайте пока посмотрим что Redis  умеет еще. Например, при помощи функции `expire` каждой паре можно сказать, что она утрачивает актуальность через какое-то время. \n",
    "\n",
    "Положим в базу 100 000 ключей, каждому из них установим время жизни 10 секунд, уснём на 15 секунд и посмотрим что осталось в базе."
   ]
  },
  {
   "cell_type": "code",
   "execution_count": 16,
   "metadata": {},
   "outputs": [
    {
     "name": "stdout",
     "output_type": "stream",
     "text": [
      "0 0\n"
     ]
    }
   ],
   "source": [
    "r.flushdb()\n",
    "\n",
    "for i in range(100000):\n",
    "    oid=str(ObjectId())\n",
    "    r.set(oid, i)\n",
    "    r.expire(oid, 10)\n",
    "\n",
    "time.sleep(15)\n",
    "\n",
    "summ=0\n",
    "for k in r.keys():\n",
    "    summ+=int(r.get(k))\n",
    "    \n",
    "print(r.dbsize(), summ)"
   ]
  },
  {
   "cell_type": "code",
   "execution_count": 17,
   "metadata": {},
   "outputs": [
    {
     "name": "stdout",
     "output_type": "stream",
     "text": [
      "None\n"
     ]
    }
   ],
   "source": [
    "print(r.get(oid))"
   ]
  },
  {
   "cell_type": "markdown",
   "metadata": {},
   "source": [
    "Как видно, не осталось ничего. Метод работает.\n",
    "\n",
    "Помимо работы с простыми числами, Redis позволяет организовывать список, привязанный к определенному ключу. При помощи функций `rpush` и `lpush` можно класть значения в очередь с заданным ключем."
   ]
  },
  {
   "cell_type": "code",
   "execution_count": 18,
   "metadata": {},
   "outputs": [
    {
     "data": {
      "application/vnd.jupyter.widget-view+json": {
       "model_id": "66ca8bad7db8490e898b6df438b60bdf",
       "version_major": 2,
       "version_minor": 0
      },
      "text/plain": [
       "HTML(value='<table border=\"1\"><tr><td style=\"padding:3px;width:150px;\">test2</td><td style=\"padding:3px;width:…"
      ]
     },
     "metadata": {},
     "output_type": "display_data"
    }
   ],
   "source": [
    "r.set('test1', 1) # Просто, чтобы было видно отличие.\n",
    "r.lpush('test2', 2) # Первый элемент.\n",
    "r.rpush('test2', 3) # Следующий кладется справа.\n",
    "r.lpush('test2', 4) # Следующий кладется слева.\n",
    "r.rpush('test2', 5) # Последний кладется справа.\n",
    "show_redis_data(r)"
   ]
  },
  {
   "cell_type": "code",
   "execution_count": 19,
   "metadata": {},
   "outputs": [
    {
     "name": "stdout",
     "output_type": "stream",
     "text": [
      "b'5'\n"
     ]
    },
    {
     "data": {
      "application/vnd.jupyter.widget-view+json": {
       "model_id": "c87319b55e244f0084b07af45a4c14e5",
       "version_major": 2,
       "version_minor": 0
      },
      "text/plain": [
       "HTML(value='<table border=\"1\"><tr><td style=\"padding:3px;width:150px;\">test2</td><td style=\"padding:3px;width:…"
      ]
     },
     "metadata": {},
     "output_type": "display_data"
    }
   ],
   "source": [
    "# Можно в одну операцию достать элемент и тот же положить его обратно.\n",
    "d = r.rpoplpush('test2', 'test2')\n",
    "print(d)\n",
    "show_redis_data(r)"
   ]
  },
  {
   "cell_type": "markdown",
   "metadata": {},
   "source": [
    "Попробуем замерить скорость работы при помощи списков."
   ]
  },
  {
   "cell_type": "code",
   "execution_count": 20,
   "metadata": {},
   "outputs": [
    {
     "name": "stdout",
     "output_type": "stream",
     "text": [
      "[b'firstkey', b'test2', b'test1', b'secondkey']\n",
      "CPU times: user 4.3 s, sys: 2.82 s, total: 7.12 s\n",
      "Wall time: 14.7 s\n"
     ]
    }
   ],
   "source": [
    "%%time\n",
    "for i in range(100000):\n",
    "    r.lpush('firstkey', i)\n",
    "    r.lpush('secondkey', i)\n",
    "    \n",
    "print(r.keys())"
   ]
  },
  {
   "cell_type": "markdown",
   "metadata": {},
   "source": [
    "Заодно проверим, может быть добавление ключей с другой стороны будет быстрее."
   ]
  },
  {
   "cell_type": "code",
   "execution_count": 21,
   "metadata": {},
   "outputs": [
    {
     "data": {
      "text/plain": [
       "True"
      ]
     },
     "execution_count": 21,
     "metadata": {},
     "output_type": "execute_result"
    }
   ],
   "source": [
    "r.flushdb()"
   ]
  },
  {
   "cell_type": "code",
   "execution_count": 22,
   "metadata": {},
   "outputs": [
    {
     "name": "stdout",
     "output_type": "stream",
     "text": [
      "[b'firstkey', b'secondkey']\n",
      "CPU times: user 4.36 s, sys: 2.84 s, total: 7.2 s\n",
      "Wall time: 14.9 s\n"
     ]
    }
   ],
   "source": [
    "%%time\n",
    "for i in range(100000):\n",
    "    r.rpush('firstkey', i)\n",
    "    r.rpush('secondkey', i)\n",
    "    \n",
    "print(r.keys())"
   ]
  },
  {
   "cell_type": "markdown",
   "metadata": {},
   "source": [
    "Получается еще медленнее, чем при помощи `set`.\n",
    "\n",
    "Извлекаем данные при помощи `lpop` и `rpop`. Как видно, получается тоже не быстро."
   ]
  },
  {
   "cell_type": "code",
   "execution_count": 23,
   "metadata": {},
   "outputs": [
    {
     "name": "stdout",
     "output_type": "stream",
     "text": [
      "CPU times: user 3.62 s, sys: 2.8 s, total: 6.42 s\n",
      "Wall time: 13.8 s\n"
     ]
    }
   ],
   "source": [
    "%%time\n",
    "for i in range(100000):\n",
    "    r.lpop('firstkey')\n",
    "    r.lpop('secondkey')"
   ]
  },
  {
   "cell_type": "markdown",
   "metadata": {},
   "source": [
    "Теперь попробуем пакетную запись значений. \n",
    "\n",
    "Может быть генерация ключей занимает больше времени, чем работа с БД? Отдельно сгенерируем идентификаторы для ключей, а потом положим их в базу."
   ]
  },
  {
   "cell_type": "code",
   "execution_count": 24,
   "metadata": {},
   "outputs": [
    {
     "name": "stdout",
     "output_type": "stream",
     "text": [
      "CPU times: user 161 ms, sys: 0 ns, total: 161 ms\n",
      "Wall time: 161 ms\n"
     ]
    }
   ],
   "source": [
    "%%time\n",
    "objs=[str(ObjectId()) for i in range(100000)]"
   ]
  },
  {
   "cell_type": "code",
   "execution_count": 25,
   "metadata": {},
   "outputs": [
    {
     "name": "stdout",
     "output_type": "stream",
     "text": [
      "CPU times: user 2.1 s, sys: 1.48 s, total: 3.58 s\n",
      "Wall time: 7.44 s\n"
     ]
    }
   ],
   "source": [
    "%%time\n",
    "for i,x in enumerate(objs):\n",
    "    r.set(x, i)"
   ]
  },
  {
   "cell_type": "markdown",
   "metadata": {},
   "source": [
    "Быстрее не вышло. Может быть дело в for, и с помощью map мы сделаем всё быстрее?"
   ]
  },
  {
   "cell_type": "code",
   "execution_count": 26,
   "metadata": {},
   "outputs": [
    {
     "name": "stdout",
     "output_type": "stream",
     "text": [
      "CPU times: user 2.33 s, sys: 1.42 s, total: 3.74 s\n",
      "Wall time: 7.67 s\n"
     ]
    }
   ],
   "source": [
    "%%time\n",
    "_=list(map(lambda x: r.set(x[1], x[0]), enumerate(objs)))"
   ]
  },
  {
   "cell_type": "markdown",
   "metadata": {},
   "source": [
    "Убедимся, что мы не забыли сгенерировать новые ключи перед запуском предыдущей ячейки - проверим количество ключей в базу."
   ]
  },
  {
   "cell_type": "code",
   "execution_count": 27,
   "metadata": {},
   "outputs": [
    {
     "data": {
      "text/plain": [
       "100000"
      ]
     },
     "execution_count": 27,
     "metadata": {},
     "output_type": "execute_result"
    }
   ],
   "source": [
    "r.dbsize()"
   ]
  },
  {
   "cell_type": "markdown",
   "metadata": {},
   "source": [
    "Также убедимся, что работа со словарем всё еще быстрее. Кстати, значительно быстрее генерации ключей."
   ]
  },
  {
   "cell_type": "code",
   "execution_count": 28,
   "metadata": {},
   "outputs": [
    {
     "name": "stdout",
     "output_type": "stream",
     "text": [
      "CPU times: user 9.31 ms, sys: 393 µs, total: 9.7 ms\n",
      "Wall time: 9.67 ms\n"
     ]
    }
   ],
   "source": [
    "%%time\n",
    "tst_dct = {}\n",
    "for i in enumerate(objs):\n",
    "    tst_dct[x] = i"
   ]
  },
  {
   "cell_type": "markdown",
   "metadata": {},
   "source": [
    "Ключи в самом деле лежат в базе?"
   ]
  },
  {
   "cell_type": "code",
   "execution_count": 29,
   "metadata": {},
   "outputs": [
    {
     "data": {
      "text/plain": [
       "[b'619522d29152c1dd9c826444',\n",
       " b'619522d29152c1dd9c8167e1',\n",
       " b'619522d29152c1dd9c8136ce',\n",
       " b'619522d29152c1dd9c828fd7',\n",
       " b'619522d29152c1dd9c8241a6',\n",
       " b'619522d29152c1dd9c81feae',\n",
       " b'619522d29152c1dd9c82136f',\n",
       " b'619522d29152c1dd9c81b16e',\n",
       " b'619522d29152c1dd9c819850',\n",
       " b'619522d29152c1dd9c81c250']"
      ]
     },
     "execution_count": 29,
     "metadata": {},
     "output_type": "execute_result"
    }
   ],
   "source": [
    "list(r.keys())[:10]"
   ]
  },
  {
   "cell_type": "markdown",
   "metadata": {},
   "source": [
    "Попробуем функцию `mset`, которая кладет всё содержимое словаря одновременно."
   ]
  },
  {
   "cell_type": "code",
   "execution_count": 30,
   "metadata": {},
   "outputs": [
    {
     "name": "stdout",
     "output_type": "stream",
     "text": [
      "CPU times: user 175 ms, sys: 1.04 ms, total: 176 ms\n",
      "Wall time: 177 ms\n"
     ]
    }
   ],
   "source": [
    "%%time\n",
    "objs={str(ObjectId()):i for i in range(100000)}"
   ]
  },
  {
   "cell_type": "code",
   "execution_count": 31,
   "metadata": {},
   "outputs": [
    {
     "name": "stdout",
     "output_type": "stream",
     "text": [
      "CPU times: user 196 ms, sys: 960 µs, total: 197 ms\n",
      "Wall time: 262 ms\n"
     ]
    },
    {
     "data": {
      "text/plain": [
       "True"
      ]
     },
     "execution_count": 31,
     "metadata": {},
     "output_type": "execute_result"
    }
   ],
   "source": [
    "%%time\n",
    "r.mset(objs)"
   ]
  },
  {
   "cell_type": "code",
   "execution_count": 32,
   "metadata": {},
   "outputs": [],
   "source": [
    "mkeys = list(r.keys())[:1000]"
   ]
  },
  {
   "cell_type": "code",
   "execution_count": 33,
   "metadata": {},
   "outputs": [
    {
     "name": "stdout",
     "output_type": "stream",
     "text": [
      "CPU times: user 2.03 ms, sys: 0 ns, total: 2.03 ms\n",
      "Wall time: 2.06 ms\n"
     ]
    }
   ],
   "source": [
    "%%time\n",
    "_ = r.mget(mkeys)"
   ]
  },
  {
   "cell_type": "markdown",
   "metadata": {},
   "source": [
    "Получается в несколько раз быстрее - около 250 000 ключей в секунду. Но это всё еще не похоже на миллион запросов в секунду."
   ]
  },
  {
   "cell_type": "markdown",
   "metadata": {},
   "source": [
    "### Замер производительности Redis в несколько потоков\n",
    "\n",
    "Хорошо, может быть это Питон не справляется, а база может работать быстрее? Попробуем запустить несколько потоков, которые пишут в базу. Оформим генерацию ключей и загрузку ключей в базу как отдельную функцию, чтобы можно было ее запускать в параллельных потоках."
   ]
  },
  {
   "cell_type": "code",
   "execution_count": 3,
   "metadata": {},
   "outputs": [],
   "source": [
    "import multiprocessing"
   ]
  },
  {
   "cell_type": "code",
   "execution_count": 35,
   "metadata": {},
   "outputs": [],
   "source": [
    "def putKey2Redis():\n",
    "    objs={str(ObjectId()):i for i in range(100000)}\n",
    "    #_=list(map(lambda x: r.set(x[1], x[0]), enumerate(objs)))\n",
    "    r.mset(objs)"
   ]
  },
  {
   "cell_type": "code",
   "execution_count": 36,
   "metadata": {},
   "outputs": [
    {
     "name": "stdout",
     "output_type": "stream",
     "text": [
      "CPU times: user 4.16 ms, sys: 31.9 ms, total: 36.1 ms\n",
      "Wall time: 1.88 s\n"
     ]
    }
   ],
   "source": [
    "%%time\n",
    "pr = []\n",
    "\n",
    "for i in range(10):\n",
    "    p = multiprocessing.Process(target=putKey2Redis)\n",
    "    p.start()\n",
    "    pr.append(p)\n",
    "\n",
    "for p in pr:\n",
    "    p.join()"
   ]
  },
  {
   "cell_type": "markdown",
   "metadata": {},
   "source": [
    "500 000 запросов в секунду. Явно улучшение не в 10 раз. Значит дело не только в Питоне. Но скорость уже впечатляющая. От обычной БД с настройками из коробки такую скорость не получишь."
   ]
  },
  {
   "cell_type": "markdown",
   "metadata": {},
   "source": [
    "### Хеш-массивы\n",
    "\n",
    "Redis умеет привязывать к ключу хешированный массив - аналог питоновского словаря. Запись одного значения производится по паре ключ-ключ внутри хеша при помощи `hset`, чтение - аналогично при помощи `hget`.\n"
   ]
  },
  {
   "cell_type": "code",
   "execution_count": 37,
   "metadata": {},
   "outputs": [
    {
     "data": {
      "text/plain": [
       "1"
      ]
     },
     "execution_count": 37,
     "metadata": {},
     "output_type": "execute_result"
    }
   ],
   "source": [
    "r.flushdb()\n",
    "r.hset('asdf', '1', '200')\n",
    "r.hset('asdf', '2', '201')"
   ]
  },
  {
   "cell_type": "code",
   "execution_count": 38,
   "metadata": {},
   "outputs": [
    {
     "data": {
      "application/vnd.jupyter.widget-view+json": {
       "model_id": "6c8ece02ad354014b4966ccde24ce90e",
       "version_major": 2,
       "version_minor": 0
      },
      "text/plain": [
       "HTML(value='<table border=\"1\"><tr><td style=\"padding:3px;width:150px;\">asdf</td><td style=\"padding:3px;width:5…"
      ]
     },
     "metadata": {},
     "output_type": "display_data"
    }
   ],
   "source": [
    "show_redis_data(r)"
   ]
  },
  {
   "cell_type": "code",
   "execution_count": 39,
   "metadata": {},
   "outputs": [
    {
     "data": {
      "text/plain": [
       "b'201'"
      ]
     },
     "execution_count": 39,
     "metadata": {},
     "output_type": "execute_result"
    }
   ],
   "source": [
    "r.hget('asdf', '2')"
   ]
  },
  {
   "cell_type": "markdown",
   "metadata": {},
   "source": [
    "Как и в случае со скалярными значениями, найденный ключ перезаписывается."
   ]
  },
  {
   "cell_type": "code",
   "execution_count": 40,
   "metadata": {},
   "outputs": [
    {
     "data": {
      "application/vnd.jupyter.widget-view+json": {
       "model_id": "5519203c1ae5456087001db01b8e23bd",
       "version_major": 2,
       "version_minor": 0
      },
      "text/plain": [
       "HTML(value='<table border=\"1\"><tr><td style=\"padding:3px;width:150px;\">asdf</td><td style=\"padding:3px;width:5…"
      ]
     },
     "metadata": {},
     "output_type": "display_data"
    }
   ],
   "source": [
    "r.hset('asdf', '2', '301')\n",
    "\n",
    "show_redis_data(r)"
   ]
  },
  {
   "cell_type": "markdown",
   "metadata": {},
   "source": [
    "Проверить наличие ключа в хеше можно при помощи функции `hexists`."
   ]
  },
  {
   "cell_type": "code",
   "execution_count": 41,
   "metadata": {},
   "outputs": [
    {
     "data": {
      "text/plain": [
       "False"
      ]
     },
     "execution_count": 41,
     "metadata": {},
     "output_type": "execute_result"
    }
   ],
   "source": [
    "r.hexists(\"asdf\",\"33\")"
   ]
  },
  {
   "cell_type": "markdown",
   "metadata": {},
   "source": [
    "Померяем скорость работы с Redis с хешами. Попробуем класть его при помощи функции `hmset` (h - хешированный. m - много ключей сразу)."
   ]
  },
  {
   "cell_type": "code",
   "execution_count": 42,
   "metadata": {},
   "outputs": [
    {
     "data": {
      "text/plain": [
       "True"
      ]
     },
     "execution_count": 42,
     "metadata": {},
     "output_type": "execute_result"
    }
   ],
   "source": [
    "r.flushdb()"
   ]
  },
  {
   "cell_type": "code",
   "execution_count": 43,
   "metadata": {},
   "outputs": [],
   "source": [
    "import threading"
   ]
  },
  {
   "cell_type": "code",
   "execution_count": 44,
   "metadata": {},
   "outputs": [],
   "source": [
    "def putKey2Redis2(my_key):\n",
    "    objs={str(ObjectId()):i for i in range(100000)}\n",
    "    print(my_key, list(objs.keys())[:2])\n",
    "    r.hset(my_key, mapping=objs)"
   ]
  },
  {
   "cell_type": "code",
   "execution_count": 45,
   "metadata": {},
   "outputs": [
    {
     "name": "stdout",
     "output_type": "stream",
     "text": [
      "hash_key0 ['619522e49152c1dd9c841914', '619522e49152c1dd9c841915']\n",
      "hash_key4 ['619522e49152c1dd9c843997', '619522e49152c1dd9c84399f']\n",
      "hash_key2 ['619522e49152c1dd9c843990', '619522e49152c1dd9c843994']\n",
      "hash_key7 ['619522e49152c1dd9c8439a9', '619522e49152c1dd9c8439b4']\n",
      "hash_key8 ['619522e49152c1dd9c8439a3', '619522e49152c1dd9c8439ad']\n",
      "hash_key9 ['619522e49152c1dd9c8439a5', '619522e49152c1dd9c8439af']\n",
      "hash_key1 ['619522e49152c1dd9c84397c', '619522e49152c1dd9c84398c']\n",
      "hash_key3 ['619522e49152c1dd9c843993', '619522e49152c1dd9c843998']\n",
      "hash_key5 ['619522e49152c1dd9c843999', '619522e49152c1dd9c8439a1']\n",
      "hash_key6 ['619522e49152c1dd9c84399d', '619522e49152c1dd9c84399e']\n",
      "CPU times: user 12.9 s, sys: 7.59 s, total: 20.5 s\n",
      "Wall time: 14 s\n"
     ]
    }
   ],
   "source": [
    "%%time\n",
    "pr=[]\n",
    "\n",
    "for i in range(10):\n",
    "#     p=multiprocessing.Process(target=putKey2Redis2, args=['hash_key'+str(i)])\n",
    "    p=threading.Thread(target=putKey2Redis2, args=['hash_key'+str(i)])\n",
    "    p.start()\n",
    "    pr.append(p)\n",
    "\n",
    "for p in pr:\n",
    "    p.join()"
   ]
  },
  {
   "cell_type": "code",
   "execution_count": 46,
   "metadata": {},
   "outputs": [
    {
     "data": {
      "text/plain": [
       "[b'hash_key4',\n",
       " b'hash_key2',\n",
       " b'hash_key0',\n",
       " b'hash_key9',\n",
       " b'hash_key5',\n",
       " b'hash_key3',\n",
       " b'hash_key1',\n",
       " b'hash_key6',\n",
       " b'hash_key8',\n",
       " b'hash_key7']"
      ]
     },
     "execution_count": 46,
     "metadata": {},
     "output_type": "execute_result"
    }
   ],
   "source": [
    "r.keys()"
   ]
  },
  {
   "cell_type": "code",
   "execution_count": 47,
   "metadata": {},
   "outputs": [],
   "source": [
    "r.hget('hash_key4', '616d3caf9b101bb49a1083c3')"
   ]
  },
  {
   "cell_type": "code",
   "execution_count": 48,
   "metadata": {},
   "outputs": [
    {
     "data": {
      "text/plain": [
       "1"
      ]
     },
     "execution_count": 48,
     "metadata": {},
     "output_type": "execute_result"
    }
   ],
   "source": [
    "r.hset(\"test_key\", mapping={\"c\":3})"
   ]
  },
  {
   "cell_type": "code",
   "execution_count": 49,
   "metadata": {},
   "outputs": [
    {
     "data": {
      "text/plain": [
       "2"
      ]
     },
     "execution_count": 49,
     "metadata": {},
     "output_type": "execute_result"
    }
   ],
   "source": [
    "r.hset(\"test_key\", mapping={\"a\":1, \"b\":2})"
   ]
  },
  {
   "cell_type": "code",
   "execution_count": 50,
   "metadata": {},
   "outputs": [
    {
     "data": {
      "text/plain": [
       "b'3'"
      ]
     },
     "execution_count": 50,
     "metadata": {},
     "output_type": "execute_result"
    }
   ],
   "source": [
    "r.hget(\"test_key\", \"c\")"
   ]
  },
  {
   "cell_type": "code",
   "execution_count": 51,
   "metadata": {},
   "outputs": [
    {
     "data": {
      "text/plain": [
       "[b'1', b'2', b'3', None]"
      ]
     },
     "execution_count": 51,
     "metadata": {},
     "output_type": "execute_result"
    }
   ],
   "source": [
    "r.hmget(\"test_key\", [\"a\", \"b\", \"c\", \"d\"])"
   ]
  },
  {
   "cell_type": "code",
   "execution_count": 52,
   "metadata": {},
   "outputs": [
    {
     "data": {
      "text/plain": [
       "0"
      ]
     },
     "execution_count": 52,
     "metadata": {},
     "output_type": "execute_result"
    }
   ],
   "source": [
    "r.hset(\"test_key\", mapping={\"c\":\"{'s':'d'}\"})"
   ]
  },
  {
   "cell_type": "code",
   "execution_count": 53,
   "metadata": {},
   "outputs": [
    {
     "data": {
      "text/plain": [
       "b\"{'s':'d'}\""
      ]
     },
     "execution_count": 53,
     "metadata": {},
     "output_type": "execute_result"
    }
   ],
   "source": [
    "r.hget(\"test_key\", \"c\")"
   ]
  },
  {
   "cell_type": "code",
   "execution_count": 54,
   "metadata": {},
   "outputs": [
    {
     "data": {
      "text/plain": [
       "[b'1', b\"{'s':'d'}\"]"
      ]
     },
     "execution_count": 54,
     "metadata": {},
     "output_type": "execute_result"
    }
   ],
   "source": [
    "r.hmget(\"test_key\",['a','c'])"
   ]
  },
  {
   "cell_type": "code",
   "execution_count": 55,
   "metadata": {},
   "outputs": [
    {
     "data": {
      "text/plain": [
       "[b'c', b'a', b'b']"
      ]
     },
     "execution_count": 55,
     "metadata": {},
     "output_type": "execute_result"
    }
   ],
   "source": [
    "r.hkeys(\"test_key\")"
   ]
  },
  {
   "cell_type": "markdown",
   "metadata": {},
   "source": [
    "Увеличения скорости не наблюдается.\n",
    "\n",
    "При помощи функции `hkeys` можно получить ключи для конкретного хеш-массива. `hmget` позволяет получить значения по нескольким ключам."
   ]
  },
  {
   "cell_type": "code",
   "execution_count": 56,
   "metadata": {},
   "outputs": [
    {
     "data": {
      "text/plain": [
       "True"
      ]
     },
     "execution_count": 56,
     "metadata": {},
     "output_type": "execute_result"
    }
   ],
   "source": [
    "r.flushdb()"
   ]
  },
  {
   "cell_type": "code",
   "execution_count": 57,
   "metadata": {},
   "outputs": [
    {
     "name": "stdout",
     "output_type": "stream",
     "text": [
      "CPU times: user 161 ms, sys: 0 ns, total: 161 ms\n",
      "Wall time: 159 ms\n"
     ]
    }
   ],
   "source": [
    "%%time\n",
    "objs={str(ObjectId()):i for i in range(100000)}"
   ]
  },
  {
   "cell_type": "code",
   "execution_count": 58,
   "metadata": {},
   "outputs": [
    {
     "name": "stdout",
     "output_type": "stream",
     "text": [
      "CPU times: user 224 ms, sys: 0 ns, total: 224 ms\n",
      "Wall time: 263 ms\n"
     ]
    },
    {
     "data": {
      "text/plain": [
       "100000"
      ]
     },
     "execution_count": 58,
     "metadata": {},
     "output_type": "execute_result"
    }
   ],
   "source": [
    "%%time\n",
    "r.hset(\"longkey\", mapping=objs)"
   ]
  },
  {
   "cell_type": "code",
   "execution_count": 59,
   "metadata": {},
   "outputs": [],
   "source": [
    "ho=r.hkeys(\"longkey\")"
   ]
  },
  {
   "cell_type": "code",
   "execution_count": 60,
   "metadata": {},
   "outputs": [
    {
     "data": {
      "text/plain": [
       "[b'619522f39152c1dd9c9380fa',\n",
       " b'619522f39152c1dd9c9397e3',\n",
       " b'619522f39152c1dd9c94679e',\n",
       " b'619522f39152c1dd9c93db65',\n",
       " b'619522f39152c1dd9c94a8f8',\n",
       " b'619522f39152c1dd9c944d03',\n",
       " b'619522f39152c1dd9c94ba06',\n",
       " b'619522f39152c1dd9c946f10',\n",
       " b'619522f39152c1dd9c94b0bf',\n",
       " b'619522f39152c1dd9c94dce0']"
      ]
     },
     "execution_count": 60,
     "metadata": {},
     "output_type": "execute_result"
    }
   ],
   "source": [
    "ho[:10]"
   ]
  },
  {
   "cell_type": "code",
   "execution_count": 61,
   "metadata": {},
   "outputs": [
    {
     "name": "stdout",
     "output_type": "stream",
     "text": [
      "CPU times: user 1.14 ms, sys: 0 ns, total: 1.14 ms\n",
      "Wall time: 811 µs\n"
     ]
    }
   ],
   "source": [
    "%%time\n",
    "oo=r.hmget(\"longkey\", ho[:10])"
   ]
  },
  {
   "cell_type": "code",
   "execution_count": 62,
   "metadata": {},
   "outputs": [
    {
     "data": {
      "text/plain": [
       "[b'9638',\n",
       " b'15503',\n",
       " b'68682',\n",
       " b'32785',\n",
       " b'85412',\n",
       " b'61871',\n",
       " b'89778',\n",
       " b'70588',\n",
       " b'87403',\n",
       " b'98700']"
      ]
     },
     "execution_count": 62,
     "metadata": {},
     "output_type": "execute_result"
    }
   ],
   "source": [
    "oo"
   ]
  },
  {
   "cell_type": "markdown",
   "metadata": {},
   "source": [
    "Можно убедиться еще раз, что работа со списком ключей гораздо быстрее, чем получение значений по ключу по отдельности."
   ]
  },
  {
   "cell_type": "code",
   "execution_count": 63,
   "metadata": {},
   "outputs": [
    {
     "name": "stdout",
     "output_type": "stream",
     "text": [
      "CPU times: user 1.91 s, sys: 1.47 s, total: 3.39 s\n",
      "Wall time: 7.28 s\n"
     ]
    }
   ],
   "source": [
    "%%time\n",
    "for k in ho:\n",
    "    _=r.hget(\"longkey\", k)"
   ]
  },
  {
   "cell_type": "code",
   "execution_count": 64,
   "metadata": {},
   "outputs": [
    {
     "name": "stdout",
     "output_type": "stream",
     "text": [
      "CPU times: user 74 ms, sys: 0 ns, total: 74 ms\n",
      "Wall time: 91.4 ms\n"
     ]
    }
   ],
   "source": [
    "%%time\n",
    "oo=r.hmget(\"longkey\", ho)"
   ]
  },
  {
   "cell_type": "markdown",
   "metadata": {},
   "source": [
    "### Блокирующие операции в Redis\n",
    "\n",
    "Redis поддерживает блокирующие операции. При помощи `brpop` и `blpop` мы можем приостановить свои действия либо пока не будет получено значение, либо пока не пройдет заданный промежуток времени.\n",
    "\n",
    "Если функция успешно получила значение, она вернет его без дальнейшего ожидания. Если значение не было получено, то по истечении таймаута функция вернет None.\n",
    "\n",
    "В примере ниже мы вынуждены сперва класть данные, а потом получать их без ожидания (ведь они уже есть в базе), так как мы работаем в один поток."
   ]
  },
  {
   "cell_type": "code",
   "execution_count": 65,
   "metadata": {},
   "outputs": [
    {
     "name": "stdout",
     "output_type": "stream",
     "text": [
      "(b'blockedTest', b'asdf')\n"
     ]
    }
   ],
   "source": [
    "r.rpush(\"blockedTest\", \"asdf\")\n",
    "print(r.brpop(\"blockedTest\", 1))"
   ]
  },
  {
   "cell_type": "markdown",
   "metadata": {},
   "source": [
    "Если работать в два потока (один пишет, второй читает), становится видно, что управление возвращается после ожидания в блокирующей функции."
   ]
  },
  {
   "cell_type": "code",
   "execution_count": 66,
   "metadata": {},
   "outputs": [
    {
     "name": "stdout",
     "output_type": "stream",
     "text": [
      "waiting\n",
      "waiting\n",
      "waiting\n",
      "waiting\n",
      "(b'blockedTest', b'Yahooo!')\n"
     ]
    }
   ],
   "source": [
    "# Функция ждет 5 секунд и только тогда пишет данные в базу.\n",
    "def blockingWrite():\n",
    "    time.sleep(5)\n",
    "    r.lpush(\"blockedTest\", \"Yahooo!\")\n",
    "    \n",
    "# Функция пытается читать данные, и если возвращается None (данные не пришли в течение таймаута),\n",
    "# то она повторяет попытки до успешного чтения.\n",
    "def blockingRead():\n",
    "    bres = r.brpop(\"blockedTest\", 1)\n",
    "    while bres == None:\n",
    "        print(\"waiting\")\n",
    "        bres = r.brpop(\"blockedTest\", 1)\n",
    "    print(bres)\n",
    "    \n",
    "bpr1=multiprocessing.Process(target=blockingWrite)\n",
    "bpr2=multiprocessing.Process(target=blockingRead)\n",
    "bpr1.start()\n",
    "bpr2.start()\n",
    "bpr1.join()\n",
    "bpr2.join()"
   ]
  },
  {
   "cell_type": "markdown",
   "metadata": {},
   "source": [
    "### Множества\n",
    "\n",
    "Помимо этого, к ключу можно привязать множество. Добавление в множество ведется при помощи операции `sadd`. Также можно находить пересечение (`sinter`), объединение (`sunion`)  разницу (`sdiff`) множеств."
   ]
  },
  {
   "cell_type": "code",
   "execution_count": 67,
   "metadata": {},
   "outputs": [
    {
     "data": {
      "text/plain": [
       "True"
      ]
     },
     "execution_count": 67,
     "metadata": {},
     "output_type": "execute_result"
    }
   ],
   "source": [
    "r.flushdb()"
   ]
  },
  {
   "cell_type": "code",
   "execution_count": 68,
   "metadata": {},
   "outputs": [
    {
     "name": "stdout",
     "output_type": "stream",
     "text": [
      "intersection: {b'A'}\n"
     ]
    },
    {
     "data": {
      "application/vnd.jupyter.widget-view+json": {
       "model_id": "c418bb91e8b24d888aca808a7714115c",
       "version_major": 2,
       "version_minor": 0
      },
      "text/plain": [
       "HTML(value='<table border=\"1\"><tr><td style=\"padding:3px;width:150px;\">testSets2</td><td style=\"padding:3px;wi…"
      ]
     },
     "metadata": {},
     "output_type": "display_data"
    }
   ],
   "source": [
    "r.sadd(\"testSets1\", \"A\")\n",
    "r.sadd(\"testSets1\", \"B\")\n",
    "r.sadd(\"testSets1\", \"C\")\n",
    "\n",
    "r.sadd(\"testSets2\", \"A\")\n",
    "r.sadd(\"testSets2\", \"D\")\n",
    "r.sadd(\"testSets2\", \"F\")\n",
    "\n",
    "print('intersection:', r.sinter([\"testSets1\",\"testSets2\"]))\n",
    "\n",
    "show_redis_data(r)"
   ]
  },
  {
   "cell_type": "markdown",
   "metadata": {},
   "source": [
    "Результаты операций над множествами можно сохранить в другое множество."
   ]
  },
  {
   "cell_type": "code",
   "execution_count": 69,
   "metadata": {
    "scrolled": true
   },
   "outputs": [
    {
     "data": {
      "application/vnd.jupyter.widget-view+json": {
       "model_id": "fc940d5b778848f591d6ea1a2f81370c",
       "version_major": 2,
       "version_minor": 0
      },
      "text/plain": [
       "HTML(value='<table border=\"1\"><tr><td style=\"padding:3px;width:150px;\">testSets3</td><td style=\"padding:3px;wi…"
      ]
     },
     "metadata": {},
     "output_type": "display_data"
    }
   ],
   "source": [
    "r.sdiffstore(\"testSets4\", [\"testSets1\", \"testSets2\"])\n",
    "r.sunionstore(\"testSets3\", [\"testSets1\", \"testSets2\"])\n",
    "show_redis_data(r)"
   ]
  },
  {
   "cell_type": "markdown",
   "metadata": {},
   "source": [
    "Элемент можно атомарно перебросить из одного множества в другое при помощи `smove`."
   ]
  },
  {
   "cell_type": "code",
   "execution_count": 70,
   "metadata": {},
   "outputs": [
    {
     "data": {
      "application/vnd.jupyter.widget-view+json": {
       "model_id": "b4529ebb94a84a7ba1c4ee5c88e84ba3",
       "version_major": 2,
       "version_minor": 0
      },
      "text/plain": [
       "HTML(value='<table border=\"1\"><tr><td style=\"padding:3px;width:150px;\">testSets3</td><td style=\"padding:3px;wi…"
      ]
     },
     "metadata": {},
     "output_type": "display_data"
    }
   ],
   "source": [
    "r.smove(\"testSets2\", \"testSets1\", 'F')\n",
    "show_redis_data(r)"
   ]
  },
  {
   "cell_type": "markdown",
   "metadata": {},
   "source": [
    " Удалить значение можно при помощи `srem`, узнать длину множества - `scard`."
   ]
  },
  {
   "cell_type": "code",
   "execution_count": 71,
   "metadata": {},
   "outputs": [
    {
     "data": {
      "application/vnd.jupyter.widget-view+json": {
       "model_id": "4d113d20db214a78b12929131e86241a",
       "version_major": 2,
       "version_minor": 0
      },
      "text/plain": [
       "HTML(value='<table border=\"1\"><tr><td style=\"padding:3px;width:150px;\">testSets3</td><td style=\"padding:3px;wi…"
      ]
     },
     "metadata": {},
     "output_type": "display_data"
    },
    {
     "name": "stdout",
     "output_type": "stream",
     "text": [
      "3\n"
     ]
    }
   ],
   "source": [
    "r.srem(\"testSets1\", 'F')\n",
    "show_redis_data(r)\n",
    "print(r.scard(\"testSets1\"))"
   ]
  },
  {
   "cell_type": "markdown",
   "metadata": {},
   "source": [
    "### Последовательности команд и имитация транзакций\n",
    "\n",
    "Каждая команда возвращает объект типа `pipeline`. Данный объект позволяет выполнять транзакции. Для этого необходимо при помощи pipeline выполнить несколько команд (они будут поставлены во внутреннюю очередь), а затем вызвать `execute`. Таким образом поддерживаются транзакции для нескольких команд, не требующих промежуточного чтения результатов.\n",
    "\n",
    "В итоге вернется список результатов выполнения команд."
   ]
  },
  {
   "cell_type": "code",
   "execution_count": 72,
   "metadata": {},
   "outputs": [
    {
     "data": {
      "text/plain": [
       "[1, 1, {b'B', b'C', b'G'}]"
      ]
     },
     "execution_count": 72,
     "metadata": {},
     "output_type": "execute_result"
    }
   ],
   "source": [
    "pipe=r.pipeline()\n",
    "pipe.srem(\"testSets1\", 'A')\n",
    "pipe.sadd(\"testSets1\", 'G')\n",
    "pipe.smembers(\"testSets1\")\n",
    "pipe.execute()"
   ]
  },
  {
   "cell_type": "code",
   "execution_count": 73,
   "metadata": {},
   "outputs": [
    {
     "data": {
      "text/plain": [
       "[1, 1, {b'B', b'C', b'G', b'R'}]"
      ]
     },
     "execution_count": 73,
     "metadata": {},
     "output_type": "execute_result"
    }
   ],
   "source": [
    "r.pipeline().srem(\"testSets2\", 'A').sadd(\"testSets1\", 'R').smembers(\"testSets1\").execute()"
   ]
  },
  {
   "cell_type": "markdown",
   "metadata": {},
   "source": [
    "Если в промежутках необходимо модифицировать какие-то значения, следует использовать следующую конструкцию. В ней `watch` говорит, что мы будем следить за заданным ключем. Команда `multi` говорит о том, что сейчас будет выполняться несколько операций как транзакция. Если значение, связанное с ключем в `watch` изменилось до начала `execute` (выполнение нескольких операций), то будет вызвано исключение."
   ]
  },
  {
   "cell_type": "code",
   "execution_count": 74,
   "metadata": {},
   "outputs": [
    {
     "data": {
      "text/plain": [
       "[True, True]"
      ]
     },
     "execution_count": 74,
     "metadata": {},
     "output_type": "execute_result"
    }
   ],
   "source": [
    "ppp=r.pipeline()\n",
    "ppp.multi()\n",
    "ppp.set(\"dummy1\", \"1\")\n",
    "#ppp.multi()\n",
    "ppp.set(\"dummy2\", \"1\")\n",
    "ppp.execute()"
   ]
  },
  {
   "cell_type": "code",
   "execution_count": 75,
   "metadata": {},
   "outputs": [
    {
     "data": {
      "text/plain": [
       "b'1'"
      ]
     },
     "execution_count": 75,
     "metadata": {},
     "output_type": "execute_result"
    }
   ],
   "source": [
    "r.get(\"dummy1\")"
   ]
  },
  {
   "cell_type": "markdown",
   "metadata": {},
   "source": [
    "Собственно транзакций в Redis не предусмотрено. Вместо этого можно подписаться на изменения какого-то ключа. Если ключ изменился в ходе наших вычислений, значит надо начать операцию заново. Довести операцию до конца получится только если прерывание не произошло, то есть никто не перезаписывал важные для нас данные."
   ]
  },
  {
   "cell_type": "code",
   "execution_count": 76,
   "metadata": {},
   "outputs": [
    {
     "data": {
      "text/plain": [
       "b'2'"
      ]
     },
     "execution_count": 76,
     "metadata": {},
     "output_type": "execute_result"
    }
   ],
   "source": [
    "r.set('OUR-SEQUENCE-KEY', 1)\n",
    "with r.pipeline() as pipe:\n",
    "    while 1:\n",
    "        try:\n",
    "            pipe.watch('OUR-SEQUENCE-KEY')\n",
    "            current_value = pipe.get('OUR-SEQUENCE-KEY')\n",
    "            next_value = int(current_value) + 1\n",
    "            pipe.multi()\n",
    "            pipe.set('OUR-SEQUENCE-KEY', next_value)\n",
    "            pipe.execute()\n",
    "            break\n",
    "        except redis.WatchError:\n",
    "            continue\n",
    "            \n",
    "r.get('OUR-SEQUENCE-KEY')"
   ]
  },
  {
   "cell_type": "markdown",
   "metadata": {},
   "source": [
    "А еще у Redis замечательные [битовые операции](https://blog.getspool.com/2011/11/29/fast-easy-realtime-metrics-using-redis-bitmaps/) и отсортированные списки."
   ]
  },
  {
   "cell_type": "markdown",
   "metadata": {},
   "source": [
    "---"
   ]
  },
  {
   "cell_type": "markdown",
   "metadata": {},
   "source": [
    "## Применение Redis для хранения сложных объектов\n",
    "\n",
    "Наличие хеш-массивов фактически позволяет хранить в базе данных объекты/словари/JSON и обращаться к ним при помощи уникальных ключей. Правда, плохо получается хранить в полях таких объектов массивы других объектов. Традиционно для таких задач склеивают последовательность ключей в один, используя в качестве разделителя двоеточие. Таким образом, вместо того, чтобы хранить список объектов, мы храним много уникальных ключей, которые известным образом можно соотнести с объектами.\n",
    "\n",
    "Попробуем решить следующую задачу.\n",
    "\n",
    "Есть квадратная карта заданного размера. На карте находятся растения, деревья, травоядные и хищники. Необходимо промоделировать поведение системы, обеспечивая обмен данными между частями модели через Redis. "
   ]
  },
  {
   "cell_type": "code",
   "execution_count": 77,
   "metadata": {},
   "outputs": [],
   "source": [
    "import random"
   ]
  },
  {
   "cell_type": "code",
   "execution_count": 78,
   "metadata": {},
   "outputs": [],
   "source": [
    "r = redis.Redis(host='localhost', port=6379, db=0)"
   ]
  },
  {
   "cell_type": "code",
   "execution_count": 79,
   "metadata": {},
   "outputs": [
    {
     "data": {
      "text/plain": [
       "True"
      ]
     },
     "execution_count": 79,
     "metadata": {},
     "output_type": "execute_result"
    }
   ],
   "source": [
    "r.flushdb()"
   ]
  },
  {
   "cell_type": "code",
   "execution_count": 80,
   "metadata": {},
   "outputs": [
    {
     "data": {
      "application/vnd.jupyter.widget-view+json": {
       "model_id": "5ac6eebdd05a458ca09ee5ac29e48e62",
       "version_major": 2,
       "version_minor": 0
      },
      "text/plain": [
       "HTML(value='<table border=\"1\"><tr><td style=\"padding:3px;width:150px;\">worldDescription</td><td style=\"padding…"
      ]
     },
     "metadata": {},
     "output_type": "display_data"
    }
   ],
   "source": [
    "world = {\"sizeX\":50, \"sizeY\":50, \"iniPred\":5, \"iniCarn\":20, \n",
    "         \"lifeExpPred\":10, \"lifeExpPredStd\":3, \"breedPeriodPred\":4, \"lifePredMin\":50, \"lifePredMax\":100,  \n",
    "         \"lifeExpCarn\":10, \"lifeExpCarnStd\":3, \"breedPeriodCarn\":3, \"lifeCarnMin\":50, \"lifeCarnMax\":100, \n",
    "         \"herbCount\":10000, \"treesCount\":500, \n",
    "         \"lifeExpTree\":30, \"lifeExpTreeStd\":5, \"breedPeriodTree\":6}\n",
    "\n",
    "r.hset(\"worldDescription\", mapping=world)\n",
    "show_redis_data(r)"
   ]
  },
  {
   "cell_type": "markdown",
   "metadata": {},
   "source": [
    "У тайлов заводим свойство \"количество растений в тайле\"."
   ]
  },
  {
   "cell_type": "code",
   "execution_count": 81,
   "metadata": {},
   "outputs": [
    {
     "data": {
      "application/vnd.jupyter.widget-view+json": {
       "model_id": "7736b66e757a441798f932441ea581dc",
       "version_major": 2,
       "version_minor": 0
      },
      "text/plain": [
       "HTML(value='<table border=\"1\"><tr><td style=\"padding:3px;width:150px;\">tile:24:21</td><td style=\"padding:3px;w…"
      ]
     },
     "metadata": {},
     "output_type": "display_data"
    }
   ],
   "source": [
    "tile={\"herbs\": 0}\n",
    "for i in range(world[\"sizeY\"]):\n",
    "    for j in range(world[\"sizeX\"]):\n",
    "        r.hset(\"tile:\"+str(i+1)+\":\"+str(j+1), mapping=tile)\n",
    "show_redis_data(r)"
   ]
  },
  {
   "cell_type": "markdown",
   "metadata": {},
   "source": [
    "Раскидываем растения по тайлам, увеличивая число растений в выбранном тайле."
   ]
  },
  {
   "cell_type": "code",
   "execution_count": 82,
   "metadata": {},
   "outputs": [
    {
     "data": {
      "application/vnd.jupyter.widget-view+json": {
       "model_id": "3c5e9067eb1f4427842fb0592c0d2a78",
       "version_major": 2,
       "version_minor": 0
      },
      "text/plain": [
       "HTML(value='<table border=\"1\"><tr><td style=\"padding:3px;width:150px;\">tile:50:36</td><td style=\"padding:3px;w…"
      ]
     },
     "metadata": {},
     "output_type": "display_data"
    }
   ],
   "source": [
    "for i in range(world[\"herbCount\"]):\n",
    "    x=random.randint(1, world[\"sizeX\"])\n",
    "    y=random.randint(1, world[\"sizeY\"])\n",
    "    r.hincrby(\"tile:\"+str(y)+\":\"+str(x), \"herbs\", 1)\n",
    "show_redis_data(r)"
   ]
  },
  {
   "cell_type": "code",
   "execution_count": 83,
   "metadata": {},
   "outputs": [],
   "source": [
    "for i in range(world[\"iniCarn\"]):\n",
    "    g = random.randint(0, 1)\n",
    "    x = random.randint(1, world[\"sizeX\"])\n",
    "    y = random.randint(1, world[\"sizeY\"])\n",
    "    carn={\"x\":str(x), \"y\":str(y), \n",
    "          \"carn_id\":str(ObjectId()), \"carn_age\":0, \"carn_gender\": g,\n",
    "          \"carn_life_exp\": random.randint(world[\"lifeExpCarn\"]-world[\"lifeExpCarnStd\"], world[\"lifeExpCarn\"]+world[\"lifeExpCarnStd\"]), \n",
    "          \"carn_hunger\":0,\n",
    "          \"carn_life\":random.randint(world[\"lifeCarnMin\"], world[\"lifeCarnMax\"])\n",
    "         }\n",
    "    r.lpush(\"tile:\"+str(x)+\":\"+str(y)+\":carns\", carn[\"carn_id\"])\n",
    "    r.hset(\"carn:\"+carn[\"carn_id\"], mapping=carn)\n",
    "    r.lpush(\"carns_id\", carn[\"carn_id\"])"
   ]
  },
  {
   "cell_type": "code",
   "execution_count": 84,
   "metadata": {},
   "outputs": [
    {
     "data": {
      "application/vnd.jupyter.widget-view+json": {
       "model_id": "651a000015c24afea1235375b22a2c15",
       "version_major": 2,
       "version_minor": 0
      },
      "text/plain": [
       "HTML(value='<table border=\"1\"><tr><td style=\"padding:3px;width:150px;\">tile:50:36</td><td style=\"padding:3px;w…"
      ]
     },
     "metadata": {},
     "output_type": "display_data"
    }
   ],
   "source": [
    "for i in range(world[\"iniPred\"]):\n",
    "    x = random.randint(1, world[\"sizeX\"])\n",
    "    y = random.randint(1, world[\"sizeY\"])\n",
    "    g=random.randint(0, 1)\n",
    "    pred={\"x\":str(x), \"y\":str(y), \n",
    "          \"pred_id\":str(ObjectId()), \"pred_age\":0, \"pred_gender\": g,\n",
    "          \"pred_life_exp\": random.randint(world[\"lifeExpPred\"]-world[\"lifeExpPredStd\"], world[\"lifeExpPred\"]+world[\"lifeExpPredStd\"]), \n",
    "          \"pred_hunger\":0,\n",
    "          \"pred_life\":random.randint(world[\"lifePredMin\"], world[\"lifePredMax\"])\n",
    "         }\n",
    "    r.lpush(\"tile:\"+str(x)+\":\"+str(y)+\":preds\", pred[\"pred_id\"])\n",
    "    r.hset(\"pred:\"+pred[\"pred_id\"], mapping=pred)\n",
    "    r.lpush(\"preds_id\", pred[\"pred_id\"])\n",
    "    \n",
    "show_redis_data(r)"
   ]
  },
  {
   "cell_type": "code",
   "execution_count": 85,
   "metadata": {},
   "outputs": [],
   "source": [
    "%matplotlib inline\n",
    "import matplotlib.pyplot as plt\n",
    "\n",
    "plt.style.use('ggplot')\n",
    "#plt.style.use('classic')\n",
    "plt.rcParams['figure.figsize'] = (12, 8)"
   ]
  },
  {
   "cell_type": "code",
   "execution_count": 86,
   "metadata": {},
   "outputs": [],
   "source": [
    "def showIt(field, who, c_len, s):\n",
    "    for i in range(c_len):\n",
    "        c_id = r.rpoplpush(who+\"s_id\", who+\"s_id\").decode()\n",
    "        cx = int(r.hget(who+\":\"+c_id, \"x\"))\n",
    "        cy = int(r.hget(who+\":\"+c_id, \"y\"))\n",
    "        #print(\"pred:\"+p_id, cx, cy)\n",
    "        field[cy-1][cx-1] = s\n",
    "\n",
    "def showField():\n",
    "    sx = int(r.hget(\"worldDescription\", \"sizeX\"))\n",
    "    sy = int(r.hget(\"worldDescription\", \"sizeY\"))\n",
    "    \n",
    "    carn_len=r.llen(\"carns_id\")\n",
    "    pred_len=r.llen(\"preds_id\")\n",
    "    field=[[0 for j in range(sx)] for i in range(sy)]\n",
    "    for i in range(sy):\n",
    "        for j in range(sx):\n",
    "            try:\n",
    "                field[i][j] = int(r.hget(\"tile:\"+str(i+1)+\":\"+str(j+1),\"herbs\"))\n",
    "            except Exception:\n",
    "                print(\"Except:\", i, j, r.hget(\"tile:\"+str(i+1)+\":\"+str(j+1),\"herbs\"))\n",
    "    \n",
    "    \"\"\"for i in range(sx):\n",
    "        for j in range(sy):\n",
    "            herb_cnt=r.hget(\"tile:\"+str(i+1)+\":\"+str(j+1), \"herbs\")\n",
    "            field[i][j]=herb_cnt.decode()\"\"\";\n",
    "    \n",
    "    showIt(field, \"pred\", pred_len, 10)\n",
    "    showIt(field, \"carn\", carn_len, 12)\n",
    "\n",
    "    ax = plt.subplot()\n",
    "    ax.imshow(field);\n",
    "\n",
    "        \n",
    "def moveIt(who, c_id, sx, sy):\n",
    "    #print(who+\":\"+c_id, r.hget(who+\":\"+c_id, \"x\"), r.hget(who+\":\"+c_id, \"y\"))\n",
    "    cx = int(r.hget(who+\":\"+c_id, \"x\"))\n",
    "    cy = int(r.hget(who+\":\"+c_id, \"y\"))\n",
    "    \n",
    "    while True:\n",
    "        _cx=cx+random.randint(-1, 1)\n",
    "        _cy=cy+random.randint(-1, 1)\n",
    "        if _cx>=1 and _cx<=sx and _cy>=1 and _cy<=sy:\n",
    "            break\n",
    "    r.hset(who+\":\"+c_id, \"x\", _cx)\n",
    "    r.hset(who+\":\"+c_id, \"y\", _cy)\n",
    "    r.lrem(\"tile:\"+str(cx)+\":\"+str(cy)+\":\"+who+\"s\", 0, c_id)\n",
    "    r.lpush(\"tile:\"+str(_cx)+\":\"+str(_cy)+\":\"+who+\"s\", c_id)\n",
    "\n",
    "    return cx, cy, _cx, _cy\n",
    "    \n",
    "\n",
    "def moveCarns():\n",
    "    carn_len=r.llen(\"carns_id\")\n",
    "    sx=int(r.hget(\"worldDescription\", \"sizeX\"))\n",
    "    sy=int(r.hget(\"worldDescription\", \"sizeY\"))\n",
    "    \n",
    "    for i in range(carn_len):\n",
    "        c_id=r.rpoplpush(\"carns_id\", \"carns_id\").decode()\n",
    "        cx, cy, _cx, _cy = moveIt(\"carn\", c_id, sx, sy)\n",
    "\n",
    "        h_cnt=int(r.hget(\"tile:\"+str(cy)+\":\"+str(cx), \"herbs\"))\n",
    "        if h_cnt>0:\n",
    "            r.hincrby(\"tile:\"+str(cy)+\":\"+str(cx), \"herbs\", -1)\n",
    "        #print(\"move \", cx, cy, _cx, _cy)\n",
    "\n",
    "def movePreds():\n",
    "    pred_len=r.llen(\"preds_id\")\n",
    "    sx=int(r.hget(\"worldDescription\", \"sizeX\"))\n",
    "    sy=int(r.hget(\"worldDescription\", \"sizeY\"))\n",
    "    for i in range(pred_len):\n",
    "        p_id=r.rpoplpush(\"preds_id\", \"preds_id\").decode()\n",
    "        cx, cy, _cx, _cy = moveIt(\"pred\", p_id, sx, sy)\n",
    "        # Кого-нибудь съесть.\n",
    "\n",
    "        #print(\"move \", cx, cy, _cx, _cy)\n",
    "\n"
   ]
  },
  {
   "cell_type": "code",
   "execution_count": 87,
   "metadata": {},
   "outputs": [
    {
     "data": {
      "text/plain": [
       "5"
      ]
     },
     "execution_count": 87,
     "metadata": {},
     "output_type": "execute_result"
    }
   ],
   "source": [
    "int(r.hget(\"tile:49:4\",\"herbs\"))"
   ]
  },
  {
   "cell_type": "code",
   "execution_count": 88,
   "metadata": {},
   "outputs": [
    {
     "data": {
      "image/png": "[encoded data removed]",
      "text/plain": [
       "<Figure size 864x576 with 1 Axes>"
      ]
     },
     "metadata": {},
     "output_type": "display_data"
    }
   ],
   "source": [
    "showField()"
   ]
  },
  {
   "cell_type": "code",
   "execution_count": 93,
   "metadata": {},
   "outputs": [
    {
     "data": {
      "image/png": "[encoded data removed]",
      "text/plain": [
       "<Figure size 864x576 with 1 Axes>"
      ]
     },
     "metadata": {},
     "output_type": "display_data"
    }
   ],
   "source": [
    "movePreds()\n",
    "moveCarns()\n",
    "showField()"
   ]
  },
  {
   "cell_type": "markdown",
   "metadata": {},
   "source": [
    "---"
   ]
  },
  {
   "cell_type": "markdown",
   "metadata": {},
   "source": [
    "### Применение Redis для выгрузки данных и синхронизации потоков\n",
    "\n",
    "Попробуем выгрузить сайтов Lenta.ru и N+1 с использованием Redis в качестве центральной точки координирующей действия разных потоков работ (возможно, расположенных на разных компьютерах).  \n",
    "У нас будет два потока для параллельного скачивания двух сайтов, один поток для разделения выгруженных текстов на слова, один поток для морфологического анализа, один поток для \"применения\" данных (получить и уничтожить).  \n",
    "Каждый поток при запуске будет регистрироваться как исполнитель по данному виду работ. Далее он будет получать данные при помощи блокирующей операции от предыдущего этапа. Если получение данных не прошло за время таймаута, надо проверить, остались ли работники на предыдущем этапе. Если работников нет, необходимо прекратить свою работу и отчитаться об этом."
   ]
  },
  {
   "cell_type": "code",
   "execution_count": 2,
   "metadata": {},
   "outputs": [],
   "source": [
    "import json\n",
    "import requests\n",
    "import pymorphy2\n",
    "import re\n",
    "from bs4 import BeautifulSoup\n",
    "from lxml import html\n",
    "import multiprocessing"
   ]
  },
  {
   "cell_type": "code",
   "execution_count": 3,
   "metadata": {},
   "outputs": [],
   "source": [
    "# Функция для загрузки одной новости из Ленты.ру\n",
    "# def getLentaArticle(url):\n",
    "#     \"\"\" getLentaArticle gets the body of the article from Lenta.ru\"\"\"\n",
    "#     print(\"downloading lenta:\", url)\n",
    "#     r = requests.get(url)\n",
    "#     p = BeautifulSoup(r.text, \"html5\")(\"p\")\n",
    "#     if len(p) == 0:\n",
    "#         return \"  \"\n",
    "#     p = \" \".join([a.get_text() for a in p])\n",
    "#     return p\n",
    "\n",
    "def getArticleLenta(adr: str) -> str:\n",
    "    ''' Загружает с сайта lenta.ru всю статью, задаваемую http-адресом adr.\n",
    "    '''\n",
    "    page = requests.get(adr)\n",
    "    tree = html.fromstring(page.text)\n",
    "    text = '\\n'.join([p.text_content() for p in tree.xpath(\".//div[@itemprop='articleBody']/p\")])\n",
    "    \n",
    "    return text\n",
    "\n",
    "def getDayArticles(r: redis.Redis, adr: str):\n",
    "    ''' Загружает с сайта lenta.ru все статьи за день, задаваемый http-адресом adr.\n",
    "    '''\n",
    "    print('lenta '+adr)\n",
    "    day = requests.get(adr)\n",
    "    tree = html.fromstring(day.text)\n",
    "    body = tree.xpath(\".//a[@class='titles']\")\n",
    "    links = ['https://lenta.ru' + x.attrib[\"href\"] for x in body]\n",
    "    for link in links[:10]: # идем по первым 10 ссылкам на новости за день.\n",
    "        news = getArticleLenta(link)\n",
    "        if news != '':\n",
    "            r.rpush(\"downloaded news\", news)\n",
    "        time.sleep(0.2)\n",
    "\n",
    "# Функция загрузки одной новости из N+1.\n",
    "def getArticleTextNPlus1(adr):\n",
    "    print(\"downloading nplus1:\", adr)\n",
    "    r = requests.get(adr)\n",
    "    n_text = re.split(\"</div>\", re.split(\"</figure>\", re.split('</article>',re.split('<article', r.text)[1])[0])[1])[1]    \n",
    "    #return BeautifulSoup(n_text, \"lxml\").get_text()\n",
    "    return BeautifulSoup(n_text, \"html5\").get_text()\n",
    "\n",
    "# Загрузка новостей из Ленты.ру за некоторый период.\n",
    "def getLenta():\n",
    "    curdate = datetime.date(2017, 1, 16)\n",
    "    findate = datetime.date(2017, 1, 16)\n",
    "    res = \"\"\n",
    "    \n",
    "    redi = redis.Redis()\n",
    "    redi.incrby(\"downloaders\", 1)\n",
    "\n",
    "# Загружаем новости до конечной даты.\n",
    "    cnt = 0 # Очень скучно ждать, ограничим число новостей.\n",
    "    while curdate <= findate:\n",
    "        print('lenta ' + curdate.strftime('%Y/%m/%d'))\n",
    "        getDayArticles(r, 'https://lenta.ru/news/' + curdate.strftime('%Y/%m/%d'))\n",
    "        curdate += datetime.timedelta(days=1)\n",
    "    redi.incrby(\"downloaders\", -1)\n",
    "    print(\"lenta finished\")\n",
    "\n",
    "# Получаем новости с NPlus1 за заданный промежуток времени, кладем тексты новостей в очередь qu.\n",
    "# По завершении взводим семафор sem.\n",
    "def getNplus1():\n",
    "    curdate = datetime.date(2015, 12, 15)\n",
    "    findate = datetime.date(2015, 12, 19)\n",
    "    \n",
    "    redi = redis.Redis()\n",
    "    redi.incrby(\"downloaders\", 1)\n",
    "    cnt = 0\n",
    "    while curdate <= findate: # Перебираем все дни.\n",
    "        r = requests.get('https://nplus1.ru/news/'+curdate.strftime('%Y/%m/%d'))\n",
    "        print('nplus ' + curdate.strftime('%Y/%m/%d'))\n",
    "        # Берем заголовки и ссылки на новости за этот день.\n",
    "        refs = [re.split('\"', t)[6] for t in re.split('<article class=\"item item-news item-news', r.text)[1:]]\n",
    "        for t in refs:\n",
    "            news = getArticleTextNPlus1(\"https://nplus1.ru\" + t)\n",
    "            if news != \"  \":\n",
    "                redi.rpush(\"downloaded news\", news)\n",
    "            time.sleep(0.2) # Мы этичные хакеры и не стремимся к DDoS.\n",
    "            cnt += 1\n",
    "            if cnt > 10:\n",
    "                break\n",
    "        curdate += datetime.timedelta(days=1)\n",
    "    redi.incrby(\"downloaders\", -1)\n",
    "    print(\"nplus1 finished\")\n",
    "    \n",
    "# Функция токенизирует вход из очереди qu1 и кладет результаты токенизации в очередь qu2.\n",
    "# Токенизация ведется до тех пор, пока семафор semw не будет взведен максимальное количество раз.\n",
    "# По завершении токенизации устанавливаем событие evs.\n",
    "def tokenize():  \n",
    "    redi = redis.Redis()\n",
    "    redi.incrby(\"tokenizers\", 1)\n",
    "    \n",
    "    c = 0\n",
    "    while True: \n",
    "        news = redi.blpop(\"downloaded news\", 1)\n",
    "        if news == None:\n",
    "            nd = redi.get(\"downloaders\")\n",
    "            if int(nd) == 0:\n",
    "                break\n",
    "            else:\n",
    "                continue\n",
    "                \n",
    "        c += 1\n",
    "        print('tokenizer ' + str(c))\n",
    "        res = [n[0] for n in re.findall(\"([А-Яа-я]+(-[А-Яа-я]+)*)\", news[1].decode())]\n",
    "        news = redi.rpush(\"tagged news\", json.dumps(res))\n",
    "        \n",
    "    redi.incrby(\"tokenizers\", -1)\n",
    "    print(\"tokenization finished\")\n",
    "\n",
    "def lemmatize():\n",
    "    redi = redis.Redis()\n",
    "    redi.incrby(\"lemmatizers\", 1)\n",
    "\n",
    "    morpho = pymorphy2.MorphAnalyzer() # Создаем морфоанализатор.\n",
    "    l = []\n",
    "    c = 0\n",
    "    while True: # Если событие установлено - пора завершать работу.\n",
    "        news = redi.blpop(\"tagged news\", 1)\n",
    "        if news == None:\n",
    "            nd = redi.get(\"tokenizers\")\n",
    "            if int(nd) == 0:\n",
    "                break\n",
    "            else:\n",
    "                continue\n",
    "\n",
    "        # blpop возвращает пару: имя списка, значение.\n",
    "        txt = json.loads(news[1].decode())\n",
    "        s = []\n",
    "        for w in txt:\n",
    "            s += morpho.parse(w)[0]\n",
    "            \n",
    "        res = json.dumps(str(s))\n",
    "        redi.rpush(\"lemmatized news\", res)\n",
    "        c += 1\n",
    "        print('lemma', c)\n",
    "    redi.incrby(\"lemmatizers\", -1)\n",
    "    print(\"lemmatization finished\")\n",
    "\n",
    "# Функция имитирует, что она обрабатывает данные из очереди qu. Заершает работу по событию ev.    \n",
    "def utilize():\n",
    "    redi = redis.Redis()\n",
    "\n",
    "    c = 0\n",
    "    while True: # Если событие установлено - пора завершать работу.\n",
    "        news = redi.blpop(\"lemmatized news\", 1)\n",
    "        if news == None:\n",
    "            nd = redi.get(\"lemmatizers\")\n",
    "            if int(nd) == 0:\n",
    "                break\n",
    "            else:\n",
    "                continue\n",
    "                \n",
    "        #processing\n",
    "        c += 1\n",
    "        print('process', c)\n",
    "    print('processing finished')\n"
   ]
  },
  {
   "cell_type": "code",
   "execution_count": 4,
   "metadata": {},
   "outputs": [],
   "source": [
    "r = redis.Redis()"
   ]
  },
  {
   "cell_type": "code",
   "execution_count": 5,
   "metadata": {},
   "outputs": [
    {
     "data": {
      "text/plain": [
       "True"
      ]
     },
     "execution_count": 5,
     "metadata": {},
     "output_type": "execute_result"
    }
   ],
   "source": [
    "r.flushdb()"
   ]
  },
  {
   "cell_type": "code",
   "execution_count": 9,
   "metadata": {},
   "outputs": [
    {
     "name": "stdout",
     "output_type": "stream",
     "text": [
      "lenta 2017/01/16\n",
      "lenta https://lenta.ru/news/2017/01/16\n",
      "nplus 2015/12/15\n",
      "downloading nplus1: https://nplus1.ru/news/2015/12/15/tastelikehumanist\n",
      "tokenizer 1\n"
     ]
    },
    {
     "data": {
      "application/vnd.jupyter.widget-view+json": {
       "model_id": "49dd1b29e13141b4ad4ef1adb9cab292",
       "version_major": 2,
       "version_minor": 0
      },
      "text/plain": [
       "HTML(value='<table border=\"1\"><tr><td style=\"padding:3px;width:150px;\">tokenizers</td><td style=\"padding:3px;w…"
      ]
     },
     "metadata": {},
     "output_type": "display_data"
    },
    {
     "name": "stdout",
     "output_type": "stream",
     "text": [
      "lemmaprocess  11\n",
      "\n",
      "tokenizer 2\n",
      "lemmaprocess  22\n",
      "\n",
      "downloading nplus1: https://nplus1.ru/news/2015/12/15/soyuz-19m-success\n",
      "tokenizer 3\n",
      "processlemma  3\n",
      "3\n",
      "downloading nplus1: https://nplus1.ru/news/2015/12/15/new-particle\n",
      "tokenizer 4\n",
      "processlemma  4\n",
      "4\n",
      "tokenizer 5\n",
      "lemmaprocess  55\n",
      "\n",
      "downloading nplus1: https://nplus1.ru/news/2015/12/15/ocean-xprize\n",
      "tokenizer 6\n",
      "processlemma 6 \n",
      "6\n",
      "tokenizer 7\n",
      "processlemma  77\n",
      "\n",
      "downloading nplus1: https://nplus1.ru/news/2015/12/15/amegilla\n",
      "tokenizer 8\n",
      "lemmaprocess 8 8\n",
      "\n",
      "tokenizer 9\n",
      "lemmaprocess  99\n",
      "\n",
      "downloading nplus1: https://nplus1.ru/news/2015/12/15/veggie\n",
      "tokenizer 10\n",
      "lemmaprocess  1010\n",
      "\n",
      "tokenizer 11\n",
      "processlemma  1111\n",
      "\n",
      "downloading nplus1: https://nplus1.ru/news/2015/12/15/saar\n",
      "tokenizer 12\n",
      "lemmaprocess  1212\n",
      "\n",
      "downloading nplus1: https://nplus1.ru/news/2015/12/15/lemurvocalisation\n",
      "tokenizer 13\n",
      "lemmaprocess  1313\n",
      "\n",
      "tokenizer 14\n",
      "lemmaprocess  1414\n",
      "\n",
      "downloading nplus1: https://nplus1.ru/news/2015/12/15/engine\n",
      "tokenizer 15\n",
      "lemmaprocess  1515\n",
      "\n",
      "tokenizer 16\n",
      "processlemma  1616\n",
      "\n",
      "downloading nplus1: https://nplus1.ru/news/2015/12/15/Putin-gait\n",
      "tokenizer 17\n",
      "processlemma  1717\n",
      "\n",
      "tokenizer 18\n",
      "downloading nplus1: https://nplus1.ru/news/2015/12/15/rescue\n",
      "processlemma  1818\n",
      "\n",
      "tokenizer 19\n",
      "processlemma  1919\n",
      "\n",
      "nplus 2015/12/16\n",
      "downloading nplus1: https://nplus1.ru/news/2015/12/16/sexylips\n",
      "tokenizer 20\n",
      "lemmaprocess  2020\n",
      "\n",
      "tokenizer 21\n",
      "lemmaprocess  21\n",
      "21\n",
      "tokenizer 22\n",
      "nplus 2015/12/17\n",
      "downloading nplus1: https://nplus1.ru/news/2015/12/17/notthesame\n",
      "processlemma 22 \n",
      "22\n",
      "lenta finished\n",
      "tokenizer 23\n",
      "lemmaprocess  2323\n",
      "\n",
      "nplus 2015/12/18\n",
      "downloading nplus1: https://nplus1.ru/news/2015/12/18/ding-ding-don\n",
      "tokenizer 24\n",
      "lemmaprocess  2424\n",
      "\n",
      "nplus 2015/12/19\n",
      "downloading nplus1: https://nplus1.ru/news/2015/12/19/cart-walkies\n",
      "tokenizer 25\n",
      "lemmaprocess  25\n",
      "25\n",
      "nplus1 finished\n",
      "tokenization finished\n",
      "lemmatization finished\n",
      "processing finished\n"
     ]
    }
   ],
   "source": [
    "r.set('downloaders', 0)\n",
    "r.set('tokenizers', 0)\n",
    "r.set('lemmatizers', 0)\n",
    "\n",
    "lentap = multiprocessing.Process(target=getLenta)\n",
    "nplusp = multiprocessing.Process(target=getNplus1)  \n",
    "tokenp = multiprocessing.Process(target=tokenize)   \n",
    "lemmap = multiprocessing.Process(target=lemmatize)   \n",
    "processp = multiprocessing.Process(target=utilize)    \n",
    "\n",
    "\n",
    "# Стартуем процессы    \n",
    "lentap.start()\n",
    "nplusp.start()\n",
    "time.sleep(0.1)\n",
    "tokenp.start()\n",
    "time.sleep(0.1)\n",
    "lemmap.start()\n",
    "time.sleep(0.1)\n",
    "processp.start()\n",
    "show_redis_data(r)\n",
    "\n",
    "# Если надо - ждем пока процессы не завершатся.\n",
    "#lentap.join()\n",
    "#nplusp.join()\n",
    "#tokenp.join()\n",
    "#lemmap.join()\n",
    "#processp.join()\n",
    "#print(\"Everything is allright\")                               \n",
    "                               "
   ]
  },
  {
   "cell_type": "code",
   "execution_count": 10,
   "metadata": {},
   "outputs": [
    {
     "data": {
      "application/vnd.jupyter.widget-view+json": {
       "model_id": "e181d433a1e24ae2a0732d9e71ac29f6",
       "version_major": 2,
       "version_minor": 0
      },
      "text/plain": [
       "HTML(value='<table border=\"1\"><tr><td style=\"padding:3px;width:150px;\">tokenizers</td><td style=\"padding:3px;w…"
      ]
     },
     "metadata": {},
     "output_type": "display_data"
    }
   ],
   "source": [
    "show_redis_data(r)"
   ]
  },
  {
   "cell_type": "code",
   "execution_count": null,
   "metadata": {},
   "outputs": [],
   "source": []
  }
 ],
 "metadata": {
  "kernelspec": {
   "display_name": "Python 3 (ipykernel)",
   "language": "python",
   "name": "python3"
  },
  "language_info": {
   "codemirror_mode": {
    "name": "ipython",
    "version": 3
   },
   "file_extension": ".py",
   "mimetype": "text/x-python",
   "name": "python",
   "nbconvert_exporter": "python",
   "pygments_lexer": "ipython3",
   "version": "3.9.5"
  }
 },
 "nbformat": 4,
 "nbformat_minor": 2
}
