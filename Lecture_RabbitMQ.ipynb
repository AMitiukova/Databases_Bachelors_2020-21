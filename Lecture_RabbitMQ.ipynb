{
 "cells": [
  {
   "cell_type": "markdown",
   "metadata": {},
   "source": [
    "Идея состоит в том, что надо показать как файл из S3-хранилища сам перейдет в колоночную базу с SQL-интерфейсом.\n",
    "\n",
    "Ещё надо показать как можно работать с ним через http-интерфейс.\n",
    "\n"
   ]
  },
  {
   "cell_type": "code",
   "execution_count": 1,
   "metadata": {},
   "outputs": [],
   "source": [
    "import pika\n",
    "import threading\n",
    "import time"
   ]
  },
  {
   "cell_type": "code",
   "execution_count": 2,
   "metadata": {},
   "outputs": [],
   "source": [
    "con_par = pika.ConnectionParameters('127.0.0.1', 5672)\n",
    "connection1 = pika.BlockingConnection(con_par)\n",
    "channel1 = connection1.channel()\n",
    "connection2 = pika.BlockingConnection(con_par)\n",
    "channel2 = connection2.channel()"
   ]
  },
  {
   "cell_type": "code",
   "execution_count": 3,
   "metadata": {},
   "outputs": [
    {
     "data": {
      "text/plain": [
       "<METHOD(['channel_number=1', 'frame_type=1', \"method=<Queue.DeclareOk(['consumer_count=0', 'message_count=0', 'queue=hello'])>\"])>"
      ]
     },
     "execution_count": 3,
     "metadata": {},
     "output_type": "execute_result"
    }
   ],
   "source": [
    "channel1.queue_declare(queue='hello')"
   ]
  },
  {
   "cell_type": "code",
   "execution_count": 4,
   "metadata": {},
   "outputs": [],
   "source": [
    "channel1.basic_publish(exchange='',\n",
    "                       routing_key='hello',\n",
    "                       body='Hello World!')"
   ]
  },
  {
   "cell_type": "code",
   "execution_count": 5,
   "metadata": {},
   "outputs": [
    {
     "name": "stdout",
     "output_type": "stream",
     "text": [
      "next one\n",
      "next one\n"
     ]
    }
   ],
   "source": [
    "def generate_messages():\n",
    "    for i in range(10):\n",
    "        channel1.basic_publish(exchange='',\n",
    "                          routing_key='hello',\n",
    "                          body='Hello World!')\n",
    "        print(\"next one\")\n",
    "        time.sleep(1)\n",
    "    \n",
    "thr = threading.Thread(target=generate_messages)\n",
    "thr.start()"
   ]
  },
  {
   "cell_type": "code",
   "execution_count": 6,
   "metadata": {},
   "outputs": [
    {
     "name": "stdout",
     "output_type": "stream",
     "text": [
      " [x] Received b'Hello World!'\n",
      " [x] Received b'Hello World!'\n",
      " [x] Received b'Hello World!'\n",
      "next one\n",
      " [x] Received b'Hello World!'\n",
      "next one\n",
      " [x] Received b'Hello World!'\n",
      "next one\n",
      " [x] Received b'Hello World!'\n",
      "next one\n",
      " [x] Received b'Hello World!'\n",
      "next one\n",
      " [x] Received b'Hello World!'\n",
      "next one\n",
      " [x] Received b'Hello World!'\n"
     ]
    }
   ],
   "source": [
    "messages = 0\n",
    "\n",
    "def callback(ch, method, properties, body):\n",
    "    global messages\n",
    "    messages += 1\n",
    "    print(\" [x] Received %r\" % body)\n",
    "    \n",
    "def consume_messages(channel):\n",
    "    channel.basic_consume(queue='hello',\n",
    "                          auto_ack=True,\n",
    "                          on_message_callback=callback)\n",
    "    channel.start_consuming()\n",
    "    \n",
    "thr1 = threading.Thread(target=consume_messages, args=([channel2]))\n",
    "thr1.start()"
   ]
  },
  {
   "cell_type": "code",
   "execution_count": 6,
   "metadata": {},
   "outputs": [
    {
     "name": "stdout",
     "output_type": "stream",
     "text": [
      "b'Hello World!'\n"
     ]
    }
   ],
   "source": [
    "method_frame, header_frame, body = channel2.basic_get('hello')\n",
    "print(body)"
   ]
  },
  {
   "cell_type": "code",
   "execution_count": 7,
   "metadata": {},
   "outputs": [],
   "source": [
    "connection1.close()\n",
    "connection2.close()\n"
   ]
  },
  {
   "cell_type": "code",
   "execution_count": null,
   "metadata": {},
   "outputs": [],
   "source": []
  },
  {
   "cell_type": "code",
   "execution_count": null,
   "metadata": {},
   "outputs": [],
   "source": []
  },
  {
   "cell_type": "code",
   "execution_count": null,
   "metadata": {},
   "outputs": [],
   "source": []
  },
  {
   "cell_type": "code",
   "execution_count": 2,
   "metadata": {},
   "outputs": [],
   "source": [
    "import requests\n",
    "import re\n",
    "from bs4 import BeautifulSoup\n",
    "import datetime\n",
    "import time\n",
    "import io\n",
    "from minio import Minio"
   ]
  },
  {
   "cell_type": "code",
   "execution_count": 47,
   "metadata": {},
   "outputs": [],
   "source": [
    "minioClient = Minio('localhost:9000',\n",
    "                  access_key='12345678',\n",
    "                  secret_key='12345678', secure=False)\n",
    "\n",
    "con_par_writer = pika.ConnectionParameters('127.0.0.1', 5672)\n",
    "connection_writer = pika.BlockingConnection(con_par_writer)\n",
    "channel_writer = connection_writer.channel()"
   ]
  },
  {
   "cell_type": "code",
   "execution_count": 48,
   "metadata": {},
   "outputs": [
    {
     "data": {
      "text/plain": [
       "<METHOD(['channel_number=1', 'frame_type=1', \"method=<Queue.DeclareOk(['consumer_count=0', 'message_count=0', 'queue=lentaq'])>\"])>"
      ]
     },
     "execution_count": 48,
     "metadata": {},
     "output_type": "execute_result"
    }
   ],
   "source": [
    "channel_writer.queue_declare(queue='lentaq')"
   ]
  },
  {
   "cell_type": "code",
   "execution_count": 49,
   "metadata": {},
   "outputs": [],
   "source": [
    "# Функция для загрузки одной новости из Ленты.ру\n",
    "def getLentaArticle(url):\n",
    "    \"\"\" getLentaArticle gets the body of the article from Lenta.ru\"\"\"\n",
    "    print(\"downloading lenta:\", url)\n",
    "    r = requests.get(url)\n",
    "    p = BeautifulSoup(r.text, \"html5\")(\"p\")\n",
    "    if len(p) == 0:\n",
    "        return \"  \"\n",
    "    p = \" \".join([a.get_text() for a in p])\n",
    "    return p\n",
    "\n",
    "# Загрузка новостей из Ленты.ру за некоторый период.\n",
    "def getLenta():\n",
    "    curdate = datetime.date(2017, 1, 16)\n",
    "    findate = datetime.date(2017, 1, 16)\n",
    "    res = \"\"\n",
    "    \n",
    "    fileno = 1\n",
    "# Загружаем новости до конечной даты.\n",
    "    while curdate <= findate:\n",
    "        print('lenta ' + curdate.strftime('%Y/%m/%d'))\n",
    "        day = requests.get('https://lenta.ru/news/' + curdate.strftime('%Y/%m/%d'))\n",
    "        body = re.findall('<h3>(.+?)</h3>', day.text)\n",
    "        links = ['https://lenta.ru' + re.findall('\"(.+?)\"', x)[0] for x in body]\n",
    "        for l in links: # идем по всем ссылкам на новости за день.\n",
    "            news = getLentaArticle(l)\n",
    "            if news != \"  \":\n",
    "                # Преобразуем текст к набору байт.\n",
    "                news = news.encode()\n",
    "                news_len = len(news)\n",
    "                f = io.BytesIO(news)\n",
    "                # Кладем их в Minio.\n",
    "                filename = f\"lenta{curdate.strftime('%Y_%m_%d')}_{fileno}.txt\"\n",
    "                minioClient.put_object('lenta', filename, f, news_len, content_type='text/plain')\n",
    "                fileno += 1\n",
    "                # Сообщение добавляем в RabbitMQ.\n",
    "                channel_writer.basic_publish(exchange='', routing_key='lentaq', body=filename)\n",
    "                if fileno>10:\n",
    "                    break\n",
    "            time.sleep(0.2)\n",
    "        curdate += datetime.timedelta(days=1)\n",
    "    print(\"lenta finished\")\n"
   ]
  },
  {
   "cell_type": "code",
   "execution_count": 50,
   "metadata": {},
   "outputs": [
    {
     "name": "stdout",
     "output_type": "stream",
     "text": [
      "lenta 2017/01/16\n",
      "downloading lenta: https://lenta.ru/news/2017/01/16/apollo/\n",
      "downloading lenta: https://lenta.ru/news/2017/01/16/kadyrov/\n",
      "downloading lenta: https://lenta.ru/news/2017/01/16/trump2/\n",
      "downloading lenta: https://lenta.ru/news/2017/01/16/accordion/\n",
      "downloading lenta: https://lenta.ru/news/2017/01/16/trump3/\n",
      "downloading lenta: https://lenta.ru/news/2017/01/16/bishkek4/\n",
      "downloading lenta: https://lenta.ru/news/2017/01/16/bishkek5/\n",
      "downloading lenta: https://lenta.ru/news/2017/01/16/realsevilla/\n",
      "downloading lenta: https://lenta.ru/news/2017/01/16/safetymoscow/\n",
      "downloading lenta: https://lenta.ru/news/2017/01/16/vertols/\n",
      "lenta finished\n"
     ]
    }
   ],
   "source": [
    "getLenta()"
   ]
  },
  {
   "cell_type": "code",
   "execution_count": null,
   "metadata": {},
   "outputs": [],
   "source": []
  },
  {
   "cell_type": "code",
   "execution_count": null,
   "metadata": {},
   "outputs": [],
   "source": []
  },
  {
   "cell_type": "code",
   "execution_count": 51,
   "metadata": {},
   "outputs": [],
   "source": [
    "def consume_lenta(ch, method, properties, body):\n",
    "    print(body)\n",
    "    file_obj = minioClient2.get_object('lenta', body)\n",
    "    print(file_obj.data.decode()[:100])\n",
    "    \n",
    "\n",
    "con_par_consume = pika.ConnectionParameters('127.0.0.1', 5672)\n",
    "connection_consume = pika.BlockingConnection(con_par_consume)\n",
    "channel_consume = connection_consume.channel()\n",
    "channel_consume.basic_consume(queue='lentaq',\n",
    "                              auto_ack=True,\n",
    "                              on_message_callback=consume_lenta)\n",
    "\n",
    "minioClient2 = Minio('localhost:9000',\n",
    "                     access_key='12345678',\n",
    "                     secret_key='12345678', secure=False)\n"
   ]
  },
  {
   "cell_type": "code",
   "execution_count": 54,
   "metadata": {},
   "outputs": [],
   "source": [
    "try:\n",
    "    channel_consume.start_consuming()\n",
    "except KeyboardInterrupt:\n",
    "    channel_consume.stop_consuming()\n"
   ]
  },
  {
   "cell_type": "code",
   "execution_count": 53,
   "metadata": {},
   "outputs": [
    {
     "data": {
      "text/plain": [
       "(None, None, None)"
      ]
     },
     "execution_count": 53,
     "metadata": {},
     "output_type": "execute_result"
    }
   ],
   "source": [
    "channel_consume.basic_get('lentaq')"
   ]
  },
  {
   "cell_type": "code",
   "execution_count": null,
   "metadata": {},
   "outputs": [],
   "source": []
  }
 ],
 "metadata": {
  "kernelspec": {
   "display_name": "Python 3",
   "language": "python",
   "name": "python3"
  },
  "language_info": {
   "codemirror_mode": {
    "name": "ipython",
    "version": 3
   },
   "file_extension": ".py",
   "mimetype": "text/x-python",
   "name": "python",
   "nbconvert_exporter": "python",
   "pygments_lexer": "ipython3",
   "version": "3.6.9"
  }
 },
 "nbformat": 4,
 "nbformat_minor": 4
}
