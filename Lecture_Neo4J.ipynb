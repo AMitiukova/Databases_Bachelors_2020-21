{
 "cells": [
  {
   "cell_type": "markdown",
   "metadata": {},
   "source": [
    "# Графовая база данных Neo4J"
   ]
  },
  {
   "cell_type": "markdown",
   "metadata": {},
   "source": [
    "Для написания запросов используется язык [Cypher](https://neo4j.com/developer/cypher/intro-cypher/). Толковое введение на русском есть [здесь](https://habr.com/ru/post/482418/).\n",
    "\n",
    "Для того, чтобы не играть на локальной машине, не мучиться с docker или установкой, можно использовать [песочницу Neo4J](https://sandbox.neo4j.com/). В ней уже имеются некоторые интересные наборы данных, с которыми можно поиграть, но при желании можно создать пустой проект и самостоятельно положить у него данные.\n",
    "\n",
    "При создании базы очень важно скопировать информацию о подключении, так как потом ее сложно добыть обратно.\n",
    "\n",
    "Для работы с Neo4J из Python необходимо установить соответствующую библиотеку: `pip install neo4j-driver`. Мы подключаемся используя базовую аутентификацию, но при желании ее можно отключить вовсе (если ваша база находится во внутренней сети и вы ничего не боитесь).\n",
    "\n",
    "Подключимся к базе, используя установленную библиотеку.\n"
   ]
  },
  {
   "cell_type": "code",
   "execution_count": 1,
   "metadata": {},
   "outputs": [],
   "source": [
    "# pip install neo4j-driver\n",
    "\n",
    "from neo4j import GraphDatabase, basic_auth\n",
    "\n",
    "driver = GraphDatabase.driver(\n",
    "    \"bolt://54.237.90.173:33444\", \n",
    "    auth=basic_auth(\"neo4j\", \"lockers-label-soldiers\"))\n",
    "session = driver.session()"
   ]
  },
  {
   "cell_type": "markdown",
   "metadata": {},
   "source": [
    "Теперь при помощи объекта session мы можем отправить к базе данных запрос. Пусть мы хотим посмотреть метки первых десяти вершин в базе."
   ]
  },
  {
   "cell_type": "code",
   "execution_count": 3,
   "metadata": {},
   "outputs": [
    {
     "name": "stdout",
     "output_type": "stream",
     "text": [
      "['User', 'Troll']\n",
      "['User', 'Troll']\n",
      "['User', 'Troll']\n",
      "['User', 'Troll']\n",
      "['User', 'Troll']\n",
      "['User', 'Troll']\n",
      "['User', 'Troll']\n",
      "['User', 'Troll']\n",
      "['User', 'Troll']\n",
      "['User', 'Troll']\n"
     ]
    }
   ],
   "source": [
    "cypher_query = '''\n",
    "MATCH (n)\n",
    "RETURN labels(n) AS id\n",
    "LIMIT 10\n",
    "'''\n",
    "\n",
    "results = session.run(cypher_query,\n",
    "  parameters={})\n",
    "\n",
    "for record in results:\n",
    "  print(record['id'])"
   ]
  },
  {
   "cell_type": "markdown",
   "metadata": {},
   "source": [
    "Посмотрим на связи, которые хранятся в базе."
   ]
  },
  {
   "cell_type": "code",
   "execution_count": 23,
   "metadata": {},
   "outputs": [
    {
     "name": "stdout",
     "output_type": "stream",
     "text": [
      "#Ezekiel2517✨... <Relationship id=200464 nodes=(<Node id=0 labels=frozenset({'Troll', 'User'}) properties={'friends_count': 1055, 'listed_count': 35, 'favourites_count': 2774, 'verified': False, 'description': 'CELEBRITY TRAINER ✨#424W147th✨ #CrossfitCoach #NSCA #IRepresentIntellectualViolence...Robinson Cano,Ice T,Missy Elliott, #EaglesDontFlyInFlocks...', 'created_at': 'Tue Dec 29 23:15:22 +0000 2009', 'user_key': 'scottgohard', 'time_zone': '', 'screen_name': 'SCOTTGOHARD', 'statuses_count': 31858, 'followers_count': 1053, 'name': '#Ezekiel2517✨...', 'location': 'still ⬆️Block⤵️Corner⬇️street', 'id': '100345056', 'lang': 'en'}>, <Node id=200713 labels=frozenset({'Tweet'}) properties={'created_at': 1471031840000, 'favorite_count': 0, 'text': 'Salute brother @iJesseWilliams  https://t.co/7GLK7tZ95m', 'created_str': '2016-08-12 19:57:20', 'id': '764189043152199680', 'retweet_count': 0, 'retweeted': False}>) type='POSTED' properties={}>\n",
      "#Ezekiel2517✨... <Relationship id=196310 nodes=(<Node id=0 labels=frozenset({'Troll', 'User'}) properties={'friends_count': 1055, 'listed_count': 35, 'favourites_count': 2774, 'verified': False, 'description': 'CELEBRITY TRAINER ✨#424W147th✨ #CrossfitCoach #NSCA #IRepresentIntellectualViolence...Robinson Cano,Ice T,Missy Elliott, #EaglesDontFlyInFlocks...', 'created_at': 'Tue Dec 29 23:15:22 +0000 2009', 'user_key': 'scottgohard', 'time_zone': '', 'screen_name': 'SCOTTGOHARD', 'statuses_count': 31858, 'followers_count': 1053, 'name': '#Ezekiel2517✨...', 'location': 'still ⬆️Block⤵️Corner⬇️street', 'id': '100345056', 'lang': 'en'}>, <Node id=196577 labels=frozenset({'Tweet'}) properties={'created_at': 1473861233000, 'favorite_count': 0, 'text': 'facts https://t.co/OuTm9AdMp3', 'created_str': '2016-09-14 13:53:53', 'id': '776056376414068738', 'retweet_count': 0, 'retweeted': False}>) type='POSTED' properties={}>\n",
      "#Ezekiel2517✨... <Relationship id=192485 nodes=(<Node id=0 labels=frozenset({'Troll', 'User'}) properties={'friends_count': 1055, 'listed_count': 35, 'favourites_count': 2774, 'verified': False, 'description': 'CELEBRITY TRAINER ✨#424W147th✨ #CrossfitCoach #NSCA #IRepresentIntellectualViolence...Robinson Cano,Ice T,Missy Elliott, #EaglesDontFlyInFlocks...', 'created_at': 'Tue Dec 29 23:15:22 +0000 2009', 'user_key': 'scottgohard', 'time_zone': '', 'screen_name': 'SCOTTGOHARD', 'statuses_count': 31858, 'followers_count': 1053, 'name': '#Ezekiel2517✨...', 'location': 'still ⬆️Block⤵️Corner⬇️street', 'id': '100345056', 'lang': 'en'}>, <Node id=192760 labels=frozenset({'Tweet'}) properties={'created_at': 1475951149000, 'favorite_count': 0, 'text': '@eddiebellz not \"mutt\" @realDonaldTrump', 'created_str': '2016-10-08 18:25:49', 'id': '784822121818185728', 'retweet_count': 0, 'retweeted': False}>) type='POSTED' properties={}>\n",
      "#Ezekiel2517✨... <Relationship id=192382 nodes=(<Node id=0 labels=frozenset({'Troll', 'User'}) properties={'friends_count': 1055, 'listed_count': 35, 'favourites_count': 2774, 'verified': False, 'description': 'CELEBRITY TRAINER ✨#424W147th✨ #CrossfitCoach #NSCA #IRepresentIntellectualViolence...Robinson Cano,Ice T,Missy Elliott, #EaglesDontFlyInFlocks...', 'created_at': 'Tue Dec 29 23:15:22 +0000 2009', 'user_key': 'scottgohard', 'time_zone': '', 'screen_name': 'SCOTTGOHARD', 'statuses_count': 31858, 'followers_count': 1053, 'name': '#Ezekiel2517✨...', 'location': 'still ⬆️Block⤵️Corner⬇️street', 'id': '100345056', 'lang': 'en'}>, <Node id=192657 labels=frozenset({'Tweet'}) properties={'created_str': '', 'id': '780602260401299456', 'text': ''}>) type='POSTED' properties={}>\n",
      "#Ezekiel2517✨... <Relationship id=191280 nodes=(<Node id=0 labels=frozenset({'Troll', 'User'}) properties={'friends_count': 1055, 'listed_count': 35, 'favourites_count': 2774, 'verified': False, 'description': 'CELEBRITY TRAINER ✨#424W147th✨ #CrossfitCoach #NSCA #IRepresentIntellectualViolence...Robinson Cano,Ice T,Missy Elliott, #EaglesDontFlyInFlocks...', 'created_at': 'Tue Dec 29 23:15:22 +0000 2009', 'user_key': 'scottgohard', 'time_zone': '', 'screen_name': 'SCOTTGOHARD', 'statuses_count': 31858, 'followers_count': 1053, 'name': '#Ezekiel2517✨...', 'location': 'still ⬆️Block⤵️Corner⬇️street', 'id': '100345056', 'lang': 'en'}>, <Node id=191542 labels=frozenset({'Tweet'}) properties={'created_at': 1477437484000, 'favorite_count': 0, 'text': 'RT @JohnSmithChgo: @AwooMAGA @kushkandy95 @PWM62 @Itsme060602 @jsavite \\n\\nTrump has retweeted white supremacists 75 times.\\nhttps://t.co/CMd5…', 'created_str': '2016-10-25 23:18:04', 'id': '791056262343655425', 'retweet_count': 0, 'retweeted': False}>) type='POSTED' properties={}>\n",
      "#Ezekiel2517✨... <Relationship id=182023 nodes=(<Node id=0 labels=frozenset({'Troll', 'User'}) properties={'friends_count': 1055, 'listed_count': 35, 'favourites_count': 2774, 'verified': False, 'description': 'CELEBRITY TRAINER ✨#424W147th✨ #CrossfitCoach #NSCA #IRepresentIntellectualViolence...Robinson Cano,Ice T,Missy Elliott, #EaglesDontFlyInFlocks...', 'created_at': 'Tue Dec 29 23:15:22 +0000 2009', 'user_key': 'scottgohard', 'time_zone': '', 'screen_name': 'SCOTTGOHARD', 'statuses_count': 31858, 'followers_count': 1053, 'name': '#Ezekiel2517✨...', 'location': 'still ⬆️Block⤵️Corner⬇️street', 'id': '100345056', 'lang': 'en'}>, <Node id=182306 labels=frozenset({'Tweet'}) properties={'created_at': 1471049968000, 'favorite_count': 0, 'text': '@realDonaldTrump bruh its almost over all they gotta do is throw dirt on you...with that shit you shoveling https://t.co/nyUc6eMWWl', 'created_str': '2016-08-13 00:59:28', 'id': '764265076907970561', 'retweet_count': 0, 'retweeted': False}>) type='POSTED' properties={}>\n",
      "#Ezekiel2517✨... <Relationship id=176774 nodes=(<Node id=0 labels=frozenset({'Troll', 'User'}) properties={'friends_count': 1055, 'listed_count': 35, 'favourites_count': 2774, 'verified': False, 'description': 'CELEBRITY TRAINER ✨#424W147th✨ #CrossfitCoach #NSCA #IRepresentIntellectualViolence...Robinson Cano,Ice T,Missy Elliott, #EaglesDontFlyInFlocks...', 'created_at': 'Tue Dec 29 23:15:22 +0000 2009', 'user_key': 'scottgohard', 'time_zone': '', 'screen_name': 'SCOTTGOHARD', 'statuses_count': 31858, 'followers_count': 1053, 'name': '#Ezekiel2517✨...', 'location': 'still ⬆️Block⤵️Corner⬇️street', 'id': '100345056', 'lang': 'en'}>, <Node id=177086 labels=frozenset({'Tweet'}) properties={'created_at': 1479651208000, 'favorite_count': 0, 'text': '\"siri...what is Isis?...ooooh this is a blackberry\" @realDonaldTrump https://t.co/nJgka9IBMt bwaaaahaaaaaa', 'created_str': '2016-11-20 14:13:28', 'id': '800341291909386240', 'retweet_count': 0, 'retweeted': False}>) type='POSTED' properties={}>\n",
      "#Ezekiel2517✨... <Relationship id=171756 nodes=(<Node id=0 labels=frozenset({'Troll', 'User'}) properties={'friends_count': 1055, 'listed_count': 35, 'favourites_count': 2774, 'verified': False, 'description': 'CELEBRITY TRAINER ✨#424W147th✨ #CrossfitCoach #NSCA #IRepresentIntellectualViolence...Robinson Cano,Ice T,Missy Elliott, #EaglesDontFlyInFlocks...', 'created_at': 'Tue Dec 29 23:15:22 +0000 2009', 'user_key': 'scottgohard', 'time_zone': '', 'screen_name': 'SCOTTGOHARD', 'statuses_count': 31858, 'followers_count': 1053, 'name': '#Ezekiel2517✨...', 'location': 'still ⬆️Block⤵️Corner⬇️street', 'id': '100345056', 'lang': 'en'}>, <Node id=172070 labels=frozenset({'Tweet'}) properties={'created_at': 1477508444000, 'favorite_count': 0, 'text': 'hey @realDonaldTrump ya mutt...ya gump whoever destroyed your star deserves a star...#WalkOfShame https://t.co/VApnOV0juo', 'created_str': '2016-10-26 19:00:44', 'id': '791353888167321600', 'retweet_count': 0, 'retweeted': False}>) type='POSTED' properties={}>\n",
      "#Ezekiel2517✨... <Relationship id=169872 nodes=(<Node id=0 labels=frozenset({'Troll', 'User'}) properties={'friends_count': 1055, 'listed_count': 35, 'favourites_count': 2774, 'verified': False, 'description': 'CELEBRITY TRAINER ✨#424W147th✨ #CrossfitCoach #NSCA #IRepresentIntellectualViolence...Robinson Cano,Ice T,Missy Elliott, #EaglesDontFlyInFlocks...', 'created_at': 'Tue Dec 29 23:15:22 +0000 2009', 'user_key': 'scottgohard', 'time_zone': '', 'screen_name': 'SCOTTGOHARD', 'statuses_count': 31858, 'followers_count': 1053, 'name': '#Ezekiel2517✨...', 'location': 'still ⬆️Block⤵️Corner⬇️street', 'id': '100345056', 'lang': 'en'}>, <Node id=170188 labels=frozenset({'Tweet'}) properties={'created_at': 1472090935000, 'favorite_count': 0, 'text': '@ShaunKing @Creflo_Dollar seriously⁉️ fuck that small time donation plate @realDonaldTrump will cop me that G6 https://t.co/Cl0pwnTzwC', 'created_str': '2016-08-25 02:08:55', 'id': '768631210151124992', 'retweet_count': 0, 'retweeted': False}>) type='POSTED' properties={}>\n",
      "#Ezekiel2517✨... <Relationship id=168852 nodes=(<Node id=0 labels=frozenset({'Troll', 'User'}) properties={'friends_count': 1055, 'listed_count': 35, 'favourites_count': 2774, 'verified': False, 'description': 'CELEBRITY TRAINER ✨#424W147th✨ #CrossfitCoach #NSCA #IRepresentIntellectualViolence...Robinson Cano,Ice T,Missy Elliott, #EaglesDontFlyInFlocks...', 'created_at': 'Tue Dec 29 23:15:22 +0000 2009', 'user_key': 'scottgohard', 'time_zone': '', 'screen_name': 'SCOTTGOHARD', 'statuses_count': 31858, 'followers_count': 1053, 'name': '#Ezekiel2517✨...', 'location': 'still ⬆️Block⤵️Corner⬇️street', 'id': '100345056', 'lang': 'en'}>, <Node id=169168 labels=frozenset({'Tweet'}) properties={'created_at': 1474598223000, 'favorite_count': 0, 'text': '@realDonaldTrump hey coward you see this? https://t.co/GuQPsqs5hW', 'created_str': '2016-09-23 02:37:03', 'id': '779147536967802882', 'retweet_count': 0, 'retweeted': False}>) type='POSTED' properties={}>\n",
      "#Ezekiel2517✨... <Relationship id=164968 nodes=(<Node id=0 labels=frozenset({'Troll', 'User'}) properties={'friends_count': 1055, 'listed_count': 35, 'favourites_count': 2774, 'verified': False, 'description': 'CELEBRITY TRAINER ✨#424W147th✨ #CrossfitCoach #NSCA #IRepresentIntellectualViolence...Robinson Cano,Ice T,Missy Elliott, #EaglesDontFlyInFlocks...', 'created_at': 'Tue Dec 29 23:15:22 +0000 2009', 'user_key': 'scottgohard', 'time_zone': '', 'screen_name': 'SCOTTGOHARD', 'statuses_count': 31858, 'followers_count': 1053, 'name': '#Ezekiel2517✨...', 'location': 'still ⬆️Block⤵️Corner⬇️street', 'id': '100345056', 'lang': 'en'}>, <Node id=165293 labels=frozenset({'Tweet'}) properties={'created_at': 1478570897000, 'favorite_count': 0, 'text': \"don't BOO...VOTE‼️‼️ https://t.co/QDlrf6ViYW\", 'created_str': '2016-11-08 02:08:17', 'id': '795810141455220736', 'retweet_count': 0, 'retweeted': False}>) type='POSTED' properties={}>\n",
      "#Ezekiel2517✨... <Relationship id=161284 nodes=(<Node id=0 labels=frozenset({'Troll', 'User'}) properties={'friends_count': 1055, 'listed_count': 35, 'favourites_count': 2774, 'verified': False, 'description': 'CELEBRITY TRAINER ✨#424W147th✨ #CrossfitCoach #NSCA #IRepresentIntellectualViolence...Robinson Cano,Ice T,Missy Elliott, #EaglesDontFlyInFlocks...', 'created_at': 'Tue Dec 29 23:15:22 +0000 2009', 'user_key': 'scottgohard', 'time_zone': '', 'screen_name': 'SCOTTGOHARD', 'statuses_count': 31858, 'followers_count': 1053, 'name': '#Ezekiel2517✨...', 'location': 'still ⬆️Block⤵️Corner⬇️street', 'id': '100345056', 'lang': 'en'}>, <Node id=161613 labels=frozenset({'Tweet'}) properties={'created_at': 1468943458000, 'favorite_count': 0, 'text': '@realDonaldTrump bwaaaaahaaaaa clown.... https://t.co/xbFwfsRXci', 'created_str': '2016-07-19 15:50:58', 'id': '755429736264990720', 'retweet_count': 0, 'retweeted': False}>) type='POSTED' properties={}>\n",
      "#Ezekiel2517✨... <Relationship id=161850 nodes=(<Node id=0 labels=frozenset({'Troll', 'User'}) properties={'friends_count': 1055, 'listed_count': 35, 'favourites_count': 2774, 'verified': False, 'description': 'CELEBRITY TRAINER ✨#424W147th✨ #CrossfitCoach #NSCA #IRepresentIntellectualViolence...Robinson Cano,Ice T,Missy Elliott, #EaglesDontFlyInFlocks...', 'created_at': 'Tue Dec 29 23:15:22 +0000 2009', 'user_key': 'scottgohard', 'time_zone': '', 'screen_name': 'SCOTTGOHARD', 'statuses_count': 31858, 'followers_count': 1053, 'name': '#Ezekiel2517✨...', 'location': 'still ⬆️Block⤵️Corner⬇️street', 'id': '100345056', 'lang': 'en'}>, <Node id=162177 labels=frozenset({'Tweet'}) properties={'created_at': 1475948566000, 'favorite_count': 0, 'text': \"#donaldTheMuttGump #facts #CognitiveDissonance @realDonaldTrump you're trash https://t.co/9zf2P5KoRM\", 'created_str': '2016-10-08 17:42:46', 'id': '784811288736202752', 'retweet_count': 0, 'retweeted': False}>) type='POSTED' properties={}>\n",
      "#Ezekiel2517✨... <Relationship id=160324 nodes=(<Node id=0 labels=frozenset({'Troll', 'User'}) properties={'friends_count': 1055, 'listed_count': 35, 'favourites_count': 2774, 'verified': False, 'description': 'CELEBRITY TRAINER ✨#424W147th✨ #CrossfitCoach #NSCA #IRepresentIntellectualViolence...Robinson Cano,Ice T,Missy Elliott, #EaglesDontFlyInFlocks...', 'created_at': 'Tue Dec 29 23:15:22 +0000 2009', 'user_key': 'scottgohard', 'time_zone': '', 'screen_name': 'SCOTTGOHARD', 'statuses_count': 31858, 'followers_count': 1053, 'name': '#Ezekiel2517✨...', 'location': 'still ⬆️Block⤵️Corner⬇️street', 'id': '100345056', 'lang': 'en'}>, <Node id=160646 labels=frozenset({'Tweet'}) properties={'created_at': 1478331719000, 'favorite_count': 0, 'text': 'porn? @realDonaldTrump https://t.co/0BdalwWHZI', 'created_str': '2016-11-05 07:41:59', 'id': '794806955294556160', 'retweet_count': 0, 'retweeted': False}>) type='POSTED' properties={}>\n",
      "#Ezekiel2517✨... <Relationship id=159736 nodes=(<Node id=0 labels=frozenset({'Troll', 'User'}) properties={'friends_count': 1055, 'listed_count': 35, 'favourites_count': 2774, 'verified': False, 'description': 'CELEBRITY TRAINER ✨#424W147th✨ #CrossfitCoach #NSCA #IRepresentIntellectualViolence...Robinson Cano,Ice T,Missy Elliott, #EaglesDontFlyInFlocks...', 'created_at': 'Tue Dec 29 23:15:22 +0000 2009', 'user_key': 'scottgohard', 'time_zone': '', 'screen_name': 'SCOTTGOHARD', 'statuses_count': 31858, 'followers_count': 1053, 'name': '#Ezekiel2517✨...', 'location': 'still ⬆️Block⤵️Corner⬇️street', 'id': '100345056', 'lang': 'en'}>, <Node id=160065 labels=frozenset({'Tweet'}) properties={'created_at': 1470865139000, 'favorite_count': 0, 'text': '@KNICKTriumphant @mjvenesco @LosFreaklander @forevershinin @knicksdude  https://t.co/2EWU79JFtF', 'created_str': '2016-08-10 21:38:59', 'id': '763489850607763456', 'retweet_count': 0, 'retweeted': False}>) type='POSTED' properties={}>\n",
      "#Ezekiel2517✨... <Relationship id=155762 nodes=(<Node id=0 labels=frozenset({'Troll', 'User'}) properties={'friends_count': 1055, 'listed_count': 35, 'favourites_count': 2774, 'verified': False, 'description': 'CELEBRITY TRAINER ✨#424W147th✨ #CrossfitCoach #NSCA #IRepresentIntellectualViolence...Robinson Cano,Ice T,Missy Elliott, #EaglesDontFlyInFlocks...', 'created_at': 'Tue Dec 29 23:15:22 +0000 2009', 'user_key': 'scottgohard', 'time_zone': '', 'screen_name': 'SCOTTGOHARD', 'statuses_count': 31858, 'followers_count': 1053, 'name': '#Ezekiel2517✨...', 'location': 'still ⬆️Block⤵️Corner⬇️street', 'id': '100345056', 'lang': 'en'}>, <Node id=156094 labels=frozenset({'Tweet'}) properties={'created_at': 1470236231000, 'favorite_count': 0, 'text': \"@realDonaldTrump it's actually getting funny watch this #trainwreck crack up...a joke son https://t.co/HjbK8LEU3Z\", 'created_str': '2016-08-03 14:57:11', 'id': '760852016512036865', 'retweet_count': 0, 'retweeted': False}>) type='POSTED' properties={}>\n",
      "#Ezekiel2517✨... <Relationship id=1244 nodes=(<Node id=0 labels=frozenset({'Troll', 'User'}) properties={'friends_count': 1055, 'listed_count': 35, 'favourites_count': 2774, 'verified': False, 'description': 'CELEBRITY TRAINER ✨#424W147th✨ #CrossfitCoach #NSCA #IRepresentIntellectualViolence...Robinson Cano,Ice T,Missy Elliott, #EaglesDontFlyInFlocks...', 'created_at': 'Tue Dec 29 23:15:22 +0000 2009', 'user_key': 'scottgohard', 'time_zone': '', 'screen_name': 'SCOTTGOHARD', 'statuses_count': 31858, 'followers_count': 1053, 'name': '#Ezekiel2517✨...', 'location': 'still ⬆️Block⤵️Corner⬇️street', 'id': '100345056', 'lang': 'en'}>, <Node id=1697 labels=frozenset({'Tweet'}) properties={'created_at': 1474255558000, 'favorite_count': 0, 'text': '@realDonaldTrump moron https://t.co/sHr1JiseHt', 'created_str': '2016-09-19 03:25:58', 'id': '777710296349700104', 'retweet_count': 0, 'retweeted': False}>) type='POSTED' properties={}>\n",
      "#Ezekiel2517✨... <Relationship id=4466 nodes=(<Node id=0 labels=frozenset({'Troll', 'User'}) properties={'friends_count': 1055, 'listed_count': 35, 'favourites_count': 2774, 'verified': False, 'description': 'CELEBRITY TRAINER ✨#424W147th✨ #CrossfitCoach #NSCA #IRepresentIntellectualViolence...Robinson Cano,Ice T,Missy Elliott, #EaglesDontFlyInFlocks...', 'created_at': 'Tue Dec 29 23:15:22 +0000 2009', 'user_key': 'scottgohard', 'time_zone': '', 'screen_name': 'SCOTTGOHARD', 'statuses_count': 31858, 'followers_count': 1053, 'name': '#Ezekiel2517✨...', 'location': 'still ⬆️Block⤵️Corner⬇️street', 'id': '100345056', 'lang': 'en'}>, <Node id=4926 labels=frozenset({'Tweet'}) properties={'created_at': 1470864720000, 'favorite_count': 0, 'text': 'police breaking windows at trump tower . trump vows to make Mexico pay for the new vents/windows. @realDonaldTrump https://t.co/cyQD5HAzXx', 'created_str': '2016-08-10 21:32:00', 'id': '763488090715545600', 'retweet_count': 0, 'retweeted': False}>) type='POSTED' properties={}>\n",
      "#Ezekiel2517✨... <Relationship id=4284 nodes=(<Node id=0 labels=frozenset({'Troll', 'User'}) properties={'friends_count': 1055, 'listed_count': 35, 'favourites_count': 2774, 'verified': False, 'description': 'CELEBRITY TRAINER ✨#424W147th✨ #CrossfitCoach #NSCA #IRepresentIntellectualViolence...Robinson Cano,Ice T,Missy Elliott, #EaglesDontFlyInFlocks...', 'created_at': 'Tue Dec 29 23:15:22 +0000 2009', 'user_key': 'scottgohard', 'time_zone': '', 'screen_name': 'SCOTTGOHARD', 'statuses_count': 31858, 'followers_count': 1053, 'name': '#Ezekiel2517✨...', 'location': 'still ⬆️Block⤵️Corner⬇️street', 'id': '100345056', 'lang': 'en'}>, <Node id=4744 labels=frozenset({'Tweet'}) properties={'created_at': 1478564131000, 'favorite_count': 0, 'text': '@realDonaldTrump VOTE https://t.co/pwkJxm5l7d', 'created_str': '2016-11-08 00:15:31', 'id': '795781762987200513', 'retweet_count': 0, 'retweeted': False}>) type='POSTED' properties={}>\n",
      "#Ezekiel2517✨... <Relationship id=6113 nodes=(<Node id=0 labels=frozenset({'Troll', 'User'}) properties={'friends_count': 1055, 'listed_count': 35, 'favourites_count': 2774, 'verified': False, 'description': 'CELEBRITY TRAINER ✨#424W147th✨ #CrossfitCoach #NSCA #IRepresentIntellectualViolence...Robinson Cano,Ice T,Missy Elliott, #EaglesDontFlyInFlocks...', 'created_at': 'Tue Dec 29 23:15:22 +0000 2009', 'user_key': 'scottgohard', 'time_zone': '', 'screen_name': 'SCOTTGOHARD', 'statuses_count': 31858, 'followers_count': 1053, 'name': '#Ezekiel2517✨...', 'location': 'still ⬆️Block⤵️Corner⬇️street', 'id': '100345056', 'lang': 'en'}>, <Node id=6553 labels=frozenset({'Tweet'}) properties={'created_at': 1470855381000, 'favorite_count': 0, 'text': '@realDonaldTrump moron #PickATeam son https://t.co/zGKLjBJJpy', 'created_str': '2016-08-10 18:56:21', 'id': '763448921427439616', 'retweet_count': 0, 'retweeted': False}>) type='POSTED' properties={}>\n",
      "#Ezekiel2517✨... <Relationship id=9475 nodes=(<Node id=0 labels=frozenset({'Troll', 'User'}) properties={'friends_count': 1055, 'listed_count': 35, 'favourites_count': 2774, 'verified': False, 'description': 'CELEBRITY TRAINER ✨#424W147th✨ #CrossfitCoach #NSCA #IRepresentIntellectualViolence...Robinson Cano,Ice T,Missy Elliott, #EaglesDontFlyInFlocks...', 'created_at': 'Tue Dec 29 23:15:22 +0000 2009', 'user_key': 'scottgohard', 'time_zone': '', 'screen_name': 'SCOTTGOHARD', 'statuses_count': 31858, 'followers_count': 1053, 'name': '#Ezekiel2517✨...', 'location': 'still ⬆️Block⤵️Corner⬇️street', 'id': '100345056', 'lang': 'en'}>, <Node id=9927 labels=frozenset({'Tweet'}) properties={'created_at': 1470070072000, 'favorite_count': 0, 'text': \"bwaaaaahaaaaa @realDonaldTrump can't write this shit...you gonna go at Isis but can't control your bedroom? https://t.co/RbikMa2G3x\", 'created_str': '2016-08-01 16:47:52', 'id': '760155095736680449', 'retweet_count': 0, 'retweeted': False}>) type='POSTED' properties={}>\n",
      "#Ezekiel2517✨... <Relationship id=14541 nodes=(<Node id=0 labels=frozenset({'Troll', 'User'}) properties={'friends_count': 1055, 'listed_count': 35, 'favourites_count': 2774, 'verified': False, 'description': 'CELEBRITY TRAINER ✨#424W147th✨ #CrossfitCoach #NSCA #IRepresentIntellectualViolence...Robinson Cano,Ice T,Missy Elliott, #EaglesDontFlyInFlocks...', 'created_at': 'Tue Dec 29 23:15:22 +0000 2009', 'user_key': 'scottgohard', 'time_zone': '', 'screen_name': 'SCOTTGOHARD', 'statuses_count': 31858, 'followers_count': 1053, 'name': '#Ezekiel2517✨...', 'location': 'still ⬆️Block⤵️Corner⬇️street', 'id': '100345056', 'lang': 'en'}>, <Node id=14981 labels=frozenset({'Tweet'}) properties={'created_at': 1474946306000, 'favorite_count': 2, 'text': \"@lipps_ms @ZakeyaMasada @uniqueloves @KokopelliEnt @RealDLHughley you're a moron @realDonaldTrump https://t.co/cBk5VlYV75\", 'created_str': '2016-09-27 03:18:26', 'id': '780607504128638976', 'retweet_count': 2, 'retweeted': False}>) type='POSTED' properties={}>\n",
      "#Ezekiel2517✨... <Relationship id=17951 nodes=(<Node id=0 labels=frozenset({'Troll', 'User'}) properties={'friends_count': 1055, 'listed_count': 35, 'favourites_count': 2774, 'verified': False, 'description': 'CELEBRITY TRAINER ✨#424W147th✨ #CrossfitCoach #NSCA #IRepresentIntellectualViolence...Robinson Cano,Ice T,Missy Elliott, #EaglesDontFlyInFlocks...', 'created_at': 'Tue Dec 29 23:15:22 +0000 2009', 'user_key': 'scottgohard', 'time_zone': '', 'screen_name': 'SCOTTGOHARD', 'statuses_count': 31858, 'followers_count': 1053, 'name': '#Ezekiel2517✨...', 'location': 'still ⬆️Block⤵️Corner⬇️street', 'id': '100345056', 'lang': 'en'}>, <Node id=18410 labels=frozenset({'Tweet'}) properties={'created_at': 1472403460000, 'favorite_count': 0, 'text': 'when @realDonaldTrump asks Black People \"what do we have to lose?\" like it\\'s a game show...respond with \" #OurLives\" https://t.co/8JiEZK9GvW', 'created_str': '2016-08-28 16:57:40', 'id': '769942034983583744', 'retweet_count': 0, 'retweeted': False}>) type='POSTED' properties={}>\n",
      "#Ezekiel2517✨... <Relationship id=19221 nodes=(<Node id=0 labels=frozenset({'Troll', 'User'}) properties={'friends_count': 1055, 'listed_count': 35, 'favourites_count': 2774, 'verified': False, 'description': 'CELEBRITY TRAINER ✨#424W147th✨ #CrossfitCoach #NSCA #IRepresentIntellectualViolence...Robinson Cano,Ice T,Missy Elliott, #EaglesDontFlyInFlocks...', 'created_at': 'Tue Dec 29 23:15:22 +0000 2009', 'user_key': 'scottgohard', 'time_zone': '', 'screen_name': 'SCOTTGOHARD', 'statuses_count': 31858, 'followers_count': 1053, 'name': '#Ezekiel2517✨...', 'location': 'still ⬆️Block⤵️Corner⬇️street', 'id': '100345056', 'lang': 'en'}>, <Node id=19673 labels=frozenset({'Tweet'}) properties={'created_at': 1471881784000, 'favorite_count': 0, 'text': '@santanaraymond @yusefsalaam salute Harlem family https://t.co/rJ2fBjdhRo', 'created_str': '2016-08-22 16:03:04', 'id': '767753968529399808', 'retweet_count': 0, 'retweeted': False}>) type='POSTED' properties={}>\n",
      "#Ezekiel2517✨... <Relationship id=19935 nodes=(<Node id=0 labels=frozenset({'Troll', 'User'}) properties={'friends_count': 1055, 'listed_count': 35, 'favourites_count': 2774, 'verified': False, 'description': 'CELEBRITY TRAINER ✨#424W147th✨ #CrossfitCoach #NSCA #IRepresentIntellectualViolence...Robinson Cano,Ice T,Missy Elliott, #EaglesDontFlyInFlocks...', 'created_at': 'Tue Dec 29 23:15:22 +0000 2009', 'user_key': 'scottgohard', 'time_zone': '', 'screen_name': 'SCOTTGOHARD', 'statuses_count': 31858, 'followers_count': 1053, 'name': '#Ezekiel2517✨...', 'location': 'still ⬆️Block⤵️Corner⬇️street', 'id': '100345056', 'lang': 'en'}>, <Node id=20394 labels=frozenset({'Tweet'}) properties={'created_at': 1476285217000, 'favorite_count': 0, 'text': 'crack is wack @realDonaldTrump https://t.co/RRwW378aEw', 'created_str': '2016-10-12 15:13:37', 'id': '786223302821961729', 'retweet_count': 0, 'retweeted': False}>) type='POSTED' properties={}>\n",
      "#Ezekiel2517✨... <Relationship id=21338 nodes=(<Node id=0 labels=frozenset({'Troll', 'User'}) properties={'friends_count': 1055, 'listed_count': 35, 'favourites_count': 2774, 'verified': False, 'description': 'CELEBRITY TRAINER ✨#424W147th✨ #CrossfitCoach #NSCA #IRepresentIntellectualViolence...Robinson Cano,Ice T,Missy Elliott, #EaglesDontFlyInFlocks...', 'created_at': 'Tue Dec 29 23:15:22 +0000 2009', 'user_key': 'scottgohard', 'time_zone': '', 'screen_name': 'SCOTTGOHARD', 'statuses_count': 31858, 'followers_count': 1053, 'name': '#Ezekiel2517✨...', 'location': 'still ⬆️Block⤵️Corner⬇️street', 'id': '100345056', 'lang': 'en'}>, <Node id=21789 labels=frozenset({'Tweet'}) properties={'created_at': 1476120820000, 'favorite_count': 0, 'text': '@realDonaldTrump you\\'re a joke...you can\\'t even work a boardwalk how you gonna run a country \"grab her by the...?\" https://t.co/RbQBw5Lipn', 'created_str': '2016-10-10 17:33:40', 'id': '785533772011888641', 'retweet_count': 0, 'retweeted': False}>) type='POSTED' properties={}>\n",
      "#Ezekiel2517✨... <Relationship id=22064 nodes=(<Node id=0 labels=frozenset({'Troll', 'User'}) properties={'friends_count': 1055, 'listed_count': 35, 'favourites_count': 2774, 'verified': False, 'description': 'CELEBRITY TRAINER ✨#424W147th✨ #CrossfitCoach #NSCA #IRepresentIntellectualViolence...Robinson Cano,Ice T,Missy Elliott, #EaglesDontFlyInFlocks...', 'created_at': 'Tue Dec 29 23:15:22 +0000 2009', 'user_key': 'scottgohard', 'time_zone': '', 'screen_name': 'SCOTTGOHARD', 'statuses_count': 31858, 'followers_count': 1053, 'name': '#Ezekiel2517✨...', 'location': 'still ⬆️Block⤵️Corner⬇️street', 'id': '100345056', 'lang': 'en'}>, <Node id=22503 labels=frozenset({'Tweet'}) properties={'created_at': 1479672398000, 'favorite_count': 0, 'text': \"wish I retweet @BrandonVDixon daily 10xs it's the american way https://t.co/2lH2DV8lkF\", 'created_str': '2016-11-20 20:06:38', 'id': '800430170003935232', 'retweet_count': 0, 'retweeted': False}>) type='POSTED' properties={}>\n",
      "#Ezekiel2517✨... <Relationship id=26886 nodes=(<Node id=0 labels=frozenset({'Troll', 'User'}) properties={'friends_count': 1055, 'listed_count': 35, 'favourites_count': 2774, 'verified': False, 'description': 'CELEBRITY TRAINER ✨#424W147th✨ #CrossfitCoach #NSCA #IRepresentIntellectualViolence...Robinson Cano,Ice T,Missy Elliott, #EaglesDontFlyInFlocks...', 'created_at': 'Tue Dec 29 23:15:22 +0000 2009', 'user_key': 'scottgohard', 'time_zone': '', 'screen_name': 'SCOTTGOHARD', 'statuses_count': 31858, 'followers_count': 1053, 'name': '#Ezekiel2517✨...', 'location': 'still ⬆️Block⤵️Corner⬇️street', 'id': '100345056', 'lang': 'en'}>, <Node id=27337 labels=frozenset({'Tweet'}) properties={'created_at': 1479692481000, 'favorite_count': 0, 'text': 'RT @POTUS: Happy birthday, Joe! The best @VP and friend I could have had alongside me these past eight years. https://t.co/kWH3L5uSFC', 'created_str': '2016-11-21 01:41:21', 'id': '800514403837870080', 'retweet_count': 0, 'retweeted': False}>) type='POSTED' properties={}>\n",
      "#Ezekiel2517✨... <Relationship id=28903 nodes=(<Node id=0 labels=frozenset({'Troll', 'User'}) properties={'friends_count': 1055, 'listed_count': 35, 'favourites_count': 2774, 'verified': False, 'description': 'CELEBRITY TRAINER ✨#424W147th✨ #CrossfitCoach #NSCA #IRepresentIntellectualViolence...Robinson Cano,Ice T,Missy Elliott, #EaglesDontFlyInFlocks...', 'created_at': 'Tue Dec 29 23:15:22 +0000 2009', 'user_key': 'scottgohard', 'time_zone': '', 'screen_name': 'SCOTTGOHARD', 'statuses_count': 31858, 'followers_count': 1053, 'name': '#Ezekiel2517✨...', 'location': 'still ⬆️Block⤵️Corner⬇️street', 'id': '100345056', 'lang': 'en'}>, <Node id=29354 labels=frozenset({'Tweet'}) properties={'created_at': 1473953533000, 'favorite_count': 0, 'text': '@yusefsalaam @santanaraymond see you @realDonaldTrump  https://t.co/JCR3OboDVV', 'created_str': '2016-09-15 15:32:13', 'id': '776443510098530304', 'retweet_count': 0, 'retweeted': False}>) type='POSTED' properties={}>\n",
      "#Ezekiel2517✨... <Relationship id=32620 nodes=(<Node id=0 labels=frozenset({'Troll', 'User'}) properties={'friends_count': 1055, 'listed_count': 35, 'favourites_count': 2774, 'verified': False, 'description': 'CELEBRITY TRAINER ✨#424W147th✨ #CrossfitCoach #NSCA #IRepresentIntellectualViolence...Robinson Cano,Ice T,Missy Elliott, #EaglesDontFlyInFlocks...', 'created_at': 'Tue Dec 29 23:15:22 +0000 2009', 'user_key': 'scottgohard', 'time_zone': '', 'screen_name': 'SCOTTGOHARD', 'statuses_count': 31858, 'followers_count': 1053, 'name': '#Ezekiel2517✨...', 'location': 'still ⬆️Block⤵️Corner⬇️street', 'id': '100345056', 'lang': 'en'}>, <Node id=33077 labels=frozenset({'Tweet'}) properties={'created_at': 1476460213000, 'favorite_count': 0, 'text': '@realDonaldTrump a mutt...a POS https://t.co/OXn9sq5Z09', 'created_str': '2016-10-14 15:50:13', 'id': '786957290310172672', 'retweet_count': 0, 'retweeted': False}>) type='POSTED' properties={}>\n",
      "#Ezekiel2517✨... <Relationship id=33563 nodes=(<Node id=0 labels=frozenset({'Troll', 'User'}) properties={'friends_count': 1055, 'listed_count': 35, 'favourites_count': 2774, 'verified': False, 'description': 'CELEBRITY TRAINER ✨#424W147th✨ #CrossfitCoach #NSCA #IRepresentIntellectualViolence...Robinson Cano,Ice T,Missy Elliott, #EaglesDontFlyInFlocks...', 'created_at': 'Tue Dec 29 23:15:22 +0000 2009', 'user_key': 'scottgohard', 'time_zone': '', 'screen_name': 'SCOTTGOHARD', 'statuses_count': 31858, 'followers_count': 1053, 'name': '#Ezekiel2517✨...', 'location': 'still ⬆️Block⤵️Corner⬇️street', 'id': '100345056', 'lang': 'en'}>, <Node id=33994 labels=frozenset({'Tweet'}) properties={'created_at': 1478528040000, 'favorite_count': 31, 'text': 'my brother @yusefsalaam with next President @HillaryClinton salute the stand!!! @santanaraymond https://t.co/MftDXKwBFS', 'created_str': '2016-11-07 14:14:00', 'id': '795630386751700996', 'retweet_count': 12, 'retweeted': False}>) type='POSTED' properties={}>\n",
      "#Ezekiel2517✨... <Relationship id=37324 nodes=(<Node id=0 labels=frozenset({'Troll', 'User'}) properties={'friends_count': 1055, 'listed_count': 35, 'favourites_count': 2774, 'verified': False, 'description': 'CELEBRITY TRAINER ✨#424W147th✨ #CrossfitCoach #NSCA #IRepresentIntellectualViolence...Robinson Cano,Ice T,Missy Elliott, #EaglesDontFlyInFlocks...', 'created_at': 'Tue Dec 29 23:15:22 +0000 2009', 'user_key': 'scottgohard', 'time_zone': '', 'screen_name': 'SCOTTGOHARD', 'statuses_count': 31858, 'followers_count': 1053, 'name': '#Ezekiel2517✨...', 'location': 'still ⬆️Block⤵️Corner⬇️street', 'id': '100345056', 'lang': 'en'}>, <Node id=37775 labels=frozenset({'Tweet'}) properties={'created_at': 1469988897000, 'favorite_count': 0, 'text': \"@realDonaldTrump bruh you can't even handle AC mobsters and you gonna handle Isis? https://t.co/22UjgqBu1f\", 'created_str': '2016-07-31 18:14:57', 'id': '759814623088537601', 'retweet_count': 0, 'retweeted': False}>) type='POSTED' properties={}>\n",
      "#Ezekiel2517✨... <Relationship id=43421 nodes=(<Node id=0 labels=frozenset({'Troll', 'User'}) properties={'friends_count': 1055, 'listed_count': 35, 'favourites_count': 2774, 'verified': False, 'description': 'CELEBRITY TRAINER ✨#424W147th✨ #CrossfitCoach #NSCA #IRepresentIntellectualViolence...Robinson Cano,Ice T,Missy Elliott, #EaglesDontFlyInFlocks...', 'created_at': 'Tue Dec 29 23:15:22 +0000 2009', 'user_key': 'scottgohard', 'time_zone': '', 'screen_name': 'SCOTTGOHARD', 'statuses_count': 31858, 'followers_count': 1053, 'name': '#Ezekiel2517✨...', 'location': 'still ⬆️Block⤵️Corner⬇️street', 'id': '100345056', 'lang': 'en'}>, <Node id=43870 labels=frozenset({'Tweet'}) properties={'created_at': 1470864953000, 'favorite_count': 1, 'text': 'police breaking windows at trump tower. trump vows to make Mexico pay for the new vents/windows. @realDonaldTrump https://t.co/mqVORZrG78', 'created_str': '2016-08-10 21:35:53', 'id': '763489069254991872', 'retweet_count': 2, 'retweeted': False}>) type='POSTED' properties={}>\n",
      "#Ezekiel2517✨... <Relationship id=43655 nodes=(<Node id=0 labels=frozenset({'Troll', 'User'}) properties={'friends_count': 1055, 'listed_count': 35, 'favourites_count': 2774, 'verified': False, 'description': 'CELEBRITY TRAINER ✨#424W147th✨ #CrossfitCoach #NSCA #IRepresentIntellectualViolence...Robinson Cano,Ice T,Missy Elliott, #EaglesDontFlyInFlocks...', 'created_at': 'Tue Dec 29 23:15:22 +0000 2009', 'user_key': 'scottgohard', 'time_zone': '', 'screen_name': 'SCOTTGOHARD', 'statuses_count': 31858, 'followers_count': 1053, 'name': '#Ezekiel2517✨...', 'location': 'still ⬆️Block⤵️Corner⬇️street', 'id': '100345056', 'lang': 'en'}>, <Node id=44110 labels=frozenset({'Tweet'}) properties={'created_at': 1472502341000, 'favorite_count': 0, 'text': \"@comedianhellnaw @RealDLHughley @DLHughleyRadio and he said he wanted all to get along, it wasn't against the military...trump can be an ass\", 'created_str': '2016-08-29 20:25:41', 'id': '770356772557221888', 'retweet_count': 0, 'retweeted': False}>) type='POSTED' properties={}>\n",
      "#Ezekiel2517✨... <Relationship id=51533 nodes=(<Node id=0 labels=frozenset({'Troll', 'User'}) properties={'friends_count': 1055, 'listed_count': 35, 'favourites_count': 2774, 'verified': False, 'description': 'CELEBRITY TRAINER ✨#424W147th✨ #CrossfitCoach #NSCA #IRepresentIntellectualViolence...Robinson Cano,Ice T,Missy Elliott, #EaglesDontFlyInFlocks...', 'created_at': 'Tue Dec 29 23:15:22 +0000 2009', 'user_key': 'scottgohard', 'time_zone': '', 'screen_name': 'SCOTTGOHARD', 'statuses_count': 31858, 'followers_count': 1053, 'name': '#Ezekiel2517✨...', 'location': 'still ⬆️Block⤵️Corner⬇️street', 'id': '100345056', 'lang': 'en'}>, <Node id=51966 labels=frozenset({'Tweet'}) properties={'created_at': 1469740657000, 'favorite_count': 0, 'text': 'humbly and not respectfully fuck @oreillyfactor and @realDonaldTrump #NoMoreCheeksToTurn  https://t.co/EeJ2VFvfJY', 'created_str': '2016-07-28 21:17:37', 'id': '758773427578802176', 'retweet_count': 0, 'retweeted': False}>) type='POSTED' properties={}>\n",
      "#Ezekiel2517✨... <Relationship id=54854 nodes=(<Node id=0 labels=frozenset({'Troll', 'User'}) properties={'friends_count': 1055, 'listed_count': 35, 'favourites_count': 2774, 'verified': False, 'description': 'CELEBRITY TRAINER ✨#424W147th✨ #CrossfitCoach #NSCA #IRepresentIntellectualViolence...Robinson Cano,Ice T,Missy Elliott, #EaglesDontFlyInFlocks...', 'created_at': 'Tue Dec 29 23:15:22 +0000 2009', 'user_key': 'scottgohard', 'time_zone': '', 'screen_name': 'SCOTTGOHARD', 'statuses_count': 31858, 'followers_count': 1053, 'name': '#Ezekiel2517✨...', 'location': 'still ⬆️Block⤵️Corner⬇️street', 'id': '100345056', 'lang': 'en'}>, <Node id=55300 labels=frozenset({'Tweet'}) properties={'created_at': 1477445044000, 'favorite_count': 0, 'text': '@realDonaldTrump ya mutt... \"at least I will go down as a PRESIDENT\" @BarackObama https://t.co/71KEXzFOGm', 'created_str': '2016-10-26 01:24:04', 'id': '791087971248340992', 'retweet_count': 0, 'retweeted': False}>) type='POSTED' properties={}>\n",
      "#Ezekiel2517✨... <Relationship id=55752 nodes=(<Node id=0 labels=frozenset({'Troll', 'User'}) properties={'friends_count': 1055, 'listed_count': 35, 'favourites_count': 2774, 'verified': False, 'description': 'CELEBRITY TRAINER ✨#424W147th✨ #CrossfitCoach #NSCA #IRepresentIntellectualViolence...Robinson Cano,Ice T,Missy Elliott, #EaglesDontFlyInFlocks...', 'created_at': 'Tue Dec 29 23:15:22 +0000 2009', 'user_key': 'scottgohard', 'time_zone': '', 'screen_name': 'SCOTTGOHARD', 'statuses_count': 31858, 'followers_count': 1053, 'name': '#Ezekiel2517✨...', 'location': 'still ⬆️Block⤵️Corner⬇️street', 'id': '100345056', 'lang': 'en'}>, <Node id=56184 labels=frozenset({'Tweet'}) properties={'created_at': 1470022846000, 'favorite_count': 0, 'text': '@GOP @realDonaldTrump bwaaaaahaaaaa American values https://t.co/OCs0ICWXD9', 'created_str': '2016-08-01 03:40:46', 'id': '759957016911683584', 'retweet_count': 0, 'retweeted': False}>) type='POSTED' properties={}>\n",
      "#Ezekiel2517✨... <Relationship id=58254 nodes=(<Node id=0 labels=frozenset({'Troll', 'User'}) properties={'friends_count': 1055, 'listed_count': 35, 'favourites_count': 2774, 'verified': False, 'description': 'CELEBRITY TRAINER ✨#424W147th✨ #CrossfitCoach #NSCA #IRepresentIntellectualViolence...Robinson Cano,Ice T,Missy Elliott, #EaglesDontFlyInFlocks...', 'created_at': 'Tue Dec 29 23:15:22 +0000 2009', 'user_key': 'scottgohard', 'time_zone': '', 'screen_name': 'SCOTTGOHARD', 'statuses_count': 31858, 'followers_count': 1053, 'name': '#Ezekiel2517✨...', 'location': 'still ⬆️Block⤵️Corner⬇️street', 'id': '100345056', 'lang': 'en'}>, <Node id=58685 labels=frozenset({'Tweet'}) properties={'created_at': 1474321519000, 'favorite_count': 0, 'text': '@realDonaldTrump moron https://t.co/aZE8zt95wY', 'created_str': '2016-09-19 21:45:19', 'id': '777986958555504642', 'retweet_count': 0, 'retweeted': False}>) type='POSTED' properties={}>\n",
      "#Ezekiel2517✨... <Relationship id=57634 nodes=(<Node id=0 labels=frozenset({'Troll', 'User'}) properties={'friends_count': 1055, 'listed_count': 35, 'favourites_count': 2774, 'verified': False, 'description': 'CELEBRITY TRAINER ✨#424W147th✨ #CrossfitCoach #NSCA #IRepresentIntellectualViolence...Robinson Cano,Ice T,Missy Elliott, #EaglesDontFlyInFlocks...', 'created_at': 'Tue Dec 29 23:15:22 +0000 2009', 'user_key': 'scottgohard', 'time_zone': '', 'screen_name': 'SCOTTGOHARD', 'statuses_count': 31858, 'followers_count': 1053, 'name': '#Ezekiel2517✨...', 'location': 'still ⬆️Block⤵️Corner⬇️street', 'id': '100345056', 'lang': 'en'}>, <Node id=58065 labels=frozenset({'Tweet'}) properties={'created_at': 1472090696000, 'favorite_count': 0, 'text': '@Creflo_Dollar how much @realDonaldTrump post in that direct deposit⁉️ https://t.co/qLw1o6Tqh6', 'created_str': '2016-08-25 02:04:56', 'id': '768630208920428548', 'retweet_count': 0, 'retweeted': False}>) type='POSTED' properties={}>\n",
      "#Ezekiel2517✨... <Relationship id=60860 nodes=(<Node id=0 labels=frozenset({'Troll', 'User'}) properties={'friends_count': 1055, 'listed_count': 35, 'favourites_count': 2774, 'verified': False, 'description': 'CELEBRITY TRAINER ✨#424W147th✨ #CrossfitCoach #NSCA #IRepresentIntellectualViolence...Robinson Cano,Ice T,Missy Elliott, #EaglesDontFlyInFlocks...', 'created_at': 'Tue Dec 29 23:15:22 +0000 2009', 'user_key': 'scottgohard', 'time_zone': '', 'screen_name': 'SCOTTGOHARD', 'statuses_count': 31858, 'followers_count': 1053, 'name': '#Ezekiel2517✨...', 'location': 'still ⬆️Block⤵️Corner⬇️street', 'id': '100345056', 'lang': 'en'}>, <Node id=61282 labels=frozenset({'Tweet'}) properties={'created_at': 1476463270000, 'favorite_count': 0, 'text': '@CBSThisMorning can\\'t wait til he \"grab\" up pence \\'s piece... @realDonaldTrump #Gump #Mutt https://t.co/FyImPRzPta', 'created_str': '2016-10-14 16:41:10', 'id': '786970111584374784', 'retweet_count': 0, 'retweeted': False}>) type='POSTED' properties={}>\n",
      "#Ezekiel2517✨... <Relationship id=61348 nodes=(<Node id=0 labels=frozenset({'Troll', 'User'}) properties={'friends_count': 1055, 'listed_count': 35, 'favourites_count': 2774, 'verified': False, 'description': 'CELEBRITY TRAINER ✨#424W147th✨ #CrossfitCoach #NSCA #IRepresentIntellectualViolence...Robinson Cano,Ice T,Missy Elliott, #EaglesDontFlyInFlocks...', 'created_at': 'Tue Dec 29 23:15:22 +0000 2009', 'user_key': 'scottgohard', 'time_zone': '', 'screen_name': 'SCOTTGOHARD', 'statuses_count': 31858, 'followers_count': 1053, 'name': '#Ezekiel2517✨...', 'location': 'still ⬆️Block⤵️Corner⬇️street', 'id': '100345056', 'lang': 'en'}>, <Node id=61779 labels=frozenset({'Tweet'}) properties={'created_at': 1473880700000, 'favorite_count': 0, 'text': '@yusefsalaam @santanaraymond @realDonaldTrump I see you said the blind man... https://t.co/YiXy5aaHQD', 'created_str': '2016-09-14 19:18:20', 'id': '776138030134407168', 'retweet_count': 0, 'retweeted': False}>) type='POSTED' properties={}>\n",
      "#Ezekiel2517✨... <Relationship id=63316 nodes=(<Node id=0 labels=frozenset({'Troll', 'User'}) properties={'friends_count': 1055, 'listed_count': 35, 'favourites_count': 2774, 'verified': False, 'description': 'CELEBRITY TRAINER ✨#424W147th✨ #CrossfitCoach #NSCA #IRepresentIntellectualViolence...Robinson Cano,Ice T,Missy Elliott, #EaglesDontFlyInFlocks...', 'created_at': 'Tue Dec 29 23:15:22 +0000 2009', 'user_key': 'scottgohard', 'time_zone': '', 'screen_name': 'SCOTTGOHARD', 'statuses_count': 31858, 'followers_count': 1053, 'name': '#Ezekiel2517✨...', 'location': 'still ⬆️Block⤵️Corner⬇️street', 'id': '100345056', 'lang': 'en'}>, <Node id=63747 labels=frozenset({'Tweet'}) properties={'created_at': 1474730508000, 'favorite_count': 0, 'text': 'RT @HillaryClinton: Charlotte should release police video of the Keith Lamont Scott shooting without delay. We must ensure justice &amp; work t…', 'created_str': '2016-09-24 15:21:48', 'id': '779702382573842432', 'retweet_count': 0, 'retweeted': False}>) type='POSTED' properties={}>\n",
      "#Ezekiel2517✨... <Relationship id=66139 nodes=(<Node id=0 labels=frozenset({'Troll', 'User'}) properties={'friends_count': 1055, 'listed_count': 35, 'favourites_count': 2774, 'verified': False, 'description': 'CELEBRITY TRAINER ✨#424W147th✨ #CrossfitCoach #NSCA #IRepresentIntellectualViolence...Robinson Cano,Ice T,Missy Elliott, #EaglesDontFlyInFlocks...', 'created_at': 'Tue Dec 29 23:15:22 +0000 2009', 'user_key': 'scottgohard', 'time_zone': '', 'screen_name': 'SCOTTGOHARD', 'statuses_count': 31858, 'followers_count': 1053, 'name': '#Ezekiel2517✨...', 'location': 'still ⬆️Block⤵️Corner⬇️street', 'id': '100345056', 'lang': 'en'}>, <Node id=66569 labels=frozenset({'Tweet'}) properties={'created_at': 1475933646000, 'favorite_count': 0, 'text': '@realDonaldTrump bwaaaaahaaa DeNiro called you a \"bozo\" https://t.co/cZm2XV7eIr', 'created_str': '2016-10-08 13:34:06', 'id': '784748707321376768', 'retweet_count': 0, 'retweeted': False}>) type='POSTED' properties={}>\n",
      "#Ezekiel2517✨... <Relationship id=68090 nodes=(<Node id=0 labels=frozenset({'Troll', 'User'}) properties={'friends_count': 1055, 'listed_count': 35, 'favourites_count': 2774, 'verified': False, 'description': 'CELEBRITY TRAINER ✨#424W147th✨ #CrossfitCoach #NSCA #IRepresentIntellectualViolence...Robinson Cano,Ice T,Missy Elliott, #EaglesDontFlyInFlocks...', 'created_at': 'Tue Dec 29 23:15:22 +0000 2009', 'user_key': 'scottgohard', 'time_zone': '', 'screen_name': 'SCOTTGOHARD', 'statuses_count': 31858, 'followers_count': 1053, 'name': '#Ezekiel2517✨...', 'location': 'still ⬆️Block⤵️Corner⬇️street', 'id': '100345056', 'lang': 'en'}>, <Node id=68519 labels=frozenset({'Tweet'}) properties={'created_at': 1476330892000, 'favorite_count': 0, 'text': \"@realDonaldTrump you're a mutt #donaldtrump #gump https://t.co/uwsC6C8Npj\", 'created_str': '2016-10-13 03:54:52', 'id': '786414878034694144', 'retweet_count': 0, 'retweeted': False}>) type='POSTED' properties={}>\n",
      "#Ezekiel2517✨... <Relationship id=69134 nodes=(<Node id=0 labels=frozenset({'Troll', 'User'}) properties={'friends_count': 1055, 'listed_count': 35, 'favourites_count': 2774, 'verified': False, 'description': 'CELEBRITY TRAINER ✨#424W147th✨ #CrossfitCoach #NSCA #IRepresentIntellectualViolence...Robinson Cano,Ice T,Missy Elliott, #EaglesDontFlyInFlocks...', 'created_at': 'Tue Dec 29 23:15:22 +0000 2009', 'user_key': 'scottgohard', 'time_zone': '', 'screen_name': 'SCOTTGOHARD', 'statuses_count': 31858, 'followers_count': 1053, 'name': '#Ezekiel2517✨...', 'location': 'still ⬆️Block⤵️Corner⬇️street', 'id': '100345056', 'lang': 'en'}>, <Node id=69550 labels=frozenset({'Tweet'}) properties={'created_at': 1470098428000, 'favorite_count': 0, 'text': '#BrokeBack @realDonaldTrump heeeeeeey gurl.... https://t.co/zSKwULEOLO', 'created_str': '2016-08-02 00:40:28', 'id': '760274028833738752', 'retweet_count': 0, 'retweeted': False}>) type='POSTED' properties={}>\n",
      "#Ezekiel2517✨... <Relationship id=73570 nodes=(<Node id=0 labels=frozenset({'Troll', 'User'}) properties={'friends_count': 1055, 'listed_count': 35, 'favourites_count': 2774, 'verified': False, 'description': 'CELEBRITY TRAINER ✨#424W147th✨ #CrossfitCoach #NSCA #IRepresentIntellectualViolence...Robinson Cano,Ice T,Missy Elliott, #EaglesDontFlyInFlocks...', 'created_at': 'Tue Dec 29 23:15:22 +0000 2009', 'user_key': 'scottgohard', 'time_zone': '', 'screen_name': 'SCOTTGOHARD', 'statuses_count': 31858, 'followers_count': 1053, 'name': '#Ezekiel2517✨...', 'location': 'still ⬆️Block⤵️Corner⬇️street', 'id': '100345056', 'lang': 'en'}>, <Node id=73997 labels=frozenset({'Tweet'}) properties={'created_at': 1471881730000, 'favorite_count': 0, 'text': 'when @realDonaldTrump #donaldtrump said \"what do you have to lose?\" to Black people...uhmmm our lives you scab https://t.co/xlmCdnCQJm', 'created_str': '2016-08-22 16:02:10', 'id': '767753742292770817', 'retweet_count': 0, 'retweeted': False}>) type='POSTED' properties={}>\n",
      "#Ezekiel2517✨... <Relationship id=73325 nodes=(<Node id=0 labels=frozenset({'Troll', 'User'}) properties={'friends_count': 1055, 'listed_count': 35, 'favourites_count': 2774, 'verified': False, 'description': 'CELEBRITY TRAINER ✨#424W147th✨ #CrossfitCoach #NSCA #IRepresentIntellectualViolence...Robinson Cano,Ice T,Missy Elliott, #EaglesDontFlyInFlocks...', 'created_at': 'Tue Dec 29 23:15:22 +0000 2009', 'user_key': 'scottgohard', 'time_zone': '', 'screen_name': 'SCOTTGOHARD', 'statuses_count': 31858, 'followers_count': 1053, 'name': '#Ezekiel2517✨...', 'location': 'still ⬆️Block⤵️Corner⬇️street', 'id': '100345056', 'lang': 'en'}>, <Node id=73752 labels=frozenset({'Tweet'}) properties={'created_at': 1475890136000, 'favorite_count': 0, 'text': '@realDonaldTrump molester https://t.co/M5fGWOvML9', 'created_str': '2016-10-08 01:28:56', 'id': '784566212151877633', 'retweet_count': 0, 'retweeted': False}>) type='POSTED' properties={}>\n",
      "#Ezekiel2517✨... <Relationship id=78316 nodes=(<Node id=0 labels=frozenset({'Troll', 'User'}) properties={'friends_count': 1055, 'listed_count': 35, 'favourites_count': 2774, 'verified': False, 'description': 'CELEBRITY TRAINER ✨#424W147th✨ #CrossfitCoach #NSCA #IRepresentIntellectualViolence...Robinson Cano,Ice T,Missy Elliott, #EaglesDontFlyInFlocks...', 'created_at': 'Tue Dec 29 23:15:22 +0000 2009', 'user_key': 'scottgohard', 'time_zone': '', 'screen_name': 'SCOTTGOHARD', 'statuses_count': 31858, 'followers_count': 1053, 'name': '#Ezekiel2517✨...', 'location': 'still ⬆️Block⤵️Corner⬇️street', 'id': '100345056', 'lang': 'en'}>, <Node id=78729 labels=frozenset({'Tweet'}) properties={'created_at': 1474958379000, 'favorite_count': 0, 'text': 'RT @GovHowardDean: Notice Trump sniffing all the time. Coke user?', 'created_str': '2016-09-27 06:39:39', 'id': '780658143143534592', 'retweet_count': 0, 'retweeted': False}>) type='POSTED' properties={}>\n",
      "#Ezekiel2517✨... <Relationship id=84890 nodes=(<Node id=0 labels=frozenset({'Troll', 'User'}) properties={'friends_count': 1055, 'listed_count': 35, 'favourites_count': 2774, 'verified': False, 'description': 'CELEBRITY TRAINER ✨#424W147th✨ #CrossfitCoach #NSCA #IRepresentIntellectualViolence...Robinson Cano,Ice T,Missy Elliott, #EaglesDontFlyInFlocks...', 'created_at': 'Tue Dec 29 23:15:22 +0000 2009', 'user_key': 'scottgohard', 'time_zone': '', 'screen_name': 'SCOTTGOHARD', 'statuses_count': 31858, 'followers_count': 1053, 'name': '#Ezekiel2517✨...', 'location': 'still ⬆️Block⤵️Corner⬇️street', 'id': '100345056', 'lang': 'en'}>, <Node id=85302 labels=frozenset({'Tweet'}) properties={'created_at': 1474210020000, 'favorite_count': 0, 'text': 'RT @LoveMeLuLu22: if you can share the #trump photo you can help me raise awareness on the #FlintWaterCrisis #LittleMissFlint #Flint https:…', 'created_str': '2016-09-18 14:47:00', 'id': '777519294192218112', 'retweet_count': 0, 'retweeted': False}>) type='POSTED' properties={}>\n",
      "#Ezekiel2517✨... <Relationship id=88077 nodes=(<Node id=0 labels=frozenset({'Troll', 'User'}) properties={'friends_count': 1055, 'listed_count': 35, 'favourites_count': 2774, 'verified': False, 'description': 'CELEBRITY TRAINER ✨#424W147th✨ #CrossfitCoach #NSCA #IRepresentIntellectualViolence...Robinson Cano,Ice T,Missy Elliott, #EaglesDontFlyInFlocks...', 'created_at': 'Tue Dec 29 23:15:22 +0000 2009', 'user_key': 'scottgohard', 'time_zone': '', 'screen_name': 'SCOTTGOHARD', 'statuses_count': 31858, 'followers_count': 1053, 'name': '#Ezekiel2517✨...', 'location': 'still ⬆️Block⤵️Corner⬇️street', 'id': '100345056', 'lang': 'en'}>, <Node id=88468 labels=frozenset({'Tweet'}) properties={'created_at': 1469720518000, 'favorite_count': 0, 'text': \"BOYCOTT @HomeDepot for endorsing this racist, sexist POS...nah then again he's the whole shit @realDonaldTrump https://t.co/apeJdkSfY1\", 'created_str': '2016-07-28 15:41:58', 'id': '758688959882993664', 'retweet_count': 0, 'retweeted': False}>) type='POSTED' properties={}>\n"
     ]
    }
   ],
   "source": [
    "cypher_query = '''\n",
    "MATCH (n)-[r]-(n2)\n",
    "RETURN n, r, n2\n",
    "LIMIT 50\n",
    "'''\n",
    "\n",
    "results = session.run(cypher_query,\n",
    "  parameters={})\n",
    "\n",
    "for record in results:\n",
    "  print(record[\"n2\"][\"name\"], record[\"r\"])\n"
   ]
  },
  {
   "cell_type": "code",
   "execution_count": null,
   "metadata": {},
   "outputs": [],
   "source": []
  },
  {
   "cell_type": "code",
   "execution_count": 169,
   "metadata": {},
   "outputs": [],
   "source": [
    "_=curSession.run(\"create (a:person {name:'Jane'})-[l:friendOf {sinceOf:'2000'}]->(b:person:technision {name:'Jack'})\")"
   ]
  },
  {
   "cell_type": "code",
   "execution_count": 148,
   "metadata": {},
   "outputs": [],
   "source": [
    "res2=curSession.run(\"match (a:person) return a\")\n",
    "res=[r for r in res2]"
   ]
  },
  {
   "cell_type": "code",
   "execution_count": 149,
   "metadata": {},
   "outputs": [
    {
     "name": "stdout",
     "output_type": "stream",
     "text": [
      "<Record a=<Node id=2 labels={'person'} properties={'name': 'Jane'}>>\n",
      "<Record a=<Node id=3 labels={'technision', 'person'} properties={'name': 'Jack'}>>\n"
     ]
    }
   ],
   "source": [
    "for r in res:\n",
    "    print(r)"
   ]
  },
  {
   "cell_type": "code",
   "execution_count": 150,
   "metadata": {},
   "outputs": [
    {
     "name": "stdout",
     "output_type": "stream",
     "text": [
      "<Node id=2 labels={'person'} properties={'name': 'Jane'}>\n",
      "<Node id=3 labels={'technision', 'person'} properties={'name': 'Jack'}>\n"
     ]
    }
   ],
   "source": [
    "for r in res:\n",
    "    print(r['a'])"
   ]
  },
  {
   "cell_type": "code",
   "execution_count": 151,
   "metadata": {},
   "outputs": [
    {
     "name": "stdout",
     "output_type": "stream",
     "text": [
      "dict_keys(['name'])\n",
      "dict_keys(['name'])\n"
     ]
    }
   ],
   "source": [
    "for r in res:\n",
    "    print(r['a'].keys())"
   ]
  },
  {
   "cell_type": "code",
   "execution_count": 152,
   "metadata": {},
   "outputs": [
    {
     "name": "stdout",
     "output_type": "stream",
     "text": [
      "2 frozenset({'person'})\n",
      "3 frozenset({'technision', 'person'})\n"
     ]
    }
   ],
   "source": [
    "for r in res:\n",
    "    print(r['a'].id, r['a'].labels) "
   ]
  },
  {
   "cell_type": "code",
   "execution_count": 154,
   "metadata": {},
   "outputs": [
    {
     "name": "stdout",
     "output_type": "stream",
     "text": [
      "Jane\n",
      "Jack\n"
     ]
    }
   ],
   "source": [
    "for r in res:\n",
    "    print(r['a']['name']) "
   ]
  },
  {
   "cell_type": "code",
   "execution_count": 155,
   "metadata": {},
   "outputs": [
    {
     "name": "stdout",
     "output_type": "stream",
     "text": [
      "Jack\n"
     ]
    }
   ],
   "source": [
    "res2=curSession.run(\"match (a:technision) return a\")\n",
    "res=[r for r in res2]\n",
    "for r in res:\n",
    "    print(r['a']['name']) "
   ]
  },
  {
   "cell_type": "code",
   "execution_count": 157,
   "metadata": {},
   "outputs": [
    {
     "name": "stdout",
     "output_type": "stream",
     "text": [
      "<Node id=3 labels={'technision', 'person'} properties={'secondname': 'Second', 'name': 'Jack'}>\n"
     ]
    }
   ],
   "source": [
    "res2=curSession.run(\"match (a:technision) set a.secondname='Second' return a\")\n",
    "res=[r for r in res2]\n",
    "for r in res:\n",
    "    print(r['a']) "
   ]
  },
  {
   "cell_type": "code",
   "execution_count": 159,
   "metadata": {},
   "outputs": [
    {
     "name": "stdout",
     "output_type": "stream",
     "text": [
      "<Node id=2 labels={'person'} properties={'name': 'Jane'}>\n",
      "<Node id=3 labels={'technision', 'person'} properties={'secondname': 'Second', 'name': 'Jack'}>\n"
     ]
    }
   ],
   "source": [
    "res2=curSession.run(\"match (a:person) return a\")\n",
    "res=[r for r in res2]\n",
    "for r in res:\n",
    "    print(r['a']) "
   ]
  },
  {
   "cell_type": "code",
   "execution_count": 165,
   "metadata": {},
   "outputs": [
    {
     "name": "stdout",
     "output_type": "stream",
     "text": [
      "<Node id=2 labels={'person'} properties={'secondname': 'James', 'name': 'Jane'}>\n"
     ]
    }
   ],
   "source": [
    "res2=curSession.run(\"match (a:person) where not exists(a.secondname) set a.secondname='James' return a\")\n",
    "res=[r for r in res2]\n",
    "for r in res:\n",
    "    print(r['a']) "
   ]
  },
  {
   "cell_type": "code",
   "execution_count": 170,
   "metadata": {},
   "outputs": [
    {
     "name": "stdout",
     "output_type": "stream",
     "text": [
      "<Node id=0 labels={'technision', 'person'} properties={'name': 'Jack'}>\n",
      "<Node id=20 labels={'person'} properties={'name': 'Jane'}>\n"
     ]
    }
   ],
   "source": [
    "res2=curSession.run(\"match (a:person) return a\")\n",
    "res=[r for r in res2]\n",
    "for r in res:\n",
    "    print(r['a']) "
   ]
  },
  {
   "cell_type": "code",
   "execution_count": null,
   "metadata": {},
   "outputs": [],
   "source": []
  },
  {
   "cell_type": "code",
   "execution_count": 179,
   "metadata": {},
   "outputs": [
    {
     "name": "stdout",
     "output_type": "stream",
     "text": [
      "<Record a=<Node id=0 labels={'technision', 'person'} properties={'name': 'Jack'}> r=<Relationship id=20 nodes=(<Node id=20 labels={'person'} properties={'name': 'Jane'}>, <Node id=0 labels={'technision', 'person'} properties={'name': 'Jack'}>) type='friendOf' properties={'sinceOf': '2000'}>>\n",
      "<Record a=<Node id=20 labels={'person'} properties={'name': 'Jane'}> r=<Relationship id=20 nodes=(<Node id=20 labels={'person'} properties={'name': 'Jane'}>, <Node id=0 labels={'technision', 'person'} properties={'name': 'Jack'}>) type='friendOf' properties={'sinceOf': '2000'}>>\n"
     ]
    }
   ],
   "source": [
    "res2=curSession.run(\"match ()-[r]-(a) return a, r\")\n",
    "res=[r for r in res2]\n",
    "for r in res:\n",
    "    print(r)"
   ]
  },
  {
   "cell_type": "code",
   "execution_count": 168,
   "metadata": {},
   "outputs": [],
   "source": [
    "res2=curSession.run('match ()-[r]-() delete r')\n",
    "res2=curSession.run('match (p) delete p')\n",
    "res2=curSession.run(\"match (a) return a\")\n",
    "res=[r for r in res2]\n",
    "for r in res:\n",
    "    print(r['a']) "
   ]
  },
  {
   "cell_type": "code",
   "execution_count": 181,
   "metadata": {},
   "outputs": [],
   "source": [
    "res2=curSession.run(\"match ()-[r]-() return r\")\n",
    "res=[r for r in res2]\n",
    "for r in res:\n",
    "    curSession.run(\"match ()-[r]-() where id(r)={} delete r\".format(r['r'].id))\n",
    "\n",
    "res2=curSession.run(\"match (a) return a\")\n",
    "res=[r for r in res2]\n",
    "for r in res:\n",
    "    curSession.run(\"match (a) where id(a)={} delete a\".format(r['a'].id))"
   ]
  },
  {
   "cell_type": "code",
   "execution_count": null,
   "metadata": {},
   "outputs": [],
   "source": []
  },
  {
   "cell_type": "code",
   "execution_count": 11,
   "metadata": {},
   "outputs": [],
   "source": [
    "fairytale = {\"persons\":\n",
    " [{\"id\":1, \"name\":\"Zelda\", \"labels\":[\"princess\"], \"xp\":10, \"hp\":100}, \n",
    "  {\"id\":2, \"name\":\"Foegelchen\", \"labels\":['king'], 'xp': 10, 'hp': 100, 'king_of': 'Fairy Country' } \n",
    " ],\n",
    " \"buildings\":\n",
    " [{\"labels\":['castle', 'building'], 'name': 'Neuschwanstein', 'strong': 1000, \"owner\":1, \"owned_since\":1235},\n",
    "  {\"labels\":['cabin', 'building'], 'strong': 100, 'lat': 40.5675, 'long': 20.5234, \"owner\":2, \"owned_since\":1700},\n",
    "  {\"labels\":['cabin', 'building'], 'strong': 100, 'lat': 40.6751, 'long': 20.5232, \"owner\":2, \"owned_since\":1700}     \n",
    " ]\n",
    "}"
   ]
  },
  {
   "cell_type": "code",
   "execution_count": 12,
   "metadata": {},
   "outputs": [],
   "source": [
    "from tqdm import tqdm"
   ]
  },
  {
   "cell_type": "code",
   "execution_count": 13,
   "metadata": {},
   "outputs": [
    {
     "name": "stderr",
     "output_type": "stream",
     "text": [
      "100%|██████████| 100/100 [00:05<00:00, 19.55it/s]"
     ]
    },
    {
     "name": "stdout",
     "output_type": "stream",
     "text": [
      "CPU times: user 220 ms, sys: 32.1 ms, total: 252 ms\n",
      "Wall time: 5.15 s\n"
     ]
    },
    {
     "name": "stderr",
     "output_type": "stream",
     "text": [
      "\n"
     ]
    }
   ],
   "source": [
    "%%time\n",
    "#req = \"match (n) detach delete n\"\n",
    "#results = session.run(req)\n",
    "\n",
    "for j in tqdm(range(100)):\n",
    "    \n",
    "    for i, pers in enumerate(fairytale[\"persons\"]):\n",
    "        label = \":\".join(pers[\"labels\"])\n",
    "        features = f'id:{pers[\"id\"]}, name:\"{pers[\"name\"]}\", xp:{pers[\"xp\"]}, hp:{pers[\"hp\"]}'\n",
    "        req=\"CREATE (:\"+label+\" {\"+features+\"})\"\n",
    "        #print(req)\n",
    "        results = session.run(req)\n"
   ]
  },
  {
   "cell_type": "code",
   "execution_count": null,
   "metadata": {},
   "outputs": [],
   "source": []
  },
  {
   "cell_type": "markdown",
   "metadata": {},
   "source": [
    "Попробуем подключиться к локальной базе и рассказать сказку. Запустим ее, например, при помощи  \n",
    "`docker run --publish=7474:7474 --publish=7687:7687 --volume=$HOME/neo4j/data:/data neo4j` .  \n",
    "По умолчанию Neo4j создает пользователя с именем neo4j и паролем neo4j. Но при первом подключении он просит сменить пароль у этого пользователя.\n",
    "\n",
    "Если к этой команде в середину добавить  \n",
    "`--env=NEO4J_AUTH=none` ,  \n",
    "то можно будет обойтись без логина.\n",
    "\n"
   ]
  },
  {
   "cell_type": "code",
   "execution_count": 17,
   "metadata": {},
   "outputs": [],
   "source": [
    "#driver = GraphDatabase.driver(\"bolt://localhost:7687/db/GameDev/\")\n",
    "#driver = GraphDatabase.driver(\"bolt://localhost:7687/db/Syntax/\")\n",
    "#driver = GraphDatabase.driver(\"bolt://localhost:7687/db/neo4j/\", auth=('neo4j', 'ANewPassword'))\n",
    "#driver = GraphDatabase.driver(\"bolt://0.0.0.0:7687/\", auth=(\"neo4j\", \"neo4j2\"))\n",
    "driver = GraphDatabase.driver(\"bolt://0.0.0.0:7687/\", auth=basic_auth(\"neo4j\", \"neo4j2\"))\n",
    "session = driver.session()"
   ]
  },
  {
   "cell_type": "code",
   "execution_count": 18,
   "metadata": {},
   "outputs": [
    {
     "name": "stdout",
     "output_type": "stream",
     "text": [
      "<Record n=<Node id=0 labels=frozenset({'princess'}) properties={'name': 'Zelda', 'xp': 10, 'hp': 100, 'id': 1}>>\n",
      "<Record n=<Node id=1 labels=frozenset({'king'}) properties={'name': 'Foegelchen', 'xp': 10, 'hp': 100, 'id': 2}>>\n",
      "<Record n=<Node id=2 labels=frozenset({'princess'}) properties={'name': 'Zelda', 'xp': 10, 'hp': 100, 'id': 1}>>\n",
      "<Record n=<Node id=3 labels=frozenset({'king'}) properties={'name': 'Foegelchen', 'xp': 10, 'hp': 100, 'id': 2}>>\n",
      "<Record n=<Node id=4 labels=frozenset({'princess'}) properties={'name': 'Zelda', 'xp': 10, 'hp': 100, 'id': 1}>>\n",
      "<Record n=<Node id=5 labels=frozenset({'king'}) properties={'name': 'Foegelchen', 'xp': 10, 'hp': 100, 'id': 2}>>\n",
      "<Record n=<Node id=6 labels=frozenset({'princess'}) properties={'name': 'Zelda', 'xp': 10, 'hp': 100, 'id': 1}>>\n",
      "<Record n=<Node id=7 labels=frozenset({'king'}) properties={'name': 'Foegelchen', 'xp': 10, 'hp': 100, 'id': 2}>>\n",
      "<Record n=<Node id=8 labels=frozenset({'princess'}) properties={'name': 'Zelda', 'xp': 10, 'hp': 100, 'id': 1}>>\n",
      "<Record n=<Node id=9 labels=frozenset({'king'}) properties={'name': 'Foegelchen', 'xp': 10, 'hp': 100, 'id': 2}>>\n",
      "<Record n=<Node id=10 labels=frozenset({'princess'}) properties={'name': 'Zelda', 'xp': 10, 'hp': 100, 'id': 1}>>\n",
      "<Record n=<Node id=11 labels=frozenset({'king'}) properties={'name': 'Foegelchen', 'xp': 10, 'hp': 100, 'id': 2}>>\n",
      "<Record n=<Node id=12 labels=frozenset({'princess'}) properties={'name': 'Zelda', 'xp': 10, 'hp': 100, 'id': 1}>>\n",
      "<Record n=<Node id=13 labels=frozenset({'king'}) properties={'name': 'Foegelchen', 'xp': 10, 'hp': 100, 'id': 2}>>\n",
      "<Record n=<Node id=14 labels=frozenset({'princess'}) properties={'name': 'Zelda', 'xp': 10, 'hp': 100, 'id': 1}>>\n",
      "<Record n=<Node id=15 labels=frozenset({'king'}) properties={'name': 'Foegelchen', 'xp': 10, 'hp': 100, 'id': 2}>>\n",
      "<Record n=<Node id=16 labels=frozenset({'princess'}) properties={'name': 'Zelda', 'xp': 10, 'hp': 100, 'id': 1}>>\n",
      "<Record n=<Node id=17 labels=frozenset({'king'}) properties={'name': 'Foegelchen', 'xp': 10, 'hp': 100, 'id': 2}>>\n",
      "<Record n=<Node id=18 labels=frozenset({'princess'}) properties={'name': 'Zelda', 'xp': 10, 'hp': 100, 'id': 1}>>\n",
      "<Record n=<Node id=19 labels=frozenset({'king'}) properties={'name': 'Foegelchen', 'xp': 10, 'hp': 100, 'id': 2}>>\n",
      "<Record n=<Node id=20 labels=frozenset({'princess'}) properties={'name': 'Zelda', 'xp': 10, 'hp': 100, 'id': 1}>>\n",
      "<Record n=<Node id=21 labels=frozenset({'king'}) properties={'name': 'Foegelchen', 'xp': 10, 'hp': 100, 'id': 2}>>\n",
      "<Record n=<Node id=22 labels=frozenset({'princess'}) properties={'name': 'Zelda', 'xp': 10, 'hp': 100, 'id': 1}>>\n",
      "<Record n=<Node id=23 labels=frozenset({'king'}) properties={'name': 'Foegelchen', 'xp': 10, 'hp': 100, 'id': 2}>>\n",
      "<Record n=<Node id=24 labels=frozenset({'princess'}) properties={'name': 'Zelda', 'xp': 10, 'hp': 100, 'id': 1}>>\n",
      "<Record n=<Node id=25 labels=frozenset({'king'}) properties={'name': 'Foegelchen', 'xp': 10, 'hp': 100, 'id': 2}>>\n",
      "<Record n=<Node id=26 labels=frozenset({'princess'}) properties={'name': 'Zelda', 'xp': 10, 'hp': 100, 'id': 1}>>\n",
      "<Record n=<Node id=27 labels=frozenset({'king'}) properties={'name': 'Foegelchen', 'xp': 10, 'hp': 100, 'id': 2}>>\n",
      "<Record n=<Node id=28 labels=frozenset({'princess'}) properties={'name': 'Zelda', 'xp': 10, 'hp': 100, 'id': 1}>>\n",
      "<Record n=<Node id=29 labels=frozenset({'king'}) properties={'name': 'Foegelchen', 'xp': 10, 'hp': 100, 'id': 2}>>\n",
      "<Record n=<Node id=30 labels=frozenset({'princess'}) properties={'name': 'Zelda', 'xp': 10, 'hp': 100, 'id': 1}>>\n",
      "<Record n=<Node id=31 labels=frozenset({'king'}) properties={'name': 'Foegelchen', 'xp': 10, 'hp': 100, 'id': 2}>>\n",
      "<Record n=<Node id=32 labels=frozenset({'princess'}) properties={'name': 'Zelda', 'xp': 10, 'hp': 100, 'id': 1}>>\n",
      "<Record n=<Node id=33 labels=frozenset({'king'}) properties={'name': 'Foegelchen', 'xp': 10, 'hp': 100, 'id': 2}>>\n",
      "<Record n=<Node id=34 labels=frozenset({'princess'}) properties={'name': 'Zelda', 'xp': 10, 'hp': 100, 'id': 1}>>\n",
      "<Record n=<Node id=35 labels=frozenset({'king'}) properties={'name': 'Foegelchen', 'xp': 10, 'hp': 100, 'id': 2}>>\n",
      "<Record n=<Node id=36 labels=frozenset({'princess'}) properties={'name': 'Zelda', 'xp': 10, 'hp': 100, 'id': 1}>>\n",
      "<Record n=<Node id=37 labels=frozenset({'king'}) properties={'name': 'Foegelchen', 'xp': 10, 'hp': 100, 'id': 2}>>\n",
      "<Record n=<Node id=38 labels=frozenset({'princess'}) properties={'name': 'Zelda', 'xp': 10, 'hp': 100, 'id': 1}>>\n",
      "<Record n=<Node id=39 labels=frozenset({'king'}) properties={'name': 'Foegelchen', 'xp': 10, 'hp': 100, 'id': 2}>>\n",
      "<Record n=<Node id=40 labels=frozenset({'princess'}) properties={'name': 'Zelda', 'xp': 10, 'hp': 100, 'id': 1}>>\n",
      "<Record n=<Node id=41 labels=frozenset({'king'}) properties={'name': 'Foegelchen', 'xp': 10, 'hp': 100, 'id': 2}>>\n",
      "<Record n=<Node id=42 labels=frozenset({'princess'}) properties={'name': 'Zelda', 'xp': 10, 'hp': 100, 'id': 1}>>\n",
      "<Record n=<Node id=43 labels=frozenset({'king'}) properties={'name': 'Foegelchen', 'xp': 10, 'hp': 100, 'id': 2}>>\n",
      "<Record n=<Node id=44 labels=frozenset({'princess'}) properties={'name': 'Zelda', 'xp': 10, 'hp': 100, 'id': 1}>>\n",
      "<Record n=<Node id=45 labels=frozenset({'king'}) properties={'name': 'Foegelchen', 'xp': 10, 'hp': 100, 'id': 2}>>\n",
      "<Record n=<Node id=46 labels=frozenset({'princess'}) properties={'name': 'Zelda', 'xp': 10, 'hp': 100, 'id': 1}>>\n",
      "<Record n=<Node id=47 labels=frozenset({'king'}) properties={'name': 'Foegelchen', 'xp': 10, 'hp': 100, 'id': 2}>>\n",
      "<Record n=<Node id=48 labels=frozenset({'princess'}) properties={'name': 'Zelda', 'xp': 10, 'hp': 100, 'id': 1}>>\n",
      "<Record n=<Node id=49 labels=frozenset({'king'}) properties={'name': 'Foegelchen', 'xp': 10, 'hp': 100, 'id': 2}>>\n",
      "<Record n=<Node id=50 labels=frozenset({'princess'}) properties={'name': 'Zelda', 'xp': 10, 'hp': 100, 'id': 1}>>\n",
      "<Record n=<Node id=51 labels=frozenset({'king'}) properties={'name': 'Foegelchen', 'xp': 10, 'hp': 100, 'id': 2}>>\n",
      "<Record n=<Node id=52 labels=frozenset({'princess'}) properties={'name': 'Zelda', 'xp': 10, 'hp': 100, 'id': 1}>>\n",
      "<Record n=<Node id=53 labels=frozenset({'king'}) properties={'name': 'Foegelchen', 'xp': 10, 'hp': 100, 'id': 2}>>\n",
      "<Record n=<Node id=54 labels=frozenset({'princess'}) properties={'name': 'Zelda', 'xp': 10, 'hp': 100, 'id': 1}>>\n",
      "<Record n=<Node id=55 labels=frozenset({'king'}) properties={'name': 'Foegelchen', 'xp': 10, 'hp': 100, 'id': 2}>>\n",
      "<Record n=<Node id=56 labels=frozenset({'princess'}) properties={'name': 'Zelda', 'xp': 10, 'hp': 100, 'id': 1}>>\n",
      "<Record n=<Node id=57 labels=frozenset({'king'}) properties={'name': 'Foegelchen', 'xp': 10, 'hp': 100, 'id': 2}>>\n",
      "<Record n=<Node id=58 labels=frozenset({'princess'}) properties={'name': 'Zelda', 'xp': 10, 'hp': 100, 'id': 1}>>\n",
      "<Record n=<Node id=59 labels=frozenset({'king'}) properties={'name': 'Foegelchen', 'xp': 10, 'hp': 100, 'id': 2}>>\n",
      "<Record n=<Node id=60 labels=frozenset({'princess'}) properties={'name': 'Zelda', 'xp': 10, 'hp': 100, 'id': 1}>>\n",
      "<Record n=<Node id=61 labels=frozenset({'king'}) properties={'name': 'Foegelchen', 'xp': 10, 'hp': 100, 'id': 2}>>\n",
      "<Record n=<Node id=62 labels=frozenset({'princess'}) properties={'name': 'Zelda', 'xp': 10, 'hp': 100, 'id': 1}>>\n",
      "<Record n=<Node id=63 labels=frozenset({'king'}) properties={'name': 'Foegelchen', 'xp': 10, 'hp': 100, 'id': 2}>>\n",
      "<Record n=<Node id=64 labels=frozenset({'princess'}) properties={'name': 'Zelda', 'xp': 10, 'hp': 100, 'id': 1}>>\n",
      "<Record n=<Node id=65 labels=frozenset({'king'}) properties={'name': 'Foegelchen', 'xp': 10, 'hp': 100, 'id': 2}>>\n",
      "<Record n=<Node id=66 labels=frozenset({'princess'}) properties={'name': 'Zelda', 'xp': 10, 'hp': 100, 'id': 1}>>\n",
      "<Record n=<Node id=67 labels=frozenset({'king'}) properties={'name': 'Foegelchen', 'xp': 10, 'hp': 100, 'id': 2}>>\n",
      "<Record n=<Node id=68 labels=frozenset({'princess'}) properties={'name': 'Zelda', 'xp': 10, 'hp': 100, 'id': 1}>>\n",
      "<Record n=<Node id=69 labels=frozenset({'king'}) properties={'name': 'Foegelchen', 'xp': 10, 'hp': 100, 'id': 2}>>\n",
      "<Record n=<Node id=70 labels=frozenset({'princess'}) properties={'name': 'Zelda', 'xp': 10, 'hp': 100, 'id': 1}>>\n",
      "<Record n=<Node id=71 labels=frozenset({'king'}) properties={'name': 'Foegelchen', 'xp': 10, 'hp': 100, 'id': 2}>>\n",
      "<Record n=<Node id=72 labels=frozenset({'princess'}) properties={'name': 'Zelda', 'xp': 10, 'hp': 100, 'id': 1}>>\n",
      "<Record n=<Node id=73 labels=frozenset({'king'}) properties={'name': 'Foegelchen', 'xp': 10, 'hp': 100, 'id': 2}>>\n",
      "<Record n=<Node id=74 labels=frozenset({'princess'}) properties={'name': 'Zelda', 'xp': 10, 'hp': 100, 'id': 1}>>\n",
      "<Record n=<Node id=75 labels=frozenset({'king'}) properties={'name': 'Foegelchen', 'xp': 10, 'hp': 100, 'id': 2}>>\n",
      "<Record n=<Node id=76 labels=frozenset({'princess'}) properties={'name': 'Zelda', 'xp': 10, 'hp': 100, 'id': 1}>>\n",
      "<Record n=<Node id=77 labels=frozenset({'king'}) properties={'name': 'Foegelchen', 'xp': 10, 'hp': 100, 'id': 2}>>\n",
      "<Record n=<Node id=78 labels=frozenset({'princess'}) properties={'name': 'Zelda', 'xp': 10, 'hp': 100, 'id': 1}>>\n",
      "<Record n=<Node id=79 labels=frozenset({'king'}) properties={'name': 'Foegelchen', 'xp': 10, 'hp': 100, 'id': 2}>>\n",
      "<Record n=<Node id=80 labels=frozenset({'princess'}) properties={'name': 'Zelda', 'xp': 10, 'hp': 100, 'id': 1}>>\n",
      "<Record n=<Node id=81 labels=frozenset({'king'}) properties={'name': 'Foegelchen', 'xp': 10, 'hp': 100, 'id': 2}>>\n",
      "<Record n=<Node id=82 labels=frozenset({'princess'}) properties={'name': 'Zelda', 'xp': 10, 'hp': 100, 'id': 1}>>\n",
      "<Record n=<Node id=83 labels=frozenset({'king'}) properties={'name': 'Foegelchen', 'xp': 10, 'hp': 100, 'id': 2}>>\n",
      "<Record n=<Node id=84 labels=frozenset({'princess'}) properties={'name': 'Zelda', 'xp': 10, 'hp': 100, 'id': 1}>>\n",
      "<Record n=<Node id=85 labels=frozenset({'king'}) properties={'name': 'Foegelchen', 'xp': 10, 'hp': 100, 'id': 2}>>\n",
      "<Record n=<Node id=86 labels=frozenset({'princess'}) properties={'name': 'Zelda', 'xp': 10, 'hp': 100, 'id': 1}>>\n",
      "<Record n=<Node id=87 labels=frozenset({'king'}) properties={'name': 'Foegelchen', 'xp': 10, 'hp': 100, 'id': 2}>>\n",
      "<Record n=<Node id=88 labels=frozenset({'princess'}) properties={'name': 'Zelda', 'xp': 10, 'hp': 100, 'id': 1}>>\n",
      "<Record n=<Node id=89 labels=frozenset({'king'}) properties={'name': 'Foegelchen', 'xp': 10, 'hp': 100, 'id': 2}>>\n",
      "<Record n=<Node id=90 labels=frozenset({'princess'}) properties={'name': 'Zelda', 'xp': 10, 'hp': 100, 'id': 1}>>\n",
      "<Record n=<Node id=91 labels=frozenset({'king'}) properties={'name': 'Foegelchen', 'xp': 10, 'hp': 100, 'id': 2}>>\n",
      "<Record n=<Node id=92 labels=frozenset({'princess'}) properties={'name': 'Zelda', 'xp': 10, 'hp': 100, 'id': 1}>>\n",
      "<Record n=<Node id=93 labels=frozenset({'king'}) properties={'name': 'Foegelchen', 'xp': 10, 'hp': 100, 'id': 2}>>\n",
      "<Record n=<Node id=94 labels=frozenset({'princess'}) properties={'name': 'Zelda', 'xp': 10, 'hp': 100, 'id': 1}>>\n",
      "<Record n=<Node id=95 labels=frozenset({'king'}) properties={'name': 'Foegelchen', 'xp': 10, 'hp': 100, 'id': 2}>>\n",
      "<Record n=<Node id=96 labels=frozenset({'princess'}) properties={'name': 'Zelda', 'xp': 10, 'hp': 100, 'id': 1}>>\n",
      "<Record n=<Node id=97 labels=frozenset({'king'}) properties={'name': 'Foegelchen', 'xp': 10, 'hp': 100, 'id': 2}>>\n",
      "<Record n=<Node id=98 labels=frozenset({'princess'}) properties={'name': 'Zelda', 'xp': 10, 'hp': 100, 'id': 1}>>\n",
      "<Record n=<Node id=99 labels=frozenset({'king'}) properties={'name': 'Foegelchen', 'xp': 10, 'hp': 100, 'id': 2}>>\n",
      "<Record n=<Node id=100 labels=frozenset({'princess'}) properties={'name': 'Zelda', 'xp': 10, 'hp': 100, 'id': 1}>>\n",
      "<Record n=<Node id=101 labels=frozenset({'king'}) properties={'name': 'Foegelchen', 'xp': 10, 'hp': 100, 'id': 2}>>\n",
      "<Record n=<Node id=102 labels=frozenset({'princess'}) properties={'name': 'Zelda', 'xp': 10, 'hp': 100, 'id': 1}>>\n",
      "<Record n=<Node id=103 labels=frozenset({'king'}) properties={'name': 'Foegelchen', 'xp': 10, 'hp': 100, 'id': 2}>>\n",
      "<Record n=<Node id=104 labels=frozenset({'princess'}) properties={'name': 'Zelda', 'xp': 10, 'hp': 100, 'id': 1}>>\n",
      "<Record n=<Node id=105 labels=frozenset({'king'}) properties={'name': 'Foegelchen', 'xp': 10, 'hp': 100, 'id': 2}>>\n",
      "<Record n=<Node id=106 labels=frozenset({'princess'}) properties={'name': 'Zelda', 'xp': 10, 'hp': 100, 'id': 1}>>\n",
      "<Record n=<Node id=107 labels=frozenset({'king'}) properties={'name': 'Foegelchen', 'xp': 10, 'hp': 100, 'id': 2}>>\n",
      "<Record n=<Node id=108 labels=frozenset({'princess'}) properties={'name': 'Zelda', 'xp': 10, 'hp': 100, 'id': 1}>>\n",
      "<Record n=<Node id=109 labels=frozenset({'king'}) properties={'name': 'Foegelchen', 'xp': 10, 'hp': 100, 'id': 2}>>\n",
      "<Record n=<Node id=110 labels=frozenset({'princess'}) properties={'name': 'Zelda', 'xp': 10, 'hp': 100, 'id': 1}>>\n",
      "<Record n=<Node id=111 labels=frozenset({'king'}) properties={'name': 'Foegelchen', 'xp': 10, 'hp': 100, 'id': 2}>>\n",
      "<Record n=<Node id=112 labels=frozenset({'princess'}) properties={'name': 'Zelda', 'xp': 10, 'hp': 100, 'id': 1}>>\n",
      "<Record n=<Node id=113 labels=frozenset({'king'}) properties={'name': 'Foegelchen', 'xp': 10, 'hp': 100, 'id': 2}>>\n",
      "<Record n=<Node id=114 labels=frozenset({'princess'}) properties={'name': 'Zelda', 'xp': 10, 'hp': 100, 'id': 1}>>\n",
      "<Record n=<Node id=115 labels=frozenset({'king'}) properties={'name': 'Foegelchen', 'xp': 10, 'hp': 100, 'id': 2}>>\n",
      "<Record n=<Node id=116 labels=frozenset({'princess'}) properties={'name': 'Zelda', 'xp': 10, 'hp': 100, 'id': 1}>>\n",
      "<Record n=<Node id=117 labels=frozenset({'king'}) properties={'name': 'Foegelchen', 'xp': 10, 'hp': 100, 'id': 2}>>\n",
      "<Record n=<Node id=118 labels=frozenset({'princess'}) properties={'name': 'Zelda', 'xp': 10, 'hp': 100, 'id': 1}>>\n",
      "<Record n=<Node id=119 labels=frozenset({'king'}) properties={'name': 'Foegelchen', 'xp': 10, 'hp': 100, 'id': 2}>>\n",
      "<Record n=<Node id=120 labels=frozenset({'princess'}) properties={'name': 'Zelda', 'xp': 10, 'hp': 100, 'id': 1}>>\n",
      "<Record n=<Node id=121 labels=frozenset({'king'}) properties={'name': 'Foegelchen', 'xp': 10, 'hp': 100, 'id': 2}>>\n",
      "<Record n=<Node id=122 labels=frozenset({'princess'}) properties={'name': 'Zelda', 'xp': 10, 'hp': 100, 'id': 1}>>\n",
      "<Record n=<Node id=123 labels=frozenset({'king'}) properties={'name': 'Foegelchen', 'xp': 10, 'hp': 100, 'id': 2}>>\n",
      "<Record n=<Node id=124 labels=frozenset({'princess'}) properties={'name': 'Zelda', 'xp': 10, 'hp': 100, 'id': 1}>>\n",
      "<Record n=<Node id=125 labels=frozenset({'king'}) properties={'name': 'Foegelchen', 'xp': 10, 'hp': 100, 'id': 2}>>\n",
      "<Record n=<Node id=126 labels=frozenset({'princess'}) properties={'name': 'Zelda', 'xp': 10, 'hp': 100, 'id': 1}>>\n",
      "<Record n=<Node id=127 labels=frozenset({'king'}) properties={'name': 'Foegelchen', 'xp': 10, 'hp': 100, 'id': 2}>>\n",
      "<Record n=<Node id=128 labels=frozenset({'princess'}) properties={'name': 'Zelda', 'xp': 10, 'hp': 100, 'id': 1}>>\n",
      "<Record n=<Node id=129 labels=frozenset({'king'}) properties={'name': 'Foegelchen', 'xp': 10, 'hp': 100, 'id': 2}>>\n",
      "<Record n=<Node id=130 labels=frozenset({'princess'}) properties={'name': 'Zelda', 'xp': 10, 'hp': 100, 'id': 1}>>\n",
      "<Record n=<Node id=131 labels=frozenset({'king'}) properties={'name': 'Foegelchen', 'xp': 10, 'hp': 100, 'id': 2}>>\n",
      "<Record n=<Node id=132 labels=frozenset({'princess'}) properties={'name': 'Zelda', 'xp': 10, 'hp': 100, 'id': 1}>>\n",
      "<Record n=<Node id=133 labels=frozenset({'king'}) properties={'name': 'Foegelchen', 'xp': 10, 'hp': 100, 'id': 2}>>\n",
      "<Record n=<Node id=134 labels=frozenset({'princess'}) properties={'name': 'Zelda', 'xp': 10, 'hp': 100, 'id': 1}>>\n",
      "<Record n=<Node id=135 labels=frozenset({'king'}) properties={'name': 'Foegelchen', 'xp': 10, 'hp': 100, 'id': 2}>>\n",
      "<Record n=<Node id=136 labels=frozenset({'princess'}) properties={'name': 'Zelda', 'xp': 10, 'hp': 100, 'id': 1}>>\n",
      "<Record n=<Node id=137 labels=frozenset({'king'}) properties={'name': 'Foegelchen', 'xp': 10, 'hp': 100, 'id': 2}>>\n",
      "<Record n=<Node id=138 labels=frozenset({'princess'}) properties={'name': 'Zelda', 'xp': 10, 'hp': 100, 'id': 1}>>\n",
      "<Record n=<Node id=139 labels=frozenset({'king'}) properties={'name': 'Foegelchen', 'xp': 10, 'hp': 100, 'id': 2}>>\n",
      "<Record n=<Node id=140 labels=frozenset({'princess'}) properties={'name': 'Zelda', 'xp': 10, 'hp': 100, 'id': 1}>>\n",
      "<Record n=<Node id=141 labels=frozenset({'king'}) properties={'name': 'Foegelchen', 'xp': 10, 'hp': 100, 'id': 2}>>\n",
      "<Record n=<Node id=142 labels=frozenset({'princess'}) properties={'name': 'Zelda', 'xp': 10, 'hp': 100, 'id': 1}>>\n",
      "<Record n=<Node id=143 labels=frozenset({'king'}) properties={'name': 'Foegelchen', 'xp': 10, 'hp': 100, 'id': 2}>>\n",
      "<Record n=<Node id=144 labels=frozenset({'princess'}) properties={'name': 'Zelda', 'xp': 10, 'hp': 100, 'id': 1}>>\n",
      "<Record n=<Node id=145 labels=frozenset({'king'}) properties={'name': 'Foegelchen', 'xp': 10, 'hp': 100, 'id': 2}>>\n",
      "<Record n=<Node id=146 labels=frozenset({'princess'}) properties={'name': 'Zelda', 'xp': 10, 'hp': 100, 'id': 1}>>\n",
      "<Record n=<Node id=147 labels=frozenset({'king'}) properties={'name': 'Foegelchen', 'xp': 10, 'hp': 100, 'id': 2}>>\n",
      "<Record n=<Node id=148 labels=frozenset({'princess'}) properties={'name': 'Zelda', 'xp': 10, 'hp': 100, 'id': 1}>>\n",
      "<Record n=<Node id=149 labels=frozenset({'king'}) properties={'name': 'Foegelchen', 'xp': 10, 'hp': 100, 'id': 2}>>\n",
      "<Record n=<Node id=150 labels=frozenset({'princess'}) properties={'name': 'Zelda', 'xp': 10, 'hp': 100, 'id': 1}>>\n",
      "<Record n=<Node id=151 labels=frozenset({'king'}) properties={'name': 'Foegelchen', 'xp': 10, 'hp': 100, 'id': 2}>>\n",
      "<Record n=<Node id=152 labels=frozenset({'princess'}) properties={'name': 'Zelda', 'xp': 10, 'hp': 100, 'id': 1}>>\n",
      "<Record n=<Node id=153 labels=frozenset({'king'}) properties={'name': 'Foegelchen', 'xp': 10, 'hp': 100, 'id': 2}>>\n",
      "<Record n=<Node id=154 labels=frozenset({'princess'}) properties={'name': 'Zelda', 'xp': 10, 'hp': 100, 'id': 1}>>\n",
      "<Record n=<Node id=155 labels=frozenset({'king'}) properties={'name': 'Foegelchen', 'xp': 10, 'hp': 100, 'id': 2}>>\n",
      "<Record n=<Node id=156 labels=frozenset({'princess'}) properties={'name': 'Zelda', 'xp': 10, 'hp': 100, 'id': 1}>>\n",
      "<Record n=<Node id=157 labels=frozenset({'king'}) properties={'name': 'Foegelchen', 'xp': 10, 'hp': 100, 'id': 2}>>\n",
      "<Record n=<Node id=158 labels=frozenset({'princess'}) properties={'name': 'Zelda', 'xp': 10, 'hp': 100, 'id': 1}>>\n",
      "<Record n=<Node id=159 labels=frozenset({'king'}) properties={'name': 'Foegelchen', 'xp': 10, 'hp': 100, 'id': 2}>>\n",
      "<Record n=<Node id=160 labels=frozenset({'princess'}) properties={'name': 'Zelda', 'xp': 10, 'hp': 100, 'id': 1}>>\n",
      "<Record n=<Node id=161 labels=frozenset({'king'}) properties={'name': 'Foegelchen', 'xp': 10, 'hp': 100, 'id': 2}>>\n",
      "<Record n=<Node id=162 labels=frozenset({'princess'}) properties={'name': 'Zelda', 'xp': 10, 'hp': 100, 'id': 1}>>\n",
      "<Record n=<Node id=163 labels=frozenset({'king'}) properties={'name': 'Foegelchen', 'xp': 10, 'hp': 100, 'id': 2}>>\n",
      "<Record n=<Node id=164 labels=frozenset({'princess'}) properties={'name': 'Zelda', 'xp': 10, 'hp': 100, 'id': 1}>>\n",
      "<Record n=<Node id=165 labels=frozenset({'king'}) properties={'name': 'Foegelchen', 'xp': 10, 'hp': 100, 'id': 2}>>\n",
      "<Record n=<Node id=166 labels=frozenset({'princess'}) properties={'name': 'Zelda', 'xp': 10, 'hp': 100, 'id': 1}>>\n",
      "<Record n=<Node id=167 labels=frozenset({'king'}) properties={'name': 'Foegelchen', 'xp': 10, 'hp': 100, 'id': 2}>>\n",
      "<Record n=<Node id=168 labels=frozenset({'princess'}) properties={'name': 'Zelda', 'xp': 10, 'hp': 100, 'id': 1}>>\n",
      "<Record n=<Node id=169 labels=frozenset({'king'}) properties={'name': 'Foegelchen', 'xp': 10, 'hp': 100, 'id': 2}>>\n",
      "<Record n=<Node id=170 labels=frozenset({'princess'}) properties={'name': 'Zelda', 'xp': 10, 'hp': 100, 'id': 1}>>\n",
      "<Record n=<Node id=171 labels=frozenset({'king'}) properties={'name': 'Foegelchen', 'xp': 10, 'hp': 100, 'id': 2}>>\n",
      "<Record n=<Node id=172 labels=frozenset({'princess'}) properties={'name': 'Zelda', 'xp': 10, 'hp': 100, 'id': 1}>>\n",
      "<Record n=<Node id=173 labels=frozenset({'king'}) properties={'name': 'Foegelchen', 'xp': 10, 'hp': 100, 'id': 2}>>\n",
      "<Record n=<Node id=174 labels=frozenset({'princess'}) properties={'name': 'Zelda', 'xp': 10, 'hp': 100, 'id': 1}>>\n",
      "<Record n=<Node id=175 labels=frozenset({'king'}) properties={'name': 'Foegelchen', 'xp': 10, 'hp': 100, 'id': 2}>>\n",
      "<Record n=<Node id=176 labels=frozenset({'princess'}) properties={'name': 'Zelda', 'xp': 10, 'hp': 100, 'id': 1}>>\n",
      "<Record n=<Node id=177 labels=frozenset({'king'}) properties={'name': 'Foegelchen', 'xp': 10, 'hp': 100, 'id': 2}>>\n",
      "<Record n=<Node id=178 labels=frozenset({'princess'}) properties={'name': 'Zelda', 'xp': 10, 'hp': 100, 'id': 1}>>\n",
      "<Record n=<Node id=179 labels=frozenset({'king'}) properties={'name': 'Foegelchen', 'xp': 10, 'hp': 100, 'id': 2}>>\n",
      "<Record n=<Node id=180 labels=frozenset({'princess'}) properties={'name': 'Zelda', 'xp': 10, 'hp': 100, 'id': 1}>>\n",
      "<Record n=<Node id=181 labels=frozenset({'king'}) properties={'name': 'Foegelchen', 'xp': 10, 'hp': 100, 'id': 2}>>\n",
      "<Record n=<Node id=182 labels=frozenset({'princess'}) properties={'name': 'Zelda', 'xp': 10, 'hp': 100, 'id': 1}>>\n",
      "<Record n=<Node id=183 labels=frozenset({'king'}) properties={'name': 'Foegelchen', 'xp': 10, 'hp': 100, 'id': 2}>>\n",
      "<Record n=<Node id=184 labels=frozenset({'princess'}) properties={'name': 'Zelda', 'xp': 10, 'hp': 100, 'id': 1}>>\n",
      "<Record n=<Node id=185 labels=frozenset({'king'}) properties={'name': 'Foegelchen', 'xp': 10, 'hp': 100, 'id': 2}>>\n",
      "<Record n=<Node id=186 labels=frozenset({'princess'}) properties={'name': 'Zelda', 'xp': 10, 'hp': 100, 'id': 1}>>\n",
      "<Record n=<Node id=187 labels=frozenset({'king'}) properties={'name': 'Foegelchen', 'xp': 10, 'hp': 100, 'id': 2}>>\n",
      "<Record n=<Node id=188 labels=frozenset({'princess'}) properties={'name': 'Zelda', 'xp': 10, 'hp': 100, 'id': 1}>>\n",
      "<Record n=<Node id=189 labels=frozenset({'king'}) properties={'name': 'Foegelchen', 'xp': 10, 'hp': 100, 'id': 2}>>\n",
      "<Record n=<Node id=190 labels=frozenset({'princess'}) properties={'name': 'Zelda', 'xp': 10, 'hp': 100, 'id': 1}>>\n",
      "<Record n=<Node id=191 labels=frozenset({'king'}) properties={'name': 'Foegelchen', 'xp': 10, 'hp': 100, 'id': 2}>>\n",
      "<Record n=<Node id=192 labels=frozenset({'princess'}) properties={'name': 'Zelda', 'xp': 10, 'hp': 100, 'id': 1}>>\n",
      "<Record n=<Node id=193 labels=frozenset({'king'}) properties={'name': 'Foegelchen', 'xp': 10, 'hp': 100, 'id': 2}>>\n",
      "<Record n=<Node id=194 labels=frozenset({'princess'}) properties={'name': 'Zelda', 'xp': 10, 'hp': 100, 'id': 1}>>\n",
      "<Record n=<Node id=195 labels=frozenset({'king'}) properties={'name': 'Foegelchen', 'xp': 10, 'hp': 100, 'id': 2}>>\n",
      "<Record n=<Node id=196 labels=frozenset({'princess'}) properties={'name': 'Zelda', 'xp': 10, 'hp': 100, 'id': 1}>>\n",
      "<Record n=<Node id=197 labels=frozenset({'king'}) properties={'name': 'Foegelchen', 'xp': 10, 'hp': 100, 'id': 2}>>\n",
      "<Record n=<Node id=198 labels=frozenset({'princess'}) properties={'name': 'Zelda', 'xp': 10, 'hp': 100, 'id': 1}>>\n",
      "<Record n=<Node id=199 labels=frozenset({'king'}) properties={'name': 'Foegelchen', 'xp': 10, 'hp': 100, 'id': 2}>>\n"
     ]
    }
   ],
   "source": [
    "cypher_query = '''\n",
    "MATCH (n)\n",
    "RETURN n\n",
    "'''\n",
    "# cypher_query = '''\n",
    "# create (a:person)\n",
    "# RETURN a\n",
    "# '''\n",
    "\n",
    "results = session.run(cypher_query, parameters={})\n",
    "\n",
    "for record in results:\n",
    "  print(record)\n"
   ]
  },
  {
   "cell_type": "code",
   "execution_count": null,
   "metadata": {},
   "outputs": [],
   "source": []
  },
  {
   "cell_type": "markdown",
   "metadata": {},
   "source": [
    "Как ставить написано в [документации](https://neo4j.com/docs/operations-manual/current/installation/windows/) и [документации](https://neo4j.com/docs/operations-manual/current/installation/osx/).\n",
    "\n",
    "Предварительно проверьте, что у вас установлена Java 11.\n",
    "\n",
    "`neo4j-admin set-initial-password ANewPassword`\n",
    "\n",
    "В файле Neo4J.conf необходимо раскомментировать следующий ключ.\n",
    "`dbms.security.auth_enabled=false`\n",
    "Перезапускаем СУБД.\n",
    "\n",
    "В противном случае вам придется сопрягать СУБД с SSL и самостоятельно налаживать аутентификацию.\n",
    "**Предлагаемое решение является дыркой в безопасности, теперь кто угодно может писать и читать эту базу**. Но нас ведь это не смущало у Redis?\n",
    "\n",
    "Теперь заходим в админку базы данных.\n",
    "http://127.0.0.1:7474/\n",
    "\n",
    "\n",
    "ca-sertificates-java\n"
   ]
  },
  {
   "cell_type": "code",
   "execution_count": 19,
   "metadata": {},
   "outputs": [],
   "source": [
    "driver = GraphDatabase.driver(\"bolt://0.0.0.0:7687/db/Syntax/\", auth=basic_auth(\"neo4j\", \"neo4j2\"))\n",
    "session = driver.session()"
   ]
  },
  {
   "cell_type": "code",
   "execution_count": 20,
   "metadata": {},
   "outputs": [
    {
     "name": "stdout",
     "output_type": "stream",
     "text": [
      "Current records:\n",
      "<Record n=<Node id=0 labels=frozenset({'princess'}) properties={'name': 'Zelda', 'xp': 10, 'hp': 100, 'id': 1}>>\n",
      "<Record n=<Node id=1 labels=frozenset({'king'}) properties={'name': 'Foegelchen', 'xp': 10, 'hp': 100, 'id': 2}>>\n",
      "<Record n=<Node id=2 labels=frozenset({'princess'}) properties={'name': 'Zelda', 'xp': 10, 'hp': 100, 'id': 1}>>\n",
      "<Record n=<Node id=3 labels=frozenset({'king'}) properties={'name': 'Foegelchen', 'xp': 10, 'hp': 100, 'id': 2}>>\n",
      "<Record n=<Node id=4 labels=frozenset({'princess'}) properties={'name': 'Zelda', 'xp': 10, 'hp': 100, 'id': 1}>>\n",
      "<Record n=<Node id=5 labels=frozenset({'king'}) properties={'name': 'Foegelchen', 'xp': 10, 'hp': 100, 'id': 2}>>\n",
      "<Record n=<Node id=6 labels=frozenset({'princess'}) properties={'name': 'Zelda', 'xp': 10, 'hp': 100, 'id': 1}>>\n",
      "<Record n=<Node id=7 labels=frozenset({'king'}) properties={'name': 'Foegelchen', 'xp': 10, 'hp': 100, 'id': 2}>>\n",
      "<Record n=<Node id=8 labels=frozenset({'princess'}) properties={'name': 'Zelda', 'xp': 10, 'hp': 100, 'id': 1}>>\n",
      "<Record n=<Node id=9 labels=frozenset({'king'}) properties={'name': 'Foegelchen', 'xp': 10, 'hp': 100, 'id': 2}>>\n",
      "<Record n=<Node id=10 labels=frozenset({'princess'}) properties={'name': 'Zelda', 'xp': 10, 'hp': 100, 'id': 1}>>\n",
      "<Record n=<Node id=11 labels=frozenset({'king'}) properties={'name': 'Foegelchen', 'xp': 10, 'hp': 100, 'id': 2}>>\n",
      "<Record n=<Node id=12 labels=frozenset({'princess'}) properties={'name': 'Zelda', 'xp': 10, 'hp': 100, 'id': 1}>>\n",
      "<Record n=<Node id=13 labels=frozenset({'king'}) properties={'name': 'Foegelchen', 'xp': 10, 'hp': 100, 'id': 2}>>\n",
      "<Record n=<Node id=14 labels=frozenset({'princess'}) properties={'name': 'Zelda', 'xp': 10, 'hp': 100, 'id': 1}>>\n",
      "<Record n=<Node id=15 labels=frozenset({'king'}) properties={'name': 'Foegelchen', 'xp': 10, 'hp': 100, 'id': 2}>>\n",
      "<Record n=<Node id=16 labels=frozenset({'princess'}) properties={'name': 'Zelda', 'xp': 10, 'hp': 100, 'id': 1}>>\n",
      "<Record n=<Node id=17 labels=frozenset({'king'}) properties={'name': 'Foegelchen', 'xp': 10, 'hp': 100, 'id': 2}>>\n",
      "<Record n=<Node id=18 labels=frozenset({'princess'}) properties={'name': 'Zelda', 'xp': 10, 'hp': 100, 'id': 1}>>\n",
      "<Record n=<Node id=19 labels=frozenset({'king'}) properties={'name': 'Foegelchen', 'xp': 10, 'hp': 100, 'id': 2}>>\n",
      "<Record n=<Node id=20 labels=frozenset({'princess'}) properties={'name': 'Zelda', 'xp': 10, 'hp': 100, 'id': 1}>>\n",
      "<Record n=<Node id=21 labels=frozenset({'king'}) properties={'name': 'Foegelchen', 'xp': 10, 'hp': 100, 'id': 2}>>\n",
      "<Record n=<Node id=22 labels=frozenset({'princess'}) properties={'name': 'Zelda', 'xp': 10, 'hp': 100, 'id': 1}>>\n",
      "<Record n=<Node id=23 labels=frozenset({'king'}) properties={'name': 'Foegelchen', 'xp': 10, 'hp': 100, 'id': 2}>>\n",
      "<Record n=<Node id=24 labels=frozenset({'princess'}) properties={'name': 'Zelda', 'xp': 10, 'hp': 100, 'id': 1}>>\n",
      "<Record n=<Node id=25 labels=frozenset({'king'}) properties={'name': 'Foegelchen', 'xp': 10, 'hp': 100, 'id': 2}>>\n",
      "<Record n=<Node id=26 labels=frozenset({'princess'}) properties={'name': 'Zelda', 'xp': 10, 'hp': 100, 'id': 1}>>\n",
      "<Record n=<Node id=27 labels=frozenset({'king'}) properties={'name': 'Foegelchen', 'xp': 10, 'hp': 100, 'id': 2}>>\n",
      "<Record n=<Node id=28 labels=frozenset({'princess'}) properties={'name': 'Zelda', 'xp': 10, 'hp': 100, 'id': 1}>>\n",
      "<Record n=<Node id=29 labels=frozenset({'king'}) properties={'name': 'Foegelchen', 'xp': 10, 'hp': 100, 'id': 2}>>\n",
      "<Record n=<Node id=30 labels=frozenset({'princess'}) properties={'name': 'Zelda', 'xp': 10, 'hp': 100, 'id': 1}>>\n",
      "<Record n=<Node id=31 labels=frozenset({'king'}) properties={'name': 'Foegelchen', 'xp': 10, 'hp': 100, 'id': 2}>>\n",
      "<Record n=<Node id=32 labels=frozenset({'princess'}) properties={'name': 'Zelda', 'xp': 10, 'hp': 100, 'id': 1}>>\n",
      "<Record n=<Node id=33 labels=frozenset({'king'}) properties={'name': 'Foegelchen', 'xp': 10, 'hp': 100, 'id': 2}>>\n",
      "<Record n=<Node id=34 labels=frozenset({'princess'}) properties={'name': 'Zelda', 'xp': 10, 'hp': 100, 'id': 1}>>\n",
      "<Record n=<Node id=35 labels=frozenset({'king'}) properties={'name': 'Foegelchen', 'xp': 10, 'hp': 100, 'id': 2}>>\n",
      "<Record n=<Node id=36 labels=frozenset({'princess'}) properties={'name': 'Zelda', 'xp': 10, 'hp': 100, 'id': 1}>>\n",
      "<Record n=<Node id=37 labels=frozenset({'king'}) properties={'name': 'Foegelchen', 'xp': 10, 'hp': 100, 'id': 2}>>\n",
      "<Record n=<Node id=38 labels=frozenset({'princess'}) properties={'name': 'Zelda', 'xp': 10, 'hp': 100, 'id': 1}>>\n",
      "<Record n=<Node id=39 labels=frozenset({'king'}) properties={'name': 'Foegelchen', 'xp': 10, 'hp': 100, 'id': 2}>>\n",
      "<Record n=<Node id=40 labels=frozenset({'princess'}) properties={'name': 'Zelda', 'xp': 10, 'hp': 100, 'id': 1}>>\n",
      "<Record n=<Node id=41 labels=frozenset({'king'}) properties={'name': 'Foegelchen', 'xp': 10, 'hp': 100, 'id': 2}>>\n",
      "<Record n=<Node id=42 labels=frozenset({'princess'}) properties={'name': 'Zelda', 'xp': 10, 'hp': 100, 'id': 1}>>\n",
      "<Record n=<Node id=43 labels=frozenset({'king'}) properties={'name': 'Foegelchen', 'xp': 10, 'hp': 100, 'id': 2}>>\n",
      "<Record n=<Node id=44 labels=frozenset({'princess'}) properties={'name': 'Zelda', 'xp': 10, 'hp': 100, 'id': 1}>>\n",
      "<Record n=<Node id=45 labels=frozenset({'king'}) properties={'name': 'Foegelchen', 'xp': 10, 'hp': 100, 'id': 2}>>\n",
      "<Record n=<Node id=46 labels=frozenset({'princess'}) properties={'name': 'Zelda', 'xp': 10, 'hp': 100, 'id': 1}>>\n",
      "<Record n=<Node id=47 labels=frozenset({'king'}) properties={'name': 'Foegelchen', 'xp': 10, 'hp': 100, 'id': 2}>>\n",
      "<Record n=<Node id=48 labels=frozenset({'princess'}) properties={'name': 'Zelda', 'xp': 10, 'hp': 100, 'id': 1}>>\n",
      "<Record n=<Node id=49 labels=frozenset({'king'}) properties={'name': 'Foegelchen', 'xp': 10, 'hp': 100, 'id': 2}>>\n",
      "<Record n=<Node id=50 labels=frozenset({'princess'}) properties={'name': 'Zelda', 'xp': 10, 'hp': 100, 'id': 1}>>\n",
      "<Record n=<Node id=51 labels=frozenset({'king'}) properties={'name': 'Foegelchen', 'xp': 10, 'hp': 100, 'id': 2}>>\n",
      "<Record n=<Node id=52 labels=frozenset({'princess'}) properties={'name': 'Zelda', 'xp': 10, 'hp': 100, 'id': 1}>>\n",
      "<Record n=<Node id=53 labels=frozenset({'king'}) properties={'name': 'Foegelchen', 'xp': 10, 'hp': 100, 'id': 2}>>\n",
      "<Record n=<Node id=54 labels=frozenset({'princess'}) properties={'name': 'Zelda', 'xp': 10, 'hp': 100, 'id': 1}>>\n",
      "<Record n=<Node id=55 labels=frozenset({'king'}) properties={'name': 'Foegelchen', 'xp': 10, 'hp': 100, 'id': 2}>>\n",
      "<Record n=<Node id=56 labels=frozenset({'princess'}) properties={'name': 'Zelda', 'xp': 10, 'hp': 100, 'id': 1}>>\n",
      "<Record n=<Node id=57 labels=frozenset({'king'}) properties={'name': 'Foegelchen', 'xp': 10, 'hp': 100, 'id': 2}>>\n",
      "<Record n=<Node id=58 labels=frozenset({'princess'}) properties={'name': 'Zelda', 'xp': 10, 'hp': 100, 'id': 1}>>\n",
      "<Record n=<Node id=59 labels=frozenset({'king'}) properties={'name': 'Foegelchen', 'xp': 10, 'hp': 100, 'id': 2}>>\n",
      "<Record n=<Node id=60 labels=frozenset({'princess'}) properties={'name': 'Zelda', 'xp': 10, 'hp': 100, 'id': 1}>>\n",
      "<Record n=<Node id=61 labels=frozenset({'king'}) properties={'name': 'Foegelchen', 'xp': 10, 'hp': 100, 'id': 2}>>\n",
      "<Record n=<Node id=62 labels=frozenset({'princess'}) properties={'name': 'Zelda', 'xp': 10, 'hp': 100, 'id': 1}>>\n",
      "<Record n=<Node id=63 labels=frozenset({'king'}) properties={'name': 'Foegelchen', 'xp': 10, 'hp': 100, 'id': 2}>>\n",
      "<Record n=<Node id=64 labels=frozenset({'princess'}) properties={'name': 'Zelda', 'xp': 10, 'hp': 100, 'id': 1}>>\n",
      "<Record n=<Node id=65 labels=frozenset({'king'}) properties={'name': 'Foegelchen', 'xp': 10, 'hp': 100, 'id': 2}>>\n",
      "<Record n=<Node id=66 labels=frozenset({'princess'}) properties={'name': 'Zelda', 'xp': 10, 'hp': 100, 'id': 1}>>\n",
      "<Record n=<Node id=67 labels=frozenset({'king'}) properties={'name': 'Foegelchen', 'xp': 10, 'hp': 100, 'id': 2}>>\n",
      "<Record n=<Node id=68 labels=frozenset({'princess'}) properties={'name': 'Zelda', 'xp': 10, 'hp': 100, 'id': 1}>>\n",
      "<Record n=<Node id=69 labels=frozenset({'king'}) properties={'name': 'Foegelchen', 'xp': 10, 'hp': 100, 'id': 2}>>\n",
      "<Record n=<Node id=70 labels=frozenset({'princess'}) properties={'name': 'Zelda', 'xp': 10, 'hp': 100, 'id': 1}>>\n",
      "<Record n=<Node id=71 labels=frozenset({'king'}) properties={'name': 'Foegelchen', 'xp': 10, 'hp': 100, 'id': 2}>>\n",
      "<Record n=<Node id=72 labels=frozenset({'princess'}) properties={'name': 'Zelda', 'xp': 10, 'hp': 100, 'id': 1}>>\n",
      "<Record n=<Node id=73 labels=frozenset({'king'}) properties={'name': 'Foegelchen', 'xp': 10, 'hp': 100, 'id': 2}>>\n",
      "<Record n=<Node id=74 labels=frozenset({'princess'}) properties={'name': 'Zelda', 'xp': 10, 'hp': 100, 'id': 1}>>\n",
      "<Record n=<Node id=75 labels=frozenset({'king'}) properties={'name': 'Foegelchen', 'xp': 10, 'hp': 100, 'id': 2}>>\n",
      "<Record n=<Node id=76 labels=frozenset({'princess'}) properties={'name': 'Zelda', 'xp': 10, 'hp': 100, 'id': 1}>>\n",
      "<Record n=<Node id=77 labels=frozenset({'king'}) properties={'name': 'Foegelchen', 'xp': 10, 'hp': 100, 'id': 2}>>\n",
      "<Record n=<Node id=78 labels=frozenset({'princess'}) properties={'name': 'Zelda', 'xp': 10, 'hp': 100, 'id': 1}>>\n",
      "<Record n=<Node id=79 labels=frozenset({'king'}) properties={'name': 'Foegelchen', 'xp': 10, 'hp': 100, 'id': 2}>>\n",
      "<Record n=<Node id=80 labels=frozenset({'princess'}) properties={'name': 'Zelda', 'xp': 10, 'hp': 100, 'id': 1}>>\n",
      "<Record n=<Node id=81 labels=frozenset({'king'}) properties={'name': 'Foegelchen', 'xp': 10, 'hp': 100, 'id': 2}>>\n",
      "<Record n=<Node id=82 labels=frozenset({'princess'}) properties={'name': 'Zelda', 'xp': 10, 'hp': 100, 'id': 1}>>\n",
      "<Record n=<Node id=83 labels=frozenset({'king'}) properties={'name': 'Foegelchen', 'xp': 10, 'hp': 100, 'id': 2}>>\n",
      "<Record n=<Node id=84 labels=frozenset({'princess'}) properties={'name': 'Zelda', 'xp': 10, 'hp': 100, 'id': 1}>>\n",
      "<Record n=<Node id=85 labels=frozenset({'king'}) properties={'name': 'Foegelchen', 'xp': 10, 'hp': 100, 'id': 2}>>\n",
      "<Record n=<Node id=86 labels=frozenset({'princess'}) properties={'name': 'Zelda', 'xp': 10, 'hp': 100, 'id': 1}>>\n",
      "<Record n=<Node id=87 labels=frozenset({'king'}) properties={'name': 'Foegelchen', 'xp': 10, 'hp': 100, 'id': 2}>>\n",
      "<Record n=<Node id=88 labels=frozenset({'princess'}) properties={'name': 'Zelda', 'xp': 10, 'hp': 100, 'id': 1}>>\n",
      "<Record n=<Node id=89 labels=frozenset({'king'}) properties={'name': 'Foegelchen', 'xp': 10, 'hp': 100, 'id': 2}>>\n",
      "<Record n=<Node id=90 labels=frozenset({'princess'}) properties={'name': 'Zelda', 'xp': 10, 'hp': 100, 'id': 1}>>\n",
      "<Record n=<Node id=91 labels=frozenset({'king'}) properties={'name': 'Foegelchen', 'xp': 10, 'hp': 100, 'id': 2}>>\n",
      "<Record n=<Node id=92 labels=frozenset({'princess'}) properties={'name': 'Zelda', 'xp': 10, 'hp': 100, 'id': 1}>>\n",
      "<Record n=<Node id=93 labels=frozenset({'king'}) properties={'name': 'Foegelchen', 'xp': 10, 'hp': 100, 'id': 2}>>\n",
      "<Record n=<Node id=94 labels=frozenset({'princess'}) properties={'name': 'Zelda', 'xp': 10, 'hp': 100, 'id': 1}>>\n",
      "<Record n=<Node id=95 labels=frozenset({'king'}) properties={'name': 'Foegelchen', 'xp': 10, 'hp': 100, 'id': 2}>>\n",
      "<Record n=<Node id=96 labels=frozenset({'princess'}) properties={'name': 'Zelda', 'xp': 10, 'hp': 100, 'id': 1}>>\n",
      "<Record n=<Node id=97 labels=frozenset({'king'}) properties={'name': 'Foegelchen', 'xp': 10, 'hp': 100, 'id': 2}>>\n",
      "<Record n=<Node id=98 labels=frozenset({'princess'}) properties={'name': 'Zelda', 'xp': 10, 'hp': 100, 'id': 1}>>\n",
      "<Record n=<Node id=99 labels=frozenset({'king'}) properties={'name': 'Foegelchen', 'xp': 10, 'hp': 100, 'id': 2}>>\n",
      "<Record n=<Node id=100 labels=frozenset({'princess'}) properties={'name': 'Zelda', 'xp': 10, 'hp': 100, 'id': 1}>>\n",
      "<Record n=<Node id=101 labels=frozenset({'king'}) properties={'name': 'Foegelchen', 'xp': 10, 'hp': 100, 'id': 2}>>\n",
      "<Record n=<Node id=102 labels=frozenset({'princess'}) properties={'name': 'Zelda', 'xp': 10, 'hp': 100, 'id': 1}>>\n",
      "<Record n=<Node id=103 labels=frozenset({'king'}) properties={'name': 'Foegelchen', 'xp': 10, 'hp': 100, 'id': 2}>>\n",
      "<Record n=<Node id=104 labels=frozenset({'princess'}) properties={'name': 'Zelda', 'xp': 10, 'hp': 100, 'id': 1}>>\n",
      "<Record n=<Node id=105 labels=frozenset({'king'}) properties={'name': 'Foegelchen', 'xp': 10, 'hp': 100, 'id': 2}>>\n",
      "<Record n=<Node id=106 labels=frozenset({'princess'}) properties={'name': 'Zelda', 'xp': 10, 'hp': 100, 'id': 1}>>\n",
      "<Record n=<Node id=107 labels=frozenset({'king'}) properties={'name': 'Foegelchen', 'xp': 10, 'hp': 100, 'id': 2}>>\n",
      "<Record n=<Node id=108 labels=frozenset({'princess'}) properties={'name': 'Zelda', 'xp': 10, 'hp': 100, 'id': 1}>>\n",
      "<Record n=<Node id=109 labels=frozenset({'king'}) properties={'name': 'Foegelchen', 'xp': 10, 'hp': 100, 'id': 2}>>\n",
      "<Record n=<Node id=110 labels=frozenset({'princess'}) properties={'name': 'Zelda', 'xp': 10, 'hp': 100, 'id': 1}>>\n",
      "<Record n=<Node id=111 labels=frozenset({'king'}) properties={'name': 'Foegelchen', 'xp': 10, 'hp': 100, 'id': 2}>>\n",
      "<Record n=<Node id=112 labels=frozenset({'princess'}) properties={'name': 'Zelda', 'xp': 10, 'hp': 100, 'id': 1}>>\n",
      "<Record n=<Node id=113 labels=frozenset({'king'}) properties={'name': 'Foegelchen', 'xp': 10, 'hp': 100, 'id': 2}>>\n",
      "<Record n=<Node id=114 labels=frozenset({'princess'}) properties={'name': 'Zelda', 'xp': 10, 'hp': 100, 'id': 1}>>\n",
      "<Record n=<Node id=115 labels=frozenset({'king'}) properties={'name': 'Foegelchen', 'xp': 10, 'hp': 100, 'id': 2}>>\n",
      "<Record n=<Node id=116 labels=frozenset({'princess'}) properties={'name': 'Zelda', 'xp': 10, 'hp': 100, 'id': 1}>>\n",
      "<Record n=<Node id=117 labels=frozenset({'king'}) properties={'name': 'Foegelchen', 'xp': 10, 'hp': 100, 'id': 2}>>\n",
      "<Record n=<Node id=118 labels=frozenset({'princess'}) properties={'name': 'Zelda', 'xp': 10, 'hp': 100, 'id': 1}>>\n",
      "<Record n=<Node id=119 labels=frozenset({'king'}) properties={'name': 'Foegelchen', 'xp': 10, 'hp': 100, 'id': 2}>>\n",
      "<Record n=<Node id=120 labels=frozenset({'princess'}) properties={'name': 'Zelda', 'xp': 10, 'hp': 100, 'id': 1}>>\n",
      "<Record n=<Node id=121 labels=frozenset({'king'}) properties={'name': 'Foegelchen', 'xp': 10, 'hp': 100, 'id': 2}>>\n",
      "<Record n=<Node id=122 labels=frozenset({'princess'}) properties={'name': 'Zelda', 'xp': 10, 'hp': 100, 'id': 1}>>\n",
      "<Record n=<Node id=123 labels=frozenset({'king'}) properties={'name': 'Foegelchen', 'xp': 10, 'hp': 100, 'id': 2}>>\n",
      "<Record n=<Node id=124 labels=frozenset({'princess'}) properties={'name': 'Zelda', 'xp': 10, 'hp': 100, 'id': 1}>>\n",
      "<Record n=<Node id=125 labels=frozenset({'king'}) properties={'name': 'Foegelchen', 'xp': 10, 'hp': 100, 'id': 2}>>\n",
      "<Record n=<Node id=126 labels=frozenset({'princess'}) properties={'name': 'Zelda', 'xp': 10, 'hp': 100, 'id': 1}>>\n",
      "<Record n=<Node id=127 labels=frozenset({'king'}) properties={'name': 'Foegelchen', 'xp': 10, 'hp': 100, 'id': 2}>>\n",
      "<Record n=<Node id=128 labels=frozenset({'princess'}) properties={'name': 'Zelda', 'xp': 10, 'hp': 100, 'id': 1}>>\n",
      "<Record n=<Node id=129 labels=frozenset({'king'}) properties={'name': 'Foegelchen', 'xp': 10, 'hp': 100, 'id': 2}>>\n",
      "<Record n=<Node id=130 labels=frozenset({'princess'}) properties={'name': 'Zelda', 'xp': 10, 'hp': 100, 'id': 1}>>\n",
      "<Record n=<Node id=131 labels=frozenset({'king'}) properties={'name': 'Foegelchen', 'xp': 10, 'hp': 100, 'id': 2}>>\n",
      "<Record n=<Node id=132 labels=frozenset({'princess'}) properties={'name': 'Zelda', 'xp': 10, 'hp': 100, 'id': 1}>>\n",
      "<Record n=<Node id=133 labels=frozenset({'king'}) properties={'name': 'Foegelchen', 'xp': 10, 'hp': 100, 'id': 2}>>\n",
      "<Record n=<Node id=134 labels=frozenset({'princess'}) properties={'name': 'Zelda', 'xp': 10, 'hp': 100, 'id': 1}>>\n",
      "<Record n=<Node id=135 labels=frozenset({'king'}) properties={'name': 'Foegelchen', 'xp': 10, 'hp': 100, 'id': 2}>>\n",
      "<Record n=<Node id=136 labels=frozenset({'princess'}) properties={'name': 'Zelda', 'xp': 10, 'hp': 100, 'id': 1}>>\n",
      "<Record n=<Node id=137 labels=frozenset({'king'}) properties={'name': 'Foegelchen', 'xp': 10, 'hp': 100, 'id': 2}>>\n",
      "<Record n=<Node id=138 labels=frozenset({'princess'}) properties={'name': 'Zelda', 'xp': 10, 'hp': 100, 'id': 1}>>\n",
      "<Record n=<Node id=139 labels=frozenset({'king'}) properties={'name': 'Foegelchen', 'xp': 10, 'hp': 100, 'id': 2}>>\n",
      "<Record n=<Node id=140 labels=frozenset({'princess'}) properties={'name': 'Zelda', 'xp': 10, 'hp': 100, 'id': 1}>>\n",
      "<Record n=<Node id=141 labels=frozenset({'king'}) properties={'name': 'Foegelchen', 'xp': 10, 'hp': 100, 'id': 2}>>\n",
      "<Record n=<Node id=142 labels=frozenset({'princess'}) properties={'name': 'Zelda', 'xp': 10, 'hp': 100, 'id': 1}>>\n",
      "<Record n=<Node id=143 labels=frozenset({'king'}) properties={'name': 'Foegelchen', 'xp': 10, 'hp': 100, 'id': 2}>>\n",
      "<Record n=<Node id=144 labels=frozenset({'princess'}) properties={'name': 'Zelda', 'xp': 10, 'hp': 100, 'id': 1}>>\n",
      "<Record n=<Node id=145 labels=frozenset({'king'}) properties={'name': 'Foegelchen', 'xp': 10, 'hp': 100, 'id': 2}>>\n",
      "<Record n=<Node id=146 labels=frozenset({'princess'}) properties={'name': 'Zelda', 'xp': 10, 'hp': 100, 'id': 1}>>\n",
      "<Record n=<Node id=147 labels=frozenset({'king'}) properties={'name': 'Foegelchen', 'xp': 10, 'hp': 100, 'id': 2}>>\n",
      "<Record n=<Node id=148 labels=frozenset({'princess'}) properties={'name': 'Zelda', 'xp': 10, 'hp': 100, 'id': 1}>>\n",
      "<Record n=<Node id=149 labels=frozenset({'king'}) properties={'name': 'Foegelchen', 'xp': 10, 'hp': 100, 'id': 2}>>\n",
      "<Record n=<Node id=150 labels=frozenset({'princess'}) properties={'name': 'Zelda', 'xp': 10, 'hp': 100, 'id': 1}>>\n",
      "<Record n=<Node id=151 labels=frozenset({'king'}) properties={'name': 'Foegelchen', 'xp': 10, 'hp': 100, 'id': 2}>>\n",
      "<Record n=<Node id=152 labels=frozenset({'princess'}) properties={'name': 'Zelda', 'xp': 10, 'hp': 100, 'id': 1}>>\n",
      "<Record n=<Node id=153 labels=frozenset({'king'}) properties={'name': 'Foegelchen', 'xp': 10, 'hp': 100, 'id': 2}>>\n",
      "<Record n=<Node id=154 labels=frozenset({'princess'}) properties={'name': 'Zelda', 'xp': 10, 'hp': 100, 'id': 1}>>\n",
      "<Record n=<Node id=155 labels=frozenset({'king'}) properties={'name': 'Foegelchen', 'xp': 10, 'hp': 100, 'id': 2}>>\n",
      "<Record n=<Node id=156 labels=frozenset({'princess'}) properties={'name': 'Zelda', 'xp': 10, 'hp': 100, 'id': 1}>>\n",
      "<Record n=<Node id=157 labels=frozenset({'king'}) properties={'name': 'Foegelchen', 'xp': 10, 'hp': 100, 'id': 2}>>\n",
      "<Record n=<Node id=158 labels=frozenset({'princess'}) properties={'name': 'Zelda', 'xp': 10, 'hp': 100, 'id': 1}>>\n",
      "<Record n=<Node id=159 labels=frozenset({'king'}) properties={'name': 'Foegelchen', 'xp': 10, 'hp': 100, 'id': 2}>>\n",
      "<Record n=<Node id=160 labels=frozenset({'princess'}) properties={'name': 'Zelda', 'xp': 10, 'hp': 100, 'id': 1}>>\n",
      "<Record n=<Node id=161 labels=frozenset({'king'}) properties={'name': 'Foegelchen', 'xp': 10, 'hp': 100, 'id': 2}>>\n",
      "<Record n=<Node id=162 labels=frozenset({'princess'}) properties={'name': 'Zelda', 'xp': 10, 'hp': 100, 'id': 1}>>\n",
      "<Record n=<Node id=163 labels=frozenset({'king'}) properties={'name': 'Foegelchen', 'xp': 10, 'hp': 100, 'id': 2}>>\n",
      "<Record n=<Node id=164 labels=frozenset({'princess'}) properties={'name': 'Zelda', 'xp': 10, 'hp': 100, 'id': 1}>>\n",
      "<Record n=<Node id=165 labels=frozenset({'king'}) properties={'name': 'Foegelchen', 'xp': 10, 'hp': 100, 'id': 2}>>\n",
      "<Record n=<Node id=166 labels=frozenset({'princess'}) properties={'name': 'Zelda', 'xp': 10, 'hp': 100, 'id': 1}>>\n",
      "<Record n=<Node id=167 labels=frozenset({'king'}) properties={'name': 'Foegelchen', 'xp': 10, 'hp': 100, 'id': 2}>>\n",
      "<Record n=<Node id=168 labels=frozenset({'princess'}) properties={'name': 'Zelda', 'xp': 10, 'hp': 100, 'id': 1}>>\n",
      "<Record n=<Node id=169 labels=frozenset({'king'}) properties={'name': 'Foegelchen', 'xp': 10, 'hp': 100, 'id': 2}>>\n",
      "<Record n=<Node id=170 labels=frozenset({'princess'}) properties={'name': 'Zelda', 'xp': 10, 'hp': 100, 'id': 1}>>\n",
      "<Record n=<Node id=171 labels=frozenset({'king'}) properties={'name': 'Foegelchen', 'xp': 10, 'hp': 100, 'id': 2}>>\n",
      "<Record n=<Node id=172 labels=frozenset({'princess'}) properties={'name': 'Zelda', 'xp': 10, 'hp': 100, 'id': 1}>>\n",
      "<Record n=<Node id=173 labels=frozenset({'king'}) properties={'name': 'Foegelchen', 'xp': 10, 'hp': 100, 'id': 2}>>\n",
      "<Record n=<Node id=174 labels=frozenset({'princess'}) properties={'name': 'Zelda', 'xp': 10, 'hp': 100, 'id': 1}>>\n",
      "<Record n=<Node id=175 labels=frozenset({'king'}) properties={'name': 'Foegelchen', 'xp': 10, 'hp': 100, 'id': 2}>>\n",
      "<Record n=<Node id=176 labels=frozenset({'princess'}) properties={'name': 'Zelda', 'xp': 10, 'hp': 100, 'id': 1}>>\n",
      "<Record n=<Node id=177 labels=frozenset({'king'}) properties={'name': 'Foegelchen', 'xp': 10, 'hp': 100, 'id': 2}>>\n",
      "<Record n=<Node id=178 labels=frozenset({'princess'}) properties={'name': 'Zelda', 'xp': 10, 'hp': 100, 'id': 1}>>\n",
      "<Record n=<Node id=179 labels=frozenset({'king'}) properties={'name': 'Foegelchen', 'xp': 10, 'hp': 100, 'id': 2}>>\n",
      "<Record n=<Node id=180 labels=frozenset({'princess'}) properties={'name': 'Zelda', 'xp': 10, 'hp': 100, 'id': 1}>>\n",
      "<Record n=<Node id=181 labels=frozenset({'king'}) properties={'name': 'Foegelchen', 'xp': 10, 'hp': 100, 'id': 2}>>\n",
      "<Record n=<Node id=182 labels=frozenset({'princess'}) properties={'name': 'Zelda', 'xp': 10, 'hp': 100, 'id': 1}>>\n",
      "<Record n=<Node id=183 labels=frozenset({'king'}) properties={'name': 'Foegelchen', 'xp': 10, 'hp': 100, 'id': 2}>>\n",
      "<Record n=<Node id=184 labels=frozenset({'princess'}) properties={'name': 'Zelda', 'xp': 10, 'hp': 100, 'id': 1}>>\n",
      "<Record n=<Node id=185 labels=frozenset({'king'}) properties={'name': 'Foegelchen', 'xp': 10, 'hp': 100, 'id': 2}>>\n",
      "<Record n=<Node id=186 labels=frozenset({'princess'}) properties={'name': 'Zelda', 'xp': 10, 'hp': 100, 'id': 1}>>\n",
      "<Record n=<Node id=187 labels=frozenset({'king'}) properties={'name': 'Foegelchen', 'xp': 10, 'hp': 100, 'id': 2}>>\n",
      "<Record n=<Node id=188 labels=frozenset({'princess'}) properties={'name': 'Zelda', 'xp': 10, 'hp': 100, 'id': 1}>>\n",
      "<Record n=<Node id=189 labels=frozenset({'king'}) properties={'name': 'Foegelchen', 'xp': 10, 'hp': 100, 'id': 2}>>\n",
      "<Record n=<Node id=190 labels=frozenset({'princess'}) properties={'name': 'Zelda', 'xp': 10, 'hp': 100, 'id': 1}>>\n",
      "<Record n=<Node id=191 labels=frozenset({'king'}) properties={'name': 'Foegelchen', 'xp': 10, 'hp': 100, 'id': 2}>>\n",
      "<Record n=<Node id=192 labels=frozenset({'princess'}) properties={'name': 'Zelda', 'xp': 10, 'hp': 100, 'id': 1}>>\n",
      "<Record n=<Node id=193 labels=frozenset({'king'}) properties={'name': 'Foegelchen', 'xp': 10, 'hp': 100, 'id': 2}>>\n",
      "<Record n=<Node id=194 labels=frozenset({'princess'}) properties={'name': 'Zelda', 'xp': 10, 'hp': 100, 'id': 1}>>\n",
      "<Record n=<Node id=195 labels=frozenset({'king'}) properties={'name': 'Foegelchen', 'xp': 10, 'hp': 100, 'id': 2}>>\n",
      "<Record n=<Node id=196 labels=frozenset({'princess'}) properties={'name': 'Zelda', 'xp': 10, 'hp': 100, 'id': 1}>>\n",
      "<Record n=<Node id=197 labels=frozenset({'king'}) properties={'name': 'Foegelchen', 'xp': 10, 'hp': 100, 'id': 2}>>\n",
      "<Record n=<Node id=198 labels=frozenset({'princess'}) properties={'name': 'Zelda', 'xp': 10, 'hp': 100, 'id': 1}>>\n",
      "<Record n=<Node id=199 labels=frozenset({'king'}) properties={'name': 'Foegelchen', 'xp': 10, 'hp': 100, 'id': 2}>>\n"
     ]
    }
   ],
   "source": [
    "cypher_query = 'MATCH (n) RETURN n'\n",
    "results = session.run(cypher_query, parameters={})\n",
    "\n",
    "print(\"Current records:\")\n",
    "for record in results:\n",
    "    print(record)\n"
   ]
  },
  {
   "cell_type": "code",
   "execution_count": 40,
   "metadata": {},
   "outputs": [],
   "source": [
    "#results = session.run(\"match (n) detach delete n\")\n"
   ]
  },
  {
   "cell_type": "markdown",
   "metadata": {},
   "source": [
    "Добавляем все предложения в базу - это занимает полчаса!"
   ]
  },
  {
   "cell_type": "code",
   "execution_count": 22,
   "metadata": {},
   "outputs": [],
   "source": [
    "#with open(\"/home/edward/projects/Alien_bases/Universal Dependencies/ud-treebanks-v2.3/UD_Russian-SynTagRus/ru_syntagrus-ud-train.conllu\") as infile:\n",
    "#with open(\"/home/edward/projects/Alien_bases/Universal Dependencies/ud-treebanks-v2.3/UD_Russian-SynTagRus/ru_syntagrus-ud-test.conllu\") as infile:\n",
    "with open(\"/home/edward/projects/Alien_bases/Universal Dependencies/ud-treebanks-v2.3/UD_Russian-SynTagRus/ru_syntagrus-ud-dev.conllu\") as infile:\n",
    "    lines=infile.readlines()"
   ]
  },
  {
   "cell_type": "code",
   "execution_count": 23,
   "metadata": {},
   "outputs": [],
   "source": [
    "def readSentence(lines, pos):\n",
    "    #print(\"pos=\",pos, \"line=\", lines[pos])\n",
    "    sent=[]\n",
    "    while pos<len(lines) and lines[pos]!=\"\\n\":\n",
    "        if lines[pos][0]!='\\n' and lines[pos][0]!='#':\n",
    "            sent.append(lines[pos][:-2].split(\"\\t\"))\n",
    "        pos+=1\n",
    "    pos+=1\n",
    "    return sent, pos\n",
    "        \n",
    "def putSentence2Neo4J(tx, sent):\n",
    "    data=[]\n",
    "    rels=[]\n",
    "    for word in sent:\n",
    "        if '.' in word[0]:\n",
    "            continue\n",
    "            \n",
    "        req=\"MERGE (a:lemma {lemma:'\"+word[2].replace(\"'\", \"\\\\\\'\")+\"', PoS:'\"+word[3]+\"'})\\n \\\n",
    "             ON CREATE set a.freq=1 \\\n",
    "             ON MATCH set a.freq=a.freq+1\\n \\\n",
    "             MERGE (b:token {token:'\"+word[1].replace(\"'\", \"\\\\\\'\")+\"', tag:'\"+word[5]+\"'})\\n \\\n",
    "             ON CREATE set b.freq=1 \\\n",
    "             ON MATCH set b.freq=b.freq+1\\n \\\n",
    "             MERGE (b)-[c: is_token]->(a)\"\n",
    "        #print(req)\n",
    "        tx.run(req)\n",
    "        req=\"MATCH (a:lemma {lemma:'\"+word[2].replace(\"'\", \"\\\\\\'\")+\"', PoS:'\"+word[3]+\"'})\\n \\\n",
    "             MATCH (b:lemma {lemma:'\"+sent[int(word[6])-1][2].replace(\"'\", \"\\\\\\'\")+\"', PoS:'\"+sent[int(word[6])-1][3]+\"'})\\n \\\n",
    "             MERGE (b)-[c:conn {type:'\"+word[7]+\"'}]->(a) \\\n",
    "             ON CREATE set c.freq=1 \\\n",
    "             ON MATCH set c.freq=c.freq+1\"\n",
    "        #print(req)\n",
    "        tx.run(req)\n",
    "        "
   ]
  },
  {
   "cell_type": "code",
   "execution_count": 31,
   "metadata": {},
   "outputs": [
    {
     "data": {
      "text/plain": [
       "<neo4j.work.result.Result at 0x7fcbf9fb0438>"
      ]
     },
     "execution_count": 31,
     "metadata": {},
     "output_type": "execute_result"
    }
   ],
   "source": [
    "driver.session().run(\"CREATE INDEX ON :lemma(lemma, PoS)\")\n",
    "driver.session().run(\"CREATE INDEX ON :token(token, tag)\")"
   ]
  },
  {
   "cell_type": "code",
   "execution_count": 32,
   "metadata": {},
   "outputs": [
    {
     "data": {
      "text/plain": [
       "<neo4j.work.result.Result at 0x7fcbefd1cef0>"
      ]
     },
     "execution_count": 32,
     "metadata": {},
     "output_type": "execute_result"
    }
   ],
   "source": [
    "#driver = GraphDatabase.driver(\"bolt://localhost:7687/db/Syntax/\")\n",
    "driver.session().run(\"match ()-[b]-() delete b\")\n",
    "driver.session().run(\"match (a) delete a\")\n"
   ]
  },
  {
   "cell_type": "code",
   "execution_count": 33,
   "metadata": {},
   "outputs": [
    {
     "name": "stdout",
     "output_type": "stream",
     "text": [
      "CPU times: user 1min 36s, sys: 9.56 s, total: 1min 46s\n",
      "Wall time: 23min 21s\n"
     ]
    }
   ],
   "source": [
    "%%time\n",
    "#driver = GraphDatabase.driver(\"bolt://localhost:7687/db/Syntax/\")\n",
    "#driver.session().run(\"match ()-[b]-() delete b\")\n",
    "#driver.session().run(\"match (a) delete a\")\n",
    "tx = driver.session().begin_transaction()\n",
    "\n",
    "sent_no=1\n",
    "pos=0\n",
    "while pos<len(lines):\n",
    "    print(sent_no, end=\"\\r\")\n",
    "    sent, pos=readSentence(lines, pos)\n",
    "    try:\n",
    "        putSentence2Neo4J(tx, sent)\n",
    "    except:\n",
    "        driver = GraphDatabase.driver(\"bolt://0.0.0.0:7687/\")\n",
    "        print(\"exception!\")\n",
    "    sent_no+=1\n",
    "    \n",
    "    if sent_no%100==0:\n",
    "        tx.commit()\n",
    "        tx = driver.session().begin_transaction()\n"
   ]
  },
  {
   "cell_type": "code",
   "execution_count": 34,
   "metadata": {},
   "outputs": [
    {
     "data": {
      "text/plain": [
       "'FB:kcwQ+Q/qTvriSUG+U2biyQp4IskBLZA='"
      ]
     },
     "execution_count": 34,
     "metadata": {},
     "output_type": "execute_result"
    }
   ],
   "source": [
    "tx.commit()"
   ]
  },
  {
   "cell_type": "code",
   "execution_count": 35,
   "metadata": {},
   "outputs": [
    {
     "data": {
      "text/plain": [
       "138443"
      ]
     },
     "execution_count": 35,
     "metadata": {},
     "output_type": "execute_result"
    }
   ],
   "source": [
    "pos"
   ]
  },
  {
   "cell_type": "code",
   "execution_count": 36,
   "metadata": {},
   "outputs": [],
   "source": [
    "res=driver.session().run(\"MATCH (a:lemma) return count(*) as cnt\")\n",
    "#for r in res:\n",
    "#    print(r[\"cnt\"])"
   ]
  },
  {
   "cell_type": "code",
   "execution_count": 37,
   "metadata": {},
   "outputs": [
    {
     "data": {
      "text/plain": [
       "[13727]"
      ]
     },
     "execution_count": 37,
     "metadata": {},
     "output_type": "execute_result"
    }
   ],
   "source": [
    "res.value()"
   ]
  },
  {
   "cell_type": "code",
   "execution_count": 38,
   "metadata": {},
   "outputs": [],
   "source": [
    "req=\"\"\"match (a:lemma)-[r]->(b:lemma) \n",
    "where r.freq>2 AND a.PoS<>'PUNCT' AND b.PoS<>'PUNCT'\n",
    "return a.lemma, a.freq, b.lemma, b.freq, r.freq\n",
    "order by r.freq desc\n",
    "limit 100\"\"\"\n",
    "res=driver.session().run(req)"
   ]
  },
  {
   "cell_type": "code",
   "execution_count": 39,
   "metadata": {},
   "outputs": [
    {
     "data": {
      "text/plain": [
       "[['год', 611, 'в', 3393, 212],\n",
       " ['мочь', 326, 'не', 1598, 75],\n",
       " ['только', 231, 'не', 1598, 71],\n",
       " ['тот', 338, 'же', 315, 68],\n",
       " ['время', 274, 'в', 3393, 59],\n",
       " ['случай', 87, 'в', 3393, 57],\n",
       " ['то', 432, 'быть', 306, 48],\n",
       " ['быть', 306, 'не', 1598, 48],\n",
       " ['то', 432, 'о', 441, 47],\n",
       " ['время', 274, 'тот', 338, 46],\n",
       " ['страна', 134, 'в', 3393, 40],\n",
       " ['то', 432, 'в', 3393, 40],\n",
       " ['но', 521, 'и', 518, 39],\n",
       " ['Россия', 87, 'в', 3393, 39],\n",
       " ['это', 653, 'весь', 310, 39],\n",
       " ['мочь', 326, 'быть', 306, 37],\n",
       " ['мы', 358, 'у', 294, 37],\n",
       " ['вершина', 76, 'на', 1449, 35],\n",
       " ['потому', 81, 'что', 913, 35],\n",
       " ['в', 3393, 'в', 3393, 33],\n",
       " ['который', 494, 'в', 3393, 32],\n",
       " ['результат', 84, 'в', 3393, 31],\n",
       " ['город', 60, 'в', 3393, 30],\n",
       " ['в', 3393, 'частность', 30, 30],\n",
       " ['это', 653, 'при', 195, 30],\n",
       " ['в', 3393, 'качество', 50, 30],\n",
       " ['он', 1086, 'у', 294, 28],\n",
       " ['а', 684, 'также', 28, 28],\n",
       " ['условие', 55, 'в', 3393, 27],\n",
       " ['во', 30, 'время', 274, 27],\n",
       " ['год', 611, 'за', 307, 27],\n",
       " ['основа', 49, 'на', 1449, 27],\n",
       " ['число', 53, 'в', 3393, 27],\n",
       " ['так', 306, 'и', 518, 27],\n",
       " ['стать', 201, 'и', 2814, 27],\n",
       " ['иметь', 122, 'не', 1598, 26],\n",
       " ['должен', 137, 'быть', 941, 26],\n",
       " ['это', 653, 'в', 3393, 26],\n",
       " ['мочь', 326, 'что', 913, 26],\n",
       " ['образ', 61, 'такой', 312, 26],\n",
       " ['область', 41, 'в', 3393, 26],\n",
       " ['что', 322, 'же', 315, 25],\n",
       " ['смысл', 44, 'в', 3393, 24],\n",
       " ['так', 306, 'как', 498, 24],\n",
       " ['в', 3393, 'течение', 28, 24],\n",
       " ['знать', 85, 'не', 1598, 23],\n",
       " ['можно', 131, 'быть', 941, 23],\n",
       " ['раз', 94, 'в', 3393, 23],\n",
       " ['они', 502, 'из', 423, 23],\n",
       " ['точка', 53, 'зрение', 42, 23],\n",
       " ['как', 140, 'бы', 214, 22],\n",
       " ['год', 611, 'с', 1087, 22],\n",
       " ['он', 1086, 'с', 1087, 22],\n",
       " ['он', 1086, 'в', 3393, 22],\n",
       " ['район', 31, 'в', 3393, 22],\n",
       " ['видеть', 124, 'не', 1598, 22],\n",
       " ['с', 1087, 'помощь', 41, 22],\n",
       " ['космос', 40, 'в', 3393, 22],\n",
       " ['они', 502, 'в', 3393, 22],\n",
       " ['мочь', 326, 'бы', 214, 21],\n",
       " ['так', 306, 'что', 913, 21],\n",
       " ['число', 53, 'тот', 338, 21],\n",
       " ['и', 2814, 'и', 2814, 21],\n",
       " ['сторона', 55, 'с', 1087, 21],\n",
       " ['так', 306, 'же', 315, 20],\n",
       " ['дело', 130, 'самый', 158, 20],\n",
       " ['вид', 69, 'спорт', 30, 20],\n",
       " ['правило', 43, 'как', 498, 20],\n",
       " ['год', 611, 'назад', 31, 20],\n",
       " ['система', 205, 'в', 3393, 20],\n",
       " ['восхождение', 84, 'вершина', 76, 20],\n",
       " ['другой', 230, 'и', 2814, 20],\n",
       " ['дело', 130, 'на', 1449, 19],\n",
       " ['до', 200, 'пора', 56, 19],\n",
       " ['мочь', 326, 'а', 684, 19],\n",
       " ['до', 200, 'сей', 26, 19],\n",
       " ['делать', 162, 'это', 653, 19],\n",
       " ['год', 611, 'через', 76, 19],\n",
       " ['наука', 146, 'в', 3393, 19],\n",
       " ['собрание', 24, 'учредительный', 19, 19],\n",
       " ['то', 432, 'не', 1598, 18],\n",
       " ['делать', 162, 'и', 2814, 18],\n",
       " ['это', 653, 'о', 441, 18],\n",
       " ['один', 206, 'еще', 191, 18],\n",
       " ['то', 432, 'менее', 38, 18],\n",
       " ['сеть', 48, 'торговый', 35, 18],\n",
       " ['я', 422, 'у', 294, 18],\n",
       " ['называть', 46, 'так', 306, 18],\n",
       " ['решение', 70, 'задача', 67, 17],\n",
       " ['конец', 60, 'в', 3393, 17],\n",
       " ['мнение', 56, 'по', 588, 17],\n",
       " ['прежде', 17, 'все', 219, 17],\n",
       " ['год', 611, 'на', 1449, 17],\n",
       " ['уровень', 54, 'на', 1449, 17],\n",
       " ['мочь', 326, 'и', 2814, 17],\n",
       " ['мир', 92, 'в', 3393, 17],\n",
       " ['начало', 54, 'в', 3393, 17],\n",
       " ['мочь', 326, 'он', 1086, 16],\n",
       " ['такой', 312, 'же', 315, 16],\n",
       " ['что', 322, 'ни', 69, 16]]"
      ]
     },
     "execution_count": 39,
     "metadata": {},
     "output_type": "execute_result"
    }
   ],
   "source": [
    "res.values()"
   ]
  },
  {
   "cell_type": "code",
   "execution_count": null,
   "metadata": {},
   "outputs": [],
   "source": []
  },
  {
   "cell_type": "code",
   "execution_count": null,
   "metadata": {},
   "outputs": [],
   "source": [
    "match (n:lemma)<-[r]-(m:lemma) \n",
    "WHERE r.freq>2 AND n.PoS<>'PUNCT' AND m.PoS<>'PUNCT'\n",
    "WITH n, count(m) as ncnt\n",
    "WHERE ncnt>3\n",
    "return n, ncnt\n",
    "order by ncnt desc"
   ]
  },
  {
   "cell_type": "code",
   "execution_count": null,
   "metadata": {},
   "outputs": [],
   "source": [
    "match (n:lemma)<-[r]-(m:lemma) \n",
    "WHERE r.freq>2 AND n.PoS<>'PUNCT' AND m.PoS<>'PUNCT'\n",
    "WITH n, count(m) as ncnt\n",
    "WHERE ncnt>3\n",
    "WITH n\n",
    "MATCH (n)<-[r]-(m:lemma)\n",
    "WHERE r.freq>2 AND n.PoS<>'PUNCT' AND m.PoS<>'PUNCT'\n",
    "return n, collect(m), collect(r.freq)\n",
    "order by n ascending"
   ]
  },
  {
   "cell_type": "code",
   "execution_count": null,
   "metadata": {},
   "outputs": [],
   "source": []
  },
  {
   "cell_type": "code",
   "execution_count": null,
   "metadata": {},
   "outputs": [],
   "source": []
  },
  {
   "cell_type": "code",
   "execution_count": null,
   "metadata": {},
   "outputs": [],
   "source": []
  },
  {
   "cell_type": "markdown",
   "metadata": {},
   "source": [
    "---"
   ]
  },
  {
   "cell_type": "code",
   "execution_count": 110,
   "metadata": {},
   "outputs": [
    {
     "data": {
      "text/plain": [
       "<neo4j.BoltStatementResult at 0x7f7d7a9b8ef0>"
      ]
     },
     "execution_count": 110,
     "metadata": {},
     "output_type": "execute_result"
    }
   ],
   "source": [
    "driver.session().run(\"create (a:person {name:'Jane2'})-[l:link {kind:10}]->(b:person {name: 'Jack2'})\")"
   ]
  },
  {
   "cell_type": "code",
   "execution_count": 116,
   "metadata": {},
   "outputs": [],
   "source": [
    "res=driver.session().run(\"match (a) return a\")\n",
    "for r in res:\n",
    "    print(r)"
   ]
  },
  {
   "cell_type": "code",
   "execution_count": 8,
   "metadata": {},
   "outputs": [
    {
     "ename": "AuthError",
     "evalue": "Unsupported authentication token, missing key `scheme`: { user_agent='neobolt/1.7.4 Python/3.6.7-final-0 (linux)' }",
     "output_type": "error",
     "traceback": [
      "\u001b[0;31m---------------------------------------------------------------------------\u001b[0m",
      "\u001b[0;31mAuthError\u001b[0m                                 Traceback (most recent call last)",
      "\u001b[0;32m<ipython-input-8-875b533c3822>\u001b[0m in \u001b[0;36m<module>\u001b[0;34m()\u001b[0m\n\u001b[0;32m----> 1\u001b[0;31m \u001b[0mdriver\u001b[0m \u001b[0;34m=\u001b[0m \u001b[0mGraphDatabase\u001b[0m\u001b[0;34m.\u001b[0m\u001b[0mdriver\u001b[0m\u001b[0;34m(\u001b[0m\u001b[0;34m\"bolt://localhost:11004\"\u001b[0m\u001b[0;34m,\u001b[0m \u001b[0mscheme\u001b[0m\u001b[0;34m=\u001b[0m \u001b[0;34m'Graph22'\u001b[0m\u001b[0;34m)\u001b[0m\u001b[0;34m\u001b[0m\u001b[0;34m\u001b[0m\u001b[0m\n\u001b[0m",
      "\u001b[0;32m/usr/local/lib/python3.6/dist-packages/neo4j/__init__.py\u001b[0m in \u001b[0;36mdriver\u001b[0;34m(cls, uri, **config)\u001b[0m\n\u001b[1;32m    106\u001b[0m         \u001b[0;34m:\u001b[0m\u001b[0;32mclass\u001b[0m\u001b[0;34m:\u001b[0m\u001b[0;31m`\u001b[0m\u001b[0;34m.\u001b[0m\u001b[0mDriver\u001b[0m\u001b[0;31m`\u001b[0m \u001b[0msubclass\u001b[0m \u001b[0minstance\u001b[0m \u001b[0mdirectly\u001b[0m\u001b[0;34m.\u001b[0m\u001b[0;34m\u001b[0m\u001b[0;34m\u001b[0m\u001b[0m\n\u001b[1;32m    107\u001b[0m         \"\"\"\n\u001b[0;32m--> 108\u001b[0;31m         \u001b[0;32mreturn\u001b[0m \u001b[0mDriver\u001b[0m\u001b[0;34m(\u001b[0m\u001b[0muri\u001b[0m\u001b[0;34m,\u001b[0m \u001b[0;34m**\u001b[0m\u001b[0mconfig\u001b[0m\u001b[0;34m)\u001b[0m\u001b[0;34m\u001b[0m\u001b[0;34m\u001b[0m\u001b[0m\n\u001b[0m\u001b[1;32m    109\u001b[0m \u001b[0;34m\u001b[0m\u001b[0m\n\u001b[1;32m    110\u001b[0m \u001b[0;34m\u001b[0m\u001b[0m\n",
      "\u001b[0;32m/usr/local/lib/python3.6/dist-packages/neo4j/__init__.py\u001b[0m in \u001b[0;36m__new__\u001b[0;34m(cls, uri, **config)\u001b[0m\n\u001b[1;32m    145\u001b[0m         \u001b[0;32mfor\u001b[0m \u001b[0msubclass\u001b[0m \u001b[0;32min\u001b[0m \u001b[0mDriver\u001b[0m\u001b[0;34m.\u001b[0m\u001b[0m__subclasses__\u001b[0m\u001b[0;34m(\u001b[0m\u001b[0;34m)\u001b[0m\u001b[0;34m:\u001b[0m\u001b[0;34m\u001b[0m\u001b[0;34m\u001b[0m\u001b[0m\n\u001b[1;32m    146\u001b[0m             \u001b[0;32mif\u001b[0m \u001b[0mparsed\u001b[0m\u001b[0;34m.\u001b[0m\u001b[0mscheme\u001b[0m \u001b[0;34m==\u001b[0m \u001b[0msubclass\u001b[0m\u001b[0;34m.\u001b[0m\u001b[0muri_scheme\u001b[0m\u001b[0;34m:\u001b[0m\u001b[0;34m\u001b[0m\u001b[0;34m\u001b[0m\u001b[0m\n\u001b[0;32m--> 147\u001b[0;31m                 \u001b[0;32mreturn\u001b[0m \u001b[0msubclass\u001b[0m\u001b[0;34m(\u001b[0m\u001b[0muri\u001b[0m\u001b[0;34m,\u001b[0m \u001b[0;34m**\u001b[0m\u001b[0mconfig\u001b[0m\u001b[0;34m)\u001b[0m\u001b[0;34m\u001b[0m\u001b[0;34m\u001b[0m\u001b[0m\n\u001b[0m\u001b[1;32m    148\u001b[0m         \u001b[0;32mraise\u001b[0m \u001b[0mValueError\u001b[0m\u001b[0;34m(\u001b[0m\u001b[0;34m\"URI scheme %r not supported\"\u001b[0m \u001b[0;34m%\u001b[0m \u001b[0mparsed\u001b[0m\u001b[0;34m.\u001b[0m\u001b[0mscheme\u001b[0m\u001b[0;34m)\u001b[0m\u001b[0;34m\u001b[0m\u001b[0;34m\u001b[0m\u001b[0m\n\u001b[1;32m    149\u001b[0m \u001b[0;34m\u001b[0m\u001b[0m\n",
      "\u001b[0;32m/usr/local/lib/python3.6/dist-packages/neo4j/__init__.py\u001b[0m in \u001b[0;36m__new__\u001b[0;34m(cls, uri, **config)\u001b[0m\n\u001b[1;32m    219\u001b[0m \u001b[0;34m\u001b[0m\u001b[0m\n\u001b[1;32m    220\u001b[0m         \u001b[0mpool\u001b[0m \u001b[0;34m=\u001b[0m \u001b[0mConnectionPool\u001b[0m\u001b[0;34m(\u001b[0m\u001b[0mconnector\u001b[0m\u001b[0;34m,\u001b[0m \u001b[0minstance\u001b[0m\u001b[0;34m.\u001b[0m\u001b[0maddress\u001b[0m\u001b[0;34m,\u001b[0m \u001b[0;34m**\u001b[0m\u001b[0mconfig\u001b[0m\u001b[0;34m)\u001b[0m\u001b[0;34m\u001b[0m\u001b[0;34m\u001b[0m\u001b[0m\n\u001b[0;32m--> 221\u001b[0;31m         \u001b[0mpool\u001b[0m\u001b[0;34m.\u001b[0m\u001b[0mrelease\u001b[0m\u001b[0;34m(\u001b[0m\u001b[0mpool\u001b[0m\u001b[0;34m.\u001b[0m\u001b[0macquire\u001b[0m\u001b[0;34m(\u001b[0m\u001b[0;34m)\u001b[0m\u001b[0;34m)\u001b[0m\u001b[0;34m\u001b[0m\u001b[0;34m\u001b[0m\u001b[0m\n\u001b[0m\u001b[1;32m    222\u001b[0m         \u001b[0minstance\u001b[0m\u001b[0;34m.\u001b[0m\u001b[0m_pool\u001b[0m \u001b[0;34m=\u001b[0m \u001b[0mpool\u001b[0m\u001b[0;34m\u001b[0m\u001b[0;34m\u001b[0m\u001b[0m\n\u001b[1;32m    223\u001b[0m         \u001b[0minstance\u001b[0m\u001b[0;34m.\u001b[0m\u001b[0m_max_retry_time\u001b[0m \u001b[0;34m=\u001b[0m \u001b[0mconfig\u001b[0m\u001b[0;34m.\u001b[0m\u001b[0mget\u001b[0m\u001b[0;34m(\u001b[0m\u001b[0;34m\"max_retry_time\"\u001b[0m\u001b[0;34m,\u001b[0m \u001b[0mdefault_config\u001b[0m\u001b[0;34m[\u001b[0m\u001b[0;34m\"max_retry_time\"\u001b[0m\u001b[0;34m]\u001b[0m\u001b[0;34m)\u001b[0m\u001b[0;34m\u001b[0m\u001b[0;34m\u001b[0m\u001b[0m\n",
      "\u001b[0;32m/usr/local/lib/python3.6/dist-packages/neobolt/direct.py\u001b[0m in \u001b[0;36macquire\u001b[0;34m(self, access_mode)\u001b[0m\n\u001b[1;32m    696\u001b[0m \u001b[0;34m\u001b[0m\u001b[0m\n\u001b[1;32m    697\u001b[0m     \u001b[0;32mdef\u001b[0m \u001b[0macquire\u001b[0m\u001b[0;34m(\u001b[0m\u001b[0mself\u001b[0m\u001b[0;34m,\u001b[0m \u001b[0maccess_mode\u001b[0m\u001b[0;34m=\u001b[0m\u001b[0;32mNone\u001b[0m\u001b[0;34m)\u001b[0m\u001b[0;34m:\u001b[0m\u001b[0;34m\u001b[0m\u001b[0;34m\u001b[0m\u001b[0m\n\u001b[0;32m--> 698\u001b[0;31m         \u001b[0;32mreturn\u001b[0m \u001b[0mself\u001b[0m\u001b[0;34m.\u001b[0m\u001b[0macquire_direct\u001b[0m\u001b[0;34m(\u001b[0m\u001b[0mself\u001b[0m\u001b[0;34m.\u001b[0m\u001b[0maddress\u001b[0m\u001b[0;34m)\u001b[0m\u001b[0;34m\u001b[0m\u001b[0;34m\u001b[0m\u001b[0m\n\u001b[0m\u001b[1;32m    699\u001b[0m \u001b[0;34m\u001b[0m\u001b[0m\n\u001b[1;32m    700\u001b[0m \u001b[0;34m\u001b[0m\u001b[0m\n",
      "\u001b[0;32m/usr/local/lib/python3.6/dist-packages/neobolt/direct.py\u001b[0m in \u001b[0;36macquire_direct\u001b[0;34m(self, address)\u001b[0m\n\u001b[1;32m    589\u001b[0m                 \u001b[0;32mif\u001b[0m \u001b[0mcan_create_new_connection\u001b[0m\u001b[0;34m:\u001b[0m\u001b[0;34m\u001b[0m\u001b[0;34m\u001b[0m\u001b[0m\n\u001b[1;32m    590\u001b[0m                     \u001b[0;32mtry\u001b[0m\u001b[0;34m:\u001b[0m\u001b[0;34m\u001b[0m\u001b[0;34m\u001b[0m\u001b[0m\n\u001b[0;32m--> 591\u001b[0;31m                         \u001b[0mconnection\u001b[0m \u001b[0;34m=\u001b[0m \u001b[0mself\u001b[0m\u001b[0;34m.\u001b[0m\u001b[0mconnector\u001b[0m\u001b[0;34m(\u001b[0m\u001b[0maddress\u001b[0m\u001b[0;34m,\u001b[0m \u001b[0merror_handler\u001b[0m\u001b[0;34m=\u001b[0m\u001b[0mself\u001b[0m\u001b[0;34m.\u001b[0m\u001b[0mconnection_error_handler\u001b[0m\u001b[0;34m)\u001b[0m\u001b[0;34m\u001b[0m\u001b[0;34m\u001b[0m\u001b[0m\n\u001b[0m\u001b[1;32m    592\u001b[0m                     \u001b[0;32mexcept\u001b[0m \u001b[0mServiceUnavailable\u001b[0m\u001b[0;34m:\u001b[0m\u001b[0;34m\u001b[0m\u001b[0;34m\u001b[0m\u001b[0m\n\u001b[1;32m    593\u001b[0m                         \u001b[0mself\u001b[0m\u001b[0;34m.\u001b[0m\u001b[0mremove\u001b[0m\u001b[0;34m(\u001b[0m\u001b[0maddress\u001b[0m\u001b[0;34m)\u001b[0m\u001b[0;34m\u001b[0m\u001b[0;34m\u001b[0m\u001b[0m\n",
      "\u001b[0;32m/usr/local/lib/python3.6/dist-packages/neo4j/__init__.py\u001b[0m in \u001b[0;36mconnector\u001b[0;34m(address, **kwargs)\u001b[0m\n\u001b[1;32m    216\u001b[0m \u001b[0;34m\u001b[0m\u001b[0m\n\u001b[1;32m    217\u001b[0m         \u001b[0;32mdef\u001b[0m \u001b[0mconnector\u001b[0m\u001b[0;34m(\u001b[0m\u001b[0maddress\u001b[0m\u001b[0;34m,\u001b[0m \u001b[0;34m**\u001b[0m\u001b[0mkwargs\u001b[0m\u001b[0;34m)\u001b[0m\u001b[0;34m:\u001b[0m\u001b[0;34m\u001b[0m\u001b[0;34m\u001b[0m\u001b[0m\n\u001b[0;32m--> 218\u001b[0;31m             \u001b[0;32mreturn\u001b[0m \u001b[0mconnect\u001b[0m\u001b[0;34m(\u001b[0m\u001b[0maddress\u001b[0m\u001b[0;34m,\u001b[0m \u001b[0;34m**\u001b[0m\u001b[0mdict\u001b[0m\u001b[0;34m(\u001b[0m\u001b[0mconfig\u001b[0m\u001b[0;34m,\u001b[0m \u001b[0;34m**\u001b[0m\u001b[0mkwargs\u001b[0m\u001b[0;34m)\u001b[0m\u001b[0;34m)\u001b[0m\u001b[0;34m\u001b[0m\u001b[0;34m\u001b[0m\u001b[0m\n\u001b[0m\u001b[1;32m    219\u001b[0m \u001b[0;34m\u001b[0m\u001b[0m\n\u001b[1;32m    220\u001b[0m         \u001b[0mpool\u001b[0m \u001b[0;34m=\u001b[0m \u001b[0mConnectionPool\u001b[0m\u001b[0;34m(\u001b[0m\u001b[0mconnector\u001b[0m\u001b[0;34m,\u001b[0m \u001b[0minstance\u001b[0m\u001b[0;34m.\u001b[0m\u001b[0maddress\u001b[0m\u001b[0;34m,\u001b[0m \u001b[0;34m**\u001b[0m\u001b[0mconfig\u001b[0m\u001b[0;34m)\u001b[0m\u001b[0;34m\u001b[0m\u001b[0;34m\u001b[0m\u001b[0m\n",
      "\u001b[0;32m/usr/local/lib/python3.6/dist-packages/neobolt/direct.py\u001b[0m in \u001b[0;36mconnect\u001b[0;34m(address, **config)\u001b[0m\n\u001b[1;32m    947\u001b[0m         \u001b[0;32mraise\u001b[0m \u001b[0mServiceUnavailable\u001b[0m\u001b[0;34m(\u001b[0m\u001b[0;34m\"Failed to resolve addresses for %s\"\u001b[0m \u001b[0;34m%\u001b[0m \u001b[0maddress\u001b[0m\u001b[0;34m)\u001b[0m\u001b[0;34m\u001b[0m\u001b[0;34m\u001b[0m\u001b[0m\n\u001b[1;32m    948\u001b[0m     \u001b[0;32melse\u001b[0m\u001b[0;34m:\u001b[0m\u001b[0;34m\u001b[0m\u001b[0;34m\u001b[0m\u001b[0m\n\u001b[0;32m--> 949\u001b[0;31m         \u001b[0;32mraise\u001b[0m \u001b[0mlast_error\u001b[0m\u001b[0;34m\u001b[0m\u001b[0;34m\u001b[0m\u001b[0m\n\u001b[0m",
      "\u001b[0;32m/usr/local/lib/python3.6/dist-packages/neobolt/direct.py\u001b[0m in \u001b[0;36mconnect\u001b[0;34m(address, **config)\u001b[0m\n\u001b[1;32m    939\u001b[0m             \u001b[0ms\u001b[0m \u001b[0;34m=\u001b[0m \u001b[0m_connect\u001b[0m\u001b[0;34m(\u001b[0m\u001b[0mresolved_address\u001b[0m\u001b[0;34m,\u001b[0m \u001b[0;34m**\u001b[0m\u001b[0mconfig\u001b[0m\u001b[0;34m)\u001b[0m\u001b[0;34m\u001b[0m\u001b[0;34m\u001b[0m\u001b[0m\n\u001b[1;32m    940\u001b[0m             \u001b[0ms\u001b[0m\u001b[0;34m,\u001b[0m \u001b[0mder_encoded_server_certificate\u001b[0m \u001b[0;34m=\u001b[0m \u001b[0m_secure\u001b[0m\u001b[0;34m(\u001b[0m\u001b[0ms\u001b[0m\u001b[0;34m,\u001b[0m \u001b[0maddress\u001b[0m\u001b[0;34m[\u001b[0m\u001b[0;36m0\u001b[0m\u001b[0;34m]\u001b[0m\u001b[0;34m,\u001b[0m \u001b[0msecurity_plan\u001b[0m\u001b[0;34m.\u001b[0m\u001b[0mssl_context\u001b[0m\u001b[0;34m,\u001b[0m \u001b[0;34m**\u001b[0m\u001b[0mconfig\u001b[0m\u001b[0;34m)\u001b[0m\u001b[0;34m\u001b[0m\u001b[0;34m\u001b[0m\u001b[0m\n\u001b[0;32m--> 941\u001b[0;31m             \u001b[0mconnection\u001b[0m \u001b[0;34m=\u001b[0m \u001b[0m_handshake\u001b[0m\u001b[0;34m(\u001b[0m\u001b[0ms\u001b[0m\u001b[0;34m,\u001b[0m \u001b[0mresolved_address\u001b[0m\u001b[0;34m,\u001b[0m \u001b[0mder_encoded_server_certificate\u001b[0m\u001b[0;34m,\u001b[0m \u001b[0;34m**\u001b[0m\u001b[0mconfig\u001b[0m\u001b[0;34m)\u001b[0m\u001b[0;34m\u001b[0m\u001b[0;34m\u001b[0m\u001b[0m\n\u001b[0m\u001b[1;32m    942\u001b[0m         \u001b[0;32mexcept\u001b[0m \u001b[0mException\u001b[0m \u001b[0;32mas\u001b[0m \u001b[0merror\u001b[0m\u001b[0;34m:\u001b[0m\u001b[0;34m\u001b[0m\u001b[0;34m\u001b[0m\u001b[0m\n\u001b[1;32m    943\u001b[0m             \u001b[0mlast_error\u001b[0m \u001b[0;34m=\u001b[0m \u001b[0merror\u001b[0m\u001b[0;34m\u001b[0m\u001b[0;34m\u001b[0m\u001b[0m\n",
      "\u001b[0;32m/usr/local/lib/python3.6/dist-packages/neobolt/direct.py\u001b[0m in \u001b[0;36m_handshake\u001b[0;34m(s, resolved_address, der_encoded_server_certificate, **config)\u001b[0m\n\u001b[1;32m    908\u001b[0m                                 \u001b[0mder_encoded_server_certificate\u001b[0m\u001b[0;34m=\u001b[0m\u001b[0mder_encoded_server_certificate\u001b[0m\u001b[0;34m,\u001b[0m\u001b[0;34m\u001b[0m\u001b[0;34m\u001b[0m\u001b[0m\n\u001b[1;32m    909\u001b[0m                                 **config)\n\u001b[0;32m--> 910\u001b[0;31m         \u001b[0mconnection\u001b[0m\u001b[0;34m.\u001b[0m\u001b[0mhello\u001b[0m\u001b[0;34m(\u001b[0m\u001b[0;34m)\u001b[0m\u001b[0;34m\u001b[0m\u001b[0;34m\u001b[0m\u001b[0m\n\u001b[0m\u001b[1;32m    911\u001b[0m         \u001b[0;32mreturn\u001b[0m \u001b[0mconnection\u001b[0m\u001b[0;34m\u001b[0m\u001b[0;34m\u001b[0m\u001b[0m\n\u001b[1;32m    912\u001b[0m     \u001b[0;32melif\u001b[0m \u001b[0magreed_version\u001b[0m \u001b[0;34m==\u001b[0m \u001b[0;36m0x48545450\u001b[0m\u001b[0;34m:\u001b[0m\u001b[0;34m\u001b[0m\u001b[0;34m\u001b[0m\u001b[0m\n",
      "\u001b[0;32m/usr/local/lib/python3.6/dist-packages/neobolt/direct.py\u001b[0m in \u001b[0;36mhello\u001b[0;34m(self)\u001b[0m\n\u001b[1;32m    250\u001b[0m         self._append(b\"\\x01\", (headers,),\n\u001b[1;32m    251\u001b[0m                      response=InitResponse(self, on_success=self.server.metadata.update))\n\u001b[0;32m--> 252\u001b[0;31m         \u001b[0mself\u001b[0m\u001b[0;34m.\u001b[0m\u001b[0msync\u001b[0m\u001b[0;34m(\u001b[0m\u001b[0;34m)\u001b[0m\u001b[0;34m\u001b[0m\u001b[0;34m\u001b[0m\u001b[0m\n\u001b[0m\u001b[1;32m    253\u001b[0m         \u001b[0mself\u001b[0m\u001b[0;34m.\u001b[0m\u001b[0mpacker\u001b[0m\u001b[0;34m.\u001b[0m\u001b[0msupports_bytes\u001b[0m \u001b[0;34m=\u001b[0m \u001b[0mself\u001b[0m\u001b[0;34m.\u001b[0m\u001b[0mserver\u001b[0m\u001b[0;34m.\u001b[0m\u001b[0msupports\u001b[0m\u001b[0;34m(\u001b[0m\u001b[0;34m\"bytes\"\u001b[0m\u001b[0;34m)\u001b[0m\u001b[0;34m\u001b[0m\u001b[0;34m\u001b[0m\u001b[0m\n\u001b[1;32m    254\u001b[0m \u001b[0;34m\u001b[0m\u001b[0m\n",
      "\u001b[0;32m/usr/local/lib/python3.6/dist-packages/neobolt/direct.py\u001b[0m in \u001b[0;36msync\u001b[0;34m(self)\u001b[0m\n\u001b[1;32m    508\u001b[0m             \u001b[0mresponse\u001b[0m \u001b[0;34m=\u001b[0m \u001b[0mself\u001b[0m\u001b[0;34m.\u001b[0m\u001b[0mresponses\u001b[0m\u001b[0;34m[\u001b[0m\u001b[0;36m0\u001b[0m\u001b[0;34m]\u001b[0m\u001b[0;34m\u001b[0m\u001b[0;34m\u001b[0m\u001b[0m\n\u001b[1;32m    509\u001b[0m             \u001b[0;32mwhile\u001b[0m \u001b[0;32mnot\u001b[0m \u001b[0mresponse\u001b[0m\u001b[0;34m.\u001b[0m\u001b[0mcomplete\u001b[0m\u001b[0;34m:\u001b[0m\u001b[0;34m\u001b[0m\u001b[0;34m\u001b[0m\u001b[0m\n\u001b[0;32m--> 510\u001b[0;31m                 \u001b[0mdetail_delta\u001b[0m\u001b[0;34m,\u001b[0m \u001b[0msummary_delta\u001b[0m \u001b[0;34m=\u001b[0m \u001b[0mself\u001b[0m\u001b[0;34m.\u001b[0m\u001b[0mfetch\u001b[0m\u001b[0;34m(\u001b[0m\u001b[0;34m)\u001b[0m\u001b[0;34m\u001b[0m\u001b[0;34m\u001b[0m\u001b[0m\n\u001b[0m\u001b[1;32m    511\u001b[0m                 \u001b[0mdetail_count\u001b[0m \u001b[0;34m+=\u001b[0m \u001b[0mdetail_delta\u001b[0m\u001b[0;34m\u001b[0m\u001b[0;34m\u001b[0m\u001b[0m\n\u001b[1;32m    512\u001b[0m                 \u001b[0msummary_count\u001b[0m \u001b[0;34m+=\u001b[0m \u001b[0msummary_delta\u001b[0m\u001b[0;34m\u001b[0m\u001b[0;34m\u001b[0m\u001b[0m\n",
      "\u001b[0;32m/usr/local/lib/python3.6/dist-packages/neobolt/direct.py\u001b[0m in \u001b[0;36mfetch\u001b[0;34m(self)\u001b[0m\n\u001b[1;32m    412\u001b[0m     \u001b[0;32mdef\u001b[0m \u001b[0mfetch\u001b[0m\u001b[0;34m(\u001b[0m\u001b[0mself\u001b[0m\u001b[0;34m)\u001b[0m\u001b[0;34m:\u001b[0m\u001b[0;34m\u001b[0m\u001b[0;34m\u001b[0m\u001b[0m\n\u001b[1;32m    413\u001b[0m         \u001b[0;32mtry\u001b[0m\u001b[0;34m:\u001b[0m\u001b[0;34m\u001b[0m\u001b[0;34m\u001b[0m\u001b[0m\n\u001b[0;32m--> 414\u001b[0;31m             \u001b[0;32mreturn\u001b[0m \u001b[0mself\u001b[0m\u001b[0;34m.\u001b[0m\u001b[0m_fetch\u001b[0m\u001b[0;34m(\u001b[0m\u001b[0;34m)\u001b[0m\u001b[0;34m\u001b[0m\u001b[0;34m\u001b[0m\u001b[0m\n\u001b[0m\u001b[1;32m    415\u001b[0m         \u001b[0;32mexcept\u001b[0m \u001b[0mself\u001b[0m\u001b[0;34m.\u001b[0m\u001b[0merror_handler\u001b[0m\u001b[0;34m.\u001b[0m\u001b[0mknown_errors\u001b[0m \u001b[0;32mas\u001b[0m \u001b[0merror\u001b[0m\u001b[0;34m:\u001b[0m\u001b[0;34m\u001b[0m\u001b[0;34m\u001b[0m\u001b[0m\n\u001b[1;32m    416\u001b[0m             \u001b[0mself\u001b[0m\u001b[0;34m.\u001b[0m\u001b[0merror_handler\u001b[0m\u001b[0;34m.\u001b[0m\u001b[0mhandle\u001b[0m\u001b[0;34m(\u001b[0m\u001b[0merror\u001b[0m\u001b[0;34m,\u001b[0m \u001b[0mself\u001b[0m\u001b[0;34m.\u001b[0m\u001b[0maddress\u001b[0m\u001b[0;34m)\u001b[0m\u001b[0;34m\u001b[0m\u001b[0;34m\u001b[0m\u001b[0m\n",
      "\u001b[0;32m/usr/local/lib/python3.6/dist-packages/neobolt/direct.py\u001b[0m in \u001b[0;36m_fetch\u001b[0;34m(self)\u001b[0m\n\u001b[1;32m    452\u001b[0m             \u001b[0mself\u001b[0m\u001b[0;34m.\u001b[0m\u001b[0m_last_run_statement\u001b[0m \u001b[0;34m=\u001b[0m \u001b[0;32mNone\u001b[0m\u001b[0;34m\u001b[0m\u001b[0;34m\u001b[0m\u001b[0m\n\u001b[1;32m    453\u001b[0m             \u001b[0mlog_debug\u001b[0m\u001b[0;34m(\u001b[0m\u001b[0;34m\"[#%04X]  S: FAILURE %r\"\u001b[0m\u001b[0;34m,\u001b[0m \u001b[0mself\u001b[0m\u001b[0;34m.\u001b[0m\u001b[0mlocal_port\u001b[0m\u001b[0;34m,\u001b[0m \u001b[0msummary_metadata\u001b[0m\u001b[0;34m)\u001b[0m\u001b[0;34m\u001b[0m\u001b[0;34m\u001b[0m\u001b[0m\n\u001b[0;32m--> 454\u001b[0;31m             \u001b[0mresponse\u001b[0m\u001b[0;34m.\u001b[0m\u001b[0mon_failure\u001b[0m\u001b[0;34m(\u001b[0m\u001b[0msummary_metadata\u001b[0m \u001b[0;32mor\u001b[0m \u001b[0;34m{\u001b[0m\u001b[0;34m}\u001b[0m\u001b[0;34m)\u001b[0m\u001b[0;34m\u001b[0m\u001b[0;34m\u001b[0m\u001b[0m\n\u001b[0m\u001b[1;32m    455\u001b[0m         \u001b[0;32melse\u001b[0m\u001b[0;34m:\u001b[0m\u001b[0;34m\u001b[0m\u001b[0;34m\u001b[0m\u001b[0m\n\u001b[1;32m    456\u001b[0m             \u001b[0mself\u001b[0m\u001b[0;34m.\u001b[0m\u001b[0m_last_run_statement\u001b[0m \u001b[0;34m=\u001b[0m \u001b[0;32mNone\u001b[0m\u001b[0;34m\u001b[0m\u001b[0;34m\u001b[0m\u001b[0m\n",
      "\u001b[0;32m/usr/local/lib/python3.6/dist-packages/neobolt/direct.py\u001b[0m in \u001b[0;36mon_failure\u001b[0;34m(self, metadata)\u001b[0m\n\u001b[1;32m    755\u001b[0m         \u001b[0mmessage\u001b[0m \u001b[0;34m=\u001b[0m \u001b[0mmetadata\u001b[0m\u001b[0;34m.\u001b[0m\u001b[0mget\u001b[0m\u001b[0;34m(\u001b[0m\u001b[0;34m\"message\"\u001b[0m\u001b[0;34m,\u001b[0m \u001b[0;34m\"Connection initialisation failed\"\u001b[0m\u001b[0;34m)\u001b[0m\u001b[0;34m\u001b[0m\u001b[0;34m\u001b[0m\u001b[0m\n\u001b[1;32m    756\u001b[0m         \u001b[0;32mif\u001b[0m \u001b[0mcode\u001b[0m \u001b[0;34m==\u001b[0m \u001b[0;34m\"Neo.ClientError.Security.Unauthorized\"\u001b[0m\u001b[0;34m:\u001b[0m\u001b[0;34m\u001b[0m\u001b[0;34m\u001b[0m\u001b[0m\n\u001b[0;32m--> 757\u001b[0;31m             \u001b[0;32mraise\u001b[0m \u001b[0mAuthError\u001b[0m\u001b[0;34m(\u001b[0m\u001b[0mmessage\u001b[0m\u001b[0;34m)\u001b[0m\u001b[0;34m\u001b[0m\u001b[0;34m\u001b[0m\u001b[0m\n\u001b[0m\u001b[1;32m    758\u001b[0m         \u001b[0;32melse\u001b[0m\u001b[0;34m:\u001b[0m\u001b[0;34m\u001b[0m\u001b[0;34m\u001b[0m\u001b[0m\n\u001b[1;32m    759\u001b[0m             \u001b[0;32mraise\u001b[0m \u001b[0mServiceUnavailable\u001b[0m\u001b[0;34m(\u001b[0m\u001b[0mmessage\u001b[0m\u001b[0;34m)\u001b[0m\u001b[0;34m\u001b[0m\u001b[0;34m\u001b[0m\u001b[0m\n",
      "\u001b[0;31mAuthError\u001b[0m: Unsupported authentication token, missing key `scheme`: { user_agent='neobolt/1.7.4 Python/3.6.7-final-0 (linux)' }"
     ]
    }
   ],
   "source": [
    "driver = GraphDatabase.driver(\"bolt://localhost:11004\", scheme= 'Graph22')"
   ]
  },
  {
   "cell_type": "markdown",
   "metadata": {},
   "source": [
    "---"
   ]
  },
  {
   "cell_type": "markdown",
   "metadata": {},
   "source": [
    "---"
   ]
  },
  {
   "cell_type": "code",
   "execution_count": null,
   "metadata": {},
   "outputs": [],
   "source": []
  },
  {
   "cell_type": "markdown",
   "metadata": {},
   "source": [
    "https://medium.com/neo4j/nxneo4j-networkx-api-for-neo4j-a-new-chapter-9fc65ddab222"
   ]
  },
  {
   "cell_type": "code",
   "execution_count": null,
   "metadata": {},
   "outputs": [],
   "source": []
  }
 ],
 "metadata": {
  "kernelspec": {
   "display_name": "Python 3",
   "language": "python",
   "name": "python3"
  },
  "language_info": {
   "codemirror_mode": {
    "name": "ipython",
    "version": 3
   },
   "file_extension": ".py",
   "mimetype": "text/x-python",
   "name": "python",
   "nbconvert_exporter": "python",
   "pygments_lexer": "ipython3",
   "version": "3.6.9"
  }
 },
 "nbformat": 4,
 "nbformat_minor": 2
}
