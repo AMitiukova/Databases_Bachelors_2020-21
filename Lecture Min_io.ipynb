{
 "cells": [
  {
   "cell_type": "markdown",
   "metadata": {},
   "source": [
    "# Minio - файловое хранилище корпоративного уровня"
   ]
  },
  {
   "cell_type": "markdown",
   "metadata": {},
   "source": [
    "[песочница](https://play.min.io/minio/login)\n",
    "\n",
    "[документация](https://docs.minio.io/docs/python-client-api-reference)\n",
    "\n",
    "Если пользуетесь песочницей - сохраните логин и пароль, которые вам даются при входе, по ним можно входить из кода.\n",
    "\n",
    "Если пользуетесь Докером - при запуске он пишет код доступа и секретный ключ."
   ]
  },
  {
   "cell_type": "code",
   "execution_count": 1,
   "metadata": {},
   "outputs": [],
   "source": [
    "# Просто попробуем что-то сделать в песочнице Minio.\n",
    "from minio import Minio\n",
    "from minio.error import ResponseError\n",
    "\n",
    "minioClient = Minio('play.min.io',\n",
    "                  access_key='Q3AM3UQ867SPQQA43P2F',\n",
    "                  secret_key='zuf+tfteSlswRu7BJ86wekitnifILbZam1KYY3TG',\n",
    "                  secure=True)"
   ]
  },
  {
   "cell_type": "code",
   "execution_count": 2,
   "metadata": {},
   "outputs": [],
   "source": [
    "# Список бакетов (каталогов) верхнего уровня.\n",
    "buckets = minioClient.list_buckets()"
   ]
  },
  {
   "cell_type": "code",
   "execution_count": 6,
   "metadata": {},
   "outputs": [
    {
     "data": {
      "text/plain": [
       "414"
      ]
     },
     "execution_count": 6,
     "metadata": {},
     "output_type": "execute_result"
    }
   ],
   "source": [
    "# Что есть у бакета и сколько их в песочнице.\n",
    "#dir(buckets[0])\n",
    "# Если убрать len - получится список имен кааталогов. Каталоги могут быть вложенными.\n",
    "len([b.name for b in buckets])"
   ]
  },
  {
   "cell_type": "code",
   "execution_count": 7,
   "metadata": {},
   "outputs": [
    {
     "data": {
      "text/plain": [
       "[<minio.definitions.Bucket at 0x7f9b140d2470>,\n",
       " <minio.definitions.Bucket at 0x7f9b140d24a8>,\n",
       " <minio.definitions.Bucket at 0x7f9b140d24e0>,\n",
       " <minio.definitions.Bucket at 0x7f9b140d2518>,\n",
       " <minio.definitions.Bucket at 0x7f9b140d2550>]"
      ]
     },
     "execution_count": 7,
     "metadata": {},
     "output_type": "execute_result"
    }
   ],
   "source": [
    "buckets[:5]"
   ]
  },
  {
   "cell_type": "code",
   "execution_count": 8,
   "metadata": {},
   "outputs": [],
   "source": [
    "# Получаем список объектов (файлов) в бакете (каталоге).\n",
    "objs = list(minioClient.list_objects_v2(\"deadbeef\"))"
   ]
  },
  {
   "cell_type": "code",
   "execution_count": 9,
   "metadata": {},
   "outputs": [
    {
     "data": {
      "text/plain": [
       "['__class__',\n",
       " '__delattr__',\n",
       " '__dict__',\n",
       " '__dir__',\n",
       " '__doc__',\n",
       " '__eq__',\n",
       " '__format__',\n",
       " '__ge__',\n",
       " '__getattribute__',\n",
       " '__gt__',\n",
       " '__hash__',\n",
       " '__init__',\n",
       " '__init_subclass__',\n",
       " '__le__',\n",
       " '__lt__',\n",
       " '__module__',\n",
       " '__ne__',\n",
       " '__new__',\n",
       " '__reduce__',\n",
       " '__reduce_ex__',\n",
       " '__repr__',\n",
       " '__setattr__',\n",
       " '__sizeof__',\n",
       " '__str__',\n",
       " '__subclasshook__',\n",
       " '__weakref__',\n",
       " 'bucket_name',\n",
       " 'content_type',\n",
       " 'delete_marker',\n",
       " 'etag',\n",
       " 'is_dir',\n",
       " 'is_latest',\n",
       " 'last_modified',\n",
       " 'metadata',\n",
       " 'object_name',\n",
       " 'owner_id',\n",
       " 'owner_name',\n",
       " 'size',\n",
       " 'storage_class',\n",
       " 'version_id']"
      ]
     },
     "execution_count": 9,
     "metadata": {},
     "output_type": "execute_result"
    }
   ],
   "source": [
    "# Что есть у объекта?\n",
    "dir(objs[0])"
   ]
  },
  {
   "cell_type": "code",
   "execution_count": 10,
   "metadata": {},
   "outputs": [
    {
     "data": {
      "text/plain": [
       "'000506a2-20b5-5b83-be12-d95cc2aa5862.jpg'"
      ]
     },
     "execution_count": 10,
     "metadata": {},
     "output_type": "execute_result"
    }
   ],
   "source": [
    "# Какое у файла имя?\n",
    "objs[0].object_name"
   ]
  },
  {
   "cell_type": "code",
   "execution_count": 11,
   "metadata": {},
   "outputs": [],
   "source": [
    "# Получаем объект (файл) из хранилища как набор байтиков.\n",
    "res = minioClient.get_object(objs[0].bucket_name, objs[0].object_name)"
   ]
  },
  {
   "cell_type": "code",
   "execution_count": 12,
   "metadata": {},
   "outputs": [
    {
     "data": {
      "text/plain": [
       "urllib3.response.HTTPResponse"
      ]
     },
     "execution_count": 12,
     "metadata": {},
     "output_type": "execute_result"
    }
   ],
   "source": [
    "type(res)"
   ]
  },
  {
   "cell_type": "code",
   "execution_count": 13,
   "metadata": {},
   "outputs": [
    {
     "data": {
      "text/plain": [
       "b'\\xff\\xd8\\xff\\xe0\\x00\\x10JFIF\\x00\\x01\\x01\\x00\\x00\\x01\\x00\\x01\\x00\\x00\\xff\\xe2\\x02(ICC_PROFILE\\x00\\x01\\x01\\x00\\x00\\x02\\x18\\x00\\x00\\x00\\x00\\x02\\x10\\x00\\x00mntrRGB XYZ \\x00\\x00\\x00\\x00\\x00\\x00\\x00\\x00\\x00\\x00\\x00\\x00acsp\\x00\\x00\\x00\\x00\\x00\\x00\\x00\\x00\\x00\\x00\\x00\\x00\\x00\\x00\\x00\\x00\\x00\\x00\\x00\\x00\\x00\\x00\\x00\\x00\\x00\\x00\\x00\\x01\\x00\\x00\\xf6\\xd6\\x00\\x01\\x00\\x00\\x00\\x00\\xd3-\\x00\\x00\\x00\\x00\\x00\\x00\\x00\\x00\\x00\\x00\\x00\\x00\\x00\\x00\\x00\\x00\\x00\\x00\\x00\\x00\\x00\\x00\\x00\\x00\\x00\\x00\\x00\\x00\\x00\\x00\\x00\\x00\\x00\\x00\\x00\\x00\\x00\\x00\\x00\\x00\\x00\\x00\\x00\\x00\\x00\\x00\\x00\\x00\\x00\\x00\\x00\\tdesc\\x00\\x00\\x00\\xf0\\x00\\x00\\x00trXYZ\\x00\\x00\\x01d\\x00\\x00\\x00\\x14gXYZ\\x00\\x00\\x01x\\x00\\x00\\x00\\x14bXYZ\\x00\\x00\\x01\\x8c\\x00\\x00\\x00\\x14rTRC\\x00\\x00\\x01\\xa0\\x00\\x00\\x00(gTRC\\x00\\x00\\x01\\xa0\\x00\\x00\\x00(bTRC\\x00\\x00\\x01\\xa0\\x00\\x00\\x00(wtpt\\x00\\x00\\x01\\xc8\\x00\\x00\\x00\\x14cprt\\x00\\x00\\x01\\xdc\\x00\\x00\\x00<mluc\\x00\\x00\\x00\\x00\\x00\\x00\\x00\\x01\\x00\\x00\\x00\\x0cenUS\\x00\\x00\\x00X\\x00\\x00\\x00\\x1c\\x00s\\x00R\\x00G\\x00B\\x00\\x00\\x00\\x00\\x00\\x00\\x00\\x00\\x00\\x00\\x00\\x00\\x00\\x00\\x00\\x00\\x00\\x00\\x00\\x00\\x00\\x00\\x00\\x00\\x00\\x00\\x00\\x00\\x00\\x00\\x00\\x00\\x00\\x00\\x00\\x00\\x00\\x00\\x00\\x00\\x00\\x00\\x00\\x00\\x00\\x00\\x00\\x00\\x00\\x00\\x00\\x00\\x00\\x00\\x00\\x00\\x00\\x00\\x00\\x00\\x00\\x00\\x00\\x00\\x00\\x00\\x00\\x00\\x00\\x00\\x00\\x00\\x00\\x00\\x00\\x00\\x00\\x00\\x00\\x00XYZ \\x00\\x00\\x00\\x00\\x00\\x00o\\xa2\\x00\\x008\\xf5\\x00\\x00\\x03\\x90XYZ \\x00\\x00\\x00\\x00\\x00\\x00b\\x99\\x00\\x00\\xb7\\x85\\x00\\x00\\x18\\xdaXYZ \\x00\\x00\\x00\\x00\\x00\\x00$\\xa0\\x00\\x00\\x0f\\x84\\x00\\x00\\xb6\\xcfpara\\x00\\x00\\x00\\x00\\x00\\x04\\x00\\x00\\x00\\x02ff\\x00\\x00\\xf2\\xa7\\x00\\x00\\rY\\x00\\x00\\x13\\xd0\\x00\\x00\\n[\\x00\\x00\\x00\\x00\\x00\\x00\\x00\\x00XYZ \\x00\\x00\\x00\\x00\\x00\\x00\\xf6\\xd6\\x00\\x01\\x00\\x00\\x00\\x00\\xd3-mluc\\x00\\x00\\x00\\x00\\x00\\x00\\x00\\x01\\x00\\x00\\x00\\x0cenUS\\x00\\x00\\x00 \\x00\\x00\\x00\\x1c\\x00G\\x00o\\x00o\\x00g\\x00l\\x00e\\x00 \\x00I\\x00n\\x00c\\x00.\\x00 \\x002\\x000\\x001\\x006\\xff\\xdb\\x00C\\x00\\x01\\x01\\x01\\x01\\x01\\x01\\x01\\x01\\x01\\x01\\x01\\x01\\x01\\x01\\x01\\x01\\x01\\x01\\x01\\x01\\x01\\x01\\x01\\x01\\x01\\x01\\x01\\x01\\x01\\x01\\x01\\x01\\x01\\x01\\x01\\x01\\x01\\x01\\x01\\x01\\x01\\x01\\x01\\x01\\x01\\x01\\x01\\x01\\x01\\x01\\x01\\x01\\x01\\x01\\x01\\x01\\x01\\x01\\x01\\x01\\x01\\x01\\x01\\x01\\xff\\xdb\\x00C\\x01\\x01\\x01\\x01\\x01\\x01\\x01\\x01\\x01\\x01\\x01\\x01\\x01\\x01\\x01\\x01\\x01\\x01\\x01\\x01\\x01\\x01\\x01\\x01\\x01\\x01\\x01\\x01\\x01\\x01\\x01\\x01\\x01\\x01\\x01\\x01\\x01\\x01\\x01\\x01\\x01\\x01\\x01\\x01\\x01\\x01\\x01\\x01\\x01\\x01\\x01\\x01\\x01\\x01\\x01\\x01\\x01\\x01\\x01\\x01\\x01\\x01\\x01\\x01\\x01\\xff\\xc0\\x00\\x11\\x08\"y\\x06@\\x03\\x01\"\\x00\\x02\\x11\\x01\\x03\\x11\\x01\\xff\\xc4\\x00\\x1f\\x00\\x01\\x00\\x01\\x04\\x03\\x01\\x01\\x01\\x00\\x00\\x00\\x00\\x00\\x00\\x00\\x00\\x00\\x07\\x05\\x06\\x08\\t\\x03\\x04\\n\\x02\\x0b\\x01\\xff\\xc4\\x00\\x91\\x10\\x00\\x00\\x06\\x02\\x01\\x03\\x02\\x02\\x04\\x04\\x0f\\t\\t\\x00\\x02C\\x00\\x01\\x02\\x03\\x04\\x05\\x06\\x07\\x11\\x08\\x12!\\x131\\x14A\\t\\x15\"Q\\x16aqs\\x17#246UV\\x81\\x91\\x95\\x96\\xa1\\xb2\\xb5\\xd5\\nBS\\x93\\xb1\\xc1\\xd3\\xd6\\xf0\\x18\\x19$5RTu\\xd1\\xd4\\xd7\\xe1%3\\x94\\xb4\\xd2\\xf1\\x1a&\\'Xbr\\xa8\\xd8(CW\\x98\\xa778DFfh\\x82\\x86\\x92\\xe6EGHcgtvwx\\x83\\x84\\x87\\xa2\\xb3\\xb8\\xc6\\xc79e\\x85\\x88\\xa5\\xa6\\xb6\\xb7\\xe5\\xe7d\\x97\\xa3\\xc3)Yy\\xa4\\xb9\\xe2\\xf2\\xff\\xc4\\x00\\x1d\\x01\\x01\\x00\\x02\\x03\\x01\\x01\\x01\\x01\\x00\\x00\\x00\\x00\\x00\\x00\\x00\\x00\\x00\\x02\\x03\\x01\\x04\\x05\\x06\\x07\\x08\\t\\xff\\xc4\\x00p\\x11\\x00\\x01\\x03\\x02\\x03\\x04\\x06\\x06\\x07\\x05\\x05\\x04\\x02\\x0b\\x01!\\x01\\x00\\x02\\x03\\x04\\x11\\x12!1\\x05\\x13AQ\\x06\"aq\\x91\\xf0\\x142\\x81\\xa1\\xb1\\xd1\\x07#R\\x92\\xc1\\xd2\\xf1\\x15r\\xb2\\xc2\\xe1'"
      ]
     },
     "execution_count": 13,
     "metadata": {},
     "output_type": "execute_result"
    }
   ],
   "source": [
    "# Познакомьтесь, pdf-файл.\n",
    "res.data[:1000]"
   ]
  },
  {
   "cell_type": "code",
   "execution_count": 14,
   "metadata": {},
   "outputs": [],
   "source": [
    "# Получаем объект и сохраняем его сразу в файл.\n",
    "res2 = minioClient.fget_object(objs[0].bucket_name, objs[0].object_name, \"1.jpg\")"
   ]
  },
  {
   "cell_type": "code",
   "execution_count": 15,
   "metadata": {},
   "outputs": [
    {
     "data": {
      "text/plain": [
       "('114e190dba6450b6988a7408333e927f', None)"
      ]
     },
     "execution_count": 15,
     "metadata": {},
     "output_type": "execute_result"
    }
   ],
   "source": [
    "minioClient.fput_object(objs[0].bucket_name, \"2.pdf\", \"1.pdf\")"
   ]
  },
  {
   "cell_type": "code",
   "execution_count": 36,
   "metadata": {},
   "outputs": [
    {
     "data": {
      "text/plain": [
       "b'Marked true>>>>\\r\\nendobj\\r\\n2 0 obj\\r\\n<</Type/Pages/Count 1/Kids[ 3 0 R] >>\\r\\nendobj\\r\\n3 0 obj\\r\\n<</Type/Pa'"
      ]
     },
     "execution_count": 36,
     "metadata": {},
     "output_type": "execute_result"
    }
   ],
   "source": [
    "# Можно получить кусочек файла, если он очень большой.\n",
    "res_p = minioClient.get_partial_object(\"aio-ato-art\", \"2.pdf\", 100, 100)\n",
    "res_p.data"
   ]
  },
  {
   "cell_type": "code",
   "execution_count": 37,
   "metadata": {},
   "outputs": [
    {
     "ename": "NoSuchBucketPolicy",
     "evalue": "NoSuchBucketPolicy: message: The specified bucket does not have a bucket policy.",
     "output_type": "error",
     "traceback": [
      "\u001b[0;31m---------------------------------------------------------------------------\u001b[0m",
      "\u001b[0;31mNoSuchBucketPolicy\u001b[0m                        Traceback (most recent call last)",
      "\u001b[0;32m<ipython-input-37-21822f999da3>\u001b[0m in \u001b[0;36m<module>\u001b[0;34m\u001b[0m\n\u001b[1;32m      1\u001b[0m \u001b[0;31m# Политики безопасности (не прописаны).\u001b[0m\u001b[0;34m\u001b[0m\u001b[0;34m\u001b[0m\u001b[0;34m\u001b[0m\u001b[0m\n\u001b[0;32m----> 2\u001b[0;31m \u001b[0mpolicy\u001b[0m \u001b[0;34m=\u001b[0m \u001b[0mminioClient\u001b[0m\u001b[0;34m.\u001b[0m\u001b[0mget_bucket_policy\u001b[0m\u001b[0;34m(\u001b[0m\u001b[0;34m'aio-ato-art'\u001b[0m\u001b[0;34m)\u001b[0m\u001b[0;34m\u001b[0m\u001b[0;34m\u001b[0m\u001b[0m\n\u001b[0m\u001b[1;32m      3\u001b[0m \u001b[0mprint\u001b[0m\u001b[0;34m(\u001b[0m\u001b[0mpolicy\u001b[0m\u001b[0;34m)\u001b[0m\u001b[0;34m\u001b[0m\u001b[0;34m\u001b[0m\u001b[0m\n",
      "\u001b[0;32m~/.local/lib/python3.6/site-packages/minio/api.py\u001b[0m in \u001b[0;36mget_bucket_policy\u001b[0;34m(self, bucket_name)\u001b[0m\n\u001b[1;32m    438\u001b[0m         response = self._url_open(\"GET\",\n\u001b[1;32m    439\u001b[0m                                   \u001b[0mbucket_name\u001b[0m\u001b[0;34m=\u001b[0m\u001b[0mbucket_name\u001b[0m\u001b[0;34m,\u001b[0m\u001b[0;34m\u001b[0m\u001b[0;34m\u001b[0m\u001b[0m\n\u001b[0;32m--> 440\u001b[0;31m                                   query={\"policy\": \"\"})\n\u001b[0m\u001b[1;32m    441\u001b[0m         \u001b[0;32mreturn\u001b[0m \u001b[0mresponse\u001b[0m\u001b[0;34m.\u001b[0m\u001b[0mdata\u001b[0m\u001b[0;34m\u001b[0m\u001b[0;34m\u001b[0m\u001b[0m\n\u001b[1;32m    442\u001b[0m \u001b[0;34m\u001b[0m\u001b[0m\n",
      "\u001b[0;32m~/.local/lib/python3.6/site-packages/minio/api.py\u001b[0m in \u001b[0;36m_url_open\u001b[0;34m(self, method, bucket_name, object_name, query, body, headers, content_sha256, preload_content)\u001b[0m\n\u001b[1;32m   2223\u001b[0m                                     \u001b[0mmethod\u001b[0m\u001b[0;34m,\u001b[0m\u001b[0;34m\u001b[0m\u001b[0;34m\u001b[0m\u001b[0m\n\u001b[1;32m   2224\u001b[0m                                     \u001b[0mbucket_name\u001b[0m\u001b[0;34m,\u001b[0m\u001b[0;34m\u001b[0m\u001b[0;34m\u001b[0m\u001b[0m\n\u001b[0;32m-> 2225\u001b[0;31m                                     object_name).get_exception()\n\u001b[0m\u001b[1;32m   2226\u001b[0m \u001b[0;34m\u001b[0m\u001b[0m\n\u001b[1;32m   2227\u001b[0m             raise ValueError('Unsupported method returned'\n",
      "\u001b[0;31mNoSuchBucketPolicy\u001b[0m: NoSuchBucketPolicy: message: The specified bucket does not have a bucket policy."
     ]
    }
   ],
   "source": [
    "# Политики безопасности (не прописаны).\n",
    "policy = minioClient.get_bucket_policy('aio-ato-art')\n",
    "print(policy)"
   ]
  },
  {
   "cell_type": "markdown",
   "metadata": {},
   "source": [
    "Сделаем какую-то задачу, похожую на практику.\n",
    "\n",
    "Скачиваем Ленту, новости кладем в хранилище. Дальше можно сделать как в работе по Редису - параллельные потоки, которые размечают эти тексты и сохраняют в файл."
   ]
  },
  {
   "cell_type": "code",
   "execution_count": 17,
   "metadata": {},
   "outputs": [],
   "source": [
    "import requests\n",
    "#import pymorphy2\n",
    "import re\n",
    "from bs4 import BeautifulSoup\n",
    "import datetime\n",
    "import time\n",
    "import io"
   ]
  },
  {
   "cell_type": "code",
   "execution_count": 38,
   "metadata": {},
   "outputs": [],
   "source": [
    "# Функция для загрузки одной новости из Ленты.ру\n",
    "def getLentaArticle(url):\n",
    "    \"\"\" getLentaArticle gets the body of the article from Lenta.ru\"\"\"\n",
    "    print(\"downloading lenta:\", url)\n",
    "    r = requests.get(url)\n",
    "    p = BeautifulSoup(r.text, \"html5\")(\"p\")\n",
    "    if len(p) == 0:\n",
    "        return \"  \"\n",
    "    p = \" \".join([a.get_text() for a in p])\n",
    "    return p\n",
    "\n",
    "# Загрузка новостей из Ленты.ру за некоторый период.\n",
    "def getLenta():\n",
    "    curdate = datetime.date(2017, 1, 16)\n",
    "    findate = datetime.date(2017, 1, 16)\n",
    "    res = \"\"\n",
    "    \n",
    "    fileno = 1\n",
    "# Загружаем новости до конечной даты.\n",
    "    while curdate <= findate:\n",
    "        print('lenta ' + curdate.strftime('%Y/%m/%d'))\n",
    "        day = requests.get('https://lenta.ru/news/' + curdate.strftime('%Y/%m/%d'))\n",
    "        body = re.findall('<h3>(.+?)</h3>', day.text)\n",
    "        links = ['https://lenta.ru' + re.findall('\"(.+?)\"', x)[0] for x in body]\n",
    "        for l in links: # идем по всем ссылкам на новости за день.\n",
    "            news = getLentaArticle(l)\n",
    "            if news != \"  \":\n",
    "                # Преобразуем текст к набору байт.\n",
    "                news = news.encode()\n",
    "                news_len = len(news)\n",
    "                f = io.BytesIO(news)\n",
    "                # Кладем их в Minio.\n",
    "                minioClient.put_object('aio-ato-art', \"lenta\"+str(fileno)+\".txt\", f, news_len, content_type='text/plain')\n",
    "                fileno += 1\n",
    "                if fileno>10:\n",
    "                    break\n",
    "            time.sleep(0.2)\n",
    "        curdate += datetime.timedelta(days=1)\n",
    "    print(\"lenta finished\")\n"
   ]
  },
  {
   "cell_type": "code",
   "execution_count": 39,
   "metadata": {},
   "outputs": [
    {
     "name": "stdout",
     "output_type": "stream",
     "text": [
      "lenta 2017/01/16\n",
      "downloading lenta: https://lenta.ru/news/2017/01/16/apollo/\n",
      "downloading lenta: https://lenta.ru/news/2017/01/16/kadyrov/\n",
      "downloading lenta: https://lenta.ru/news/2017/01/16/trump2/\n",
      "downloading lenta: https://lenta.ru/news/2017/01/16/accordion/\n",
      "downloading lenta: https://lenta.ru/news/2017/01/16/trump3/\n",
      "downloading lenta: https://lenta.ru/news/2017/01/16/bishkek4/\n",
      "downloading lenta: https://lenta.ru/news/2017/01/16/bishkek5/\n",
      "downloading lenta: https://lenta.ru/news/2017/01/16/realsevilla/\n",
      "downloading lenta: https://lenta.ru/news/2017/01/16/safetymoscow/\n",
      "downloading lenta: https://lenta.ru/news/2017/01/16/vertols/\n",
      "lenta finished\n"
     ]
    }
   ],
   "source": [
    "# Запускаем загрузку новостей.\n",
    "getLenta()"
   ]
  },
  {
   "cell_type": "code",
   "execution_count": null,
   "metadata": {},
   "outputs": [],
   "source": []
  },
  {
   "cell_type": "code",
   "execution_count": null,
   "metadata": {},
   "outputs": [],
   "source": []
  },
  {
   "cell_type": "markdown",
   "metadata": {},
   "source": [
    "<div style=\"background-color:#F00\">А еще можно рассказать про Celery, <a href=\"https://habr.com/ru/company/itsumma/blog/416629/\">RabbitMQ</a>, Heroku, больше про виртуализацию и Docker.</div>"
   ]
  },
  {
   "cell_type": "code",
   "execution_count": null,
   "metadata": {},
   "outputs": [],
   "source": []
  }
 ],
 "metadata": {
  "kernelspec": {
   "display_name": "Python 3",
   "language": "python",
   "name": "python3"
  },
  "language_info": {
   "codemirror_mode": {
    "name": "ipython",
    "version": 3
   },
   "file_extension": ".py",
   "mimetype": "text/x-python",
   "name": "python",
   "nbconvert_exporter": "python",
   "pygments_lexer": "ipython3",
   "version": "3.6.9"
  }
 },
 "nbformat": 4,
 "nbformat_minor": 4
}
