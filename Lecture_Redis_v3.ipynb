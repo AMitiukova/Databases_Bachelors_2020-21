{
 "cells": [
  {
   "cell_type": "markdown",
   "metadata": {},
   "source": [
    "# База \"ключ-значение\" Redis\n",
    "\n",
    "Документация на обертку для Питона находится [здесь](https://redis-py.readthedocs.io/en/stable/genindex.html).\n",
    "\n",
    "Установим саму базу данных и redis-py (`pip3 install redis`). Помимо этого установим библиотеку hiredis (`pip3 install hiredis`), которая обрабатывает ответ от БД несколько быстрее.\n"
   ]
  },
  {
   "cell_type": "code",
   "execution_count": null,
   "metadata": {},
   "outputs": [],
   "source": []
  },
  {
   "cell_type": "markdown",
   "metadata": {},
   "source": [
    "# !!! Можно итерироваться по шаблону !!!\n",
    "\n",
    "for el in r.hscan_iter(value, match='snow_?'):  \n",
    "  print(el)\n",
    "  \n",
    "for el in r.scan_iter(value, match='snow_?'): # Тут как-то по-другому, но функция эта.  \n",
    "  print(el)"
   ]
  },
  {
   "cell_type": "code",
   "execution_count": 1,
   "metadata": {},
   "outputs": [
    {
     "name": "stdout",
     "output_type": "stream",
     "text": [
      "Defaulting to user installation because normal site-packages is not writeable\n",
      "Requirement already satisfied: redis in /home/edward/.local/lib/python3.10/site-packages (4.3.4)\n",
      "Requirement already satisfied: async-timeout>=4.0.2 in /home/edward/.local/lib/python3.10/site-packages (from redis) (4.0.2)\n",
      "Requirement already satisfied: packaging>=20.4 in /usr/lib/python3/dist-packages (from redis) (21.3)\n",
      "Requirement already satisfied: deprecated>=1.2.3 in /home/edward/.local/lib/python3.10/site-packages (from redis) (1.2.13)\n",
      "Requirement already satisfied: wrapt<2,>=1.10 in /home/edward/.local/lib/python3.10/site-packages (from deprecated>=1.2.3->redis) (1.14.1)\n",
      "Defaulting to user installation because normal site-packages is not writeable\n",
      "Requirement already satisfied: hiredis in /home/edward/.local/lib/python3.10/site-packages (2.0.0)\n"
     ]
    }
   ],
   "source": [
    "!pip3 install redis\n",
    "!pip3 install hiredis"
   ]
  },
  {
   "cell_type": "code",
   "execution_count": 7,
   "metadata": {},
   "outputs": [],
   "source": [
    "# Импортируем драйвер к Redis.\n",
    "import redis"
   ]
  },
  {
   "cell_type": "markdown",
   "metadata": {},
   "source": [
    "Присоединяемся к базе данных. По умолчанию она работает только с локальной машиной, аутентификация не предусмотрена.\n",
    "\n",
    "На самом деле, параметры можно не указывать, ниже передаются те же самые значения, что принимаются по умолчанию."
   ]
  },
  {
   "cell_type": "code",
   "execution_count": 8,
   "metadata": {},
   "outputs": [],
   "source": [
    "r = redis.Redis(host='localhost', port=6379, db=0)"
   ]
  },
  {
   "cell_type": "markdown",
   "metadata": {},
   "source": [
    "Очистим базу, чтобы нам ничего не мешало."
   ]
  },
  {
   "cell_type": "code",
   "execution_count": 9,
   "metadata": {},
   "outputs": [
    {
     "data": {
      "text/plain": [
       "True"
      ]
     },
     "execution_count": 9,
     "metadata": {},
     "output_type": "execute_result"
    }
   ],
   "source": [
    "r.flushdb()"
   ]
  },
  {
   "cell_type": "markdown",
   "metadata": {},
   "source": [
    "Код в ячейке ниже поможет нам визуализировать нашу работу с Redis."
   ]
  },
  {
   "cell_type": "code",
   "execution_count": 10,
   "metadata": {},
   "outputs": [],
   "source": [
    "from ipywidgets import HTML\n",
    "from IPython.display import display#, HTML\n",
    "\n",
    "def show_redis_data(r):\n",
    "    html = HTML()\n",
    "    out = '<table border=\"1\">'\n",
    "    for key in r.keys():\n",
    "        t = r.type(key).decode()\n",
    "#         print(key.decode(), t)\n",
    "        \n",
    "        if t == 'string':\n",
    "            data = r.get(key)\n",
    "            out += f'<tr><td style=\"padding:3px;width:150px;\">{key.decode()}</td>'\\\n",
    "                   f'<td style=\"padding:3px;width:50px;\">string</td>'\\\n",
    "                   f'<td style=\"padding:3px;\">{data.decode()}</td></tr>'\n",
    "        elif t == 'list':\n",
    "            l = r.llen(key)\n",
    "            data = r.lrange(key, 0, l)\n",
    "            out += f'<tr><td style=\"padding:3px;width:150px;\">{key.decode()}</td>'\\\n",
    "                   f'<td style=\"padding:3px;width:50px;\">list</td>'\\\n",
    "                   f'<td style=\"padding:3px;\">[{\", \".join([d.decode() for d in data])}]</td></tr>'\n",
    "        elif t == 'hash':\n",
    "            data = []\n",
    "            for key2 in r.hkeys(key):\n",
    "                data.append(f'{key2.decode()}: {r.hget(key, key2).decode()}')\n",
    "            out += f'<tr><td style=\"padding:3px;width:150px;\">{key.decode()}</td>'\\\n",
    "                   f'<td style=\"padding:3px;width:50px;\">hash</td>'\\\n",
    "                   f'<td style=\"padding:3px;\">{{{\", \".join(data)}}}</td></tr>'\n",
    "        elif t == 'set':\n",
    "            data = r.smembers(key)\n",
    "            out += f'<tr><td style=\"padding:3px;width:150px;\">{key.decode()}</td>'\\\n",
    "                   f'<td style=\"padding:3px;width:50px;\">set</td>'\\\n",
    "                   f'<td style=\"padding:3px;\">({\", \".join([d.decode() for d in data])})</td></tr>'\n",
    "        \n",
    "    out += '</table>'\n",
    "    \n",
    "    html.value = out\n",
    "    display(html)\n"
   ]
  },
  {
   "cell_type": "markdown",
   "metadata": {},
   "source": [
    "### Работа с простыми ключами\n",
    "\n",
    "В некотором роде, Redis является словарем, к которому приделали интерфейс базы данных и массу дополнительных возможностей.\n",
    "\n",
    "Попробуем положить в него какой-нибудь ключ..."
   ]
  },
  {
   "cell_type": "code",
   "execution_count": 11,
   "metadata": {},
   "outputs": [
    {
     "data": {
      "application/vnd.jupyter.widget-view+json": {
       "model_id": "5c91c6f2e3be47f58bf369747434ef8e",
       "version_major": 2,
       "version_minor": 0
      },
      "text/plain": [
       "HTML(value='<table border=\"1\"></table>')"
      ]
     },
     "metadata": {},
     "output_type": "display_data"
    }
   ],
   "source": [
    "show_redis_data(r)"
   ]
  },
  {
   "cell_type": "code",
   "execution_count": 12,
   "metadata": {},
   "outputs": [
    {
     "data": {
      "application/vnd.jupyter.widget-view+json": {
       "model_id": "fc92f140a19241f7a37214e1119b2a25",
       "version_major": 2,
       "version_minor": 0
      },
      "text/plain": [
       "HTML(value='<table border=\"1\"><tr><td style=\"padding:3px;width:150px;\">foo</td><td style=\"padding:3px;width:50…"
      ]
     },
     "metadata": {},
     "output_type": "display_data"
    }
   ],
   "source": [
    "r.set('foo', 'bar2')\n",
    "show_redis_data(r)"
   ]
  },
  {
   "cell_type": "markdown",
   "metadata": {},
   "source": [
    "... и получить его обратно."
   ]
  },
  {
   "cell_type": "code",
   "execution_count": 13,
   "metadata": {},
   "outputs": [
    {
     "data": {
      "text/plain": [
       "b'bar2'"
      ]
     },
     "execution_count": 13,
     "metadata": {},
     "output_type": "execute_result"
    }
   ],
   "source": [
    "r.get('foo')"
   ]
  },
  {
   "cell_type": "markdown",
   "metadata": {},
   "source": [
    "Обратите внимание, что все данные превращаются в строки, хотя мы можем присваивать их как числа.  \n",
    "Также обратите внимание, что если Redis находит ключ, то он заменяет его значение, а если не находит, то заводит в базе новый ключ и связывает с ним значение."
   ]
  },
  {
   "cell_type": "code",
   "execution_count": 14,
   "metadata": {},
   "outputs": [],
   "source": [
    "ttt = r.get('foo')"
   ]
  },
  {
   "cell_type": "code",
   "execution_count": 15,
   "metadata": {
    "scrolled": true
   },
   "outputs": [
    {
     "data": {
      "text/plain": [
       "'bar2'"
      ]
     },
     "execution_count": 15,
     "metadata": {},
     "output_type": "execute_result"
    }
   ],
   "source": [
    "ttt.decode()"
   ]
  },
  {
   "cell_type": "code",
   "execution_count": 16,
   "metadata": {},
   "outputs": [
    {
     "name": "stdout",
     "output_type": "stream",
     "text": [
      "b'100' <class 'bytes'>\n",
      "100\n"
     ]
    },
    {
     "data": {
      "application/vnd.jupyter.widget-view+json": {
       "model_id": "2c0bbddf473c4d4ea4d882a0231f7cd8",
       "version_major": 2,
       "version_minor": 0
      },
      "text/plain": [
       "HTML(value='<table border=\"1\"><tr><td style=\"padding:3px;width:150px;\">another one</td><td style=\"padding:3px;…"
      ]
     },
     "metadata": {},
     "output_type": "display_data"
    }
   ],
   "source": [
    "r.set('foo', 100)\n",
    "print(r.get('foo'), type(r.get('foo')))\n",
    "print(int(r.get('foo')))\n",
    "r.set('another one', 200)\n",
    "\n",
    "show_redis_data(r)"
   ]
  },
  {
   "cell_type": "markdown",
   "metadata": {},
   "source": [
    "При помощи функции `keys` можно посмотреть все ключи в базе. Функция `flushdb` очищает текущую базу."
   ]
  },
  {
   "cell_type": "code",
   "execution_count": 17,
   "metadata": {},
   "outputs": [
    {
     "data": {
      "text/plain": [
       "[b'another one', b'foo']"
      ]
     },
     "execution_count": 17,
     "metadata": {},
     "output_type": "execute_result"
    }
   ],
   "source": [
    "r.keys()"
   ]
  },
  {
   "cell_type": "markdown",
   "metadata": {},
   "source": [
    "### Работа со списками\n",
    "\n",
    "Помимо работы с простыми строками, Redis позволяет организовывать список, привязанный к определенному ключу. При помощи функций `rpush` и `lpush` можно класть значения в очередь с заданным ключем."
   ]
  },
  {
   "cell_type": "code",
   "execution_count": 18,
   "metadata": {},
   "outputs": [
    {
     "data": {
      "application/vnd.jupyter.widget-view+json": {
       "model_id": "33d9729222404113950808b65e0124fa",
       "version_major": 2,
       "version_minor": 0
      },
      "text/plain": [
       "HTML(value='<table border=\"1\"><tr><td style=\"padding:3px;width:150px;\">another one</td><td style=\"padding:3px;…"
      ]
     },
     "metadata": {},
     "output_type": "display_data"
    }
   ],
   "source": [
    "r.set('test1', 1) # Просто, чтобы было видно отличие.\n",
    "r.lpush('test2', 2) # Первый элемент.\n",
    "r.rpush('test2', 3) # Следующий кладется справа.\n",
    "r.lpush('test2', 4) # Следующий кладется слева.\n",
    "r.rpush('test2', 5) # Последний кладется справа.\n",
    "show_redis_data(r)"
   ]
  },
  {
   "cell_type": "code",
   "execution_count": 19,
   "metadata": {},
   "outputs": [
    {
     "name": "stdout",
     "output_type": "stream",
     "text": [
      "b'5'\n"
     ]
    },
    {
     "data": {
      "application/vnd.jupyter.widget-view+json": {
       "model_id": "a984a125f29f4300bf6678ccdddd9555",
       "version_major": 2,
       "version_minor": 0
      },
      "text/plain": [
       "HTML(value='<table border=\"1\"><tr><td style=\"padding:3px;width:150px;\">another one</td><td style=\"padding:3px;…"
      ]
     },
     "metadata": {},
     "output_type": "display_data"
    }
   ],
   "source": [
    "ttt = r.rpop('test2')\n",
    "print(ttt)\n",
    "show_redis_data(r)"
   ]
  },
  {
   "cell_type": "code",
   "execution_count": 20,
   "metadata": {},
   "outputs": [
    {
     "name": "stdout",
     "output_type": "stream",
     "text": [
      "b'3'\n"
     ]
    },
    {
     "data": {
      "application/vnd.jupyter.widget-view+json": {
       "model_id": "bf985e14c3194387a771a93b7a762015",
       "version_major": 2,
       "version_minor": 0
      },
      "text/plain": [
       "HTML(value='<table border=\"1\"><tr><td style=\"padding:3px;width:150px;\">another one</td><td style=\"padding:3px;…"
      ]
     },
     "metadata": {},
     "output_type": "display_data"
    }
   ],
   "source": [
    "# Можно в одну операцию достать элемент и тот же положить его обратно.\n",
    "d = r.rpoplpush('test2', 'test2')\n",
    "print(d)\n",
    "show_redis_data(r)"
   ]
  },
  {
   "cell_type": "code",
   "execution_count": 21,
   "metadata": {},
   "outputs": [
    {
     "data": {
      "text/plain": [
       "3"
      ]
     },
     "execution_count": 21,
     "metadata": {},
     "output_type": "execute_result"
    }
   ],
   "source": [
    "r.llen('test2')"
   ]
  },
  {
   "cell_type": "markdown",
   "metadata": {},
   "source": [
    "Скажем, у нас есть кормушки для щенков"
   ]
  },
  {
   "cell_type": "code",
   "execution_count": 53,
   "metadata": {},
   "outputs": [],
   "source": [
    "for address, amount in zip(['puppy5', 'puppy4', 'puppy3', 'puppy2', 'puppy1'],\n",
    "                            [100, 50, 39, 67, 83]):\n",
    "    r.rpush('adress', address)\n",
    "    r.rpush('amount', amount)"
   ]
  },
  {
   "cell_type": "code",
   "execution_count": 54,
   "metadata": {},
   "outputs": [
    {
     "data": {
      "application/vnd.jupyter.widget-view+json": {
       "model_id": "700425f2f8f8486ea81e40378de8edbc",
       "version_major": 2,
       "version_minor": 0
      },
      "text/plain": [
       "HTML(value='<table border=\"1\"><tr><td style=\"padding:3px;width:150px;\">test2</td><td style=\"padding:3px;width:…"
      ]
     },
     "metadata": {},
     "output_type": "display_data"
    }
   ],
   "source": [
    "show_redis_data(r)"
   ]
  },
  {
   "cell_type": "code",
   "execution_count": 64,
   "metadata": {},
   "outputs": [
    {
     "name": "stdout",
     "output_type": "stream",
     "text": [
      "b'amount'\n",
      "b'adress'\n"
     ]
    }
   ],
   "source": [
    "for key in r.scan_iter('a*', _type='list'):\n",
    "    print(key)"
   ]
  },
  {
   "cell_type": "code",
   "execution_count": 63,
   "metadata": {},
   "outputs": [
    {
     "data": {
      "text/plain": [
       "b'list'"
      ]
     },
     "execution_count": 63,
     "metadata": {},
     "output_type": "execute_result"
    }
   ],
   "source": [
    "r.type('amount')"
   ]
  },
  {
   "cell_type": "code",
   "execution_count": 37,
   "metadata": {},
   "outputs": [
    {
     "name": "stdout",
     "output_type": "stream",
     "text": [
      "feeding b'puppy5', b'100'\n",
      "feeding b'puppy4', b'50'\n",
      "feeding b'puppy3', b'39'\n",
      "feeding b'puppy2', b'67'\n",
      "feeding b'puppy1', b'83'\n"
     ]
    }
   ],
   "source": [
    "while r.exists('adress'):\n",
    "    whom = r.lpop('adress')\n",
    "    amount = r.lpop('amount')\n",
    "    print(f'feeding {whom}, {amount}')"
   ]
  },
  {
   "cell_type": "code",
   "execution_count": null,
   "metadata": {},
   "outputs": [],
   "source": []
  },
  {
   "cell_type": "markdown",
   "metadata": {},
   "source": [
    "### Хеш-массивы\n",
    "\n",
    "Redis умеет привязывать к ключу хешированный массив - аналог питоновского словаря. Запись одного значения производится по паре ключ-ключ внутри хеша при помощи `hset`, чтение - аналогично при помощи `hget`.\n"
   ]
  },
  {
   "cell_type": "code",
   "execution_count": 65,
   "metadata": {},
   "outputs": [
    {
     "data": {
      "text/plain": [
       "1"
      ]
     },
     "execution_count": 65,
     "metadata": {},
     "output_type": "execute_result"
    }
   ],
   "source": [
    "r.flushdb()\n",
    "r.hset('asdf', '1', '200')\n",
    "r.hset('asdf', '2', '201')"
   ]
  },
  {
   "cell_type": "code",
   "execution_count": 66,
   "metadata": {},
   "outputs": [
    {
     "data": {
      "application/vnd.jupyter.widget-view+json": {
       "model_id": "872b7508c4534d4b850888f66eea2eb4",
       "version_major": 2,
       "version_minor": 0
      },
      "text/plain": [
       "HTML(value='<table border=\"1\"><tr><td style=\"padding:3px;width:150px;\">asdf</td><td style=\"padding:3px;width:5…"
      ]
     },
     "metadata": {},
     "output_type": "display_data"
    }
   ],
   "source": [
    "show_redis_data(r)"
   ]
  },
  {
   "cell_type": "code",
   "execution_count": 67,
   "metadata": {},
   "outputs": [
    {
     "data": {
      "text/plain": [
       "b'201'"
      ]
     },
     "execution_count": 67,
     "metadata": {},
     "output_type": "execute_result"
    }
   ],
   "source": [
    "r.hget('asdf', '2')"
   ]
  },
  {
   "cell_type": "markdown",
   "metadata": {},
   "source": [
    "Как и в случае со скалярными значениями, найденный ключ перезаписывается."
   ]
  },
  {
   "cell_type": "code",
   "execution_count": 68,
   "metadata": {},
   "outputs": [
    {
     "data": {
      "application/vnd.jupyter.widget-view+json": {
       "model_id": "ee9c987225fe46a3a1bf33f0df894fe8",
       "version_major": 2,
       "version_minor": 0
      },
      "text/plain": [
       "HTML(value='<table border=\"1\"><tr><td style=\"padding:3px;width:150px;\">asdf</td><td style=\"padding:3px;width:5…"
      ]
     },
     "metadata": {},
     "output_type": "display_data"
    }
   ],
   "source": [
    "r.hset('asdf', '2', '301')\n",
    "\n",
    "show_redis_data(r)"
   ]
  },
  {
   "cell_type": "markdown",
   "metadata": {},
   "source": [
    "Проверить наличие ключа в хеше можно при помощи функции `hexists`."
   ]
  },
  {
   "cell_type": "code",
   "execution_count": 69,
   "metadata": {},
   "outputs": [
    {
     "data": {
      "text/plain": [
       "(None, None)"
      ]
     },
     "execution_count": 69,
     "metadata": {},
     "output_type": "execute_result"
    }
   ],
   "source": [
    "r.get('asdf444'), r.hget('asdf', '33')"
   ]
  },
  {
   "cell_type": "code",
   "execution_count": 70,
   "metadata": {},
   "outputs": [
    {
     "data": {
      "text/plain": [
       "(None, 0, False)"
      ]
     },
     "execution_count": 70,
     "metadata": {},
     "output_type": "execute_result"
    }
   ],
   "source": [
    "r.get('asdf444'), r.exists('asdf444'), r.hexists('asdf444', '33')"
   ]
  },
  {
   "cell_type": "code",
   "execution_count": 75,
   "metadata": {},
   "outputs": [],
   "source": [
    "puppies = {'puppy1': {'name': 'Jack', 'age': 1.2, 'weight': 15}, \n",
    "           'puppy2': {'name': 'Jooly', 'age': 0.8, 'weight': 1.5}, \n",
    "           'puppy3': {'name': 'Jackil', 'age': 1.5, 'weight': 5.3}}\n",
    "\n",
    "for _id, desc in puppies.items():\n",
    "    r.rpush('puppy_names', _id)\n",
    "    for key, val in desc.items():\n",
    "        r.hset(_id, key, str(val))"
   ]
  },
  {
   "cell_type": "code",
   "execution_count": 76,
   "metadata": {},
   "outputs": [
    {
     "data": {
      "application/vnd.jupyter.widget-view+json": {
       "model_id": "aff5f3d3127844468820c033cc5a7ce0",
       "version_major": 2,
       "version_minor": 0
      },
      "text/plain": [
       "HTML(value='<table border=\"1\"><tr><td style=\"padding:3px;width:150px;\">puppy_names</td><td style=\"padding:3px;…"
      ]
     },
     "metadata": {},
     "output_type": "display_data"
    }
   ],
   "source": [
    "show_redis_data(r)"
   ]
  },
  {
   "cell_type": "code",
   "execution_count": 77,
   "metadata": {},
   "outputs": [
    {
     "name": "stdout",
     "output_type": "stream",
     "text": [
      "Jack\n",
      "Jooly\n",
      "Jackil\n"
     ]
    }
   ],
   "source": [
    "for ident in ['puppy1', 'puppy2', 'puppy3']:\n",
    "    print(r.hget(ident, 'name').decode())"
   ]
  },
  {
   "cell_type": "code",
   "execution_count": 80,
   "metadata": {},
   "outputs": [
    {
     "name": "stdout",
     "output_type": "stream",
     "text": [
      "Jackil\n",
      "Jooly\n",
      "Jack\n"
     ]
    }
   ],
   "source": [
    "for i in range(r.llen('puppy_names')):\n",
    "    ident = r.rpoplpush('puppy_names', 'puppy_names')\n",
    "    print(r.hget(ident, 'name').decode())"
   ]
  },
  {
   "cell_type": "code",
   "execution_count": 83,
   "metadata": {},
   "outputs": [
    {
     "data": {
      "text/plain": [
       "True"
      ]
     },
     "execution_count": 83,
     "metadata": {},
     "output_type": "execute_result"
    }
   ],
   "source": [
    "r.flushdb()"
   ]
  },
  {
   "cell_type": "code",
   "execution_count": 85,
   "metadata": {},
   "outputs": [],
   "source": [
    "for _id, desc in puppies.items():\n",
    "    r.rpush('puppy_names', _id)\n",
    "    r.hset(_id, mapping=desc)"
   ]
  },
  {
   "cell_type": "code",
   "execution_count": 86,
   "metadata": {},
   "outputs": [
    {
     "data": {
      "application/vnd.jupyter.widget-view+json": {
       "model_id": "58867bf070c74861ac5bdae4e0df68d4",
       "version_major": 2,
       "version_minor": 0
      },
      "text/plain": [
       "HTML(value='<table border=\"1\"><tr><td style=\"padding:3px;width:150px;\">puppy3</td><td style=\"padding:3px;width…"
      ]
     },
     "metadata": {},
     "output_type": "display_data"
    }
   ],
   "source": [
    "show_redis_data(r)"
   ]
  },
  {
   "cell_type": "markdown",
   "metadata": {},
   "source": [
    "А еще Redis умеет работать с [JSON](https://redis-py.readthedocs.io/en/stable/redismodules.html#redisjson-commands)."
   ]
  },
  {
   "cell_type": "markdown",
   "metadata": {},
   "source": [
    "### Множества\n",
    "\n",
    "Помимо этого, к ключу можно привязать множество. Добавление в множество ведется при помощи операции `sadd`. Также можно находить пересечение (`sinter`), объединение (`sunion`)  разницу (`sdiff`) множеств."
   ]
  },
  {
   "cell_type": "code",
   "execution_count": 87,
   "metadata": {},
   "outputs": [
    {
     "data": {
      "text/plain": [
       "True"
      ]
     },
     "execution_count": 87,
     "metadata": {},
     "output_type": "execute_result"
    }
   ],
   "source": [
    "r.flushdb()"
   ]
  },
  {
   "cell_type": "code",
   "execution_count": 88,
   "metadata": {},
   "outputs": [
    {
     "name": "stdout",
     "output_type": "stream",
     "text": [
      "intersection: {b'A'}\n"
     ]
    },
    {
     "data": {
      "application/vnd.jupyter.widget-view+json": {
       "model_id": "97a1dd581f9f49a9acc021fea5f98968",
       "version_major": 2,
       "version_minor": 0
      },
      "text/plain": [
       "HTML(value='<table border=\"1\"><tr><td style=\"padding:3px;width:150px;\">testSets1</td><td style=\"padding:3px;wi…"
      ]
     },
     "metadata": {},
     "output_type": "display_data"
    }
   ],
   "source": [
    "r.sadd(\"testSets1\", \"A\")\n",
    "r.sadd(\"testSets1\", \"A\")\n",
    "r.sadd(\"testSets1\", \"A\")\n",
    "r.sadd(\"testSets1\", \"B\")\n",
    "r.sadd(\"testSets1\", \"C\")\n",
    "\n",
    "r.sadd(\"testSets2\", \"A\")\n",
    "r.sadd(\"testSets2\", \"D\")\n",
    "r.sadd(\"testSets2\", \"F\")\n",
    "\n",
    "print('intersection:', r.sinter([\"testSets1\",\"testSets2\"]))\n",
    "\n",
    "show_redis_data(r)"
   ]
  },
  {
   "cell_type": "markdown",
   "metadata": {},
   "source": [
    "Результаты операций над множествами можно сохранить в другое множество."
   ]
  },
  {
   "cell_type": "code",
   "execution_count": 89,
   "metadata": {
    "scrolled": true
   },
   "outputs": [
    {
     "data": {
      "application/vnd.jupyter.widget-view+json": {
       "model_id": "42f05d6196c146d9a008f27bdf024095",
       "version_major": 2,
       "version_minor": 0
      },
      "text/plain": [
       "HTML(value='<table border=\"1\"><tr><td style=\"padding:3px;width:150px;\">testSets1</td><td style=\"padding:3px;wi…"
      ]
     },
     "metadata": {},
     "output_type": "display_data"
    }
   ],
   "source": [
    "r.sdiffstore(\"testSets4\", [\"testSets1\", \"testSets2\"])\n",
    "r.sunionstore(\"testSets3\", [\"testSets1\", \"testSets2\"])\n",
    "show_redis_data(r)"
   ]
  },
  {
   "cell_type": "markdown",
   "metadata": {},
   "source": [
    "Элемент можно атомарно перебросить из одного множества в другое при помощи `smove`."
   ]
  },
  {
   "cell_type": "code",
   "execution_count": 90,
   "metadata": {},
   "outputs": [
    {
     "data": {
      "application/vnd.jupyter.widget-view+json": {
       "model_id": "32ced855370149eab28c82d053f9e602",
       "version_major": 2,
       "version_minor": 0
      },
      "text/plain": [
       "HTML(value='<table border=\"1\"><tr><td style=\"padding:3px;width:150px;\">testSets1</td><td style=\"padding:3px;wi…"
      ]
     },
     "metadata": {},
     "output_type": "display_data"
    }
   ],
   "source": [
    "r.smove(\"testSets2\", \"testSets1\", 'F')\n",
    "show_redis_data(r)"
   ]
  },
  {
   "cell_type": "markdown",
   "metadata": {},
   "source": [
    " Удалить значение можно при помощи `srem`, узнать длину множества - `scard`."
   ]
  },
  {
   "cell_type": "code",
   "execution_count": 91,
   "metadata": {},
   "outputs": [
    {
     "data": {
      "application/vnd.jupyter.widget-view+json": {
       "model_id": "cb8e40a4bfd442b8965d42a1dfe8567a",
       "version_major": 2,
       "version_minor": 0
      },
      "text/plain": [
       "HTML(value='<table border=\"1\"><tr><td style=\"padding:3px;width:150px;\">testSets1</td><td style=\"padding:3px;wi…"
      ]
     },
     "metadata": {},
     "output_type": "display_data"
    },
    {
     "name": "stdout",
     "output_type": "stream",
     "text": [
      "3\n"
     ]
    }
   ],
   "source": [
    "r.srem(\"testSets1\", 'F')\n",
    "show_redis_data(r)\n",
    "print(r.scard(\"testSets1\"))"
   ]
  },
  {
   "cell_type": "code",
   "execution_count": 92,
   "metadata": {},
   "outputs": [
    {
     "data": {
      "application/vnd.jupyter.widget-view+json": {
       "model_id": "440d954b53d74aad97b328ee3adebd2b",
       "version_major": 2,
       "version_minor": 0
      },
      "text/plain": [
       "HTML(value='<table border=\"1\"><tr><td style=\"padding:3px;width:150px;\">testSets1</td><td style=\"padding:3px;wi…"
      ]
     },
     "metadata": {},
     "output_type": "display_data"
    }
   ],
   "source": [
    "for i in range(r.llen('puppy_names')):\n",
    "    ident = r.lpop('puppy_names')\n",
    "    r.rpush('puppy_names', ident)\n",
    "    r.sadd('puppy_names_set', r.hget(ident, 'name'))\n",
    "show_redis_data(r)"
   ]
  },
  {
   "cell_type": "code",
   "execution_count": null,
   "metadata": {},
   "outputs": [],
   "source": []
  },
  {
   "cell_type": "code",
   "execution_count": null,
   "metadata": {},
   "outputs": [],
   "source": [
    "000\n",
    "001\n",
    "010\n",
    "011\n",
    "100\n",
    "101\n",
    "110\n",
    "111\n",
    "\n",
    "f & 11100000000 >> 7\n",
    "\n",
    "  0010011000\n",
    "& 1110000000\n",
    "  0000000001\n",
    "\n",
    "  0010011000\n",
    "& 0001110000\n",
    "  0000010000 >> 4\n",
    "  0000000001"
   ]
  },
  {
   "cell_type": "markdown",
   "metadata": {},
   "source": [
    "А еще у Redis замечательные [битовые операции](https://blog.getspool.com/2011/11/29/fast-easy-realtime-metrics-using-redis-bitmaps/) и отсортированные списки."
   ]
  },
  {
   "cell_type": "markdown",
   "metadata": {},
   "source": [
    "### Последовательности команд и имитация транзакций\n",
    "\n",
    "Каждая команда возвращает объект типа `pipeline`. Данный объект позволяет выполнять транзакции. Для этого необходимо при помощи pipeline выполнить несколько команд (они будут поставлены во внутреннюю очередь), а затем вызвать `execute`. Таким образом поддерживаются транзакции для нескольких команд, не требующих промежуточного чтения результатов.\n",
    "\n",
    "В итоге вернется список результатов выполнения команд."
   ]
  },
  {
   "cell_type": "code",
   "execution_count": 93,
   "metadata": {},
   "outputs": [
    {
     "data": {
      "text/plain": [
       "[1, 1, {b'B', b'C', b'G'}]"
      ]
     },
     "execution_count": 93,
     "metadata": {},
     "output_type": "execute_result"
    }
   ],
   "source": [
    "pipe = r.pipeline()\n",
    "pipe.srem(\"testSets1\", 'A')\n",
    "pipe.sadd(\"testSets1\", 'G')\n",
    "pipe.smembers(\"testSets1\")\n",
    "pipe.execute()"
   ]
  },
  {
   "cell_type": "code",
   "execution_count": 94,
   "metadata": {},
   "outputs": [
    {
     "data": {
      "text/plain": [
       "[1, 1, {b'B', b'C', b'G', b'R'}]"
      ]
     },
     "execution_count": 94,
     "metadata": {},
     "output_type": "execute_result"
    }
   ],
   "source": [
    "r.pipeline().srem(\"testSets2\", 'A').sadd(\"testSets1\", 'R').smembers(\"testSets1\").execute()"
   ]
  },
  {
   "cell_type": "markdown",
   "metadata": {},
   "source": [
    "Если в промежутках необходимо модифицировать какие-то значения, следует использовать следующую конструкцию. В ней `watch` говорит, что мы будем следить за заданным ключем. Команда `multi` говорит о том, что сейчас будет выполняться несколько операций как транзакция. Если значение, связанное с ключем в `watch` изменилось до начала `execute` (выполнение нескольких операций), то будет вызвано исключение."
   ]
  },
  {
   "cell_type": "code",
   "execution_count": 95,
   "metadata": {},
   "outputs": [
    {
     "data": {
      "text/plain": [
       "[True, True]"
      ]
     },
     "execution_count": 95,
     "metadata": {},
     "output_type": "execute_result"
    }
   ],
   "source": [
    "ppp=r.pipeline()\n",
    "ppp.multi()\n",
    "ppp.set(\"dummy1\", \"1\")\n",
    "#ppp.multi()\n",
    "ppp.set(\"dummy2\", \"1\")\n",
    "ppp.execute()"
   ]
  },
  {
   "cell_type": "code",
   "execution_count": 96,
   "metadata": {},
   "outputs": [
    {
     "data": {
      "text/plain": [
       "b'1'"
      ]
     },
     "execution_count": 96,
     "metadata": {},
     "output_type": "execute_result"
    }
   ],
   "source": [
    "r.get(\"dummy1\")"
   ]
  },
  {
   "cell_type": "markdown",
   "metadata": {},
   "source": [
    "Собственно транзакций в Redis не предусмотрено. Вместо этого можно подписаться на изменения какого-то ключа. Если ключ изменился в ходе наших вычислений, значит надо начать операцию заново. Довести операцию до конца получится только если прерывание не произошло, то есть никто не перезаписывал важные для нас данные."
   ]
  },
  {
   "cell_type": "code",
   "execution_count": 97,
   "metadata": {},
   "outputs": [
    {
     "data": {
      "text/plain": [
       "b'2'"
      ]
     },
     "execution_count": 97,
     "metadata": {},
     "output_type": "execute_result"
    }
   ],
   "source": [
    "r.set('OUR-SEQUENCE-KEY', 1)\n",
    "with r.pipeline() as pipe:\n",
    "    while 1:\n",
    "        try:\n",
    "            pipe.watch('OUR-SEQUENCE-KEY')\n",
    "            current_value = pipe.get('OUR-SEQUENCE-KEY')\n",
    "            next_value = int(current_value) + 1\n",
    "            pipe.multi()\n",
    "            pipe.set('OUR-SEQUENCE-KEY', next_value)\n",
    "            pipe.execute()\n",
    "            break\n",
    "        except redis.WatchError:\n",
    "            continue\n",
    "            \n",
    "r.get('OUR-SEQUENCE-KEY')"
   ]
  },
  {
   "cell_type": "markdown",
   "metadata": {},
   "source": [
    "### Автоматическое удаление ключей из базы по таймауту\n",
    "\n",
    "Давайте пока посмотрим что Redis  умеет еще. Например, при помощи функции `expire` каждой паре можно сказать, что она утрачивает актуальность через какое-то время. \n",
    "\n",
    "Положим в базу 100 000 ключей, каждому из них установим время жизни 10 секунд, уснём на 15 секунд и посмотрим что осталось в базе."
   ]
  },
  {
   "cell_type": "code",
   "execution_count": 98,
   "metadata": {},
   "outputs": [],
   "source": [
    "from time import sleep"
   ]
  },
  {
   "cell_type": "code",
   "execution_count": 99,
   "metadata": {},
   "outputs": [
    {
     "name": "stdout",
     "output_type": "stream",
     "text": [
      "0 0\n"
     ]
    }
   ],
   "source": [
    "r.flushdb()\n",
    "\n",
    "for i in range(100000):\n",
    "    r.set(i, i)\n",
    "    r.expire(i, 10)\n",
    "\n",
    "sleep(15)\n",
    "\n",
    "summ = 0\n",
    "for k in r.keys():\n",
    "    summ += int(r.get(k))\n",
    "    \n",
    "print(r.dbsize(), summ)"
   ]
  },
  {
   "cell_type": "code",
   "execution_count": 100,
   "metadata": {},
   "outputs": [
    {
     "name": "stdout",
     "output_type": "stream",
     "text": [
      "None\n"
     ]
    }
   ],
   "source": [
    "print(r.get(99999))"
   ]
  },
  {
   "cell_type": "markdown",
   "metadata": {},
   "source": [
    "Как видно, не осталось ничего. Метод работает."
   ]
  },
  {
   "cell_type": "markdown",
   "metadata": {},
   "source": [
    "### Блокирующие операции в Redis\n",
    "\n",
    "Redis поддерживает блокирующие операции. При помощи `brpop` и `blpop` мы можем приостановить свои действия либо пока не будет получено значение, либо пока не пройдет заданный промежуток времени.\n",
    "\n",
    "Если функция успешно получила значение, она вернет его без дальнейшего ожидания. Если значение не было получено, то по истечении таймаута функция вернет None.\n",
    "\n",
    "В примере ниже мы вынуждены сперва класть данные, а потом получать их без ожидания (ведь они уже есть в базе), так как мы работаем в один поток."
   ]
  },
  {
   "cell_type": "code",
   "execution_count": 101,
   "metadata": {},
   "outputs": [
    {
     "name": "stdout",
     "output_type": "stream",
     "text": [
      "(b'blockedTest', b'asdf')\n"
     ]
    }
   ],
   "source": [
    "r.rpush(\"blockedTest\", \"asdf\")\n",
    "print(r.brpop(\"blockedTest\", 1))"
   ]
  },
  {
   "cell_type": "code",
   "execution_count": 102,
   "metadata": {},
   "outputs": [
    {
     "name": "stdout",
     "output_type": "stream",
     "text": [
      "None\n"
     ]
    },
    {
     "data": {
      "text/plain": [
       "1"
      ]
     },
     "execution_count": 102,
     "metadata": {},
     "output_type": "execute_result"
    }
   ],
   "source": [
    "print(r.brpop(\"blockedTest\", 5))\n",
    "r.rpush(\"blockedTest\", \"asdf\")\n"
   ]
  },
  {
   "cell_type": "markdown",
   "metadata": {},
   "source": [
    "Для начала надо разобраться с тем, что такое потоки.\n",
    "\n",
    "Библиотека multiprocessing обеспечивает настоящую параллельность выполнения потоков, но для каждого потока создает собственную копию интерпретатора. Чтобы запустить параллельные вычисления, необходимо создать функцию, которая и будет их выполнять. Затем, при помощи `multiprocessing.Process` можно создать параллельный поток, передав в параметр `target` название функции. Поток будет создан в приостановленном состоянии, запустить его можно при помощи функции `start`. Если необходимо подождать выполнения потока, нужно использовать функцию `join`."
   ]
  },
  {
   "cell_type": "code",
   "execution_count": 103,
   "metadata": {},
   "outputs": [],
   "source": [
    "import multiprocessing"
   ]
  },
  {
   "cell_type": "code",
   "execution_count": 104,
   "metadata": {},
   "outputs": [],
   "source": [
    "val = 0"
   ]
  },
  {
   "cell_type": "code",
   "execution_count": 105,
   "metadata": {},
   "outputs": [],
   "source": [
    "def func1():\n",
    "    global val\n",
    "    for i in range(10):\n",
    "        print(f'1: {val}')\n",
    "        val += 1\n",
    "        sleep(0.2)\n",
    "        \n",
    "def func2():\n",
    "    global val\n",
    "    for i in range(10):\n",
    "        print(f'2: {val}')\n",
    "        val += 1\n",
    "        sleep(0.3)"
   ]
  },
  {
   "cell_type": "code",
   "execution_count": 106,
   "metadata": {},
   "outputs": [
    {
     "name": "stdout",
     "output_type": "stream",
     "text": [
      "1: 0\n",
      "2: 0\n",
      "1: 1\n",
      "2: 1\n",
      "1: 2\n",
      "1: 32: 2\n",
      "\n",
      "1: 4\n",
      "2: 3\n",
      "1: 5\n",
      "2: 41: 6\n",
      "\n",
      "1: 7\n",
      "2: 5\n",
      "1: 8\n",
      "2: 6\n",
      "1: 9\n",
      "2: 7\n",
      "2: 8\n",
      "2: 9\n"
     ]
    }
   ],
   "source": [
    "bpr1 = multiprocessing.Process(target=func1)\n",
    "bpr2 = multiprocessing.Process(target=func2)\n",
    "bpr1.start()\n",
    "bpr2.start()\n",
    "bpr1.join()\n",
    "bpr2.join()"
   ]
  },
  {
   "cell_type": "markdown",
   "metadata": {},
   "source": [
    "Если использовать multithreading или asyncio, то параллелилизм будет только имитироваться. Если поток засыпает, то управление передается другому потоку. Но если поток занимается вычислениями, то все ждут, когда он освободится, и только после этого управление может быть передано другому потоку."
   ]
  },
  {
   "cell_type": "markdown",
   "metadata": {},
   "source": [
    "Теперь запустим блокирующую операцию в два настоящих потока. Если один поток пишет, а второй читает, становится видно, что управление возвращается после ожидания в блокирующей функции.\n",
    "\n",
    "Второй параметр функций `blpop` и `brpop` показывает, на в течение какого времени функция будет ожидать данных, после чего вернет управление. Если данные пришли до истечения таймаута, будут возвращены данные, в противном случае - None. Если данные не пришли, наша функция может проделать какие-то еще операции и вернуться к ожиданию."
   ]
  },
  {
   "cell_type": "code",
   "execution_count": 107,
   "metadata": {},
   "outputs": [
    {
     "data": {
      "text/plain": [
       "True"
      ]
     },
     "execution_count": 107,
     "metadata": {},
     "output_type": "execute_result"
    }
   ],
   "source": [
    "r.flushdb()"
   ]
  },
  {
   "cell_type": "code",
   "execution_count": 108,
   "metadata": {},
   "outputs": [
    {
     "name": "stdout",
     "output_type": "stream",
     "text": [
      "waiting\n",
      "waiting\n",
      "waiting\n",
      "waiting\n",
      "(b'blockedTest', b'Yahooo!')\n"
     ]
    }
   ],
   "source": [
    "# Функция ждет 5 секунд и только тогда пишет данные в базу.\n",
    "def blockingWrite():\n",
    "    sleep(5)\n",
    "    r.lpush(\"blockedTest\", \"Yahooo!\")\n",
    "    \n",
    "# Функция пытается читать данные, и если возвращается None (данные не пришли в течение таймаута),\n",
    "# то она повторяет попытки до успешного чтения.\n",
    "def blockingRead():\n",
    "    bres = r.brpop(\"blockedTest\", 1)\n",
    "    while bres == None:\n",
    "        print(\"waiting\")\n",
    "        bres = r.brpop(\"blockedTest\", 1)\n",
    "    print(bres)\n",
    "    \n",
    "bpr1 = multiprocessing.Process(target=blockingWrite)\n",
    "bpr2 = multiprocessing.Process(target=blockingRead)\n",
    "bpr1.start()\n",
    "bpr2.start()\n",
    "# Ждем окончания выполнения потоков только для того, чтобы пока не ходить дальше.\n",
    "bpr1.join()\n",
    "bpr2.join()"
   ]
  },
  {
   "cell_type": "markdown",
   "metadata": {},
   "source": [
    "---"
   ]
  },
  {
   "cell_type": "markdown",
   "metadata": {},
   "source": [
    "## Замеры производительности Redis\n",
    "\n",
    "Давайте потестируем производительность БД Redis, которая относится к базам \"ключ-значение\" и позиционируется как одна из самых быстрых баз данных. Авторы говорят о скорости больше миллиона обращений в секунду.\n",
    "\n",
    "Скорость будем мерить при помощи дополнительной магии Юпитера - autotime. Теперь мне не придется писать `%%time`, а ячейка сама будет показывать, сколько времени прошло с момента запуска."
   ]
  },
  {
   "cell_type": "code",
   "execution_count": 109,
   "metadata": {},
   "outputs": [
    {
     "name": "stdout",
     "output_type": "stream",
     "text": [
      "Defaulting to user installation because normal site-packages is not writeable\n",
      "Requirement already satisfied: jupyter-autotime in /home/edward/.local/lib/python3.10/site-packages (1.1.0)\n",
      "Requirement already satisfied: ipython<8,>=6 in /usr/lib/python3/dist-packages (from jupyter-autotime) (7.31.1)\n"
     ]
    }
   ],
   "source": [
    "!pip install jupyter-autotime"
   ]
  },
  {
   "cell_type": "code",
   "execution_count": 110,
   "metadata": {},
   "outputs": [
    {
     "data": {
      "text/html": [
       "<pre>✔️ 717 µs (2023-01-19T12:41:22/2023-01-19T12:41:22)</pre>"
      ],
      "text/plain": [
       "<IPython.core.display.HTML object>"
      ]
     },
     "metadata": {},
     "output_type": "display_data"
    }
   ],
   "source": [
    "%load_ext autotime"
   ]
  },
  {
   "cell_type": "markdown",
   "metadata": {},
   "source": [
    "Померим скорость работы с базой при помощи такого простого метода, как `set`. Положим в базу 100 000 уникальных ключей, к которым привязано одно целое число."
   ]
  },
  {
   "cell_type": "code",
   "execution_count": 111,
   "metadata": {},
   "outputs": [
    {
     "data": {
      "text/html": [
       "<pre>✔️ 1.04 s (2023-01-19T12:41:22/2023-01-19T12:41:23)</pre>"
      ],
      "text/plain": [
       "<IPython.core.display.HTML object>"
      ]
     },
     "metadata": {},
     "output_type": "display_data"
    },
    {
     "name": "stdout",
     "output_type": "stream",
     "text": [
      "Defaulting to user installation because normal site-packages is not writeable\n",
      "Requirement already satisfied: bson in /home/edward/.local/lib/python3.10/site-packages (0.5.10)\n",
      "Requirement already satisfied: six>=1.9.0 in /usr/lib/python3/dist-packages (from bson) (1.16.0)\n",
      "Requirement already satisfied: python-dateutil>=2.4.0 in /home/edward/.local/lib/python3.10/site-packages (from bson) (2.8.2)\n"
     ]
    }
   ],
   "source": [
    "!pip install bson"
   ]
  },
  {
   "cell_type": "code",
   "execution_count": 112,
   "metadata": {},
   "outputs": [
    {
     "data": {
      "text/html": [
       "<pre>✔️ 20.8 ms (2023-01-19T12:41:23/2023-01-19T12:41:23)</pre>"
      ],
      "text/plain": [
       "<IPython.core.display.HTML object>"
      ]
     },
     "metadata": {},
     "output_type": "display_data"
    }
   ],
   "source": [
    "from bson import ObjectId"
   ]
  },
  {
   "cell_type": "code",
   "execution_count": 113,
   "metadata": {},
   "outputs": [
    {
     "data": {
      "text/html": [
       "<pre>✔️ 2.57 ms (2023-01-19T12:41:23/2023-01-19T12:41:23)</pre>"
      ],
      "text/plain": [
       "<IPython.core.display.HTML object>"
      ]
     },
     "metadata": {},
     "output_type": "display_data"
    },
    {
     "data": {
      "text/plain": [
       "True"
      ]
     },
     "execution_count": 113,
     "metadata": {},
     "output_type": "execute_result"
    }
   ],
   "source": [
    "r.flushdb()"
   ]
  },
  {
   "cell_type": "code",
   "execution_count": 114,
   "metadata": {},
   "outputs": [
    {
     "data": {
      "text/html": [
       "<pre>✔️ 7.56 s (2023-01-19T12:41:23/2023-01-19T12:41:31)</pre>"
      ],
      "text/plain": [
       "<IPython.core.display.HTML object>"
      ]
     },
     "metadata": {},
     "output_type": "display_data"
    }
   ],
   "source": [
    "for i in range(100000):\n",
    "    r.set(str(ObjectId()), i)"
   ]
  },
  {
   "cell_type": "markdown",
   "metadata": {},
   "source": [
    "Примерно 12 000 операций вставки в секунду на локальной машине. Не так уж и много.\n",
    "\n",
    "Посмотрим с какой скоростью они будут читаться."
   ]
  },
  {
   "cell_type": "code",
   "execution_count": 115,
   "metadata": {},
   "outputs": [
    {
     "data": {
      "text/html": [
       "<pre>✔️ 6.53 s (2023-01-19T12:41:31/2023-01-19T12:41:37)</pre>"
      ],
      "text/plain": [
       "<IPython.core.display.HTML object>"
      ]
     },
     "metadata": {},
     "output_type": "display_data"
    },
    {
     "name": "stdout",
     "output_type": "stream",
     "text": [
      "Всего ключей: 100000\n"
     ]
    }
   ],
   "source": [
    "summ=0\n",
    "for k in r.keys():\n",
    "    summ += int(r.get(k))\n",
    "\n",
    "print(\"Всего ключей:\", r.dbsize())"
   ]
  },
  {
   "cell_type": "markdown",
   "metadata": {},
   "source": [
    "Около 14 000 операций чтения.\n",
    "\n",
    "Хм... Этот Redis, кажется, не такой уж и молодец.\n",
    "\n",
    "Или мы что-то делаем не так? Давайте сравним с `dict`."
   ]
  },
  {
   "cell_type": "code",
   "execution_count": 116,
   "metadata": {},
   "outputs": [
    {
     "data": {
      "text/html": [
       "<pre>✔️ 164 ms (2023-01-19T12:41:37/2023-01-19T12:41:38)</pre>"
      ],
      "text/plain": [
       "<IPython.core.display.HTML object>"
      ]
     },
     "metadata": {},
     "output_type": "display_data"
    }
   ],
   "source": [
    "tst_dct={}\n",
    "for i in range(100000):\n",
    "    tst_dct[str(ObjectId())]=i"
   ]
  },
  {
   "cell_type": "markdown",
   "metadata": {},
   "source": [
    "Примерно 600 000 операций записи в секунду..."
   ]
  },
  {
   "cell_type": "code",
   "execution_count": 117,
   "metadata": {},
   "outputs": [
    {
     "data": {
      "text/html": [
       "<pre>✔️ 19.8 ms (2023-01-19T12:41:38/2023-01-19T12:41:38)</pre>"
      ],
      "text/plain": [
       "<IPython.core.display.HTML object>"
      ]
     },
     "metadata": {},
     "output_type": "display_data"
    }
   ],
   "source": [
    "summ=0\n",
    "for k in tst_dct.keys():\n",
    "    summ+=int(tst_dct[k])"
   ]
  },
  {
   "cell_type": "markdown",
   "metadata": {},
   "source": [
    "... и примерно 7 млн операций чтения в секунду. Пока Redis очень далеко до `dict`.\n",
    "\n",
    "Хотя dict не умеет отдавать данные нескольким программам одновременно."
   ]
  },
  {
   "cell_type": "markdown",
   "metadata": {},
   "source": [
    "Попробуем замерить скорость работы при помощи списков."
   ]
  },
  {
   "cell_type": "code",
   "execution_count": 118,
   "metadata": {},
   "outputs": [
    {
     "data": {
      "text/html": [
       "<pre>✔️ 13.7 s (2023-01-19T12:41:38/2023-01-19T12:41:52)</pre>"
      ],
      "text/plain": [
       "<IPython.core.display.HTML object>"
      ]
     },
     "metadata": {},
     "output_type": "display_data"
    },
    {
     "name": "stdout",
     "output_type": "stream",
     "text": [
      "[b'63c91046c5244e39f368e636', b'63c9104ac5244e39f369b755', b'63c91049c5244e39f369868e', b'63c91049c5244e39f36985bc', b'63c9104ac5244e39f3699175', b'63c9104ac5244e39f3699ea5', b'63c9104ac5244e39f369bb59', b'63c91048c5244e39f36934b7', b'63c91046c5244e39f368e921', b'63c91048c5244e39f3693f45', b'63c91049c5244e39f3697ae7', b'63c91044c5244e39f3687c14', b'63c9104bc5244e39f369c4ae', b'63c91046c5244e39f368d463', b'63c91048c5244e39f36947e3', b'63c9104ac5244e39f36992a6', b'63c91047c5244e39f368eee5', b'63c91049c5244e39f3698654', b'63c9104ac5244e39f369906d', b'63c91046c5244e39f368e62f', b'63c91047c5244e39f36912f3', b'63c91045c5244e39f36887a6', b'63c91047c5244e39f368f775', b'63c9104ac5244e39f3699a54', b'63c91049c5244e39f3696a71', b'63c91047c5244e39f3690c29', b'63c9104ac5244e39f369a7b7', b'63c91047c5244e39f368f597', b'63c91047c5244e39f368fbe7', b'63c91046c5244e39f368e878', b'63c91044c5244e39f3686075', b'63c91047c5244e39f368fdfb', b'63c91049c5244e39f3697147', b'63c91044c5244e39f36877fb', b'63c91049c5244e39f36980f7', b'63c91044c5244e39f3686733', b'63c91045c5244e39f368ab00', b'63c91044c5244e39f368639a', b'63c91047c5244e39f3690008', b'63c91047c5244e39f368f373', b'63c91049c5244e39f369751b', b'63c91047c5244e39f3690c5b', b'63c9104ac5244e39f369b803', b'63c91045c5244e39f3688d40', b'63c91044c5244e39f36880f3', b'63c91046c5244e39f368baf3', b'63c91044c5244e39f3685e4a', b'63c91044c5244e39f3688460', b'63c9104ac5244e39f3699ed3', b'63c91048c5244e39f3692917', b'63c91046c5244e39f368d882', b'63c91048c5244e39f369301d', b'63c9104ac5244e39f3698fae', b'63c91049c5244e39f36958b6', b'63c91046c5244e39f368de08', b'63c91047c5244e39f368f2cb', b'63c9104ac5244e39f3699b93', b'63c91046c5244e39f368dad4', b'63c91049c5244e39f3698623', b'63c91045c5244e39f368abc9', b'63c9104bc5244e39f369c664', b'63c91045c5244e39f368aace', b'63c91045c5244e39f3689f19', b'63c91048c5244e39f36945b3', b'63c9104ac5244e39f369a015', b'63c91046c5244e39f368be9c', b'63c91046c5244e39f368d744', b'63c91047c5244e39f368fb78', b'63c91047c5244e39f368ffe6', b'63c9104ac5244e39f3699903', b'63c91044c5244e39f3687b12', b'63c91043c5244e39f3684928', b'63c91046c5244e39f368dec7', b'63c91048c5244e39f3693e48', b'63c91046c5244e39f368c0be', b'63c91045c5244e39f368a5a1', b'63c91043c5244e39f3684c1e', b'63c91044c5244e39f36852ac', b'63c91044c5244e39f3687943', b'63c91046c5244e39f368d8f9', b'63c91047c5244e39f3690837', b'63c91048c5244e39f3692cde', b'63c9104ac5244e39f369b4e4', b'63c91044c5244e39f368626d', b'63c91045c5244e39f368a48f', b'63c91047c5244e39f3691bd4', b'63c9104ac5244e39f3699d6b', b'63c91046c5244e39f368bb18', b'63c91049c5244e39f3696262', b'63c91046c5244e39f368c028', b'63c91045c5244e39f368aaab', b'63c9104ac5244e39f369bbee', b'63c91048c5244e39f3692779', b'63c91049c5244e39f3696afa', b'63c91047c5244e39f36918a5', b'63c91044c5244e39f3686afd', b'63c91044c5244e39f3687230', b'63c9104bc5244e39f369c32c', b'63c91048c5244e39f3692d8a', b'63c9104ac5244e39f369b7c4']\n"
     ]
    }
   ],
   "source": [
    "for i in range(100000):\n",
    "    r.lpush('firstkey', i)\n",
    "    r.lpush('secondkey', i)\n",
    "    \n",
    "print(r.keys()[:100])"
   ]
  },
  {
   "cell_type": "markdown",
   "metadata": {},
   "source": [
    "Заодно проверим, может быть добавление ключей с другой стороны будет быстрее."
   ]
  },
  {
   "cell_type": "code",
   "execution_count": 119,
   "metadata": {},
   "outputs": [
    {
     "data": {
      "text/html": [
       "<pre>✔️ 23.9 ms (2023-01-19T12:41:52/2023-01-19T12:41:52)</pre>"
      ],
      "text/plain": [
       "<IPython.core.display.HTML object>"
      ]
     },
     "metadata": {},
     "output_type": "display_data"
    },
    {
     "data": {
      "text/plain": [
       "True"
      ]
     },
     "execution_count": 119,
     "metadata": {},
     "output_type": "execute_result"
    }
   ],
   "source": [
    "r.flushdb()"
   ]
  },
  {
   "cell_type": "code",
   "execution_count": 120,
   "metadata": {},
   "outputs": [
    {
     "data": {
      "text/html": [
       "<pre>✔️ 13.8 s (2023-01-19T12:41:52/2023-01-19T12:42:06)</pre>"
      ],
      "text/plain": [
       "<IPython.core.display.HTML object>"
      ]
     },
     "metadata": {},
     "output_type": "display_data"
    },
    {
     "name": "stdout",
     "output_type": "stream",
     "text": [
      "[b'firstkey', b'secondkey']\n"
     ]
    }
   ],
   "source": [
    "for i in range(100000):\n",
    "    r.rpush('firstkey', i)\n",
    "    r.rpush('secondkey', i)\n",
    "    \n",
    "print(r.keys())"
   ]
  },
  {
   "cell_type": "markdown",
   "metadata": {},
   "source": [
    "Получается еще медленнее, чем при помощи `set`.\n",
    "\n",
    "Извлекаем данные при помощи `lpop` и `rpop`. Как видно, получается тоже не быстро."
   ]
  },
  {
   "cell_type": "code",
   "execution_count": 121,
   "metadata": {},
   "outputs": [
    {
     "data": {
      "text/html": [
       "<pre>✔️ 13.4 s (2023-01-19T12:42:06/2023-01-19T12:42:19)</pre>"
      ],
      "text/plain": [
       "<IPython.core.display.HTML object>"
      ]
     },
     "metadata": {},
     "output_type": "display_data"
    }
   ],
   "source": [
    "for i in range(100000):\n",
    "    r.lpop('firstkey')\n",
    "    r.lpop('secondkey')"
   ]
  },
  {
   "cell_type": "markdown",
   "metadata": {},
   "source": [
    "Теперь попробуем пакетную запись значений. \n",
    "\n",
    "Может быть генерация ключей занимает больше времени, чем работа с БД? Отдельно сгенерируем идентификаторы для ключей, а потом положим их в базу."
   ]
  },
  {
   "cell_type": "code",
   "execution_count": 122,
   "metadata": {},
   "outputs": [
    {
     "data": {
      "text/html": [
       "<pre>✔️ 148 ms (2023-01-19T12:42:19/2023-01-19T12:42:19)</pre>"
      ],
      "text/plain": [
       "<IPython.core.display.HTML object>"
      ]
     },
     "metadata": {},
     "output_type": "display_data"
    }
   ],
   "source": [
    "objs = [str(ObjectId()) for i in range(100000)]"
   ]
  },
  {
   "cell_type": "code",
   "execution_count": 123,
   "metadata": {},
   "outputs": [
    {
     "data": {
      "text/html": [
       "<pre>✔️ 7.08 s (2023-01-19T12:42:19/2023-01-19T12:42:26)</pre>"
      ],
      "text/plain": [
       "<IPython.core.display.HTML object>"
      ]
     },
     "metadata": {},
     "output_type": "display_data"
    }
   ],
   "source": [
    "for i,x in enumerate(objs):\n",
    "    r.set(x, i)"
   ]
  },
  {
   "cell_type": "markdown",
   "metadata": {},
   "source": [
    "Быстрее не вышло. Может быть дело в for, и с помощью map мы сделаем всё быстрее?"
   ]
  },
  {
   "cell_type": "code",
   "execution_count": 124,
   "metadata": {},
   "outputs": [
    {
     "data": {
      "text/html": [
       "<pre>✔️ 7.04 s (2023-01-19T12:42:26/2023-01-19T12:42:33)</pre>"
      ],
      "text/plain": [
       "<IPython.core.display.HTML object>"
      ]
     },
     "metadata": {},
     "output_type": "display_data"
    }
   ],
   "source": [
    "_ = list(map(lambda x: r.set(x[1], x[0]), enumerate(objs)))"
   ]
  },
  {
   "cell_type": "markdown",
   "metadata": {},
   "source": [
    "Убедимся, что мы не забыли сгенерировать новые ключи перед запуском предыдущей ячейки - проверим количество ключей в базу."
   ]
  },
  {
   "cell_type": "code",
   "execution_count": 125,
   "metadata": {},
   "outputs": [
    {
     "data": {
      "text/html": [
       "<pre>✔️ 2.28 ms (2023-01-19T12:42:33/2023-01-19T12:42:33)</pre>"
      ],
      "text/plain": [
       "<IPython.core.display.HTML object>"
      ]
     },
     "metadata": {},
     "output_type": "display_data"
    },
    {
     "data": {
      "text/plain": [
       "100000"
      ]
     },
     "execution_count": 125,
     "metadata": {},
     "output_type": "execute_result"
    }
   ],
   "source": [
    "r.dbsize()"
   ]
  },
  {
   "cell_type": "markdown",
   "metadata": {},
   "source": [
    "Также убедимся, что работа со словарем всё еще быстрее. Кстати, значительно быстрее генерации ключей."
   ]
  },
  {
   "cell_type": "code",
   "execution_count": 126,
   "metadata": {},
   "outputs": [
    {
     "data": {
      "text/html": [
       "<pre>✔️ 9.84 ms (2023-01-19T12:42:34/2023-01-19T12:42:34)</pre>"
      ],
      "text/plain": [
       "<IPython.core.display.HTML object>"
      ]
     },
     "metadata": {},
     "output_type": "display_data"
    }
   ],
   "source": [
    "tst_dct = {}\n",
    "for i in enumerate(objs):\n",
    "    tst_dct[x] = i"
   ]
  },
  {
   "cell_type": "markdown",
   "metadata": {},
   "source": [
    "Ключи в самом деле лежат в базе?"
   ]
  },
  {
   "cell_type": "code",
   "execution_count": 127,
   "metadata": {},
   "outputs": [
    {
     "data": {
      "text/html": [
       "<pre>✔️ 30.2 ms (2023-01-19T12:42:34/2023-01-19T12:42:34)</pre>"
      ],
      "text/plain": [
       "<IPython.core.display.HTML object>"
      ]
     },
     "metadata": {},
     "output_type": "display_data"
    },
    {
     "data": {
      "text/plain": [
       "[b'63c9107bc5244e39f36b6f83',\n",
       " b'63c9107bc5244e39f36c4563',\n",
       " b'63c9107bc5244e39f36c027b',\n",
       " b'63c9107bc5244e39f36bac22',\n",
       " b'63c9107bc5244e39f36b774a',\n",
       " b'63c9107bc5244e39f36c4d67',\n",
       " b'63c9107bc5244e39f36c6a65',\n",
       " b'63c9107bc5244e39f36bc429',\n",
       " b'63c9107bc5244e39f36c3120',\n",
       " b'63c9107bc5244e39f36c2607']"
      ]
     },
     "execution_count": 127,
     "metadata": {},
     "output_type": "execute_result"
    }
   ],
   "source": [
    "list(r.keys())[:10]"
   ]
  },
  {
   "cell_type": "markdown",
   "metadata": {},
   "source": [
    "### Пакетная запись в Redis"
   ]
  },
  {
   "cell_type": "markdown",
   "metadata": {},
   "source": [
    "Попробуем функцию `mset`, которая кладет всё содержимое сформированного словаря одновременно."
   ]
  },
  {
   "cell_type": "code",
   "execution_count": 128,
   "metadata": {},
   "outputs": [
    {
     "data": {
      "text/html": [
       "<pre>✔️ 164 ms (2023-01-19T12:42:34/2023-01-19T12:42:34)</pre>"
      ],
      "text/plain": [
       "<IPython.core.display.HTML object>"
      ]
     },
     "metadata": {},
     "output_type": "display_data"
    }
   ],
   "source": [
    "objs = {str(ObjectId()):i for i in range(100000)}"
   ]
  },
  {
   "cell_type": "code",
   "execution_count": 129,
   "metadata": {},
   "outputs": [
    {
     "data": {
      "text/html": [
       "<pre>✔️ 243 ms (2023-01-19T12:42:34/2023-01-19T12:42:34)</pre>"
      ],
      "text/plain": [
       "<IPython.core.display.HTML object>"
      ]
     },
     "metadata": {},
     "output_type": "display_data"
    },
    {
     "data": {
      "text/plain": [
       "True"
      ]
     },
     "execution_count": 129,
     "metadata": {},
     "output_type": "execute_result"
    }
   ],
   "source": [
    "r.mset(objs)"
   ]
  },
  {
   "cell_type": "code",
   "execution_count": 130,
   "metadata": {},
   "outputs": [
    {
     "data": {
      "text/html": [
       "<pre>✔️ 61.1 ms (2023-01-19T12:42:34/2023-01-19T12:42:35)</pre>"
      ],
      "text/plain": [
       "<IPython.core.display.HTML object>"
      ]
     },
     "metadata": {},
     "output_type": "display_data"
    }
   ],
   "source": [
    "mkeys = list(r.keys())[:1000]"
   ]
  },
  {
   "cell_type": "code",
   "execution_count": 131,
   "metadata": {},
   "outputs": [
    {
     "data": {
      "text/html": [
       "<pre>✔️ 2.81 ms (2023-01-19T12:42:35/2023-01-19T12:42:35)</pre>"
      ],
      "text/plain": [
       "<IPython.core.display.HTML object>"
      ]
     },
     "metadata": {},
     "output_type": "display_data"
    }
   ],
   "source": [
    "_ = r.mget(mkeys)"
   ]
  },
  {
   "cell_type": "markdown",
   "metadata": {},
   "source": [
    "Получается в несколько раз быстрее - около 400 000 ключей в секунду на запись. Но это всё еще не похоже на миллион запросов в секунду."
   ]
  },
  {
   "cell_type": "markdown",
   "metadata": {},
   "source": [
    "### Замер производительности Redis в несколько потоков\n",
    "\n",
    "Хорошо, может быть это Питон не справляется, а база может работать быстрее? Попробуем запустить несколько потоков, которые пишут в базу. Оформим генерацию ключей и загрузку ключей в базу как отдельную функцию, чтобы можно было ее запускать в параллельных потоках."
   ]
  },
  {
   "cell_type": "code",
   "execution_count": 132,
   "metadata": {},
   "outputs": [
    {
     "data": {
      "text/html": [
       "<pre>✔️ 506 µs (2023-01-19T12:42:35/2023-01-19T12:42:35)</pre>"
      ],
      "text/plain": [
       "<IPython.core.display.HTML object>"
      ]
     },
     "metadata": {},
     "output_type": "display_data"
    }
   ],
   "source": [
    "import multiprocessing"
   ]
  },
  {
   "cell_type": "code",
   "execution_count": 133,
   "metadata": {},
   "outputs": [
    {
     "data": {
      "text/html": [
       "<pre>✔️ 69.8 ms (2023-01-19T12:42:35/2023-01-19T12:42:35)</pre>"
      ],
      "text/plain": [
       "<IPython.core.display.HTML object>"
      ]
     },
     "metadata": {},
     "output_type": "display_data"
    },
    {
     "data": {
      "text/plain": [
       "True"
      ]
     },
     "execution_count": 133,
     "metadata": {},
     "output_type": "execute_result"
    }
   ],
   "source": [
    "r.flushdb()"
   ]
  },
  {
   "cell_type": "code",
   "execution_count": 134,
   "metadata": {},
   "outputs": [
    {
     "data": {
      "text/html": [
       "<pre>✔️ 1.05 ms (2023-01-19T12:42:35/2023-01-19T12:42:35)</pre>"
      ],
      "text/plain": [
       "<IPython.core.display.HTML object>"
      ]
     },
     "metadata": {},
     "output_type": "display_data"
    }
   ],
   "source": [
    "def putKey2Redis():\n",
    "    objs = {str(ObjectId()):i for i in range(100000)}\n",
    "    #_=list(map(lambda x: r.set(x[1], x[0]), enumerate(objs)))\n",
    "    r.mset(objs)"
   ]
  },
  {
   "cell_type": "code",
   "execution_count": 135,
   "metadata": {},
   "outputs": [
    {
     "data": {
      "text/html": [
       "<pre>✔️ 1.95 s (2023-01-19T12:42:35/2023-01-19T12:42:37)</pre>"
      ],
      "text/plain": [
       "<IPython.core.display.HTML object>"
      ]
     },
     "metadata": {},
     "output_type": "display_data"
    }
   ],
   "source": [
    "pr = []\n",
    "\n",
    "for i in range(10):\n",
    "    p = multiprocessing.Process(target=putKey2Redis)\n",
    "    p.start()\n",
    "    pr.append(p)\n",
    "\n",
    "for p in pr:\n",
    "    p.join()"
   ]
  },
  {
   "cell_type": "markdown",
   "metadata": {},
   "source": [
    "600 000 запросов в секунду. Явно улучшение не в 10 раз. Значит дело не только в Питоне. Но скорость уже впечатляющая. От обычной БД с настройками из коробки такую скорость не получишь."
   ]
  },
  {
   "cell_type": "markdown",
   "metadata": {},
   "source": [
    "Померяем скорость работы с Redis с хешами. Попробуем класть его при помощи функции `hset` (h - хешированный. m - много ключей сразу)."
   ]
  },
  {
   "cell_type": "code",
   "execution_count": 136,
   "metadata": {},
   "outputs": [
    {
     "data": {
      "text/html": [
       "<pre>✔️ 387 ms (2023-01-19T12:42:37/2023-01-19T12:42:38)</pre>"
      ],
      "text/plain": [
       "<IPython.core.display.HTML object>"
      ]
     },
     "metadata": {},
     "output_type": "display_data"
    },
    {
     "data": {
      "text/plain": [
       "True"
      ]
     },
     "execution_count": 136,
     "metadata": {},
     "output_type": "execute_result"
    }
   ],
   "source": [
    "r.flushdb()"
   ]
  },
  {
   "cell_type": "markdown",
   "metadata": {},
   "source": [
    "Используем другую юиблиотеку для параллелизма, которая только изображает параллельность."
   ]
  },
  {
   "cell_type": "code",
   "execution_count": 137,
   "metadata": {},
   "outputs": [
    {
     "data": {
      "text/html": [
       "<pre>✔️ 782 µs (2023-01-19T12:42:38/2023-01-19T12:42:38)</pre>"
      ],
      "text/plain": [
       "<IPython.core.display.HTML object>"
      ]
     },
     "metadata": {},
     "output_type": "display_data"
    }
   ],
   "source": [
    "import threading"
   ]
  },
  {
   "cell_type": "code",
   "execution_count": 138,
   "metadata": {},
   "outputs": [
    {
     "data": {
      "text/html": [
       "<pre>✔️ 638 µs (2023-01-19T12:42:38/2023-01-19T12:42:38)</pre>"
      ],
      "text/plain": [
       "<IPython.core.display.HTML object>"
      ]
     },
     "metadata": {},
     "output_type": "display_data"
    }
   ],
   "source": [
    "def putKey2Redis2(my_key):\n",
    "    objs = {str(ObjectId()):i for i in range(100000)}\n",
    "    print(my_key, list(objs.keys())[:2])\n",
    "    r.hset(my_key, mapping=objs)"
   ]
  },
  {
   "cell_type": "code",
   "execution_count": 139,
   "metadata": {},
   "outputs": [
    {
     "data": {
      "text/html": [
       "<pre>✔️ 14.2 s (2023-01-19T12:42:38/2023-01-19T12:42:52)</pre>"
      ],
      "text/plain": [
       "<IPython.core.display.HTML object>"
      ]
     },
     "metadata": {},
     "output_type": "display_data"
    },
    {
     "name": "stdout",
     "output_type": "stream",
     "text": [
      "hash_key0 ['63c9108ec5244e39f36e62fc', '63c9108ec5244e39f36e62fd']\n",
      "hash_key1 ['63c9108ec5244e39f36ea2b9', '63c9108ec5244e39f36ea2ba']\n",
      "hash_key8 ['63c9108ec5244e39f36ed7aa', '63c9108ec5244e39f36ed7bc']\n",
      "hash_key2 ['63c9108ec5244e39f36ed766', '63c9108ec5244e39f36ed768']\n",
      "hash_key7 ['63c9108ec5244e39f36ed77e', '63c9108ec5244e39f36ed77f']\n",
      "hash_key6 ['63c9108ec5244e39f36ed77a', '63c9108ec5244e39f36ed783']\n",
      "hash_key3 ['63c9108ec5244e39f36ed76a', '63c9108ec5244e39f36ed76e']\n",
      "hash_key5 ['63c9108ec5244e39f36ed774', '63c9108ec5244e39f36ed775']\n",
      "hash_key4 ['63c9108ec5244e39f36ed772', '63c9108ec5244e39f36ed773']\n",
      "hash_key9 ['63c9108ec5244e39f36ed784', '63c9108ec5244e39f36ed785']\n"
     ]
    }
   ],
   "source": [
    "pr=[]\n",
    "\n",
    "for i in range(10):\n",
    "    p = threading.Thread(target=putKey2Redis2, args=['hash_key'+str(i)])\n",
    "    p.start()\n",
    "    pr.append(p)\n",
    "\n",
    "for p in pr:\n",
    "    p.join()"
   ]
  },
  {
   "cell_type": "markdown",
   "metadata": {},
   "source": [
    "Становится очевидным, что серьезные вычисления не позволяют переключаться между потоками. Просто для сравнения сделам еще раз то же самое в параллельных потоках. Заодно увидим, что наш эксперимент провалился, так как параллельные потоки сгенерировали одни и те же ключи."
   ]
  },
  {
   "cell_type": "code",
   "execution_count": 140,
   "metadata": {},
   "outputs": [
    {
     "data": {
      "text/html": [
       "<pre>✔️ 2.28 s (2023-01-19T12:42:52/2023-01-19T12:42:55)</pre>"
      ],
      "text/plain": [
       "<IPython.core.display.HTML object>"
      ]
     },
     "metadata": {},
     "output_type": "display_data"
    },
    {
     "name": "stdout",
     "output_type": "stream",
     "text": [
      "hash_key0 ['63c9109c257b7715857da53c', '63c9109c257b7715857da53d']\n",
      "hash_key3hash_key6  ['63c9109c4e82e3209b7da53c', '63c9109c4e82e3209b7da53d']['63c9109c18d5632c3e7da53c', '63c9109c18d5632c3e7da53d']\n",
      "hash_key2\n",
      " ['63c9109c1060fd37447da53c', '63c9109c1060fd37447da53d']hash_key5\n",
      " ['63c9109cbef1100e2c7da53c', '63c9109cbef1100e2c7da53d']hash_key7\n",
      "hash_key8hash_key1   ['63c9109c40b4d43f407da53c', '63c9109c40b4d43f407da53d']['63c9109c34339543d57da53c', '63c9109c34339543d57da53d']hash_key4['63c9109c7a36fa77ec7da53c', '63c9109c7a36fa77ec7da53d']\n",
      "\n",
      "\n",
      " ['63c9109ca5d4edb47a7da53c', '63c9109ca5d4edb47a7da53d']\n",
      "hash_key9 ['63c9109c4d5cb27d5c7da53c', '63c9109c4d5cb27d5c7da53d']\n"
     ]
    }
   ],
   "source": [
    "pr=[]\n",
    "\n",
    "for i in range(10):\n",
    "    p = multiprocessing.Process(target=putKey2Redis2, args=['hash_key'+str(i)])\n",
    "    p.start()\n",
    "    pr.append(p)\n",
    "\n",
    "for p in pr:\n",
    "    p.join()"
   ]
  },
  {
   "cell_type": "code",
   "execution_count": 141,
   "metadata": {},
   "outputs": [
    {
     "data": {
      "text/html": [
       "<pre>✔️ 3.32 ms (2023-01-19T12:42:55/2023-01-19T12:42:55)</pre>"
      ],
      "text/plain": [
       "<IPython.core.display.HTML object>"
      ]
     },
     "metadata": {},
     "output_type": "display_data"
    },
    {
     "data": {
      "text/plain": [
       "[b'hash_key3',\n",
       " b'hash_key2',\n",
       " b'hash_key8',\n",
       " b'hash_key6',\n",
       " b'hash_key7',\n",
       " b'hash_key9',\n",
       " b'hash_key1',\n",
       " b'hash_key5',\n",
       " b'hash_key0',\n",
       " b'hash_key4']"
      ]
     },
     "execution_count": 141,
     "metadata": {},
     "output_type": "execute_result"
    }
   ],
   "source": [
    "r.keys()"
   ]
  },
  {
   "cell_type": "code",
   "execution_count": 142,
   "metadata": {},
   "outputs": [
    {
     "data": {
      "text/html": [
       "<pre>✔️ 1.85 ms (2023-01-19T12:42:55/2023-01-19T12:42:55)</pre>"
      ],
      "text/plain": [
       "<IPython.core.display.HTML object>"
      ]
     },
     "metadata": {},
     "output_type": "display_data"
    }
   ],
   "source": [
    "r.hget('hash_key1', '622350ffea9f2cbf042a0e36')"
   ]
  },
  {
   "cell_type": "code",
   "execution_count": 143,
   "metadata": {},
   "outputs": [
    {
     "data": {
      "text/html": [
       "<pre>✔️ 2.84 ms (2023-01-19T12:42:55/2023-01-19T12:42:55)</pre>"
      ],
      "text/plain": [
       "<IPython.core.display.HTML object>"
      ]
     },
     "metadata": {},
     "output_type": "display_data"
    },
    {
     "data": {
      "text/plain": [
       "1"
      ]
     },
     "execution_count": 143,
     "metadata": {},
     "output_type": "execute_result"
    }
   ],
   "source": [
    "r.hset(\"test_key\", mapping={\"c\":3})"
   ]
  },
  {
   "cell_type": "code",
   "execution_count": 144,
   "metadata": {},
   "outputs": [
    {
     "data": {
      "text/html": [
       "<pre>✔️ 2.33 ms (2023-01-19T12:42:55/2023-01-19T12:42:55)</pre>"
      ],
      "text/plain": [
       "<IPython.core.display.HTML object>"
      ]
     },
     "metadata": {},
     "output_type": "display_data"
    },
    {
     "data": {
      "text/plain": [
       "2"
      ]
     },
     "execution_count": 144,
     "metadata": {},
     "output_type": "execute_result"
    }
   ],
   "source": [
    "r.hset(\"test_key\", mapping={\"a\":1, \"b\":2})"
   ]
  },
  {
   "cell_type": "code",
   "execution_count": 145,
   "metadata": {},
   "outputs": [
    {
     "data": {
      "text/html": [
       "<pre>✔️ 2.32 ms (2023-01-19T12:42:55/2023-01-19T12:42:55)</pre>"
      ],
      "text/plain": [
       "<IPython.core.display.HTML object>"
      ]
     },
     "metadata": {},
     "output_type": "display_data"
    },
    {
     "data": {
      "text/plain": [
       "b'3'"
      ]
     },
     "execution_count": 145,
     "metadata": {},
     "output_type": "execute_result"
    }
   ],
   "source": [
    "r.hget(\"test_key\", \"c\")"
   ]
  },
  {
   "cell_type": "code",
   "execution_count": 146,
   "metadata": {},
   "outputs": [
    {
     "data": {
      "text/html": [
       "<pre>✔️ 2.52 ms (2023-01-19T12:42:55/2023-01-19T12:42:55)</pre>"
      ],
      "text/plain": [
       "<IPython.core.display.HTML object>"
      ]
     },
     "metadata": {},
     "output_type": "display_data"
    },
    {
     "data": {
      "text/plain": [
       "[b'1', b'2', b'3', None]"
      ]
     },
     "execution_count": 146,
     "metadata": {},
     "output_type": "execute_result"
    }
   ],
   "source": [
    "r.hmget(\"test_key\", [\"a\", \"b\", \"c\", \"d\"])"
   ]
  },
  {
   "cell_type": "code",
   "execution_count": 147,
   "metadata": {},
   "outputs": [
    {
     "data": {
      "text/html": [
       "<pre>✔️ 2.75 ms (2023-01-19T12:42:55/2023-01-19T12:42:55)</pre>"
      ],
      "text/plain": [
       "<IPython.core.display.HTML object>"
      ]
     },
     "metadata": {},
     "output_type": "display_data"
    },
    {
     "data": {
      "text/plain": [
       "1"
      ]
     },
     "execution_count": 147,
     "metadata": {},
     "output_type": "execute_result"
    }
   ],
   "source": [
    "r.hset(\"test_key\", mapping={\"d\":\"{'s':'d'}\"})"
   ]
  },
  {
   "cell_type": "code",
   "execution_count": 148,
   "metadata": {},
   "outputs": [
    {
     "data": {
      "text/html": [
       "<pre>✔️ 2.66 ms (2023-01-19T12:42:55/2023-01-19T12:42:55)</pre>"
      ],
      "text/plain": [
       "<IPython.core.display.HTML object>"
      ]
     },
     "metadata": {},
     "output_type": "display_data"
    },
    {
     "data": {
      "text/plain": [
       "b'3'"
      ]
     },
     "execution_count": 148,
     "metadata": {},
     "output_type": "execute_result"
    }
   ],
   "source": [
    "r.hget(\"test_key\", \"c\")"
   ]
  },
  {
   "cell_type": "code",
   "execution_count": 149,
   "metadata": {},
   "outputs": [
    {
     "data": {
      "text/html": [
       "<pre>✔️ 2.35 ms (2023-01-19T12:42:56/2023-01-19T12:42:56)</pre>"
      ],
      "text/plain": [
       "<IPython.core.display.HTML object>"
      ]
     },
     "metadata": {},
     "output_type": "display_data"
    },
    {
     "data": {
      "text/plain": [
       "[b'1', b'3']"
      ]
     },
     "execution_count": 149,
     "metadata": {},
     "output_type": "execute_result"
    }
   ],
   "source": [
    "r.hmget(\"test_key\",['a','c'])"
   ]
  },
  {
   "cell_type": "code",
   "execution_count": 150,
   "metadata": {},
   "outputs": [
    {
     "data": {
      "text/html": [
       "<pre>✔️ 2.79 ms (2023-01-19T12:42:56/2023-01-19T12:42:56)</pre>"
      ],
      "text/plain": [
       "<IPython.core.display.HTML object>"
      ]
     },
     "metadata": {},
     "output_type": "display_data"
    },
    {
     "data": {
      "text/plain": [
       "[b'c', b'a', b'b', b'd']"
      ]
     },
     "execution_count": 150,
     "metadata": {},
     "output_type": "execute_result"
    }
   ],
   "source": [
    "r.hkeys(\"test_key\")"
   ]
  },
  {
   "cell_type": "markdown",
   "metadata": {},
   "source": [
    "Увеличения скорости не наблюдается.\n",
    "\n",
    "При помощи функции `hkeys` можно получить ключи для конкретного хеш-массива. `hmget` позволяет получить значения по нескольким ключам."
   ]
  },
  {
   "cell_type": "code",
   "execution_count": 151,
   "metadata": {},
   "outputs": [
    {
     "data": {
      "text/html": [
       "<pre>✔️ 652 ms (2023-01-19T12:42:56/2023-01-19T12:42:56)</pre>"
      ],
      "text/plain": [
       "<IPython.core.display.HTML object>"
      ]
     },
     "metadata": {},
     "output_type": "display_data"
    },
    {
     "data": {
      "text/plain": [
       "True"
      ]
     },
     "execution_count": 151,
     "metadata": {},
     "output_type": "execute_result"
    }
   ],
   "source": [
    "r.flushdb()"
   ]
  },
  {
   "cell_type": "code",
   "execution_count": 152,
   "metadata": {},
   "outputs": [
    {
     "data": {
      "text/html": [
       "<pre>✔️ 190 ms (2023-01-19T12:42:56/2023-01-19T12:42:57)</pre>"
      ],
      "text/plain": [
       "<IPython.core.display.HTML object>"
      ]
     },
     "metadata": {},
     "output_type": "display_data"
    }
   ],
   "source": [
    "objs={str(ObjectId()):i for i in range(100000)}"
   ]
  },
  {
   "cell_type": "code",
   "execution_count": 153,
   "metadata": {},
   "outputs": [
    {
     "data": {
      "text/html": [
       "<pre>✔️ 249 ms (2023-01-19T12:42:57/2023-01-19T12:42:57)</pre>"
      ],
      "text/plain": [
       "<IPython.core.display.HTML object>"
      ]
     },
     "metadata": {},
     "output_type": "display_data"
    },
    {
     "data": {
      "text/plain": [
       "100000"
      ]
     },
     "execution_count": 153,
     "metadata": {},
     "output_type": "execute_result"
    }
   ],
   "source": [
    "r.hset(\"longkey\", mapping=objs)"
   ]
  },
  {
   "cell_type": "code",
   "execution_count": 154,
   "metadata": {},
   "outputs": [
    {
     "data": {
      "text/html": [
       "<pre>✔️ 26.2 ms (2023-01-19T12:42:57/2023-01-19T12:42:57)</pre>"
      ],
      "text/plain": [
       "<IPython.core.display.HTML object>"
      ]
     },
     "metadata": {},
     "output_type": "display_data"
    }
   ],
   "source": [
    "ho = r.hkeys(\"longkey\")"
   ]
  },
  {
   "cell_type": "code",
   "execution_count": 155,
   "metadata": {},
   "outputs": [
    {
     "data": {
      "text/html": [
       "<pre>✔️ 2.1 ms (2023-01-19T12:42:57/2023-01-19T12:42:57)</pre>"
      ],
      "text/plain": [
       "<IPython.core.display.HTML object>"
      ]
     },
     "metadata": {},
     "output_type": "display_data"
    },
    {
     "data": {
      "text/plain": [
       "[b'63c910a1c5244e39f37df128',\n",
       " b'63c910a1c5244e39f37f1d0b',\n",
       " b'63c910a1c5244e39f37f0bdc',\n",
       " b'63c910a1c5244e39f37e273a',\n",
       " b'63c910a1c5244e39f37f1f66',\n",
       " b'63c910a1c5244e39f37e36c6',\n",
       " b'63c910a1c5244e39f37e1483',\n",
       " b'63c910a1c5244e39f37e7a2c',\n",
       " b'63c910a1c5244e39f37df71b',\n",
       " b'63c910a1c5244e39f37e1fba']"
      ]
     },
     "execution_count": 155,
     "metadata": {},
     "output_type": "execute_result"
    }
   ],
   "source": [
    "ho[:10]"
   ]
  },
  {
   "cell_type": "code",
   "execution_count": 156,
   "metadata": {},
   "outputs": [
    {
     "data": {
      "text/html": [
       "<pre>✔️ 1.35 ms (2023-01-19T12:42:57/2023-01-19T12:42:57)</pre>"
      ],
      "text/plain": [
       "<IPython.core.display.HTML object>"
      ]
     },
     "metadata": {},
     "output_type": "display_data"
    }
   ],
   "source": [
    "oo = r.hmget(\"longkey\", ho[:10])"
   ]
  },
  {
   "cell_type": "code",
   "execution_count": 157,
   "metadata": {},
   "outputs": [
    {
     "data": {
      "text/html": [
       "<pre>✔️ 1.83 ms (2023-01-19T12:42:57/2023-01-19T12:42:57)</pre>"
      ],
      "text/plain": [
       "<IPython.core.display.HTML object>"
      ]
     },
     "metadata": {},
     "output_type": "display_data"
    },
    {
     "data": {
      "text/plain": [
       "[b'19436',\n",
       " b'96207',\n",
       " b'91808',\n",
       " b'33278',\n",
       " b'96810',\n",
       " b'37258',\n",
       " b'28487',\n",
       " b'54512',\n",
       " b'20959',\n",
       " b'31358']"
      ]
     },
     "execution_count": 157,
     "metadata": {},
     "output_type": "execute_result"
    }
   ],
   "source": [
    "oo"
   ]
  },
  {
   "cell_type": "markdown",
   "metadata": {},
   "source": [
    "Можно убедиться еще раз, что работа со списком ключей гораздо быстрее, чем получение значений по ключу по отдельности."
   ]
  },
  {
   "cell_type": "code",
   "execution_count": 158,
   "metadata": {},
   "outputs": [
    {
     "data": {
      "text/html": [
       "<pre>✔️ 7.03 s (2023-01-19T12:42:58/2023-01-19T12:43:05)</pre>"
      ],
      "text/plain": [
       "<IPython.core.display.HTML object>"
      ]
     },
     "metadata": {},
     "output_type": "display_data"
    }
   ],
   "source": [
    "for k in ho:\n",
    "    _ = r.hget(\"longkey\", k)"
   ]
  },
  {
   "cell_type": "code",
   "execution_count": 159,
   "metadata": {},
   "outputs": [
    {
     "data": {
      "text/html": [
       "<pre>✔️ 97.1 ms (2023-01-19T12:43:05/2023-01-19T12:43:05)</pre>"
      ],
      "text/plain": [
       "<IPython.core.display.HTML object>"
      ]
     },
     "metadata": {},
     "output_type": "display_data"
    }
   ],
   "source": [
    "oo = r.hmget(\"longkey\", ho)"
   ]
  },
  {
   "cell_type": "markdown",
   "metadata": {},
   "source": [
    "---"
   ]
  },
  {
   "cell_type": "markdown",
   "metadata": {},
   "source": [
    "## Применение Redis для хранения сложных объектов\n",
    "\n",
    "Наличие хеш-массивов фактически позволяет хранить в базе данных объекты/словари/JSON и обращаться к ним при помощи уникальных ключей. Правда, плохо получается хранить в полях таких объектов массивы других объектов. Традиционно для таких задач склеивают последовательность ключей в один, используя в качестве разделителя двоеточие. Таким образом, вместо того, чтобы хранить список объектов, мы храним много уникальных ключей, которые известным образом можно соотнести с объектами.\n",
    "\n",
    "Попробуем решить следующую задачу.\n",
    "\n",
    "Есть квадратная карта заданного размера. На карте находятся растения, деревья, травоядные и хищники. Необходимо промоделировать поведение системы, обеспечивая обмен данными между частями модели через Redis. "
   ]
  },
  {
   "cell_type": "code",
   "execution_count": 160,
   "metadata": {},
   "outputs": [
    {
     "data": {
      "text/html": [
       "<pre>✔️ 703 µs (2023-01-19T12:43:05/2023-01-19T12:43:05)</pre>"
      ],
      "text/plain": [
       "<IPython.core.display.HTML object>"
      ]
     },
     "metadata": {},
     "output_type": "display_data"
    }
   ],
   "source": [
    "import random\n",
    "import redis\n",
    "from bson import ObjectId"
   ]
  },
  {
   "cell_type": "code",
   "execution_count": 161,
   "metadata": {},
   "outputs": [
    {
     "data": {
      "text/html": [
       "<pre>✔️ 600 µs (2023-01-19T12:43:05/2023-01-19T12:43:05)</pre>"
      ],
      "text/plain": [
       "<IPython.core.display.HTML object>"
      ]
     },
     "metadata": {},
     "output_type": "display_data"
    }
   ],
   "source": [
    "r = redis.Redis(host='localhost', port=6379, db=0)"
   ]
  },
  {
   "cell_type": "code",
   "execution_count": 162,
   "metadata": {},
   "outputs": [
    {
     "data": {
      "text/html": [
       "<pre>✔️ 33.6 ms (2023-01-19T12:43:05/2023-01-19T12:43:05)</pre>"
      ],
      "text/plain": [
       "<IPython.core.display.HTML object>"
      ]
     },
     "metadata": {},
     "output_type": "display_data"
    },
    {
     "data": {
      "text/plain": [
       "True"
      ]
     },
     "execution_count": 162,
     "metadata": {},
     "output_type": "execute_result"
    }
   ],
   "source": [
    "r.flushdb()"
   ]
  },
  {
   "cell_type": "code",
   "execution_count": 163,
   "metadata": {},
   "outputs": [
    {
     "data": {
      "text/html": [
       "<pre>✔️ 13.4 ms (2023-01-19T12:43:05/2023-01-19T12:43:05)</pre>"
      ],
      "text/plain": [
       "<IPython.core.display.HTML object>"
      ]
     },
     "metadata": {},
     "output_type": "display_data"
    },
    {
     "data": {
      "application/vnd.jupyter.widget-view+json": {
       "model_id": "33a1f540352a41789d83c3016b572215",
       "version_major": 2,
       "version_minor": 0
      },
      "text/plain": [
       "HTML(value='<table border=\"1\"><tr><td style=\"padding:3px;width:150px;\">worldDescription</td><td style=\"padding…"
      ]
     },
     "metadata": {},
     "output_type": "display_data"
    }
   ],
   "source": [
    "world = {\"sizeX\":50, \"sizeY\":50, \"iniPred\":5, \"iniCarn\":20, \n",
    "         \"lifeExpPred\":10, \"lifeExpPredStd\":3, \"breedPeriodPred\":4, \"lifePredMin\":50, \"lifePredMax\":100,  \n",
    "         \"lifeExpCarn\":10, \"lifeExpCarnStd\":3, \"breedPeriodCarn\":3, \"lifeCarnMin\":50, \"lifeCarnMax\":100, \n",
    "         \"herbCount\":10000, \"treesCount\":500, \n",
    "         \"lifeExpTree\":30, \"lifeExpTreeStd\":5, \"breedPeriodTree\":6}\n",
    "\n",
    "r.hset(\"worldDescription\", mapping=world)\n",
    "show_redis_data(r)"
   ]
  },
  {
   "cell_type": "markdown",
   "metadata": {},
   "source": [
    "У тайлов заводим свойство \"количество растений в тайле\"."
   ]
  },
  {
   "cell_type": "code",
   "execution_count": 164,
   "metadata": {},
   "outputs": [
    {
     "data": {
      "text/html": [
       "<pre>✔️ 749 ms (2023-01-19T12:43:05/2023-01-19T12:43:06)</pre>"
      ],
      "text/plain": [
       "<IPython.core.display.HTML object>"
      ]
     },
     "metadata": {},
     "output_type": "display_data"
    },
    {
     "data": {
      "application/vnd.jupyter.widget-view+json": {
       "model_id": "a6887f8f5868415bafc89f402cd23fae",
       "version_major": 2,
       "version_minor": 0
      },
      "text/plain": [
       "HTML(value='<table border=\"1\"><tr><td style=\"padding:3px;width:150px;\">tile:39:47</td><td style=\"padding:3px;w…"
      ]
     },
     "metadata": {},
     "output_type": "display_data"
    }
   ],
   "source": [
    "tile = {\"herbs\": 0}\n",
    "for i in range(world[\"sizeY\"]):\n",
    "    for j in range(world[\"sizeX\"]):\n",
    "        r.hset(\"tile:\"+str(i+1)+\":\"+str(j+1), mapping=tile)\n",
    "show_redis_data(r)"
   ]
  },
  {
   "cell_type": "markdown",
   "metadata": {},
   "source": [
    "Раскидываем растения по тайлам, увеличивая число растений в выбранном тайле."
   ]
  },
  {
   "cell_type": "code",
   "execution_count": 165,
   "metadata": {},
   "outputs": [
    {
     "data": {
      "text/html": [
       "<pre>✔️ 1.3 s (2023-01-19T12:43:06/2023-01-19T12:43:07)</pre>"
      ],
      "text/plain": [
       "<IPython.core.display.HTML object>"
      ]
     },
     "metadata": {},
     "output_type": "display_data"
    },
    {
     "data": {
      "application/vnd.jupyter.widget-view+json": {
       "model_id": "82904f233de8424caa647bd9b1d453ce",
       "version_major": 2,
       "version_minor": 0
      },
      "text/plain": [
       "HTML(value='<table border=\"1\"><tr><td style=\"padding:3px;width:150px;\">tile:18:30</td><td style=\"padding:3px;w…"
      ]
     },
     "metadata": {},
     "output_type": "display_data"
    }
   ],
   "source": [
    "for i in range(world[\"herbCount\"]):\n",
    "    x = random.randint(1, world[\"sizeX\"])\n",
    "    y = random.randint(1, world[\"sizeY\"])\n",
    "    r.hincrby(\"tile:\"+str(y)+\":\"+str(x), \"herbs\", 1)\n",
    "show_redis_data(r)"
   ]
  },
  {
   "cell_type": "code",
   "execution_count": 166,
   "metadata": {},
   "outputs": [
    {
     "data": {
      "text/html": [
       "<pre>✔️ 7.42 ms (2023-01-19T12:43:07/2023-01-19T12:43:08)</pre>"
      ],
      "text/plain": [
       "<IPython.core.display.HTML object>"
      ]
     },
     "metadata": {},
     "output_type": "display_data"
    }
   ],
   "source": [
    "for i in range(world[\"iniCarn\"]):\n",
    "    g = random.randint(0, 1)\n",
    "    x = random.randint(1, world[\"sizeX\"])\n",
    "    y = random.randint(1, world[\"sizeY\"])\n",
    "    carn = {\"x\":str(x), \"y\":str(y), \n",
    "          \"carn_id\":str(ObjectId()), \"carn_age\":0, \"carn_gender\": g,\n",
    "          \"carn_life_exp\": random.randint(world[\"lifeExpCarn\"]-world[\"lifeExpCarnStd\"], world[\"lifeExpCarn\"]+world[\"lifeExpCarnStd\"]), \n",
    "          \"carn_hunger\":0,\n",
    "          \"carn_life\":random.randint(world[\"lifeCarnMin\"], world[\"lifeCarnMax\"])\n",
    "         }\n",
    "    r.lpush(\"tile:\"+str(x)+\":\"+str(y)+\":carns\", carn[\"carn_id\"])\n",
    "    r.hset(\"carn:\"+carn[\"carn_id\"], mapping=carn)\n",
    "    r.lpush(\"carns_id\", carn[\"carn_id\"])"
   ]
  },
  {
   "cell_type": "code",
   "execution_count": 167,
   "metadata": {},
   "outputs": [
    {
     "data": {
      "text/html": [
       "<pre>✔️ 610 ms (2023-01-19T12:43:08/2023-01-19T12:43:08)</pre>"
      ],
      "text/plain": [
       "<IPython.core.display.HTML object>"
      ]
     },
     "metadata": {},
     "output_type": "display_data"
    },
    {
     "data": {
      "application/vnd.jupyter.widget-view+json": {
       "model_id": "5ab1e23b7f4b43cab091a11ec7630f90",
       "version_major": 2,
       "version_minor": 0
      },
      "text/plain": [
       "HTML(value='<table border=\"1\"><tr><td style=\"padding:3px;width:150px;\">tile:18:30</td><td style=\"padding:3px;w…"
      ]
     },
     "metadata": {},
     "output_type": "display_data"
    }
   ],
   "source": [
    "for i in range(world[\"iniPred\"]):\n",
    "    x = random.randint(1, world[\"sizeX\"])\n",
    "    y = random.randint(1, world[\"sizeY\"])\n",
    "    g=random.randint(0, 1)\n",
    "    pred={\"x\":str(x), \"y\":str(y), \n",
    "          \"pred_id\":str(ObjectId()), \"pred_age\":0, \"pred_gender\": g,\n",
    "          \"pred_life_exp\": random.randint(world[\"lifeExpPred\"]-world[\"lifeExpPredStd\"], world[\"lifeExpPred\"]+world[\"lifeExpPredStd\"]), \n",
    "          \"pred_hunger\":0,\n",
    "          \"pred_life\":random.randint(world[\"lifePredMin\"], world[\"lifePredMax\"])\n",
    "         }\n",
    "    r.lpush(\"tile:\"+str(x)+\":\"+str(y)+\":preds\", pred[\"pred_id\"])\n",
    "    r.hset(\"pred:\"+pred[\"pred_id\"], mapping=pred)\n",
    "    r.lpush(\"preds_id\", pred[\"pred_id\"])\n",
    "    \n",
    "show_redis_data(r)"
   ]
  },
  {
   "cell_type": "code",
   "execution_count": 168,
   "metadata": {},
   "outputs": [
    {
     "data": {
      "text/html": [
       "<pre>✔️ 643 ms (2023-01-19T12:43:08/2023-01-19T12:43:09)</pre>"
      ],
      "text/plain": [
       "<IPython.core.display.HTML object>"
      ]
     },
     "metadata": {},
     "output_type": "display_data"
    }
   ],
   "source": [
    "%matplotlib inline\n",
    "import matplotlib.pyplot as plt\n",
    "\n",
    "plt.style.use('ggplot')\n",
    "#plt.style.use('classic')\n",
    "plt.rcParams['figure.figsize'] = (12, 8)"
   ]
  },
  {
   "cell_type": "code",
   "execution_count": 169,
   "metadata": {},
   "outputs": [
    {
     "data": {
      "text/html": [
       "<pre>✔️ 2.17 ms (2023-01-19T12:43:09/2023-01-19T12:43:09)</pre>"
      ],
      "text/plain": [
       "<IPython.core.display.HTML object>"
      ]
     },
     "metadata": {},
     "output_type": "display_data"
    }
   ],
   "source": [
    "def showIt(field, who, c_len, s):\n",
    "    for i in range(c_len):\n",
    "        c_id = r.rpoplpush(who+\"s_id\", who+\"s_id\").decode()\n",
    "        cx = int(r.hget(who+\":\"+c_id, \"x\"))\n",
    "        cy = int(r.hget(who+\":\"+c_id, \"y\"))\n",
    "        #print(\"pred:\"+p_id, cx, cy)\n",
    "        field[cy-1][cx-1] = s\n",
    "\n",
    "def showField():\n",
    "    sx = int(r.hget(\"worldDescription\", \"sizeX\"))\n",
    "    sy = int(r.hget(\"worldDescription\", \"sizeY\"))\n",
    "    \n",
    "    carn_len=r.llen(\"carns_id\")\n",
    "    pred_len=r.llen(\"preds_id\")\n",
    "    field=[[0 for j in range(sx)] for i in range(sy)]\n",
    "    for i in range(sy):\n",
    "        for j in range(sx):\n",
    "            try:\n",
    "                field[i][j] = int(r.hget(\"tile:\"+str(i+1)+\":\"+str(j+1), \"herbs\"))\n",
    "            except Exception:\n",
    "                print(\"Except:\", i, j, r.hget(\"tile:\"+str(i+1)+\":\"+str(j+1), \"herbs\"))\n",
    "    \n",
    "    \"\"\"for i in range(sx):\n",
    "        for j in range(sy):\n",
    "            herb_cnt=r.hget(\"tile:\"+str(i+1)+\":\"+str(j+1), \"herbs\")\n",
    "            field[i][j]=herb_cnt.decode()\"\"\";\n",
    "    \n",
    "    showIt(field, \"pred\", pred_len, 10)\n",
    "    showIt(field, \"carn\", carn_len, 12)\n",
    "\n",
    "    ax = plt.subplot()\n",
    "    ax.imshow(field);\n",
    "\n",
    "        \n",
    "def moveIt(who, c_id, sx, sy):\n",
    "    #print(who+\":\"+c_id, r.hget(who+\":\"+c_id, \"x\"), r.hget(who+\":\"+c_id, \"y\"))\n",
    "    cx = int(r.hget(who+\":\"+c_id, \"x\"))\n",
    "    cy = int(r.hget(who+\":\"+c_id, \"y\"))\n",
    "    \n",
    "    while True:\n",
    "        _cx = cx + random.randint(-1, 1)\n",
    "        _cy = cy + random.randint(-1, 1)\n",
    "        if _cx>=1 and _cx<=sx and _cy>=1 and _cy<=sy:\n",
    "            break\n",
    "    r.hset(who+\":\"+c_id, \"x\", _cx)\n",
    "    r.hset(who+\":\"+c_id, \"y\", _cy)\n",
    "    r.lrem(\"tile:\"+str(cx)+\":\"+str(cy)+\":\"+who+\"s\", 0, c_id)\n",
    "    r.lpush(\"tile:\"+str(_cx)+\":\"+str(_cy)+\":\"+who+\"s\", c_id)\n",
    "\n",
    "    return cx, cy, _cx, _cy\n",
    "    \n",
    "\n",
    "def moveCarns():\n",
    "    carn_len=r.llen(\"carns_id\")\n",
    "    sx=int(r.hget(\"worldDescription\", \"sizeX\"))\n",
    "    sy=int(r.hget(\"worldDescription\", \"sizeY\"))\n",
    "    \n",
    "    for i in range(carn_len):\n",
    "        c_id=r.rpoplpush(\"carns_id\", \"carns_id\").decode()\n",
    "        cx, cy, _cx, _cy = moveIt(\"carn\", c_id, sx, sy)\n",
    "\n",
    "        h_cnt=int(r.hget(\"tile:\"+str(cy)+\":\"+str(cx), \"herbs\"))\n",
    "        if h_cnt>0:\n",
    "            r.hincrby(\"tile:\"+str(cy)+\":\"+str(cx), \"herbs\", -1)\n",
    "        #print(\"move \", cx, cy, _cx, _cy)\n",
    "\n",
    "def movePreds():\n",
    "    pred_len=r.llen(\"preds_id\")\n",
    "    sx=int(r.hget(\"worldDescription\", \"sizeX\"))\n",
    "    sy=int(r.hget(\"worldDescription\", \"sizeY\"))\n",
    "    for i in range(pred_len):\n",
    "        p_id=r.rpoplpush(\"preds_id\", \"preds_id\").decode()\n",
    "        cx, cy, _cx, _cy = moveIt(\"pred\", p_id, sx, sy)\n",
    "        # Кого-нибудь съесть.\n",
    "\n",
    "        #print(\"move \", cx, cy, _cx, _cy)\n",
    "\n"
   ]
  },
  {
   "cell_type": "code",
   "execution_count": 170,
   "metadata": {},
   "outputs": [
    {
     "data": {
      "text/html": [
       "<pre>✔️ 2.92 ms (2023-01-19T12:43:09/2023-01-19T12:43:09)</pre>"
      ],
      "text/plain": [
       "<IPython.core.display.HTML object>"
      ]
     },
     "metadata": {},
     "output_type": "display_data"
    },
    {
     "data": {
      "text/plain": [
       "3"
      ]
     },
     "execution_count": 170,
     "metadata": {},
     "output_type": "execute_result"
    }
   ],
   "source": [
    "int(r.hget(\"tile:49:4\",\"herbs\"))"
   ]
  },
  {
   "cell_type": "code",
   "execution_count": 171,
   "metadata": {},
   "outputs": [
    {
     "data": {
      "text/html": [
       "<pre>✔️ 315 ms (2023-01-19T12:43:09/2023-01-19T12:43:10)</pre>"
      ],
      "text/plain": [
       "<IPython.core.display.HTML object>"
      ]
     },
     "metadata": {},
     "output_type": "display_data"
    },
    {
     "data": {
      "image/png": "[encoded data removed]",
      "text/plain": [
       "<Figure size 864x576 with 1 Axes>"
      ]
     },
     "metadata": {},
     "output_type": "display_data"
    }
   ],
   "source": [
    "showField()"
   ]
  },
  {
   "cell_type": "code",
   "execution_count": 172,
   "metadata": {},
   "outputs": [
    {
     "data": {
      "text/html": [
       "<pre>✔️ 308 ms (2023-01-19T12:43:10/2023-01-19T12:43:10)</pre>"
      ],
      "text/plain": [
       "<IPython.core.display.HTML object>"
      ]
     },
     "metadata": {},
     "output_type": "display_data"
    },
    {
     "data": {
      "image/png": "[encoded data removed]",
      "text/plain": [
       "<Figure size 864x576 with 1 Axes>"
      ]
     },
     "metadata": {},
     "output_type": "display_data"
    }
   ],
   "source": [
    "movePreds()\n",
    "moveCarns()\n",
    "showField()"
   ]
  },
  {
   "cell_type": "markdown",
   "metadata": {},
   "source": [
    "---"
   ]
  },
  {
   "cell_type": "markdown",
   "metadata": {},
   "source": [
    "### Применение Redis для выгрузки данных и синхронизации потоков\n",
    "\n",
    "Попробуем выгрузить сайтов Lenta.ru и N+1 с использованием Redis в качестве центральной точки координирующей действия разных потоков работ (возможно, расположенных на разных компьютерах).  \n",
    "У нас будет два потока для параллельного скачивания двух сайтов, один поток для разделения выгруженных текстов на слова, один поток для морфологического анализа, один поток для \"применения\" данных (получить и уничтожить).  \n",
    "Каждый поток при запуске будет регистрироваться как исполнитель по данному виду работ. Далее он будет получать данные при помощи блокирующей операции от предыдущего этапа. Если получение данных не прошло за время таймаута, надо проверить, остались ли работники на предыдущем этапе. Если работников нет, необходимо прекратить свою работу и отчитаться об этом."
   ]
  },
  {
   "cell_type": "code",
   "execution_count": 173,
   "metadata": {},
   "outputs": [
    {
     "data": {
      "text/html": [
       "<pre>✔️ 221 ms (2023-01-19T12:43:10/2023-01-19T12:43:10)</pre>"
      ],
      "text/plain": [
       "<IPython.core.display.HTML object>"
      ]
     },
     "metadata": {},
     "output_type": "display_data"
    }
   ],
   "source": [
    "import json\n",
    "import requests\n",
    "import pymorphy2\n",
    "import re\n",
    "from bs4 import BeautifulSoup\n",
    "from lxml import html\n",
    "import multiprocessing\n",
    "import datetime\n",
    "from time import sleep\n",
    "import redis"
   ]
  },
  {
   "cell_type": "code",
   "execution_count": 174,
   "metadata": {},
   "outputs": [
    {
     "data": {
      "text/html": [
       "<pre>✔️ 4.3 ms (2023-01-19T12:43:10/2023-01-19T12:43:10)</pre>"
      ],
      "text/plain": [
       "<IPython.core.display.HTML object>"
      ]
     },
     "metadata": {},
     "output_type": "display_data"
    }
   ],
   "source": [
    "# Функция для загрузки одной новости из Ленты.ру\n",
    "# def getLentaArticle(url):\n",
    "#     \"\"\" getLentaArticle gets the body of the article from Lenta.ru\"\"\"\n",
    "#     print(\"downloading lenta:\", url)\n",
    "#     r = requests.get(url)\n",
    "#     p = BeautifulSoup(r.text, \"html5\")(\"p\")\n",
    "#     if len(p) == 0:\n",
    "#         return \"  \"\n",
    "#     p = \" \".join([a.get_text() for a in p])\n",
    "#     return p\n",
    "\n",
    "def getArticleLenta(adr: str) -> str:\n",
    "    ''' Загружает с сайта lenta.ru всю статью, задаваемую http-адресом adr.\n",
    "    '''\n",
    "    page = requests.get(adr)\n",
    "    tree = html.fromstring(page.text)\n",
    "    text = '\\n'.join([p.text_content() for p in tree.xpath(\".//p[contains(@class,'topic-body__content-text')]\")])\n",
    "    \n",
    "    return text\n",
    "\n",
    "def getDayArticles(r: redis.Redis, adr: str):\n",
    "    ''' Загружает с сайта lenta.ru все статьи за день, задаваемый http-адресом adr.\n",
    "    '''\n",
    "    print('lenta '+adr)\n",
    "    day = requests.get(adr)\n",
    "    tree = html.fromstring(day.text)\n",
    "    body = tree.xpath(\".//a[@class='titles']\")\n",
    "    links = ['https://lenta.ru' + x.attrib[\"href\"] for x in body]\n",
    "    for link in links[:10]: # идем по первым 10 ссылкам на новости за день.\n",
    "        news = getArticleLenta(link)\n",
    "        if news != '':\n",
    "            r.rpush(\"downloaded news\", news)\n",
    "        sleep(0.2)\n",
    "\n",
    "# Функция загрузки одной новости из N+1.\n",
    "def getArticleTextNPlus1(adr):\n",
    "    print(\"downloading nplus1:\", adr)\n",
    "    r = requests.get(adr)\n",
    "    n_text = re.split(\"</div>\", re.split(\"</figure>\", re.split('</article>',re.split('<article', r.text)[1])[0])[1])[1]    \n",
    "    #return BeautifulSoup(n_text, \"lxml\").get_text()\n",
    "    return BeautifulSoup(n_text, \"html5\").get_text()\n",
    "\n",
    "# Загрузка новостей из Ленты.ру за некоторый период.\n",
    "def getLenta():\n",
    "    curdate = datetime.date(2017, 1, 16)\n",
    "    findate = datetime.date(2017, 1, 16)\n",
    "    res = \"\"\n",
    "    \n",
    "    redi = redis.Redis()\n",
    "    redi.incrby(\"downloaders\", 1)\n",
    "\n",
    "# Загружаем новости до конечной даты.\n",
    "    cnt = 0 # Очень скучно ждать, ограничим число новостей.\n",
    "    while curdate <= findate:\n",
    "        print('lenta ' + curdate.strftime('%Y/%m/%d'))\n",
    "        getDayArticles(r, 'https://lenta.ru/news/' + curdate.strftime('%Y/%m/%d'))\n",
    "        curdate += datetime.timedelta(days=1)\n",
    "    redi.incrby(\"downloaders\", -1)\n",
    "    print(\"lenta finished\")\n",
    "\n",
    "# Получаем новости с NPlus1 за заданный промежуток времени, кладем тексты новостей в очередь qu.\n",
    "# По завершении взводим семафор sem.\n",
    "def getNplus1():\n",
    "    curdate = datetime.date(2015, 12, 15)\n",
    "    findate = datetime.date(2015, 12, 16)\n",
    "    \n",
    "    redi = redis.Redis()\n",
    "    redi.incrby(\"downloaders\", 1)\n",
    "    cnt = 0\n",
    "    while curdate <= findate: # Перебираем все дни.\n",
    "        r = requests.get('https://nplus1.ru/news/'+curdate.strftime('%Y/%m/%d'))\n",
    "        print('nplus ' + curdate.strftime('%Y/%m/%d'))\n",
    "        # Берем заголовки и ссылки на новости за этот день.\n",
    "        refs = [re.split('\"', t)[6] for t in re.split('<article class=\"item item-news item-news', r.text)[1:]]\n",
    "        for t in refs:\n",
    "            news = getArticleTextNPlus1(\"https://nplus1.ru\" + t)\n",
    "            if news != \"  \":\n",
    "                redi.rpush(\"downloaded news\", news)\n",
    "            sleep(0.2) # Мы этичные хакеры и не стремимся к DDoS.\n",
    "            cnt += 1\n",
    "            if cnt > 10:\n",
    "                break\n",
    "        curdate += datetime.timedelta(days=1)\n",
    "    redi.incrby(\"downloaders\", -1)\n",
    "    print(\"nplus1 finished\")\n",
    "    \n",
    "# Функция токенизирует вход из очереди qu1 и кладет результаты токенизации в очередь qu2.\n",
    "# Токенизация ведется до тех пор, пока семафор semw не будет взведен максимальное количество раз.\n",
    "# По завершении токенизации устанавливаем событие evs.\n",
    "def tokenize():  \n",
    "    redi = redis.Redis()\n",
    "    redi.incrby(\"tokenizers\", 1)\n",
    "    \n",
    "    c = 0\n",
    "    while True: \n",
    "        news = redi.blpop(\"downloaded news\", 1)\n",
    "        if news == None:\n",
    "            nd = redi.get(\"downloaders\")\n",
    "            if nd == None or int(nd) == 0:\n",
    "                break\n",
    "            else:\n",
    "                continue\n",
    "                \n",
    "        c += 1\n",
    "        print('tokenizer ' + str(c))\n",
    "        res = [n[0] for n in re.findall(\"([А-Яа-я]+(-[А-Яа-я]+)*)\", news[1].decode())]\n",
    "        news = redi.rpush(\"tagged news\", json.dumps(res))\n",
    "        \n",
    "    redi.incrby(\"tokenizers\", -1)\n",
    "    print(\"tokenization finished\")\n",
    "\n",
    "def lemmatize():\n",
    "    redi = redis.Redis()\n",
    "    redi.incrby(\"lemmatizers\", 1)\n",
    "\n",
    "    morpho = pymorphy2.MorphAnalyzer() # Создаем морфоанализатор.\n",
    "    l = []\n",
    "    c = 0\n",
    "    while True: # Если событие установлено - пора завершать работу.\n",
    "        news = redi.blpop(\"tagged news\", 1)\n",
    "        if news == None:\n",
    "            nd = redi.get(\"tokenizers\")\n",
    "            if int(nd) == 0:\n",
    "                break\n",
    "            else:\n",
    "                continue\n",
    "\n",
    "        # blpop возвращает пару: имя списка, значение.\n",
    "        txt = json.loads(news[1].decode())\n",
    "        s = []\n",
    "        for w in txt:\n",
    "            s += morpho.parse(w)[0]\n",
    "            \n",
    "        res = json.dumps(str(s))\n",
    "        redi.rpush(\"lemmatized news\", res)\n",
    "        c += 1\n",
    "        print('lemma', c)\n",
    "    redi.incrby(\"lemmatizers\", -1)\n",
    "    print(\"lemmatization finished\")\n",
    "\n",
    "# Функция имитирует, что она обрабатывает данные из очереди qu. Заершает работу по событию ev.    \n",
    "def utilize():\n",
    "    redi = redis.Redis()\n",
    "\n",
    "    c = 0\n",
    "    while True: # Если событие установлено - пора завершать работу.\n",
    "        news = redi.blpop(\"lemmatized news\", 1)\n",
    "        if news == None:\n",
    "            nd = redi.get(\"lemmatizers\")\n",
    "            if int(nd) == 0:\n",
    "                break\n",
    "            else:\n",
    "                continue\n",
    "                \n",
    "        #processing\n",
    "        c += 1\n",
    "        print('process', c)\n",
    "    print('processing finished')\n"
   ]
  },
  {
   "cell_type": "code",
   "execution_count": 175,
   "metadata": {},
   "outputs": [
    {
     "data": {
      "text/html": [
       "<pre>✔️ 1.03 ms (2023-01-19T12:43:11/2023-01-19T12:43:11)</pre>"
      ],
      "text/plain": [
       "<IPython.core.display.HTML object>"
      ]
     },
     "metadata": {},
     "output_type": "display_data"
    }
   ],
   "source": [
    "r = redis.Redis()"
   ]
  },
  {
   "cell_type": "code",
   "execution_count": 176,
   "metadata": {},
   "outputs": [
    {
     "data": {
      "text/html": [
       "<pre>✔️ 3.86 ms (2023-01-19T12:43:11/2023-01-19T12:43:11)</pre>"
      ],
      "text/plain": [
       "<IPython.core.display.HTML object>"
      ]
     },
     "metadata": {},
     "output_type": "display_data"
    },
    {
     "data": {
      "text/plain": [
       "True"
      ]
     },
     "execution_count": 176,
     "metadata": {},
     "output_type": "execute_result"
    }
   ],
   "source": [
    "r.flushdb()"
   ]
  },
  {
   "cell_type": "code",
   "execution_count": 177,
   "metadata": {},
   "outputs": [
    {
     "data": {
      "text/html": [
       "<pre>✔️ 341 ms (2023-01-19T12:43:11/2023-01-19T12:43:11)</pre>"
      ],
      "text/plain": [
       "<IPython.core.display.HTML object>"
      ]
     },
     "metadata": {},
     "output_type": "display_data"
    },
    {
     "name": "stdout",
     "output_type": "stream",
     "text": [
      "lenta 2017/01/16\n",
      "lenta https://lenta.ru/news/2017/01/16\n"
     ]
    },
    {
     "data": {
      "application/vnd.jupyter.widget-view+json": {
       "model_id": "a51f7579ddcb48cb8f082d17cc04a9b8",
       "version_major": 2,
       "version_minor": 0
      },
      "text/plain": [
       "HTML(value='<table border=\"1\"><tr><td style=\"padding:3px;width:150px;\">lemmatizers</td><td style=\"padding:3px;…"
      ]
     },
     "metadata": {},
     "output_type": "display_data"
    },
    {
     "name": "stdout",
     "output_type": "stream",
     "text": [
      "lenta finished\n",
      "nplus 2015/12/15\n",
      "nplus 2015/12/16\n",
      "nplus 2015/12/17\n",
      "nplus 2015/12/18\n",
      "nplus 2015/12/19\n",
      "nplus1 finished\n",
      "tokenization finished\n",
      "lemmatization finished\n",
      "processing finished\n"
     ]
    }
   ],
   "source": [
    "r.set('downloaders', 0)\n",
    "r.set('tokenizers', 0)\n",
    "r.set('lemmatizers', 0)\n",
    "\n",
    "lentap = multiprocessing.Process(target=getLenta)\n",
    "nplusp = multiprocessing.Process(target=getNplus1)  \n",
    "tokenp = multiprocessing.Process(target=tokenize)   \n",
    "lemmap = multiprocessing.Process(target=lemmatize)   \n",
    "processp = multiprocessing.Process(target=utilize)    \n",
    "\n",
    "\n",
    "# Стартуем процессы    \n",
    "lentap.start()\n",
    "nplusp.start()\n",
    "sleep(0.1)\n",
    "tokenp.start()\n",
    "sleep(0.1)\n",
    "lemmap.start()\n",
    "sleep(0.1)\n",
    "processp.start()\n",
    "show_redis_data(r)\n",
    "\n",
    "# Если надо - ждем пока процессы не завершатся.\n",
    "#lentap.join()\n",
    "#nplusp.join()\n",
    "#tokenp.join()\n",
    "#lemmap.join()\n",
    "#processp.join()\n",
    "#print(\"Everything is allright\")                               \n",
    "                               "
   ]
  },
  {
   "cell_type": "code",
   "execution_count": 179,
   "metadata": {},
   "outputs": [
    {
     "data": {
      "text/html": [
       "<pre>✔️ 8.25 ms (2023-01-19T12:45:04/2023-01-19T12:45:04)</pre>"
      ],
      "text/plain": [
       "<IPython.core.display.HTML object>"
      ]
     },
     "metadata": {},
     "output_type": "display_data"
    },
    {
     "data": {
      "application/vnd.jupyter.widget-view+json": {
       "model_id": "ea4260bec4f543e7a9bf343c0d870908",
       "version_major": 2,
       "version_minor": 0
      },
      "text/plain": [
       "HTML(value='<table border=\"1\"><tr><td style=\"padding:3px;width:150px;\">lemmatizers</td><td style=\"padding:3px;…"
      ]
     },
     "metadata": {},
     "output_type": "display_data"
    }
   ],
   "source": [
    "show_redis_data(r)"
   ]
  },
  {
   "cell_type": "code",
   "execution_count": null,
   "metadata": {},
   "outputs": [],
   "source": []
  },
  {
   "cell_type": "code",
   "execution_count": null,
   "metadata": {},
   "outputs": [],
   "source": []
  }
 ],
 "metadata": {
  "kernelspec": {
   "display_name": "Python 3",
   "language": "python",
   "name": "python3"
  },
  "language_info": {
   "codemirror_mode": {
    "name": "ipython",
    "version": 3
   },
   "file_extension": ".py",
   "mimetype": "text/x-python",
   "name": "python",
   "nbconvert_exporter": "python",
   "pygments_lexer": "ipython3",
   "version": "3.10.7"
  },
  "vscode": {
   "interpreter": {
    "hash": "369f2c481f4da34e4445cda3fffd2e751bd1c4d706f27375911949ba6bb62e1c"
   }
  }
 },
 "nbformat": 4,
 "nbformat_minor": 4
}
