{
 "cells": [
  {
   "cell_type": "markdown",
   "metadata": {},
   "source": [
    "Давайте потестируем производительность БД Redis, которая относится к базам \"ключ-значение\".\n",
    "\n",
    "Документация на обертку для Питона находится [здесь](https://redis-py.readthedocs.io/en/stable/genindex.html).\n",
    "\n",
    "Установим саму базу данных и redis-py (`pip install redis`). Помимо этого установим библиотеку hiredis (`pip install hiredis`), которая обрабатывает ответ от БД несколько быстрее.\n",
    "\n",
    "Воспользуемся тем, что Mongo и bson у нас уже установлены<sup>\\*</sup>. Будем генерировать уникальные идентификаторы при помощи ObjectId.\n",
    "<hr>\n",
    "<sup>*</sup> По-крайней мере, у меня. Если кто-либо хочет синхронизироваться, пусть поставит библиотеку для работы с Mongo - <a href=\"http://api.mongodb.com/python/current/api/index.html\">pymongo</a>."
   ]
  },
  {
   "cell_type": "code",
   "execution_count": 1,
   "metadata": {},
   "outputs": [],
   "source": [
    "# Импортируем драйвер к Redis.\n",
    "import redis\n",
    "from bson import ObjectId\n",
    "import datetime\n",
    "import time"
   ]
  },
  {
   "cell_type": "markdown",
   "metadata": {},
   "source": [
    "Присоединяемся к базе данных. По умолчанию она работает только с локальной машиной, аутентификация не предусмотрена.\n",
    "\n",
    "На самом деле, параметры можно не указывать, ниже передаются те же самые значения, что принимаются по умолчанию."
   ]
  },
  {
   "cell_type": "code",
   "execution_count": 2,
   "metadata": {},
   "outputs": [],
   "source": [
    "r = redis.Redis(host='localhost', port=6379, db=0)"
   ]
  },
  {
   "cell_type": "markdown",
   "metadata": {},
   "source": [
    "Попробуем положить какой-нибудь ключ..."
   ]
  },
  {
   "cell_type": "code",
   "execution_count": 3,
   "metadata": {},
   "outputs": [
    {
     "data": {
      "text/plain": [
       "True"
      ]
     },
     "execution_count": 3,
     "metadata": {},
     "output_type": "execute_result"
    }
   ],
   "source": [
    "r.set('foo', 'bar')"
   ]
  },
  {
   "cell_type": "markdown",
   "metadata": {},
   "source": [
    "... и получить его обратно."
   ]
  },
  {
   "cell_type": "code",
   "execution_count": 4,
   "metadata": {},
   "outputs": [
    {
     "data": {
      "text/plain": [
       "b'bar'"
      ]
     },
     "execution_count": 4,
     "metadata": {},
     "output_type": "execute_result"
    }
   ],
   "source": [
    "r.get('foo')"
   ]
  },
  {
   "cell_type": "code",
   "execution_count": 5,
   "metadata": {},
   "outputs": [],
   "source": [
    "ttt = r.get('foo')"
   ]
  },
  {
   "cell_type": "code",
   "execution_count": 9,
   "metadata": {},
   "outputs": [
    {
     "data": {
      "text/plain": [
       "'bar'"
      ]
     },
     "execution_count": 9,
     "metadata": {},
     "output_type": "execute_result"
    }
   ],
   "source": [
    "ttt.decode()"
   ]
  },
  {
   "cell_type": "code",
   "execution_count": 11,
   "metadata": {},
   "outputs": [
    {
     "data": {
      "text/plain": [
       "100"
      ]
     },
     "execution_count": 11,
     "metadata": {},
     "output_type": "execute_result"
    }
   ],
   "source": [
    "r.set('foo', 100)\n",
    "int(r.get('foo'))"
   ]
  },
  {
   "cell_type": "markdown",
   "metadata": {},
   "source": [
    "ObjectId по умолчанию генерирует некоторый уникальный ключ. В дальнейшем мы будем преобразовывать его к строке и использовать как уникальный ключ для наших данных."
   ]
  },
  {
   "cell_type": "code",
   "execution_count": 14,
   "metadata": {},
   "outputs": [
    {
     "data": {
      "text/plain": [
       "ObjectId('5fb6a8eca99faadc798c62e4')"
      ]
     },
     "execution_count": 14,
     "metadata": {},
     "output_type": "execute_result"
    }
   ],
   "source": [
    "ObjectId()"
   ]
  },
  {
   "cell_type": "markdown",
   "metadata": {},
   "source": [
    "При помощи функции `keys` можно посмотреть все ключи в базе. Функция `flushdb` очищает текущую базу."
   ]
  },
  {
   "cell_type": "code",
   "execution_count": 17,
   "metadata": {},
   "outputs": [
    {
     "data": {
      "text/plain": [
       "[]"
      ]
     },
     "execution_count": 17,
     "metadata": {},
     "output_type": "execute_result"
    }
   ],
   "source": [
    "r.keys()"
   ]
  },
  {
   "cell_type": "code",
   "execution_count": 5,
   "metadata": {},
   "outputs": [
    {
     "data": {
      "text/plain": [
       "True"
      ]
     },
     "execution_count": 5,
     "metadata": {},
     "output_type": "execute_result"
    }
   ],
   "source": [
    "r.flushdb()"
   ]
  },
  {
   "cell_type": "markdown",
   "metadata": {},
   "source": [
    "Померим скорость работы с базой при помощи такого простого метода, как `set`. Положим в базу 100 000 уникальных ключей, к которым привязано одно целое число."
   ]
  },
  {
   "cell_type": "code",
   "execution_count": 18,
   "metadata": {},
   "outputs": [
    {
     "name": "stdout",
     "output_type": "stream",
     "text": [
      "CPU times: user 6.2 s, sys: 1.63 s, total: 7.84 s\n",
      "Wall time: 9.84 s\n"
     ]
    }
   ],
   "source": [
    "%%time\n",
    "for i in range(100000):\n",
    "    r.set(str(ObjectId()), i)\n",
    "#    r.set(i, i)\n"
   ]
  },
  {
   "cell_type": "markdown",
   "metadata": {},
   "source": [
    "Примерно 20 000 операций вставки в секунду на локальной машине. Не так уж и много.\n",
    "\n",
    "Посмотрим с какой скоростью они будут читаться."
   ]
  },
  {
   "cell_type": "code",
   "execution_count": 19,
   "metadata": {},
   "outputs": [
    {
     "name": "stdout",
     "output_type": "stream",
     "text": [
      "Всего ключей: 100000\n",
      "CPU times: user 4.24 s, sys: 1.83 s, total: 6.07 s\n",
      "Wall time: 7.97 s\n"
     ]
    }
   ],
   "source": [
    "%%time\n",
    "summ=0\n",
    "for k in r.keys():\n",
    "    summ+=int(r.get(k))\n",
    "\n",
    "print(\"Всего ключей:\", len(r.keys()))"
   ]
  },
  {
   "cell_type": "markdown",
   "metadata": {},
   "source": [
    "Около 20 000 операций чтения.\n",
    "\n",
    "Хм... Этот Redis, кажется, не такой уж и молодец.\n",
    "\n",
    "Или мы что-то делаем не так? Давайте сравним с `dict`."
   ]
  },
  {
   "cell_type": "code",
   "execution_count": 20,
   "metadata": {},
   "outputs": [
    {
     "name": "stdout",
     "output_type": "stream",
     "text": [
      "CPU times: user 446 ms, sys: 33.9 ms, total: 480 ms\n",
      "Wall time: 481 ms\n"
     ]
    }
   ],
   "source": [
    "%%time\n",
    "tst_dct={}\n",
    "for i in range(100000):\n",
    "    tst_dct[str(ObjectId())]=i"
   ]
  },
  {
   "cell_type": "markdown",
   "metadata": {},
   "source": [
    "Примерно 300 000 операций записи в секунду..."
   ]
  },
  {
   "cell_type": "code",
   "execution_count": 21,
   "metadata": {},
   "outputs": [
    {
     "name": "stdout",
     "output_type": "stream",
     "text": [
      "CPU times: user 73.4 ms, sys: 8.08 ms, total: 81.5 ms\n",
      "Wall time: 80.7 ms\n"
     ]
    }
   ],
   "source": [
    "%%time\n",
    "summ=0\n",
    "for k in tst_dct.keys():\n",
    "    summ+=int(tst_dct[k])"
   ]
  },
  {
   "cell_type": "markdown",
   "metadata": {},
   "source": [
    "... и примерно 2,5 млн операций чтения в секунду. Пока Redis очень далеко до `dict`.\n",
    "\n",
    "Хотя dict не умеет отдавать данные нескольким программам одновременно.\n",
    "\n",
    "Давайте пока посмотрим что Redis  умеет еще. Например, при помощи функции `expire` каждой паре можно сказать, что она утрачивает актуальность через какое-то время. \n",
    "\n",
    "Положим в базу 100 000 ключей, каждому из них установим время жизни 10 секунд, уснём на 15 секунд и посмотрим что осталось в базе."
   ]
  },
  {
   "cell_type": "code",
   "execution_count": 22,
   "metadata": {},
   "outputs": [
    {
     "name": "stdout",
     "output_type": "stream",
     "text": [
      "0 0\n"
     ]
    }
   ],
   "source": [
    "r.flushdb()\n",
    "\n",
    "for i in range(100000):\n",
    "    oid=str(ObjectId())\n",
    "    r.set(oid, i)\n",
    "    r.expire(oid, 10)\n",
    "\n",
    "time.sleep(15)\n",
    "\n",
    "summ=0\n",
    "for k in r.keys():\n",
    "    summ+=int(r.get(k))\n",
    "    \n",
    "print(r.dbsize(), summ)"
   ]
  },
  {
   "cell_type": "code",
   "execution_count": 25,
   "metadata": {},
   "outputs": [
    {
     "name": "stdout",
     "output_type": "stream",
     "text": [
      "None\n"
     ]
    }
   ],
   "source": [
    "print(r.get(oid))"
   ]
  },
  {
   "cell_type": "markdown",
   "metadata": {},
   "source": [
    "Как видно, не осталось ничего. Метод работает.\n",
    "\n",
    "Помимо работы с простыми числами, Redis позволяет организовывать список, привязанный к определенному ключу. При помощи функций `rpush` и `lpush` можно класть значения в очередь с заданным ключем."
   ]
  },
  {
   "cell_type": "code",
   "execution_count": 26,
   "metadata": {},
   "outputs": [
    {
     "name": "stdout",
     "output_type": "stream",
     "text": [
      "[b'secondkey', b'firstkey']\n",
      "CPU times: user 8.35 s, sys: 3.04 s, total: 11.4 s\n",
      "Wall time: 14.7 s\n"
     ]
    }
   ],
   "source": [
    "%%time\n",
    "for i in range(100000):\n",
    "    r.lpush('firstkey', i)\n",
    "    r.lpush('secondkey', i)\n",
    "    \n",
    "print(r.keys())"
   ]
  },
  {
   "cell_type": "code",
   "execution_count": 27,
   "metadata": {},
   "outputs": [
    {
     "data": {
      "text/plain": [
       "True"
      ]
     },
     "execution_count": 27,
     "metadata": {},
     "output_type": "execute_result"
    }
   ],
   "source": [
    "r.flushdb()"
   ]
  },
  {
   "cell_type": "code",
   "execution_count": 28,
   "metadata": {},
   "outputs": [
    {
     "name": "stdout",
     "output_type": "stream",
     "text": [
      "[b'secondkey', b'firstkey']\n",
      "CPU times: user 8.66 s, sys: 3.06 s, total: 11.7 s\n",
      "Wall time: 15 s\n"
     ]
    }
   ],
   "source": [
    "%%time\n",
    "for i in range(100000):\n",
    "    r.rpush('firstkey', i)\n",
    "    r.rpush('secondkey', i)\n",
    "    \n",
    "print(r.keys())"
   ]
  },
  {
   "cell_type": "markdown",
   "metadata": {},
   "source": [
    "Получается еще медленнее, чем при помощи `set`.\n",
    "\n",
    "Извлекаем данные при помощи `lpop` и `rpop`. Как видно, получается тоже не быстро."
   ]
  },
  {
   "cell_type": "code",
   "execution_count": 29,
   "metadata": {},
   "outputs": [
    {
     "name": "stdout",
     "output_type": "stream",
     "text": [
      "CPU times: user 7.79 s, sys: 3.13 s, total: 10.9 s\n",
      "Wall time: 14.3 s\n"
     ]
    }
   ],
   "source": [
    "%%time\n",
    "for i in range(100000):\n",
    "    r.lpop('firstkey')\n",
    "    r.lpop('secondkey')"
   ]
  },
  {
   "cell_type": "markdown",
   "metadata": {},
   "source": [
    "Теперь попробуем пакетную запись значений. \n",
    "\n",
    "Может быть генерация ключей занимает больше времени, чем работа с БД? Отдельно сгенерируем идентификаторы для ключей, а потом положим их в базу."
   ]
  },
  {
   "cell_type": "code",
   "execution_count": 30,
   "metadata": {},
   "outputs": [
    {
     "name": "stdout",
     "output_type": "stream",
     "text": [
      "CPU times: user 416 ms, sys: 16.4 ms, total: 432 ms\n",
      "Wall time: 433 ms\n"
     ]
    }
   ],
   "source": [
    "%%time\n",
    "objs=[str(ObjectId()) for i in range(100000)]"
   ]
  },
  {
   "cell_type": "code",
   "execution_count": 31,
   "metadata": {},
   "outputs": [
    {
     "name": "stdout",
     "output_type": "stream",
     "text": [
      "CPU times: user 4.69 s, sys: 1.72 s, total: 6.41 s\n",
      "Wall time: 8.18 s\n"
     ]
    }
   ],
   "source": [
    "%%time\n",
    "for i,x in enumerate(objs):\n",
    "    r.set(x, i)"
   ]
  },
  {
   "cell_type": "markdown",
   "metadata": {},
   "source": [
    "Быстрее не вышло. Может быть дело в for, и с помощью map мы сделаем всё быстрее?"
   ]
  },
  {
   "cell_type": "code",
   "execution_count": 32,
   "metadata": {},
   "outputs": [
    {
     "name": "stdout",
     "output_type": "stream",
     "text": [
      "CPU times: user 4.76 s, sys: 1.52 s, total: 6.27 s\n",
      "Wall time: 7.95 s\n"
     ]
    }
   ],
   "source": [
    "%%time\n",
    "_=list(map(lambda x: r.set(x[1], x[0]), enumerate(objs)))"
   ]
  },
  {
   "cell_type": "markdown",
   "metadata": {},
   "source": [
    "Убедимся, что мы не забыли сгенерировать новые ключи перед запуском предыдущей ячейки - проверим количество ключей в базу."
   ]
  },
  {
   "cell_type": "code",
   "execution_count": 33,
   "metadata": {},
   "outputs": [
    {
     "data": {
      "text/plain": [
       "100000"
      ]
     },
     "execution_count": 33,
     "metadata": {},
     "output_type": "execute_result"
    }
   ],
   "source": [
    "r.dbsize()"
   ]
  },
  {
   "cell_type": "markdown",
   "metadata": {},
   "source": [
    "Также убедимся, что работа со словарем всё еще быстрее. Кстати, значительно быстрее генерации ключей."
   ]
  },
  {
   "cell_type": "code",
   "execution_count": 34,
   "metadata": {},
   "outputs": [
    {
     "name": "stdout",
     "output_type": "stream",
     "text": [
      "CPU times: user 36.1 ms, sys: 0 ns, total: 36.1 ms\n",
      "Wall time: 36 ms\n"
     ]
    }
   ],
   "source": [
    "%%time\n",
    "tst_dct={}\n",
    "for i in enumerate(objs):\n",
    "    tst_dct[x]=i"
   ]
  },
  {
   "cell_type": "markdown",
   "metadata": {},
   "source": [
    "Ключи в самом деле лежат в базе?"
   ]
  },
  {
   "cell_type": "code",
   "execution_count": 35,
   "metadata": {},
   "outputs": [
    {
     "data": {
      "text/plain": [
       "[b'5fb6ac07a99faadc79926517',\n",
       " b'5fb6ac07a99faadc799140b3',\n",
       " b'5fb6ac07a99faadc799108d7',\n",
       " b'5fb6ac07a99faadc799149d0',\n",
       " b'5fb6ac07a99faadc7991e1ff',\n",
       " b'5fb6ac07a99faadc79924985',\n",
       " b'5fb6ac07a99faadc79923a1b',\n",
       " b'5fb6ac07a99faadc799149a7',\n",
       " b'5fb6ac07a99faadc79913d29',\n",
       " b'5fb6ac07a99faadc799195ec']"
      ]
     },
     "execution_count": 35,
     "metadata": {},
     "output_type": "execute_result"
    }
   ],
   "source": [
    "list(r.keys())[:10]"
   ]
  },
  {
   "cell_type": "markdown",
   "metadata": {},
   "source": [
    "Попробуем функцию mset, которая кладет всё содержимое словаря одновременно."
   ]
  },
  {
   "cell_type": "code",
   "execution_count": 36,
   "metadata": {},
   "outputs": [
    {
     "name": "stdout",
     "output_type": "stream",
     "text": [
      "CPU times: user 910 ms, sys: 48 ms, total: 958 ms\n",
      "Wall time: 1.09 s\n"
     ]
    },
    {
     "data": {
      "text/plain": [
       "True"
      ]
     },
     "execution_count": 36,
     "metadata": {},
     "output_type": "execute_result"
    }
   ],
   "source": [
    "%%time\n",
    "objs={str(ObjectId()):i for i in range(100000)}\n",
    "r.mset(objs)"
   ]
  },
  {
   "cell_type": "code",
   "execution_count": 37,
   "metadata": {},
   "outputs": [],
   "source": [
    "mkeys = list(r.keys())[:1000]"
   ]
  },
  {
   "cell_type": "code",
   "execution_count": 38,
   "metadata": {},
   "outputs": [
    {
     "name": "stdout",
     "output_type": "stream",
     "text": [
      "CPU times: user 2.58 ms, sys: 866 µs, total: 3.44 ms\n",
      "Wall time: 4.65 ms\n"
     ]
    }
   ],
   "source": [
    "%%time\n",
    "_ = r.mget(mkeys)"
   ]
  },
  {
   "cell_type": "markdown",
   "metadata": {},
   "source": [
    "Получается в несколько раз быстрее - около 130 000 ключей в секунду. Но это всё еще не похоже на миллион запросов в секунду.\n",
    "\n",
    "Хорошо, может быть это Питон не справляется, а база может работать быстрее? Попробуем запустить несколько потоков, которые пишут в базу. Оформим генерацию ключей и загрузку ключей в базу как отдельную функцию, чтобы можно было ее запускать в параллельных потоках."
   ]
  },
  {
   "cell_type": "code",
   "execution_count": 6,
   "metadata": {},
   "outputs": [],
   "source": [
    "import multiprocessing"
   ]
  },
  {
   "cell_type": "code",
   "execution_count": 40,
   "metadata": {},
   "outputs": [],
   "source": [
    "def putKey2Redis():\n",
    "    objs={str(ObjectId()):i for i in range(100000)}\n",
    "    #_=list(map(lambda x: r.set(x[1], x[0]), enumerate(objs)))\n",
    "    r.mset(objs)"
   ]
  },
  {
   "cell_type": "code",
   "execution_count": 41,
   "metadata": {},
   "outputs": [
    {
     "name": "stdout",
     "output_type": "stream",
     "text": [
      "CPU times: user 23.9 ms, sys: 18.9 ms, total: 42.8 ms\n",
      "Wall time: 3.21 s\n"
     ]
    }
   ],
   "source": [
    "%%time\n",
    "pr=[]\n",
    "\n",
    "for i in range(10):\n",
    "    p=multiprocessing.Process(target=putKey2Redis)\n",
    "    p.start()\n",
    "    pr.append(p)\n",
    "\n",
    "for p in pr:\n",
    "    p.join()"
   ]
  },
  {
   "cell_type": "markdown",
   "metadata": {},
   "source": [
    "330 000 запросов в секунду. Явно улучшение не в 10 раз. Значит дело не только в Питоне. Но скорость уже впечатляющая. От обычной БД с настройками из коробки такую скорость не получишь.\n",
    "\n",
    "Redis умеет привязывать к ключу хешированный массив - аналог питоновского словаря. Попробуем класть его при помощи функции `hmset` (h - хешированный. m - много ключей сразу)."
   ]
  },
  {
   "cell_type": "code",
   "execution_count": 42,
   "metadata": {},
   "outputs": [
    {
     "data": {
      "text/plain": [
       "True"
      ]
     },
     "execution_count": 42,
     "metadata": {},
     "output_type": "execute_result"
    }
   ],
   "source": [
    "r.flushdb()"
   ]
  },
  {
   "cell_type": "code",
   "execution_count": 43,
   "metadata": {},
   "outputs": [],
   "source": [
    "def putKey2Redis2(my_key):\n",
    "    objs={str(ObjectId()):i for i in range(100000)}\n",
    "    print(my_key, list(objs.keys())[:2])\n",
    "    r.hmset(my_key, objs)"
   ]
  },
  {
   "cell_type": "code",
   "execution_count": 44,
   "metadata": {},
   "outputs": [
    {
     "name": "stdout",
     "output_type": "stream",
     "text": [
      "hash_key2 ['5fb6b0f2d9ac4f1c17940405', '5fb6b0f2d9ac4f1c17940406']\n",
      "hash_key3 ['5fb6b0f26e575211c6940405', '5fb6b0f26e575211c6940406']\n",
      "hash_key7 ['5fb6b0f2681690e998940405', '5fb6b0f2681690e998940406']\n",
      "hash_key8 ['5fb6b0f2c7e3443646940405', '5fb6b0f2c7e3443646940406']\n",
      "hash_key6 ['5fb6b0f251e4b07de2940405', '5fb6b0f251e4b07de2940406']\n",
      "hash_key4 ['5fb6b0f24bc3ae3186940405', '5fb6b0f24bc3ae3186940406']\n",
      "hash_key0 ['5fb6b0f2728beefd58940405', '5fb6b0f2728beefd58940406']\n",
      "hash_key9 ['5fb6b0f281cc163114940405', '5fb6b0f281cc163114940406']\n",
      "hash_key1 ['5fb6b0f29a1f97489b940405', '5fb6b0f29a1f97489b940406']\n",
      "hash_key5 ['5fb6b0f2b37c5483b6940405', '5fb6b0f2b37c5483b6940406']\n",
      "CPU times: user 16.6 ms, sys: 39.7 ms, total: 56.3 ms\n",
      "Wall time: 3.35 s\n"
     ]
    }
   ],
   "source": [
    "%%time\n",
    "pr=[]\n",
    "\n",
    "for i in range(10):\n",
    "    p=multiprocessing.Process(target=putKey2Redis2, args=['hash_key'+str(i)])\n",
    "    p.start()\n",
    "    pr.append(p)\n",
    "\n",
    "for p in pr:\n",
    "    p.join()"
   ]
  },
  {
   "cell_type": "code",
   "execution_count": 45,
   "metadata": {},
   "outputs": [
    {
     "data": {
      "text/plain": [
       "[b'hash_key4',\n",
       " b'hash_key6',\n",
       " b'hash_key9',\n",
       " b'hash_key7',\n",
       " b'hash_key1',\n",
       " b'hash_key0',\n",
       " b'hash_key8',\n",
       " b'hash_key3',\n",
       " b'hash_key5',\n",
       " b'hash_key2']"
      ]
     },
     "execution_count": 45,
     "metadata": {},
     "output_type": "execute_result"
    }
   ],
   "source": [
    "r.keys()"
   ]
  },
  {
   "cell_type": "code",
   "execution_count": 50,
   "metadata": {},
   "outputs": [
    {
     "data": {
      "text/plain": [
       "b'1'"
      ]
     },
     "execution_count": 50,
     "metadata": {},
     "output_type": "execute_result"
    }
   ],
   "source": [
    "r.hget('hash_key3', '5fb6b0f26e575211c6940406')"
   ]
  },
  {
   "cell_type": "code",
   "execution_count": 52,
   "metadata": {},
   "outputs": [
    {
     "data": {
      "text/plain": [
       "True"
      ]
     },
     "execution_count": 52,
     "metadata": {},
     "output_type": "execute_result"
    }
   ],
   "source": [
    "r.hmset(\"test_key\", {\"c\":3})"
   ]
  },
  {
   "cell_type": "code",
   "execution_count": 53,
   "metadata": {},
   "outputs": [
    {
     "data": {
      "text/plain": [
       "True"
      ]
     },
     "execution_count": 53,
     "metadata": {},
     "output_type": "execute_result"
    }
   ],
   "source": [
    "r.hmset(\"test_key\", {\"a\":1, \"b\":2})"
   ]
  },
  {
   "cell_type": "code",
   "execution_count": 54,
   "metadata": {},
   "outputs": [
    {
     "data": {
      "text/plain": [
       "b'3'"
      ]
     },
     "execution_count": 54,
     "metadata": {},
     "output_type": "execute_result"
    }
   ],
   "source": [
    "r.hget(\"test_key\", \"c\")"
   ]
  },
  {
   "cell_type": "code",
   "execution_count": 55,
   "metadata": {},
   "outputs": [
    {
     "data": {
      "text/plain": [
       "True"
      ]
     },
     "execution_count": 55,
     "metadata": {},
     "output_type": "execute_result"
    }
   ],
   "source": [
    "r.hmset(\"test_key\", {\"c\":\"{'s':'d'}\"})"
   ]
  },
  {
   "cell_type": "code",
   "execution_count": 56,
   "metadata": {},
   "outputs": [
    {
     "data": {
      "text/plain": [
       "b\"{'s':'d'}\""
      ]
     },
     "execution_count": 56,
     "metadata": {},
     "output_type": "execute_result"
    }
   ],
   "source": [
    "r.hget(\"test_key\", \"c\")"
   ]
  },
  {
   "cell_type": "code",
   "execution_count": 61,
   "metadata": {},
   "outputs": [
    {
     "data": {
      "text/plain": [
       "[b'1', b\"{'s':'d'}\"]"
      ]
     },
     "execution_count": 61,
     "metadata": {},
     "output_type": "execute_result"
    }
   ],
   "source": [
    "r.hmget(\"test_key\",['a','c'])"
   ]
  },
  {
   "cell_type": "markdown",
   "metadata": {},
   "source": [
    "Увеличения скорости не наблюдается.\n",
    "\n",
    "При помощи функции `hkeys` можно получить ключи для конкретного хеш-массива. `hmget` позволяет получить значения по нескольким ключам."
   ]
  },
  {
   "cell_type": "code",
   "execution_count": 65,
   "metadata": {},
   "outputs": [
    {
     "data": {
      "text/plain": [
       "True"
      ]
     },
     "execution_count": 65,
     "metadata": {},
     "output_type": "execute_result"
    }
   ],
   "source": [
    "r.flushdb()"
   ]
  },
  {
   "cell_type": "code",
   "execution_count": 66,
   "metadata": {},
   "outputs": [
    {
     "name": "stdout",
     "output_type": "stream",
     "text": [
      "CPU times: user 351 ms, sys: 34.8 ms, total: 386 ms\n",
      "Wall time: 385 ms\n"
     ]
    }
   ],
   "source": [
    "%%time\n",
    "objs={str(ObjectId()):i for i in range(100000)}"
   ]
  },
  {
   "cell_type": "code",
   "execution_count": 67,
   "metadata": {},
   "outputs": [
    {
     "name": "stdout",
     "output_type": "stream",
     "text": [
      "CPU times: user 474 ms, sys: 8.64 ms, total: 483 ms\n",
      "Wall time: 602 ms\n"
     ]
    },
    {
     "data": {
      "text/plain": [
       "True"
      ]
     },
     "execution_count": 67,
     "metadata": {},
     "output_type": "execute_result"
    }
   ],
   "source": [
    "%%time\n",
    "r.hmset(\"longkey\", objs)"
   ]
  },
  {
   "cell_type": "code",
   "execution_count": 69,
   "metadata": {},
   "outputs": [],
   "source": [
    "ho=r.hkeys(\"longkey\")"
   ]
  },
  {
   "cell_type": "code",
   "execution_count": 70,
   "metadata": {},
   "outputs": [
    {
     "data": {
      "text/plain": [
       "[b'5f96a09a746fb4df4704f017',\n",
       " b'5f96a09a746fb4df4704996e',\n",
       " b'5f96a09a746fb4df4704f6f2',\n",
       " b'5f96a09a746fb4df4704ef8a',\n",
       " b'5f96a09a746fb4df470512ff',\n",
       " b'5f96a09a746fb4df47053293',\n",
       " b'5f96a09a746fb4df4703c936',\n",
       " b'5f96a09a746fb4df4703de5b',\n",
       " b'5f96a09a746fb4df4704b83d',\n",
       " b'5f96a09a746fb4df4704fb72']"
      ]
     },
     "execution_count": 70,
     "metadata": {},
     "output_type": "execute_result"
    }
   ],
   "source": [
    "ho[:10]"
   ]
  },
  {
   "cell_type": "code",
   "execution_count": 74,
   "metadata": {},
   "outputs": [
    {
     "name": "stdout",
     "output_type": "stream",
     "text": [
      "CPU times: user 1.84 ms, sys: 0 ns, total: 1.84 ms\n",
      "Wall time: 1.17 ms\n"
     ]
    }
   ],
   "source": [
    "%%time\n",
    "oo=r.hmget(\"longkey\", ho[:10])"
   ]
  },
  {
   "cell_type": "code",
   "execution_count": 76,
   "metadata": {},
   "outputs": [
    {
     "data": {
      "text/plain": [
       "[b'81071',\n",
       " b'58886',\n",
       " b'82826',\n",
       " b'80930',\n",
       " b'90007',\n",
       " b'98091',\n",
       " b'5582',\n",
       " b'10995',\n",
       " b'66773',\n",
       " b'83978']"
      ]
     },
     "execution_count": 76,
     "metadata": {},
     "output_type": "execute_result"
    }
   ],
   "source": [
    "oo"
   ]
  },
  {
   "cell_type": "code",
   "execution_count": 78,
   "metadata": {},
   "outputs": [
    {
     "name": "stdout",
     "output_type": "stream",
     "text": [
      "CPU times: user 3.87 s, sys: 1.45 s, total: 5.32 s\n",
      "Wall time: 6.82 s\n"
     ]
    }
   ],
   "source": [
    "%%time\n",
    "for k in ho:\n",
    "    _=r.hget(\"longkey\", k)"
   ]
  },
  {
   "cell_type": "markdown",
   "metadata": {},
   "source": [
    "Redis поддерживает блокирующие операции. При помощи `brpop` и `blpop` мы можем приостановить свои действия либо пока не будет получено значение, либо пока не пройдет заданный промежуток времени.\n",
    "\n",
    "Если функция успешно получила значение, она вернет его после ожидания."
   ]
  },
  {
   "cell_type": "code",
   "execution_count": 79,
   "metadata": {},
   "outputs": [
    {
     "name": "stdout",
     "output_type": "stream",
     "text": [
      "(b'blockedTest', b'asdf')\n"
     ]
    }
   ],
   "source": [
    "r.rpush(\"blockedTest\", \"asdf\")\n",
    "print(r.brpop(\"blockedTest\", 1))"
   ]
  },
  {
   "cell_type": "markdown",
   "metadata": {},
   "source": [
    "Если значение не было получено за время ожидания, возвращается None."
   ]
  },
  {
   "cell_type": "code",
   "execution_count": 7,
   "metadata": {},
   "outputs": [
    {
     "name": "stdout",
     "output_type": "stream",
     "text": [
      "waiting\n",
      "waiting\n",
      "waiting\n",
      "waiting\n",
      "(b'blockedTest', b'Yahooo!')\n"
     ]
    }
   ],
   "source": [
    "def blockingWrite():\n",
    "    time.sleep(5)\n",
    "    r.lpush(\"blockedTest\", \"Yahooo!\")\n",
    "    \n",
    "def blockingRead():\n",
    "    bres=r.brpop(\"blockedTest\", 1)\n",
    "    while bres==None:\n",
    "        print(\"waiting\")\n",
    "        bres=r.brpop(\"blockedTest\", 1)\n",
    "    print(bres)\n",
    "    \n",
    "bpr1=multiprocessing.Process(target=blockingWrite)\n",
    "bpr2=multiprocessing.Process(target=blockingRead)\n",
    "bpr1.start()\n",
    "bpr2.start()\n",
    "bpr1.join()\n",
    "bpr2.join()"
   ]
  },
  {
   "cell_type": "markdown",
   "metadata": {},
   "source": [
    "Помимо этого, к ключу можно привязать множество. Добавление в множество ведется при помощи операции `sadd`. Также можно находить пересечение (`sinter`), объединение (`sunion`)  разницу (`sdiff`) множеств."
   ]
  },
  {
   "cell_type": "code",
   "execution_count": 8,
   "metadata": {},
   "outputs": [
    {
     "data": {
      "text/plain": [
       "{b'A'}"
      ]
     },
     "execution_count": 8,
     "metadata": {},
     "output_type": "execute_result"
    }
   ],
   "source": [
    "r.sadd(\"testSets1\", \"A\")\n",
    "r.sadd(\"testSets1\", \"B\")\n",
    "r.sadd(\"testSets1\", \"C\")\n",
    "\n",
    "r.sadd(\"testSets2\", \"A\")\n",
    "r.sadd(\"testSets2\", \"D\")\n",
    "r.sadd(\"testSets2\", \"F\")\n",
    "\n",
    "r.sinter([\"testSets1\",\"testSets2\"])\n"
   ]
  },
  {
   "cell_type": "markdown",
   "metadata": {},
   "source": [
    "Результаты пересечения и объединения можно сохранить в другое множество."
   ]
  },
  {
   "cell_type": "code",
   "execution_count": 9,
   "metadata": {},
   "outputs": [
    {
     "data": {
      "text/plain": [
       "{b'A', b'B', b'C', b'D', b'F'}"
      ]
     },
     "execution_count": 9,
     "metadata": {},
     "output_type": "execute_result"
    }
   ],
   "source": [
    "r.sunionstore(\"testSets3\", [\"testSets1\", \"testSets2\"])\n",
    "r.smembers(\"testSets3\")"
   ]
  },
  {
   "cell_type": "markdown",
   "metadata": {},
   "source": [
    "Элемент можно атомарно перебросить из одного множества в другое при помощи `smove`."
   ]
  },
  {
   "cell_type": "code",
   "execution_count": 10,
   "metadata": {},
   "outputs": [
    {
     "data": {
      "text/plain": [
       "({b'A', b'D'}, {b'A', b'B', b'C', b'F'})"
      ]
     },
     "execution_count": 10,
     "metadata": {},
     "output_type": "execute_result"
    }
   ],
   "source": [
    "r.smove(\"testSets2\", \"testSets1\", 'F')\n",
    "r.smembers(\"testSets2\"), r.smembers(\"testSets1\")"
   ]
  },
  {
   "cell_type": "markdown",
   "metadata": {},
   "source": [
    " Удалить значение можно при помощи `srem`, узнать длину множества - `scard`."
   ]
  },
  {
   "cell_type": "code",
   "execution_count": 11,
   "metadata": {},
   "outputs": [
    {
     "data": {
      "text/plain": [
       "3"
      ]
     },
     "execution_count": 11,
     "metadata": {},
     "output_type": "execute_result"
    }
   ],
   "source": [
    "r.srem(\"testSets1\", 'F')\n",
    "r.scard(\"testSets1\")"
   ]
  },
  {
   "cell_type": "markdown",
   "metadata": {},
   "source": [
    "Каждая команда возвращает объект типа `pipeline`. Данный объект позволяет выполнять транзакции. Для этого необходимо при помощи pipeline выполнить несколько команд (они будут поставлены во внутреннюю очередь), а затем вызвать `execute`. Таким образом поддерживаются транзакции для нескольких команд, не требующих промежуточного чтения результатов.\n",
    "\n",
    "В итоге вернется список результатов выполнения команд."
   ]
  },
  {
   "cell_type": "code",
   "execution_count": 12,
   "metadata": {},
   "outputs": [
    {
     "data": {
      "text/plain": [
       "[1, 1, {b'B', b'C', b'G'}]"
      ]
     },
     "execution_count": 12,
     "metadata": {},
     "output_type": "execute_result"
    }
   ],
   "source": [
    "pipe=r.pipeline()\n",
    "pipe.srem(\"testSets1\", 'A')\n",
    "pipe.sadd(\"testSets1\", 'G')\n",
    "pipe.smembers(\"testSets1\")\n",
    "pipe.execute()"
   ]
  },
  {
   "cell_type": "code",
   "execution_count": 86,
   "metadata": {},
   "outputs": [
    {
     "data": {
      "text/plain": [
       "[1, 1, {b'B', b'C', b'G', b'R'}]"
      ]
     },
     "execution_count": 86,
     "metadata": {},
     "output_type": "execute_result"
    }
   ],
   "source": [
    "r.pipeline().srem(\"testSets2\", 'A').sadd(\"testSets1\", 'R').smembers(\"testSets1\").execute()"
   ]
  },
  {
   "cell_type": "markdown",
   "metadata": {},
   "source": [
    "Если в промежутках необходимо модифицировать какие-то значения, следует использовать следующую конструкцию. В ней `watch` говорит, что мы будем следить за заданным ключем. Команда `multi` говорит о том, что сейчас будет выполняться несколько операций как транзакция. Если значение, связанное с ключем в `watch` изменилось до начала `execute` (выполнение нескольких операций), то будет вызвано исключение."
   ]
  },
  {
   "cell_type": "code",
   "execution_count": 87,
   "metadata": {},
   "outputs": [
    {
     "data": {
      "text/plain": [
       "[True, True]"
      ]
     },
     "execution_count": 87,
     "metadata": {},
     "output_type": "execute_result"
    }
   ],
   "source": [
    "ppp=r.pipeline()\n",
    "ppp.multi()\n",
    "ppp.set(\"dummy1\", \"1\")\n",
    "#ppp.multi()\n",
    "ppp.set(\"dummy2\", \"1\")\n",
    "ppp.execute()"
   ]
  },
  {
   "cell_type": "code",
   "execution_count": 88,
   "metadata": {},
   "outputs": [
    {
     "data": {
      "text/plain": [
       "b'1'"
      ]
     },
     "execution_count": 88,
     "metadata": {},
     "output_type": "execute_result"
    }
   ],
   "source": [
    "r.get(\"dummy1\")"
   ]
  },
  {
   "cell_type": "code",
   "execution_count": 52,
   "metadata": {},
   "outputs": [
    {
     "data": {
      "text/plain": [
       "b'2'"
      ]
     },
     "execution_count": 52,
     "metadata": {},
     "output_type": "execute_result"
    }
   ],
   "source": [
    "r.set('OUR-SEQUENCE-KEY', 1)\n",
    "with r.pipeline() as pipe:\n",
    "    while 1:\n",
    "        try:\n",
    "            pipe.watch('OUR-SEQUENCE-KEY')\n",
    "            current_value = pipe.get('OUR-SEQUENCE-KEY')\n",
    "            next_value = int(current_value) + 1\n",
    "            pipe.multi()\n",
    "            pipe.set('OUR-SEQUENCE-KEY', next_value)\n",
    "            pipe.execute()\n",
    "            break\n",
    "        except redis.WatchError:\n",
    "            continue\n",
    "            \n",
    "r.get('OUR-SEQUENCE-KEY')"
   ]
  },
  {
   "cell_type": "markdown",
   "metadata": {},
   "source": [
    "А еще у Redis замечательные [битовые операции](https://blog.getspool.com/2011/11/29/fast-easy-realtime-metrics-using-redis-bitmaps/) и отсортированные списки."
   ]
  },
  {
   "cell_type": "markdown",
   "metadata": {},
   "source": [
    "---"
   ]
  },
  {
   "cell_type": "markdown",
   "metadata": {},
   "source": [
    "Наличие хеш-массивов фактически позволяет хранить в базе данных объекты/словари/JSON и обращаться к ним при помощи уникальных ключей. Правда, плохо получается хранить в полях таких объектов массивы других объектов. Традиционно для таких задач склеивают последовательность ключей в один, используя в качестве разделителя двоеточие. Таким образом, вместо того, чтобы хранить список объектов, мы храним много уникальных ключей, которые известным образом можно соотнести с объектами.\n",
    "\n",
    "Попробуем решить следующую задачу.\n",
    "\n",
    "Есть квадратная карта заданного размера. На карте находятся растения, деревья, травоядные и хищники. Необходимо промоделировать поведение системы, обеспечивая обмен данными между частями модели через Redis. "
   ]
  },
  {
   "cell_type": "code",
   "execution_count": 13,
   "metadata": {},
   "outputs": [],
   "source": [
    "import random"
   ]
  },
  {
   "cell_type": "code",
   "execution_count": 14,
   "metadata": {},
   "outputs": [],
   "source": [
    "r = redis.Redis(host='localhost', port=6379, db=0)"
   ]
  },
  {
   "cell_type": "code",
   "execution_count": 15,
   "metadata": {},
   "outputs": [
    {
     "data": {
      "text/plain": [
       "True"
      ]
     },
     "execution_count": 15,
     "metadata": {},
     "output_type": "execute_result"
    }
   ],
   "source": [
    "r.flushdb()"
   ]
  },
  {
   "cell_type": "code",
   "execution_count": 16,
   "metadata": {},
   "outputs": [
    {
     "data": {
      "text/plain": [
       "True"
      ]
     },
     "execution_count": 16,
     "metadata": {},
     "output_type": "execute_result"
    }
   ],
   "source": [
    "world={\"sizeX\":50, \"sizeY\":50, \"iniPred\":5, \"iniCarn\":20, \n",
    "       \"lifeExpPred\":10, \"lifeExpPredStd\":3, \"breedPeriodPred\":4, \"lifePredMin\":50, \"lifePredMax\":100,  \n",
    "       \"lifeExpCarn\":10, \"lifeExpCarnStd\":3, \"breedPeriodCarn\":3, \"lifeCarnMin\":50, \"lifeCarnMax\":100, \n",
    "       \"herbCount\":10000, \"treesCount\":500, \n",
    "       \"lifeExpTree\":30, \"lifeExpTreeStd\":5, \"breedPeriodTree\":6}\n",
    "\n",
    "r.hmset(\"worldDescription\", world)"
   ]
  },
  {
   "cell_type": "markdown",
   "metadata": {},
   "source": [
    "У тайлов заводим свойство \"количество растений в тайле\"."
   ]
  },
  {
   "cell_type": "code",
   "execution_count": 17,
   "metadata": {},
   "outputs": [],
   "source": [
    "tile={\"herbs\": 0}\n",
    "for i in range(world[\"sizeY\"]):\n",
    "    for j in range(world[\"sizeX\"]):\n",
    "        r.hmset(\"tile:\"+str(i+1)+\":\"+str(j+1), tile)"
   ]
  },
  {
   "cell_type": "markdown",
   "metadata": {},
   "source": [
    "Раскидываем растения по тайлам, увеличивая число растений в выбранном тайле."
   ]
  },
  {
   "cell_type": "code",
   "execution_count": 18,
   "metadata": {},
   "outputs": [],
   "source": [
    "for i in range(world[\"herbCount\"]):\n",
    "    x=random.randint(1, world[\"sizeX\"])\n",
    "    y=random.randint(1, world[\"sizeY\"])\n",
    "    r.hincrby(\"tile:\"+str(y)+\":\"+str(x), \"herbs\", 1)"
   ]
  },
  {
   "cell_type": "code",
   "execution_count": 19,
   "metadata": {},
   "outputs": [],
   "source": [
    "for i in range(world[\"iniCarn\"]):\n",
    "    g=random.randint(0, 1)\n",
    "    x = random.randint(1, world[\"sizeX\"])\n",
    "    y = random.randint(1, world[\"sizeY\"])\n",
    "    carn={\"x\":str(x), \"y\":str(y), \n",
    "          \"carn_id\":str(ObjectId()), \"carn_age\":0, \"carn_gender\": g,\n",
    "          \"carn_life_exp\": random.randint(world[\"lifeExpCarn\"]-world[\"lifeExpCarnStd\"], world[\"lifeExpCarn\"]+world[\"lifeExpCarnStd\"]), \n",
    "          \"carn_hunger\":0,\n",
    "          \"carn_life\":random.randint(world[\"lifeCarnMin\"], world[\"lifeCarnMax\"])\n",
    "         }\n",
    "    r.lpush(\"tile:\"+str(x)+\":\"+str(y)+\":carns\", carn[\"carn_id\"])\n",
    "    r.hmset(\"carn:\"+carn[\"carn_id\"], carn)\n",
    "    r.lpush(\"carns_id\", carn[\"carn_id\"])"
   ]
  },
  {
   "cell_type": "code",
   "execution_count": 20,
   "metadata": {},
   "outputs": [],
   "source": [
    "for i in range(world[\"iniPred\"]):\n",
    "    x = random.randint(1, world[\"sizeX\"])\n",
    "    y = random.randint(1, world[\"sizeY\"])\n",
    "    g=random.randint(0, 1)\n",
    "    pred={\"x\":str(x), \"y\":str(y), \n",
    "          \"pred_id\":str(ObjectId()), \"pred_age\":0, \"pred_gender\": g,\n",
    "          \"pred_life_exp\": random.randint(world[\"lifeExpPred\"]-world[\"lifeExpPredStd\"], world[\"lifeExpPred\"]+world[\"lifeExpPredStd\"]), \n",
    "          \"pred_hunger\":0,\n",
    "          \"pred_life\":random.randint(world[\"lifePredMin\"], world[\"lifePredMax\"])\n",
    "         }\n",
    "    r.lpush(\"tile:\"+str(x)+\":\"+str(y)+\":preds\", pred[\"pred_id\"])\n",
    "    r.hmset(\"pred:\"+pred[\"pred_id\"], pred)\n",
    "    r.lpush(\"preds_id\", pred[\"pred_id\"])"
   ]
  },
  {
   "cell_type": "code",
   "execution_count": 21,
   "metadata": {},
   "outputs": [],
   "source": [
    "%matplotlib inline\n",
    "import matplotlib.pyplot as plt\n",
    "\n",
    "plt.style.use('ggplot')\n",
    "#plt.style.use('classic')\n",
    "plt.rcParams['figure.figsize'] = (12, 8)"
   ]
  },
  {
   "cell_type": "code",
   "execution_count": 22,
   "metadata": {},
   "outputs": [],
   "source": [
    "def showIt(field, who, c_len, s):\n",
    "    for i in range(c_len):\n",
    "        c_id=r.rpoplpush(who+\"s_id\", who+\"s_id\").decode()\n",
    "        cx=int(r.hget(who+\":\"+c_id, \"x\"))\n",
    "        cy=int(r.hget(who+\":\"+c_id, \"y\"))\n",
    "        #print(\"pred:\"+p_id, cx, cy)\n",
    "        field[cy-1][cx-1]=s\n",
    "\n",
    "def showField():\n",
    "    sx=int(r.hget(\"worldDescription\", \"sizeX\"))\n",
    "    sy=int(r.hget(\"worldDescription\", \"sizeY\"))\n",
    "    \n",
    "    carn_len=r.llen(\"carns_id\")\n",
    "    pred_len=r.llen(\"preds_id\")\n",
    "    field=[[0 for j in range(sx)] for i in range(sy)]\n",
    "    for i in range(sy):\n",
    "        for j in range(sx):\n",
    "            try:\n",
    "                field[i][j]=int(r.hget(\"tile:\"+str(i+1)+\":\"+str(j+1),\"herbs\"))\n",
    "            except Exception:\n",
    "                print(\"Except:\", i, j, r.hget(\"tile:\"+str(i+1)+\":\"+str(j+1),\"herbs\"))\n",
    "    \n",
    "    \"\"\"for i in range(sx):\n",
    "        for j in range(sy):\n",
    "            herb_cnt=r.hget(\"tile:\"+str(i+1)+\":\"+str(j+1), \"herbs\")\n",
    "            field[i][j]=herb_cnt.decode()\"\"\";\n",
    "    \n",
    "    showIt(field, \"pred\", pred_len, 10)\n",
    "    showIt(field, \"carn\", carn_len, 12)\n",
    "\n",
    "    ax = plt.subplot()\n",
    "    ax.imshow(field);\n",
    "\n",
    "        \n",
    "def moveIt(who, c_id, sx, sy):\n",
    "    #print(who+\":\"+c_id, r.hget(who+\":\"+c_id, \"x\"), r.hget(who+\":\"+c_id, \"y\"))\n",
    "    cx=int(r.hget(who+\":\"+c_id, \"x\"))\n",
    "    cy=int(r.hget(who+\":\"+c_id, \"y\"))\n",
    "    \n",
    "    while True:\n",
    "        _cx=cx+random.randint(-1, 1)\n",
    "        _cy=cy+random.randint(-1, 1)\n",
    "        if _cx>=1 and _cx<=sx and _cy>=1 and _cy<=sy:\n",
    "            break\n",
    "    r.hset(who+\":\"+c_id, \"x\", _cx)\n",
    "    r.hset(who+\":\"+c_id, \"y\", _cy)\n",
    "    r.lrem(\"tile:\"+str(cx)+\":\"+str(cy)+\":\"+who+\"s\", 0, c_id)\n",
    "    r.lpush(\"tile:\"+str(_cx)+\":\"+str(_cy)+\":\"+who+\"s\", c_id)\n",
    "\n",
    "    return cx, cy, _cx, _cy\n",
    "    \n",
    "\n",
    "def moveCarns():\n",
    "    carn_len=r.llen(\"carns_id\")\n",
    "    sx=int(r.hget(\"worldDescription\", \"sizeX\"))\n",
    "    sy=int(r.hget(\"worldDescription\", \"sizeY\"))\n",
    "    \n",
    "    for i in range(carn_len):\n",
    "        c_id=r.rpoplpush(\"carns_id\", \"carns_id\").decode()\n",
    "        cx, cy, _cx, _cy = moveIt(\"carn\", c_id, sx, sy)\n",
    "\n",
    "        h_cnt=int(r.hget(\"tile:\"+str(cy)+\":\"+str(cx), \"herbs\"))\n",
    "        if h_cnt>0:\n",
    "            r.hincrby(\"tile:\"+str(cy)+\":\"+str(cx), \"herbs\", -1)\n",
    "        #print(\"move \", cx, cy, _cx, _cy)\n",
    "\n",
    "def movePreds():\n",
    "    pred_len=r.llen(\"preds_id\")\n",
    "    sx=int(r.hget(\"worldDescription\", \"sizeX\"))\n",
    "    sy=int(r.hget(\"worldDescription\", \"sizeY\"))\n",
    "    for i in range(pred_len):\n",
    "        p_id=r.rpoplpush(\"preds_id\", \"preds_id\").decode()\n",
    "        cx, cy, _cx, _cy = moveIt(\"pred\", p_id, sx, sy)\n",
    "        # Кого-нибудь съесть.\n",
    "\n",
    "        #print(\"move \", cx, cy, _cx, _cy)\n",
    "\n"
   ]
  },
  {
   "cell_type": "code",
   "execution_count": 99,
   "metadata": {},
   "outputs": [
    {
     "data": {
      "text/plain": [
       "5"
      ]
     },
     "execution_count": 99,
     "metadata": {},
     "output_type": "execute_result"
    }
   ],
   "source": [
    "int(r.hget(\"tile:49:4\",\"herbs\"))"
   ]
  },
  {
   "cell_type": "code",
   "execution_count": 23,
   "metadata": {},
   "outputs": [
    {
     "data": {
      "image/png": "[encoded data removed]",
      "text/plain": [
       "<Figure size 864x576 with 1 Axes>"
      ]
     },
     "metadata": {},
     "output_type": "display_data"
    }
   ],
   "source": [
    "showField()"
   ]
  },
  {
   "cell_type": "code",
   "execution_count": 86,
   "metadata": {},
   "outputs": [
    {
     "data": {
      "image/png": "[encoded data removed]",
      "text/plain": [
       "<Figure size 864x576 with 1 Axes>"
      ]
     },
     "metadata": {},
     "output_type": "display_data"
    }
   ],
   "source": [
    "movePreds()\n",
    "moveCarns()\n",
    "showField()"
   ]
  },
  {
   "cell_type": "code",
   "execution_count": 144,
   "metadata": {},
   "outputs": [
    {
     "data": {
      "text/plain": [
       "False"
      ]
     },
     "execution_count": 144,
     "metadata": {},
     "output_type": "execute_result"
    }
   ],
   "source": [
    "r.hexists(\"tile:49:4\",\"herbs2\")"
   ]
  },
  {
   "cell_type": "markdown",
   "metadata": {},
   "source": [
    "---"
   ]
  },
  {
   "cell_type": "code",
   "execution_count": 87,
   "metadata": {},
   "outputs": [],
   "source": [
    "import json\n",
    "import requests\n",
    "import pymorphy2\n",
    "import re\n",
    "from bs4 import BeautifulSoup"
   ]
  },
  {
   "cell_type": "code",
   "execution_count": 88,
   "metadata": {},
   "outputs": [],
   "source": [
    "# Функция для загрузки одной новости из Ленты.ру\n",
    "def getLentaArticle(url):\n",
    "    \"\"\" getLentaArticle gets the body of the article from Lenta.ru\"\"\"\n",
    "    print(\"downloading lenta:\", url)\n",
    "    r = requests.get(url)\n",
    "    p = BeautifulSoup(r.text, \"html5\")(\"p\")\n",
    "    if len(p) == 0:\n",
    "        return \"  \"\n",
    "    p = \" \".join([a.get_text() for a in p])\n",
    "    return p\n",
    "\n",
    "# Функция загрузки одной новости из N+1.\n",
    "def getArticleTextNPlus1(adr):\n",
    "    print(\"downloading nplus1:\", adr)\n",
    "    r = requests.get(adr)\n",
    "    n_text = re.split(\"</div>\", re.split(\"</figure>\", re.split('</article>',re.split('<article', r.text)[1])[0])[1])[1]    \n",
    "    #return BeautifulSoup(n_text, \"lxml\").get_text()\n",
    "    return BeautifulSoup(n_text, \"html5\").get_text()\n",
    "\n",
    "# Загрузка новостей из Ленты.ру за некоторый период.\n",
    "def getLenta():\n",
    "    curdate = datetime.date(2017, 1, 16)\n",
    "    findate = datetime.date(2017, 1, 16)\n",
    "    res = \"\"\n",
    "    \n",
    "    redi = redis.Redis()\n",
    "    redi.incrby(\"downloaders\", 1)\n",
    "\n",
    "# Загружаем новости до конечной даты.\n",
    "    cnt = 0 # Очень скучно ждать, ограничим число новостей.\n",
    "    while curdate <= findate:\n",
    "        print('lenta ' + curdate.strftime('%Y/%m/%d'))\n",
    "        day = requests.get('https://lenta.ru/news/' + curdate.strftime('%Y/%m/%d'))\n",
    "        body = re.findall('<h3>(.+?)</h3>', day.text)\n",
    "        links = ['https://lenta.ru' + re.findall('\"(.+?)\"', x)[0] for x in body]\n",
    "        for l in links: # идем по всем ссылкам на новости за день.\n",
    "            news = getLentaArticle(l)\n",
    "            if news != \"  \":\n",
    "                redi.rpush(\"downloaded news\", news)\n",
    "            time.sleep(0.2)\n",
    "            cnt += 1\n",
    "            if cnt > 10:\n",
    "                break\n",
    "        curdate += datetime.timedelta(days=1)\n",
    "    redi.incrby(\"downloaders\", -1)\n",
    "    print(\"lenta finished\")\n",
    "\n",
    "# Получаем новости с NPlus1 за заданный промежуток времени, кладем тексты новостей в очередь qu.\n",
    "# По завершении взводим семафор sem.\n",
    "def getNplus1():\n",
    "    curdate = datetime.date(2015, 12, 15)\n",
    "    findate = datetime.date(2015, 12, 19)\n",
    "    \n",
    "    redi = redis.Redis()\n",
    "    redi.incrby(\"downloaders\", 1)\n",
    "    cnt = 0\n",
    "    while curdate <= findate: # Перебираем все дни.\n",
    "        r = requests.get('https://nplus1.ru/news/'+curdate.strftime('%Y/%m/%d'))\n",
    "        print('nplus ' + curdate.strftime('%Y/%m/%d'))\n",
    "        # Берем заголовки и ссылки на новости за этот день.\n",
    "        refs = [re.split('\"', t)[6] for t in re.split('<article class=\"item item-news item-news', r.text)[1:]]\n",
    "        for t in refs:\n",
    "            news = getArticleTextNPlus1(\"https://nplus1.ru\" + t)\n",
    "            if news != \"  \":\n",
    "                redi.rpush(\"downloaded news\", news)\n",
    "            time.sleep(0.2) # Мы этичные хакеры и не стремимся к DDoS.\n",
    "            cnt += 1\n",
    "            if cnt > 10:\n",
    "                break\n",
    "        curdate += datetime.timedelta(days=1)\n",
    "    redi.incrby(\"downloaders\", -1)\n",
    "    print(\"nplus1 finished\")\n",
    "    \n",
    "# Функция токенизирует вход из очереди qu1 и кладет результаты токенизации в очередь qu2.\n",
    "# Токенизация ведется до тех пор, пока семафор semw не будет взведен максимальное количество раз.\n",
    "# По завершении токенизации устанавливаем событие evs.\n",
    "def tokenize():  \n",
    "    redi = redis.Redis()\n",
    "    redi.incrby(\"tokenizers\", 1)\n",
    "    \n",
    "    c = 0\n",
    "    while True: \n",
    "        news = redi.blpop(\"downloaded news\", 1)\n",
    "        if news == None:\n",
    "            nd = redi.get(\"downloaders\")\n",
    "            if int(nd) == 0:\n",
    "                break\n",
    "            else:\n",
    "                continue\n",
    "                \n",
    "        c += 1\n",
    "        print('tokenizer ' + str(c))\n",
    "        res = [n[0] for n in re.findall(\"([А-Яа-я]+(-[А-Яа-я]+)*)\", news[1].decode())]\n",
    "        news = redi.rpush(\"tagged news\", json.dumps(res))\n",
    "        \n",
    "    redi.incrby(\"tokenizers\", -1)\n",
    "    print(\"tokenization finished\")\n",
    "\n",
    "def lemmatize():\n",
    "    redi = redis.Redis()\n",
    "    redi.incrby(\"lemmatizers\", 1)\n",
    "\n",
    "    morpho = pymorphy2.MorphAnalyzer() # Создаем морфоанализатор.\n",
    "    l = []\n",
    "    c = 0\n",
    "    while True: # Если событие установлено - пора завершать работу.\n",
    "        news = redi.blpop(\"tagged news\", 1)\n",
    "        if news == None:\n",
    "            nd = redi.get(\"tokenizers\")\n",
    "            if int(nd) == 0:\n",
    "                break\n",
    "            else:\n",
    "                continue\n",
    "\n",
    "        # blpop возвращает пару: имя списка, значение.\n",
    "        txt = json.loads(news[1].decode())\n",
    "        s = []\n",
    "        for w in txt:\n",
    "            s += morpho.parse(w)[0]\n",
    "            \n",
    "        res = json.dumps(str(s))\n",
    "        redi.rpush(\"lemmatized news\", res)\n",
    "        c += 1\n",
    "        print('lemma', c)\n",
    "    redi.incrby(\"lemmatizers\", -1)\n",
    "    print(\"lemmatization finished\")\n",
    "\n",
    "# Функция имитирует, что она обрабатывает данные из очереди qu. Заершает работу по событию ev.    \n",
    "def utilize():\n",
    "    redi = redis.Redis()\n",
    "\n",
    "    c = 0\n",
    "    while True: # Если событие установлено - пора завершать работу.\n",
    "        news = redi.blpop(\"lemmatized news\", 1)\n",
    "        if news == None:\n",
    "            nd = redi.get(\"lemmatizers\")\n",
    "            if int(nd) == 0:\n",
    "                break\n",
    "            else:\n",
    "                continue\n",
    "                \n",
    "        #processing\n",
    "        c += 1\n",
    "        print('process', c)\n",
    "    print('processing finished')\n"
   ]
  },
  {
   "cell_type": "code",
   "execution_count": 91,
   "metadata": {},
   "outputs": [
    {
     "data": {
      "text/plain": [
       "[]"
      ]
     },
     "execution_count": 91,
     "metadata": {},
     "output_type": "execute_result"
    }
   ],
   "source": [
    "r = redis.Redis()\n",
    "r.keys()"
   ]
  },
  {
   "cell_type": "code",
   "execution_count": 90,
   "metadata": {},
   "outputs": [
    {
     "data": {
      "text/plain": [
       "True"
      ]
     },
     "execution_count": 90,
     "metadata": {},
     "output_type": "execute_result"
    }
   ],
   "source": [
    "r.flushdb()"
   ]
  },
  {
   "cell_type": "code",
   "execution_count": 92,
   "metadata": {},
   "outputs": [
    {
     "name": "stdout",
     "output_type": "stream",
     "text": [
      "lenta 2017/01/16\n",
      "nplus 2015/12/15\n",
      "downloading nplus1: https://nplus1.ru/news/2015/12/15/tastelikehumanist\n",
      "tokenizer 1\n",
      "process 1\n",
      "lemma 1\n",
      "downloading nplus1: https://nplus1.ru/news/2015/12/15/soyuz-19m-success\n",
      "tokenizer 2\n",
      "process 2\n",
      "lemma 2\n",
      "downloading nplus1: https://nplus1.ru/news/2015/12/15/new-particle\n",
      "tokenizer 3\n",
      "lemma 3\n",
      "process 3\n",
      "downloading nplus1: https://nplus1.ru/news/2015/12/15/ocean-xprize\n",
      "tokenizer 4\n",
      "process 4\n",
      "lemma 4\n",
      "downloading nplus1: https://nplus1.ru/news/2015/12/15/amegilla\n",
      "tokenizer 5\n",
      "process 5\n",
      "lemma 5\n",
      "downloading nplus1: https://nplus1.ru/news/2015/12/15/veggie\n",
      "tokenizer 6\n",
      "lemma 6\n",
      "process 6\n",
      "downloading nplus1: https://nplus1.ru/news/2015/12/15/saar\n",
      "tokenizer 7\n",
      "process 7\n",
      "lemma 7\n",
      "downloading lenta: https://lenta.ru/news/2017/01/16/apollo/\n",
      "downloading nplus1: https://nplus1.ru/news/2015/12/15/lemurvocalisation\n",
      "tokenizer 8\n",
      "process 8\n",
      "lemma 8\n",
      "downloading nplus1: https://nplus1.ru/news/2015/12/15/engine\n",
      "tokenizer 9\n",
      "process 9\n",
      "lemma 9\n",
      "tokenizer 10\n",
      "lemma 10\n",
      "process 10\n",
      "downloading lenta: https://lenta.ru/news/2017/01/16/kadyrov/\n",
      "downloading nplus1: https://nplus1.ru/news/2015/12/15/Putin-gait\n",
      "tokenizer 11\n",
      "process 11\n",
      "lemma 11\n",
      "downloading nplus1: https://nplus1.ru/news/2015/12/15/rescue\n",
      "tokenizer 12\n",
      "process 12\n",
      "lemma 12\n",
      "tokenizer 13\n",
      "process 13\n",
      "lemma 13\n",
      "downloading lenta: https://lenta.ru/news/2017/01/16/trump2/\n",
      "nplus 2015/12/16\n",
      "downloading nplus1: https://nplus1.ru/news/2015/12/16/sexylips\n",
      "tokenizer 14\n",
      "process 14\n",
      "lemma 14\n",
      "tokenizer 15\n",
      "process 15\n",
      "lemma 15\n",
      "downloading lenta: https://lenta.ru/news/2017/01/16/accordion/\n",
      "nplus 2015/12/17\n",
      "downloading nplus1: https://nplus1.ru/news/2015/12/17/notthesame\n",
      "tokenizer 16\n",
      "process 16\n",
      "lemma 16\n",
      "nplus 2015/12/18\n",
      "downloading nplus1: https://nplus1.ru/news/2015/12/18/ding-ding-don\n",
      "tokenizer 17\n",
      "lemma 17\n",
      "process 17\n",
      "tokenizer 18\n",
      "lemma 18\n",
      "process 18\n",
      "downloading lenta: https://lenta.ru/news/2017/01/16/trump3/\n",
      "nplus 2015/12/19\n",
      "downloading nplus1: https://nplus1.ru/news/2015/12/19/cart-walkies\n",
      "tokenizer 19\n",
      "lemma 19\n",
      "process 19\n",
      "nplus1 finished\n",
      "tokenizer 20\n",
      "lemma 20\n",
      "process 20\n",
      "downloading lenta: https://lenta.ru/news/2017/01/16/bishkek4/\n",
      "tokenizer 21\n",
      "process 21\n",
      "lemma 21\n",
      "downloading lenta: https://lenta.ru/news/2017/01/16/bishkek5/\n",
      "tokenizer 22\n",
      "process 22\n",
      "lemma 22\n",
      "downloading lenta: https://lenta.ru/news/2017/01/16/realsevilla/\n",
      "tokenizer 23\n",
      "lemma 23\n",
      "process 23\n",
      "downloading lenta: https://lenta.ru/news/2017/01/16/safetymoscow/\n",
      "tokenizer 24\n",
      "lemma 24\n",
      "process 24\n",
      "downloading lenta: https://lenta.ru/news/2017/01/16/vertols/\n",
      "tokenizer 25\n",
      "process 25\n",
      "lemma 25\n",
      "downloading lenta: https://lenta.ru/news/2017/01/16/boss/\n",
      "tokenizer 26\n",
      "lemma 26\n",
      "process 26\n",
      "lenta finished\n",
      "tokenization finished\n",
      "lemmatization finished\n",
      "processing finished\n"
     ]
    }
   ],
   "source": [
    "lentap = multiprocessing.Process(target=getLenta)\n",
    "nplusp = multiprocessing.Process(target=getNplus1)  \n",
    "tokenp = multiprocessing.Process(target=tokenize)   \n",
    "lemmap = multiprocessing.Process(target=lemmatize)   \n",
    "processp = multiprocessing.Process(target=utilize)    \n",
    "\n",
    "\n",
    "# Стартуем процессы    \n",
    "lentap.start()\n",
    "nplusp.start()\n",
    "time.sleep(0.1)\n",
    "tokenp.start()\n",
    "time.sleep(0.1)\n",
    "lemmap.start()\n",
    "time.sleep(0.1)\n",
    "processp.start()\n",
    "\n",
    "# Если надо - ждем пока процессы не завершатся.\n",
    "#lentap.join()\n",
    "#nplusp.join()\n",
    "#tokenp.join()\n",
    "#lemmap.join()\n",
    "#processp.join()\n",
    "#print(\"Everything is allright\")                               \n",
    "                               "
   ]
  },
  {
   "cell_type": "code",
   "execution_count": 93,
   "metadata": {},
   "outputs": [
    {
     "name": "stdout",
     "output_type": "stream",
     "text": [
      "b'0' b'0' b'0'\n",
      "None\n"
     ]
    }
   ],
   "source": [
    "print(r.get('downloaders'), r.get('tokenizers'), r.get('lemmatizers'))\n",
    "print(r.blpop(\"downloaded news\", 1))"
   ]
  },
  {
   "cell_type": "code",
   "execution_count": null,
   "metadata": {},
   "outputs": [],
   "source": []
  }
 ],
 "metadata": {
  "kernelspec": {
   "display_name": "Python 3",
   "language": "python",
   "name": "python3"
  },
  "language_info": {
   "codemirror_mode": {
    "name": "ipython",
    "version": 3
   },
   "file_extension": ".py",
   "mimetype": "text/x-python",
   "name": "python",
   "nbconvert_exporter": "python",
   "pygments_lexer": "ipython3",
   "version": "3.6.9"
  }
 },
 "nbformat": 4,
 "nbformat_minor": 2
}
